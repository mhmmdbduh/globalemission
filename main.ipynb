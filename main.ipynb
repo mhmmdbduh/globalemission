{
 "cells": [
  {
   "cell_type": "code",
   "execution_count": 551,
   "metadata": {},
   "outputs": [],
   "source": [
    "import pandas as pd\n",
    "import numpy as np\n",
    "import sqlite3\n",
    "import matplotlib.pyplot as plt\n",
    "import seaborn as sns\n",
    "import plotly.express as px\n",
    "import plotly.graph_objects as go\n",
    "import warnings\n",
    "\n",
    "warnings.filterwarnings('ignore')\n",
    "\n"
   ]
  },
  {
   "cell_type": "code",
   "execution_count": 552,
   "metadata": {},
   "outputs": [
    {
     "data": {
      "text/html": [
       "<div>\n",
       "<style scoped>\n",
       "    .dataframe tbody tr th:only-of-type {\n",
       "        vertical-align: middle;\n",
       "    }\n",
       "\n",
       "    .dataframe tbody tr th {\n",
       "        vertical-align: top;\n",
       "    }\n",
       "\n",
       "    .dataframe thead th {\n",
       "        text-align: right;\n",
       "    }\n",
       "</style>\n",
       "<table border=\"1\" class=\"dataframe\">\n",
       "  <thead>\n",
       "    <tr style=\"text-align: right;\">\n",
       "      <th></th>\n",
       "      <th>region</th>\n",
       "      <th>country</th>\n",
       "      <th>emissions</th>\n",
       "      <th>type</th>\n",
       "      <th>segment</th>\n",
       "      <th>reason</th>\n",
       "      <th>baseYear</th>\n",
       "      <th>notes</th>\n",
       "    </tr>\n",
       "  </thead>\n",
       "  <tbody>\n",
       "    <tr>\n",
       "      <th>0</th>\n",
       "      <td>Africa</td>\n",
       "      <td>Algeria</td>\n",
       "      <td>257.611206</td>\n",
       "      <td>Agriculture</td>\n",
       "      <td>Total</td>\n",
       "      <td>All</td>\n",
       "      <td>2019-2021</td>\n",
       "      <td>Average based on United Nations Framework Conv...</td>\n",
       "    </tr>\n",
       "    <tr>\n",
       "      <th>1</th>\n",
       "      <td>Africa</td>\n",
       "      <td>Algeria</td>\n",
       "      <td>0.052000</td>\n",
       "      <td>Energy</td>\n",
       "      <td>Bioenergy</td>\n",
       "      <td>All</td>\n",
       "      <td>2022</td>\n",
       "      <td>Estimates from end-uses are for 2020 or 2021 (...</td>\n",
       "    </tr>\n",
       "    <tr>\n",
       "      <th>2</th>\n",
       "      <td>Africa</td>\n",
       "      <td>Algeria</td>\n",
       "      <td>130.798996</td>\n",
       "      <td>Energy</td>\n",
       "      <td>Gas pipelines and LNG facilities</td>\n",
       "      <td>Fugitive</td>\n",
       "      <td>2022</td>\n",
       "      <td>Not available</td>\n",
       "    </tr>\n",
       "    <tr>\n",
       "      <th>3</th>\n",
       "      <td>Africa</td>\n",
       "      <td>Algeria</td>\n",
       "      <td>69.741898</td>\n",
       "      <td>Energy</td>\n",
       "      <td>Gas pipelines and LNG facilities</td>\n",
       "      <td>Vented</td>\n",
       "      <td>2022</td>\n",
       "      <td>Not available</td>\n",
       "    </tr>\n",
       "    <tr>\n",
       "      <th>4</th>\n",
       "      <td>Africa</td>\n",
       "      <td>Algeria</td>\n",
       "      <td>213.987000</td>\n",
       "      <td>Energy</td>\n",
       "      <td>Onshore gas</td>\n",
       "      <td>Fugitive</td>\n",
       "      <td>2022</td>\n",
       "      <td>Not available</td>\n",
       "    </tr>\n",
       "    <tr>\n",
       "      <th>...</th>\n",
       "      <td>...</td>\n",
       "      <td>...</td>\n",
       "      <td>...</td>\n",
       "      <td>...</td>\n",
       "      <td>...</td>\n",
       "      <td>...</td>\n",
       "      <td>...</td>\n",
       "      <td>...</td>\n",
       "    </tr>\n",
       "    <tr>\n",
       "      <th>1521</th>\n",
       "      <td>Russia &amp; Caspian</td>\n",
       "      <td>Uzbekistan</td>\n",
       "      <td>16.973917</td>\n",
       "      <td>Energy</td>\n",
       "      <td>Other from oil and gas</td>\n",
       "      <td>All</td>\n",
       "      <td>2022</td>\n",
       "      <td>Estimates from end-uses are for 2020 or 2021 (...</td>\n",
       "    </tr>\n",
       "    <tr>\n",
       "      <th>1522</th>\n",
       "      <td>Russia &amp; Caspian</td>\n",
       "      <td>Uzbekistan</td>\n",
       "      <td>18.299999</td>\n",
       "      <td>Energy</td>\n",
       "      <td>Satellite-detected large oil and gas emissions</td>\n",
       "      <td>All</td>\n",
       "      <td>2022</td>\n",
       "      <td>Not available</td>\n",
       "    </tr>\n",
       "    <tr>\n",
       "      <th>1523</th>\n",
       "      <td>Russia &amp; Caspian</td>\n",
       "      <td>Uzbekistan</td>\n",
       "      <td>780.916138</td>\n",
       "      <td>Energy</td>\n",
       "      <td>Total</td>\n",
       "      <td>All</td>\n",
       "      <td>2022</td>\n",
       "      <td>Estimates from end-uses are for 2020 or 2021 (...</td>\n",
       "    </tr>\n",
       "    <tr>\n",
       "      <th>1524</th>\n",
       "      <td>Russia &amp; Caspian</td>\n",
       "      <td>Uzbekistan</td>\n",
       "      <td>3.845616</td>\n",
       "      <td>Other</td>\n",
       "      <td>Total</td>\n",
       "      <td>All</td>\n",
       "      <td>2019-2021</td>\n",
       "      <td>Average based on United Nations Framework Conv...</td>\n",
       "    </tr>\n",
       "    <tr>\n",
       "      <th>1525</th>\n",
       "      <td>Russia &amp; Caspian</td>\n",
       "      <td>Uzbekistan</td>\n",
       "      <td>280.418243</td>\n",
       "      <td>Waste</td>\n",
       "      <td>Total</td>\n",
       "      <td>All</td>\n",
       "      <td>2019-2021</td>\n",
       "      <td>Average based on United Nations Framework Conv...</td>\n",
       "    </tr>\n",
       "  </tbody>\n",
       "</table>\n",
       "<p>1526 rows × 8 columns</p>\n",
       "</div>"
      ],
      "text/plain": [
       "                region     country   emissions         type  \\\n",
       "0               Africa     Algeria  257.611206  Agriculture   \n",
       "1               Africa     Algeria    0.052000       Energy   \n",
       "2               Africa     Algeria  130.798996       Energy   \n",
       "3               Africa     Algeria   69.741898       Energy   \n",
       "4               Africa     Algeria  213.987000       Energy   \n",
       "...                ...         ...         ...          ...   \n",
       "1521  Russia & Caspian  Uzbekistan   16.973917       Energy   \n",
       "1522  Russia & Caspian  Uzbekistan   18.299999       Energy   \n",
       "1523  Russia & Caspian  Uzbekistan  780.916138       Energy   \n",
       "1524  Russia & Caspian  Uzbekistan    3.845616        Other   \n",
       "1525  Russia & Caspian  Uzbekistan  280.418243        Waste   \n",
       "\n",
       "                                             segment    reason   baseYear  \\\n",
       "0                                              Total       All  2019-2021   \n",
       "1                                          Bioenergy       All       2022   \n",
       "2                   Gas pipelines and LNG facilities  Fugitive       2022   \n",
       "3                   Gas pipelines and LNG facilities    Vented       2022   \n",
       "4                                        Onshore gas  Fugitive       2022   \n",
       "...                                              ...       ...        ...   \n",
       "1521                          Other from oil and gas       All       2022   \n",
       "1522  Satellite-detected large oil and gas emissions       All       2022   \n",
       "1523                                           Total       All       2022   \n",
       "1524                                           Total       All  2019-2021   \n",
       "1525                                           Total       All  2019-2021   \n",
       "\n",
       "                                                  notes  \n",
       "0     Average based on United Nations Framework Conv...  \n",
       "1     Estimates from end-uses are for 2020 or 2021 (...  \n",
       "2                                         Not available  \n",
       "3                                         Not available  \n",
       "4                                         Not available  \n",
       "...                                                 ...  \n",
       "1521  Estimates from end-uses are for 2020 or 2021 (...  \n",
       "1522                                      Not available  \n",
       "1523  Estimates from end-uses are for 2020 or 2021 (...  \n",
       "1524  Average based on United Nations Framework Conv...  \n",
       "1525  Average based on United Nations Framework Conv...  \n",
       "\n",
       "[1526 rows x 8 columns]"
      ]
     },
     "execution_count": 552,
     "metadata": {},
     "output_type": "execute_result"
    }
   ],
   "source": [
    "\n",
    "df = pd.read_csv(\"Methane_final.csv\")\n",
    "df.drop(columns=['Unnamed: 0'],inplace=True)\n",
    "df = df[(df['country'] != 'World')  ]\n",
    "df\n"
   ]
  },
  {
   "cell_type": "code",
   "execution_count": 553,
   "metadata": {},
   "outputs": [],
   "source": [
    "connection = sqlite3.connect(\"methane.db\")\n"
   ]
  },
  {
   "cell_type": "code",
   "execution_count": 554,
   "metadata": {},
   "outputs": [],
   "source": [
    "cursor= df.to_sql(name=\"methane\",\n",
    "          con=connection,\n",
    "          if_exists=\"replace\",\n",
    "          index=False,\n",
    "          dtype={'region':'TEXT',\n",
    "                'country':'TEXT',\n",
    "                'emissions':'REAL',\n",
    "                'type':'TEXT',\n",
    "                'segment':'TEXT',\n",
    "                'reason':'TEXT',\n",
    "                'baseYear':'TEXT',\n",
    "                'notes':'TEXT'})\n",
    "\n",
    "cursor = connection.cursor()"
   ]
  },
  {
   "cell_type": "code",
   "execution_count": 555,
   "metadata": {},
   "outputs": [
    {
     "name": "stdout",
     "output_type": "stream",
     "text": [
      "                      Region      Emissions\n",
      "0               Asia Pacific  177699.611465\n",
      "1              North America   63347.409177\n",
      "2           Russia & Caspian   62421.612360\n",
      "3                     Africa   54197.152613\n",
      "4                     Europe   49208.996818\n",
      "5  Central and South America   45639.989799\n",
      "6                Middle East   38095.798763\n",
      "7                      Other   15997.357175\n"
     ]
    }
   ],
   "source": [
    "emissions = cursor.execute(\"SELECT region as Region, SUM(emissions) as Emissions FROM methane WHERE region IS NOT 'World' GROUP BY region ORDER BY Emissions desc \")\n",
    "emission=pd.DataFrame(emissions, columns=[\"Region\", \"Emissions\"])\n",
    "print(emission)\n"
   ]
  },
  {
   "cell_type": "code",
   "execution_count": null,
   "metadata": {},
   "outputs": [],
   "source": []
  },
  {
   "cell_type": "code",
   "execution_count": 556,
   "metadata": {},
   "outputs": [
    {
     "data": {
      "application/vnd.plotly.v1+json": {
       "config": {
        "plotlyServerURL": "https://plot.ly"
       },
       "data": [
        {
         "alignmentgroup": "True",
         "cliponaxis": false,
         "hovertemplate": "Region=%{x}<br>Emissions=%{y}<extra></extra>",
         "legendgroup": "Asia Pacific",
         "marker": {
          "color": "#636efa",
          "pattern": {
           "shape": ""
          }
         },
         "name": "Asia Pacific",
         "offsetgroup": "Asia Pacific",
         "orientation": "v",
         "showlegend": true,
         "textangle": 0,
         "textfont": {
          "size": 12
         },
         "textposition": "outside",
         "texttemplate": "%{y:.2s}",
         "type": "bar",
         "x": [
          "Asia Pacific"
         ],
         "xaxis": "x",
         "y": [
          177699.61146502104
         ],
         "yaxis": "y"
        },
        {
         "alignmentgroup": "True",
         "cliponaxis": false,
         "hovertemplate": "Region=%{x}<br>Emissions=%{y}<extra></extra>",
         "legendgroup": "North America",
         "marker": {
          "color": "#EF553B",
          "pattern": {
           "shape": ""
          }
         },
         "name": "North America",
         "offsetgroup": "North America",
         "orientation": "v",
         "showlegend": true,
         "textangle": 0,
         "textfont": {
          "size": 12
         },
         "textposition": "outside",
         "texttemplate": "%{y:.2s}",
         "type": "bar",
         "x": [
          "North America"
         ],
         "xaxis": "x",
         "y": [
          63347.40917745978
         ],
         "yaxis": "y"
        },
        {
         "alignmentgroup": "True",
         "cliponaxis": false,
         "hovertemplate": "Region=%{x}<br>Emissions=%{y}<extra></extra>",
         "legendgroup": "Russia & Caspian",
         "marker": {
          "color": "#00cc96",
          "pattern": {
           "shape": ""
          }
         },
         "name": "Russia & Caspian",
         "offsetgroup": "Russia & Caspian",
         "orientation": "v",
         "showlegend": true,
         "textangle": 0,
         "textfont": {
          "size": 12
         },
         "textposition": "outside",
         "texttemplate": "%{y:.2s}",
         "type": "bar",
         "x": [
          "Russia & Caspian"
         ],
         "xaxis": "x",
         "y": [
          62421.61236039363
         ],
         "yaxis": "y"
        },
        {
         "alignmentgroup": "True",
         "cliponaxis": false,
         "hovertemplate": "Region=%{x}<br>Emissions=%{y}<extra></extra>",
         "legendgroup": "Africa",
         "marker": {
          "color": "#ab63fa",
          "pattern": {
           "shape": ""
          }
         },
         "name": "Africa",
         "offsetgroup": "Africa",
         "orientation": "v",
         "showlegend": true,
         "textangle": 0,
         "textfont": {
          "size": 12
         },
         "textposition": "outside",
         "texttemplate": "%{y:.2s}",
         "type": "bar",
         "x": [
          "Africa"
         ],
         "xaxis": "x",
         "y": [
          54197.15261313948
         ],
         "yaxis": "y"
        },
        {
         "alignmentgroup": "True",
         "cliponaxis": false,
         "hovertemplate": "Region=%{x}<br>Emissions=%{y}<extra></extra>",
         "legendgroup": "Europe",
         "marker": {
          "color": "#FFA15A",
          "pattern": {
           "shape": ""
          }
         },
         "name": "Europe",
         "offsetgroup": "Europe",
         "orientation": "v",
         "showlegend": true,
         "textangle": 0,
         "textfont": {
          "size": 12
         },
         "textposition": "outside",
         "texttemplate": "%{y:.2s}",
         "type": "bar",
         "x": [
          "Europe"
         ],
         "xaxis": "x",
         "y": [
          49208.99681790243
         ],
         "yaxis": "y"
        },
        {
         "alignmentgroup": "True",
         "cliponaxis": false,
         "hovertemplate": "Region=%{x}<br>Emissions=%{y}<extra></extra>",
         "legendgroup": "Central and South America",
         "marker": {
          "color": "#19d3f3",
          "pattern": {
           "shape": ""
          }
         },
         "name": "Central and South America",
         "offsetgroup": "Central and South America",
         "orientation": "v",
         "showlegend": true,
         "textangle": 0,
         "textfont": {
          "size": 12
         },
         "textposition": "outside",
         "texttemplate": "%{y:.2s}",
         "type": "bar",
         "x": [
          "Central and South America"
         ],
         "xaxis": "x",
         "y": [
          45639.98979930533
         ],
         "yaxis": "y"
        },
        {
         "alignmentgroup": "True",
         "cliponaxis": false,
         "hovertemplate": "Region=%{x}<br>Emissions=%{y}<extra></extra>",
         "legendgroup": "Middle East",
         "marker": {
          "color": "#FF6692",
          "pattern": {
           "shape": ""
          }
         },
         "name": "Middle East",
         "offsetgroup": "Middle East",
         "orientation": "v",
         "showlegend": true,
         "textangle": 0,
         "textfont": {
          "size": 12
         },
         "textposition": "outside",
         "texttemplate": "%{y:.2s}",
         "type": "bar",
         "x": [
          "Middle East"
         ],
         "xaxis": "x",
         "y": [
          38095.79876317829
         ],
         "yaxis": "y"
        },
        {
         "alignmentgroup": "True",
         "cliponaxis": false,
         "hovertemplate": "Region=%{x}<br>Emissions=%{y}<extra></extra>",
         "legendgroup": "Other",
         "marker": {
          "color": "#B6E880",
          "pattern": {
           "shape": ""
          }
         },
         "name": "Other",
         "offsetgroup": "Other",
         "orientation": "v",
         "showlegend": true,
         "textangle": 0,
         "textfont": {
          "size": 12
         },
         "textposition": "outside",
         "texttemplate": "%{y:.2s}",
         "type": "bar",
         "x": [
          "Other"
         ],
         "xaxis": "x",
         "y": [
          15997.35717530927
         ],
         "yaxis": "y"
        }
       ],
       "layout": {
        "barmode": "relative",
        "height": 600,
        "legend": {
         "orientation": "v",
         "title": {
          "text": "Regions"
         },
         "tracegroupgap": 0,
         "x": 1,
         "xanchor": "left",
         "y": 1,
         "yanchor": "top"
        },
        "template": {
         "data": {
          "bar": [
           {
            "error_x": {
             "color": "#2a3f5f"
            },
            "error_y": {
             "color": "#2a3f5f"
            },
            "marker": {
             "line": {
              "color": "#E5ECF6",
              "width": 0.5
             },
             "pattern": {
              "fillmode": "overlay",
              "size": 10,
              "solidity": 0.2
             }
            },
            "type": "bar"
           }
          ],
          "barpolar": [
           {
            "marker": {
             "line": {
              "color": "#E5ECF6",
              "width": 0.5
             },
             "pattern": {
              "fillmode": "overlay",
              "size": 10,
              "solidity": 0.2
             }
            },
            "type": "barpolar"
           }
          ],
          "carpet": [
           {
            "aaxis": {
             "endlinecolor": "#2a3f5f",
             "gridcolor": "white",
             "linecolor": "white",
             "minorgridcolor": "white",
             "startlinecolor": "#2a3f5f"
            },
            "baxis": {
             "endlinecolor": "#2a3f5f",
             "gridcolor": "white",
             "linecolor": "white",
             "minorgridcolor": "white",
             "startlinecolor": "#2a3f5f"
            },
            "type": "carpet"
           }
          ],
          "choropleth": [
           {
            "colorbar": {
             "outlinewidth": 0,
             "ticks": ""
            },
            "type": "choropleth"
           }
          ],
          "contour": [
           {
            "colorbar": {
             "outlinewidth": 0,
             "ticks": ""
            },
            "colorscale": [
             [
              0,
              "#0d0887"
             ],
             [
              0.1111111111111111,
              "#46039f"
             ],
             [
              0.2222222222222222,
              "#7201a8"
             ],
             [
              0.3333333333333333,
              "#9c179e"
             ],
             [
              0.4444444444444444,
              "#bd3786"
             ],
             [
              0.5555555555555556,
              "#d8576b"
             ],
             [
              0.6666666666666666,
              "#ed7953"
             ],
             [
              0.7777777777777778,
              "#fb9f3a"
             ],
             [
              0.8888888888888888,
              "#fdca26"
             ],
             [
              1,
              "#f0f921"
             ]
            ],
            "type": "contour"
           }
          ],
          "contourcarpet": [
           {
            "colorbar": {
             "outlinewidth": 0,
             "ticks": ""
            },
            "type": "contourcarpet"
           }
          ],
          "heatmap": [
           {
            "colorbar": {
             "outlinewidth": 0,
             "ticks": ""
            },
            "colorscale": [
             [
              0,
              "#0d0887"
             ],
             [
              0.1111111111111111,
              "#46039f"
             ],
             [
              0.2222222222222222,
              "#7201a8"
             ],
             [
              0.3333333333333333,
              "#9c179e"
             ],
             [
              0.4444444444444444,
              "#bd3786"
             ],
             [
              0.5555555555555556,
              "#d8576b"
             ],
             [
              0.6666666666666666,
              "#ed7953"
             ],
             [
              0.7777777777777778,
              "#fb9f3a"
             ],
             [
              0.8888888888888888,
              "#fdca26"
             ],
             [
              1,
              "#f0f921"
             ]
            ],
            "type": "heatmap"
           }
          ],
          "heatmapgl": [
           {
            "colorbar": {
             "outlinewidth": 0,
             "ticks": ""
            },
            "colorscale": [
             [
              0,
              "#0d0887"
             ],
             [
              0.1111111111111111,
              "#46039f"
             ],
             [
              0.2222222222222222,
              "#7201a8"
             ],
             [
              0.3333333333333333,
              "#9c179e"
             ],
             [
              0.4444444444444444,
              "#bd3786"
             ],
             [
              0.5555555555555556,
              "#d8576b"
             ],
             [
              0.6666666666666666,
              "#ed7953"
             ],
             [
              0.7777777777777778,
              "#fb9f3a"
             ],
             [
              0.8888888888888888,
              "#fdca26"
             ],
             [
              1,
              "#f0f921"
             ]
            ],
            "type": "heatmapgl"
           }
          ],
          "histogram": [
           {
            "marker": {
             "pattern": {
              "fillmode": "overlay",
              "size": 10,
              "solidity": 0.2
             }
            },
            "type": "histogram"
           }
          ],
          "histogram2d": [
           {
            "colorbar": {
             "outlinewidth": 0,
             "ticks": ""
            },
            "colorscale": [
             [
              0,
              "#0d0887"
             ],
             [
              0.1111111111111111,
              "#46039f"
             ],
             [
              0.2222222222222222,
              "#7201a8"
             ],
             [
              0.3333333333333333,
              "#9c179e"
             ],
             [
              0.4444444444444444,
              "#bd3786"
             ],
             [
              0.5555555555555556,
              "#d8576b"
             ],
             [
              0.6666666666666666,
              "#ed7953"
             ],
             [
              0.7777777777777778,
              "#fb9f3a"
             ],
             [
              0.8888888888888888,
              "#fdca26"
             ],
             [
              1,
              "#f0f921"
             ]
            ],
            "type": "histogram2d"
           }
          ],
          "histogram2dcontour": [
           {
            "colorbar": {
             "outlinewidth": 0,
             "ticks": ""
            },
            "colorscale": [
             [
              0,
              "#0d0887"
             ],
             [
              0.1111111111111111,
              "#46039f"
             ],
             [
              0.2222222222222222,
              "#7201a8"
             ],
             [
              0.3333333333333333,
              "#9c179e"
             ],
             [
              0.4444444444444444,
              "#bd3786"
             ],
             [
              0.5555555555555556,
              "#d8576b"
             ],
             [
              0.6666666666666666,
              "#ed7953"
             ],
             [
              0.7777777777777778,
              "#fb9f3a"
             ],
             [
              0.8888888888888888,
              "#fdca26"
             ],
             [
              1,
              "#f0f921"
             ]
            ],
            "type": "histogram2dcontour"
           }
          ],
          "mesh3d": [
           {
            "colorbar": {
             "outlinewidth": 0,
             "ticks": ""
            },
            "type": "mesh3d"
           }
          ],
          "parcoords": [
           {
            "line": {
             "colorbar": {
              "outlinewidth": 0,
              "ticks": ""
             }
            },
            "type": "parcoords"
           }
          ],
          "pie": [
           {
            "automargin": true,
            "type": "pie"
           }
          ],
          "scatter": [
           {
            "fillpattern": {
             "fillmode": "overlay",
             "size": 10,
             "solidity": 0.2
            },
            "type": "scatter"
           }
          ],
          "scatter3d": [
           {
            "line": {
             "colorbar": {
              "outlinewidth": 0,
              "ticks": ""
             }
            },
            "marker": {
             "colorbar": {
              "outlinewidth": 0,
              "ticks": ""
             }
            },
            "type": "scatter3d"
           }
          ],
          "scattercarpet": [
           {
            "marker": {
             "colorbar": {
              "outlinewidth": 0,
              "ticks": ""
             }
            },
            "type": "scattercarpet"
           }
          ],
          "scattergeo": [
           {
            "marker": {
             "colorbar": {
              "outlinewidth": 0,
              "ticks": ""
             }
            },
            "type": "scattergeo"
           }
          ],
          "scattergl": [
           {
            "marker": {
             "colorbar": {
              "outlinewidth": 0,
              "ticks": ""
             }
            },
            "type": "scattergl"
           }
          ],
          "scattermapbox": [
           {
            "marker": {
             "colorbar": {
              "outlinewidth": 0,
              "ticks": ""
             }
            },
            "type": "scattermapbox"
           }
          ],
          "scatterpolar": [
           {
            "marker": {
             "colorbar": {
              "outlinewidth": 0,
              "ticks": ""
             }
            },
            "type": "scatterpolar"
           }
          ],
          "scatterpolargl": [
           {
            "marker": {
             "colorbar": {
              "outlinewidth": 0,
              "ticks": ""
             }
            },
            "type": "scatterpolargl"
           }
          ],
          "scatterternary": [
           {
            "marker": {
             "colorbar": {
              "outlinewidth": 0,
              "ticks": ""
             }
            },
            "type": "scatterternary"
           }
          ],
          "surface": [
           {
            "colorbar": {
             "outlinewidth": 0,
             "ticks": ""
            },
            "colorscale": [
             [
              0,
              "#0d0887"
             ],
             [
              0.1111111111111111,
              "#46039f"
             ],
             [
              0.2222222222222222,
              "#7201a8"
             ],
             [
              0.3333333333333333,
              "#9c179e"
             ],
             [
              0.4444444444444444,
              "#bd3786"
             ],
             [
              0.5555555555555556,
              "#d8576b"
             ],
             [
              0.6666666666666666,
              "#ed7953"
             ],
             [
              0.7777777777777778,
              "#fb9f3a"
             ],
             [
              0.8888888888888888,
              "#fdca26"
             ],
             [
              1,
              "#f0f921"
             ]
            ],
            "type": "surface"
           }
          ],
          "table": [
           {
            "cells": {
             "fill": {
              "color": "#EBF0F8"
             },
             "line": {
              "color": "white"
             }
            },
            "header": {
             "fill": {
              "color": "#C8D4E3"
             },
             "line": {
              "color": "white"
             }
            },
            "type": "table"
           }
          ]
         },
         "layout": {
          "annotationdefaults": {
           "arrowcolor": "#2a3f5f",
           "arrowhead": 0,
           "arrowwidth": 1
          },
          "autotypenumbers": "strict",
          "coloraxis": {
           "colorbar": {
            "outlinewidth": 0,
            "ticks": ""
           }
          },
          "colorscale": {
           "diverging": [
            [
             0,
             "#8e0152"
            ],
            [
             0.1,
             "#c51b7d"
            ],
            [
             0.2,
             "#de77ae"
            ],
            [
             0.3,
             "#f1b6da"
            ],
            [
             0.4,
             "#fde0ef"
            ],
            [
             0.5,
             "#f7f7f7"
            ],
            [
             0.6,
             "#e6f5d0"
            ],
            [
             0.7,
             "#b8e186"
            ],
            [
             0.8,
             "#7fbc41"
            ],
            [
             0.9,
             "#4d9221"
            ],
            [
             1,
             "#276419"
            ]
           ],
           "sequential": [
            [
             0,
             "#0d0887"
            ],
            [
             0.1111111111111111,
             "#46039f"
            ],
            [
             0.2222222222222222,
             "#7201a8"
            ],
            [
             0.3333333333333333,
             "#9c179e"
            ],
            [
             0.4444444444444444,
             "#bd3786"
            ],
            [
             0.5555555555555556,
             "#d8576b"
            ],
            [
             0.6666666666666666,
             "#ed7953"
            ],
            [
             0.7777777777777778,
             "#fb9f3a"
            ],
            [
             0.8888888888888888,
             "#fdca26"
            ],
            [
             1,
             "#f0f921"
            ]
           ],
           "sequentialminus": [
            [
             0,
             "#0d0887"
            ],
            [
             0.1111111111111111,
             "#46039f"
            ],
            [
             0.2222222222222222,
             "#7201a8"
            ],
            [
             0.3333333333333333,
             "#9c179e"
            ],
            [
             0.4444444444444444,
             "#bd3786"
            ],
            [
             0.5555555555555556,
             "#d8576b"
            ],
            [
             0.6666666666666666,
             "#ed7953"
            ],
            [
             0.7777777777777778,
             "#fb9f3a"
            ],
            [
             0.8888888888888888,
             "#fdca26"
            ],
            [
             1,
             "#f0f921"
            ]
           ]
          },
          "colorway": [
           "#636efa",
           "#EF553B",
           "#00cc96",
           "#ab63fa",
           "#FFA15A",
           "#19d3f3",
           "#FF6692",
           "#B6E880",
           "#FF97FF",
           "#FECB52"
          ],
          "font": {
           "color": "#2a3f5f"
          },
          "geo": {
           "bgcolor": "white",
           "lakecolor": "white",
           "landcolor": "#E5ECF6",
           "showlakes": true,
           "showland": true,
           "subunitcolor": "white"
          },
          "hoverlabel": {
           "align": "left"
          },
          "hovermode": "closest",
          "mapbox": {
           "style": "light"
          },
          "paper_bgcolor": "white",
          "plot_bgcolor": "#E5ECF6",
          "polar": {
           "angularaxis": {
            "gridcolor": "white",
            "linecolor": "white",
            "ticks": ""
           },
           "bgcolor": "#E5ECF6",
           "radialaxis": {
            "gridcolor": "white",
            "linecolor": "white",
            "ticks": ""
           }
          },
          "scene": {
           "xaxis": {
            "backgroundcolor": "#E5ECF6",
            "gridcolor": "white",
            "gridwidth": 2,
            "linecolor": "white",
            "showbackground": true,
            "ticks": "",
            "zerolinecolor": "white"
           },
           "yaxis": {
            "backgroundcolor": "#E5ECF6",
            "gridcolor": "white",
            "gridwidth": 2,
            "linecolor": "white",
            "showbackground": true,
            "ticks": "",
            "zerolinecolor": "white"
           },
           "zaxis": {
            "backgroundcolor": "#E5ECF6",
            "gridcolor": "white",
            "gridwidth": 2,
            "linecolor": "white",
            "showbackground": true,
            "ticks": "",
            "zerolinecolor": "white"
           }
          },
          "shapedefaults": {
           "line": {
            "color": "#2a3f5f"
           }
          },
          "ternary": {
           "aaxis": {
            "gridcolor": "white",
            "linecolor": "white",
            "ticks": ""
           },
           "baxis": {
            "gridcolor": "white",
            "linecolor": "white",
            "ticks": ""
           },
           "bgcolor": "#E5ECF6",
           "caxis": {
            "gridcolor": "white",
            "linecolor": "white",
            "ticks": ""
           }
          },
          "title": {
           "x": 0.05
          },
          "xaxis": {
           "automargin": true,
           "gridcolor": "white",
           "linecolor": "white",
           "ticks": "",
           "title": {
            "standoff": 15
           },
           "zerolinecolor": "white",
           "zerolinewidth": 2
          },
          "yaxis": {
           "automargin": true,
           "gridcolor": "white",
           "linecolor": "white",
           "ticks": "",
           "title": {
            "standoff": 15
           },
           "zerolinecolor": "white",
           "zerolinewidth": 2
          }
         }
        },
        "title": {
         "text": "Total Methane Emmissions by Region",
         "x": 0.5
        },
        "width": 800,
        "xaxis": {
         "anchor": "y",
         "categoryarray": [
          "Asia Pacific",
          "North America",
          "Russia & Caspian",
          "Africa",
          "Europe",
          "Central and South America",
          "Middle East",
          "Other"
         ],
         "categoryorder": "array",
         "domain": [
          0,
          1
         ],
         "title": {
          "text": "Region"
         }
        },
        "yaxis": {
         "anchor": "x",
         "domain": [
          0,
          1
         ],
         "title": {
          "text": "Emissions"
         }
        }
       }
      }
     },
     "metadata": {},
     "output_type": "display_data"
    }
   ],
   "source": [
    "fig = px.bar(emission, y='Emissions', x='Region', text_auto='.2s',\n",
    "            title=\"Total Methane Emmissions by Region\",color='Region')\n",
    "fig.update_traces(textfont_size=12, textangle=0, textposition=\"outside\", cliponaxis=False)\n",
    "fig.update_layout(legend=dict(title='Regions', orientation='v', yanchor='top', y=1, xanchor='left', x=1))\n",
    "# Resize the figure\n",
    "fig.update_layout(height=600, width=800)\n",
    "# Center the title\n",
    "fig.update_layout(title_x=0.5)\n",
    "fig.show()"
   ]
  },
  {
   "cell_type": "code",
   "execution_count": 557,
   "metadata": {},
   "outputs": [
    {
     "data": {
      "application/vnd.plotly.v1+json": {
       "config": {
        "plotlyServerURL": "https://plot.ly"
       },
       "data": [
        {
         "domain": {
          "x": [
           0,
           1
          ],
          "y": [
           0,
           1
          ]
         },
         "hovertemplate": "Region=%{label}<br>Emissions=%{value}<extra></extra>",
         "labels": [
          "Asia Pacific",
          "North America",
          "Russia & Caspian",
          "Africa",
          "Europe",
          "Central and South America",
          "Middle East",
          "Other"
         ],
         "legendgroup": "",
         "name": "",
         "showlegend": true,
         "type": "pie",
         "values": [
          177699.61146502104,
          63347.40917745978,
          62421.61236039363,
          54197.15261313948,
          49208.99681790243,
          45639.98979930533,
          38095.79876317829,
          15997.35717530927
         ]
        }
       ],
       "layout": {
        "height": 600,
        "legend": {
         "orientation": "v",
         "title": {
          "text": "Countries"
         },
         "tracegroupgap": 0,
         "x": 1,
         "xanchor": "left",
         "y": 0.8,
         "yanchor": "top"
        },
        "margin": {
         "t": 60
        },
        "template": {
         "data": {
          "bar": [
           {
            "error_x": {
             "color": "#2a3f5f"
            },
            "error_y": {
             "color": "#2a3f5f"
            },
            "marker": {
             "line": {
              "color": "#E5ECF6",
              "width": 0.5
             },
             "pattern": {
              "fillmode": "overlay",
              "size": 10,
              "solidity": 0.2
             }
            },
            "type": "bar"
           }
          ],
          "barpolar": [
           {
            "marker": {
             "line": {
              "color": "#E5ECF6",
              "width": 0.5
             },
             "pattern": {
              "fillmode": "overlay",
              "size": 10,
              "solidity": 0.2
             }
            },
            "type": "barpolar"
           }
          ],
          "carpet": [
           {
            "aaxis": {
             "endlinecolor": "#2a3f5f",
             "gridcolor": "white",
             "linecolor": "white",
             "minorgridcolor": "white",
             "startlinecolor": "#2a3f5f"
            },
            "baxis": {
             "endlinecolor": "#2a3f5f",
             "gridcolor": "white",
             "linecolor": "white",
             "minorgridcolor": "white",
             "startlinecolor": "#2a3f5f"
            },
            "type": "carpet"
           }
          ],
          "choropleth": [
           {
            "colorbar": {
             "outlinewidth": 0,
             "ticks": ""
            },
            "type": "choropleth"
           }
          ],
          "contour": [
           {
            "colorbar": {
             "outlinewidth": 0,
             "ticks": ""
            },
            "colorscale": [
             [
              0,
              "#0d0887"
             ],
             [
              0.1111111111111111,
              "#46039f"
             ],
             [
              0.2222222222222222,
              "#7201a8"
             ],
             [
              0.3333333333333333,
              "#9c179e"
             ],
             [
              0.4444444444444444,
              "#bd3786"
             ],
             [
              0.5555555555555556,
              "#d8576b"
             ],
             [
              0.6666666666666666,
              "#ed7953"
             ],
             [
              0.7777777777777778,
              "#fb9f3a"
             ],
             [
              0.8888888888888888,
              "#fdca26"
             ],
             [
              1,
              "#f0f921"
             ]
            ],
            "type": "contour"
           }
          ],
          "contourcarpet": [
           {
            "colorbar": {
             "outlinewidth": 0,
             "ticks": ""
            },
            "type": "contourcarpet"
           }
          ],
          "heatmap": [
           {
            "colorbar": {
             "outlinewidth": 0,
             "ticks": ""
            },
            "colorscale": [
             [
              0,
              "#0d0887"
             ],
             [
              0.1111111111111111,
              "#46039f"
             ],
             [
              0.2222222222222222,
              "#7201a8"
             ],
             [
              0.3333333333333333,
              "#9c179e"
             ],
             [
              0.4444444444444444,
              "#bd3786"
             ],
             [
              0.5555555555555556,
              "#d8576b"
             ],
             [
              0.6666666666666666,
              "#ed7953"
             ],
             [
              0.7777777777777778,
              "#fb9f3a"
             ],
             [
              0.8888888888888888,
              "#fdca26"
             ],
             [
              1,
              "#f0f921"
             ]
            ],
            "type": "heatmap"
           }
          ],
          "heatmapgl": [
           {
            "colorbar": {
             "outlinewidth": 0,
             "ticks": ""
            },
            "colorscale": [
             [
              0,
              "#0d0887"
             ],
             [
              0.1111111111111111,
              "#46039f"
             ],
             [
              0.2222222222222222,
              "#7201a8"
             ],
             [
              0.3333333333333333,
              "#9c179e"
             ],
             [
              0.4444444444444444,
              "#bd3786"
             ],
             [
              0.5555555555555556,
              "#d8576b"
             ],
             [
              0.6666666666666666,
              "#ed7953"
             ],
             [
              0.7777777777777778,
              "#fb9f3a"
             ],
             [
              0.8888888888888888,
              "#fdca26"
             ],
             [
              1,
              "#f0f921"
             ]
            ],
            "type": "heatmapgl"
           }
          ],
          "histogram": [
           {
            "marker": {
             "pattern": {
              "fillmode": "overlay",
              "size": 10,
              "solidity": 0.2
             }
            },
            "type": "histogram"
           }
          ],
          "histogram2d": [
           {
            "colorbar": {
             "outlinewidth": 0,
             "ticks": ""
            },
            "colorscale": [
             [
              0,
              "#0d0887"
             ],
             [
              0.1111111111111111,
              "#46039f"
             ],
             [
              0.2222222222222222,
              "#7201a8"
             ],
             [
              0.3333333333333333,
              "#9c179e"
             ],
             [
              0.4444444444444444,
              "#bd3786"
             ],
             [
              0.5555555555555556,
              "#d8576b"
             ],
             [
              0.6666666666666666,
              "#ed7953"
             ],
             [
              0.7777777777777778,
              "#fb9f3a"
             ],
             [
              0.8888888888888888,
              "#fdca26"
             ],
             [
              1,
              "#f0f921"
             ]
            ],
            "type": "histogram2d"
           }
          ],
          "histogram2dcontour": [
           {
            "colorbar": {
             "outlinewidth": 0,
             "ticks": ""
            },
            "colorscale": [
             [
              0,
              "#0d0887"
             ],
             [
              0.1111111111111111,
              "#46039f"
             ],
             [
              0.2222222222222222,
              "#7201a8"
             ],
             [
              0.3333333333333333,
              "#9c179e"
             ],
             [
              0.4444444444444444,
              "#bd3786"
             ],
             [
              0.5555555555555556,
              "#d8576b"
             ],
             [
              0.6666666666666666,
              "#ed7953"
             ],
             [
              0.7777777777777778,
              "#fb9f3a"
             ],
             [
              0.8888888888888888,
              "#fdca26"
             ],
             [
              1,
              "#f0f921"
             ]
            ],
            "type": "histogram2dcontour"
           }
          ],
          "mesh3d": [
           {
            "colorbar": {
             "outlinewidth": 0,
             "ticks": ""
            },
            "type": "mesh3d"
           }
          ],
          "parcoords": [
           {
            "line": {
             "colorbar": {
              "outlinewidth": 0,
              "ticks": ""
             }
            },
            "type": "parcoords"
           }
          ],
          "pie": [
           {
            "automargin": true,
            "type": "pie"
           }
          ],
          "scatter": [
           {
            "fillpattern": {
             "fillmode": "overlay",
             "size": 10,
             "solidity": 0.2
            },
            "type": "scatter"
           }
          ],
          "scatter3d": [
           {
            "line": {
             "colorbar": {
              "outlinewidth": 0,
              "ticks": ""
             }
            },
            "marker": {
             "colorbar": {
              "outlinewidth": 0,
              "ticks": ""
             }
            },
            "type": "scatter3d"
           }
          ],
          "scattercarpet": [
           {
            "marker": {
             "colorbar": {
              "outlinewidth": 0,
              "ticks": ""
             }
            },
            "type": "scattercarpet"
           }
          ],
          "scattergeo": [
           {
            "marker": {
             "colorbar": {
              "outlinewidth": 0,
              "ticks": ""
             }
            },
            "type": "scattergeo"
           }
          ],
          "scattergl": [
           {
            "marker": {
             "colorbar": {
              "outlinewidth": 0,
              "ticks": ""
             }
            },
            "type": "scattergl"
           }
          ],
          "scattermapbox": [
           {
            "marker": {
             "colorbar": {
              "outlinewidth": 0,
              "ticks": ""
             }
            },
            "type": "scattermapbox"
           }
          ],
          "scatterpolar": [
           {
            "marker": {
             "colorbar": {
              "outlinewidth": 0,
              "ticks": ""
             }
            },
            "type": "scatterpolar"
           }
          ],
          "scatterpolargl": [
           {
            "marker": {
             "colorbar": {
              "outlinewidth": 0,
              "ticks": ""
             }
            },
            "type": "scatterpolargl"
           }
          ],
          "scatterternary": [
           {
            "marker": {
             "colorbar": {
              "outlinewidth": 0,
              "ticks": ""
             }
            },
            "type": "scatterternary"
           }
          ],
          "surface": [
           {
            "colorbar": {
             "outlinewidth": 0,
             "ticks": ""
            },
            "colorscale": [
             [
              0,
              "#0d0887"
             ],
             [
              0.1111111111111111,
              "#46039f"
             ],
             [
              0.2222222222222222,
              "#7201a8"
             ],
             [
              0.3333333333333333,
              "#9c179e"
             ],
             [
              0.4444444444444444,
              "#bd3786"
             ],
             [
              0.5555555555555556,
              "#d8576b"
             ],
             [
              0.6666666666666666,
              "#ed7953"
             ],
             [
              0.7777777777777778,
              "#fb9f3a"
             ],
             [
              0.8888888888888888,
              "#fdca26"
             ],
             [
              1,
              "#f0f921"
             ]
            ],
            "type": "surface"
           }
          ],
          "table": [
           {
            "cells": {
             "fill": {
              "color": "#EBF0F8"
             },
             "line": {
              "color": "white"
             }
            },
            "header": {
             "fill": {
              "color": "#C8D4E3"
             },
             "line": {
              "color": "white"
             }
            },
            "type": "table"
           }
          ]
         },
         "layout": {
          "annotationdefaults": {
           "arrowcolor": "#2a3f5f",
           "arrowhead": 0,
           "arrowwidth": 1
          },
          "autotypenumbers": "strict",
          "coloraxis": {
           "colorbar": {
            "outlinewidth": 0,
            "ticks": ""
           }
          },
          "colorscale": {
           "diverging": [
            [
             0,
             "#8e0152"
            ],
            [
             0.1,
             "#c51b7d"
            ],
            [
             0.2,
             "#de77ae"
            ],
            [
             0.3,
             "#f1b6da"
            ],
            [
             0.4,
             "#fde0ef"
            ],
            [
             0.5,
             "#f7f7f7"
            ],
            [
             0.6,
             "#e6f5d0"
            ],
            [
             0.7,
             "#b8e186"
            ],
            [
             0.8,
             "#7fbc41"
            ],
            [
             0.9,
             "#4d9221"
            ],
            [
             1,
             "#276419"
            ]
           ],
           "sequential": [
            [
             0,
             "#0d0887"
            ],
            [
             0.1111111111111111,
             "#46039f"
            ],
            [
             0.2222222222222222,
             "#7201a8"
            ],
            [
             0.3333333333333333,
             "#9c179e"
            ],
            [
             0.4444444444444444,
             "#bd3786"
            ],
            [
             0.5555555555555556,
             "#d8576b"
            ],
            [
             0.6666666666666666,
             "#ed7953"
            ],
            [
             0.7777777777777778,
             "#fb9f3a"
            ],
            [
             0.8888888888888888,
             "#fdca26"
            ],
            [
             1,
             "#f0f921"
            ]
           ],
           "sequentialminus": [
            [
             0,
             "#0d0887"
            ],
            [
             0.1111111111111111,
             "#46039f"
            ],
            [
             0.2222222222222222,
             "#7201a8"
            ],
            [
             0.3333333333333333,
             "#9c179e"
            ],
            [
             0.4444444444444444,
             "#bd3786"
            ],
            [
             0.5555555555555556,
             "#d8576b"
            ],
            [
             0.6666666666666666,
             "#ed7953"
            ],
            [
             0.7777777777777778,
             "#fb9f3a"
            ],
            [
             0.8888888888888888,
             "#fdca26"
            ],
            [
             1,
             "#f0f921"
            ]
           ]
          },
          "colorway": [
           "#636efa",
           "#EF553B",
           "#00cc96",
           "#ab63fa",
           "#FFA15A",
           "#19d3f3",
           "#FF6692",
           "#B6E880",
           "#FF97FF",
           "#FECB52"
          ],
          "font": {
           "color": "#2a3f5f"
          },
          "geo": {
           "bgcolor": "white",
           "lakecolor": "white",
           "landcolor": "#E5ECF6",
           "showlakes": true,
           "showland": true,
           "subunitcolor": "white"
          },
          "hoverlabel": {
           "align": "left"
          },
          "hovermode": "closest",
          "mapbox": {
           "style": "light"
          },
          "paper_bgcolor": "white",
          "plot_bgcolor": "#E5ECF6",
          "polar": {
           "angularaxis": {
            "gridcolor": "white",
            "linecolor": "white",
            "ticks": ""
           },
           "bgcolor": "#E5ECF6",
           "radialaxis": {
            "gridcolor": "white",
            "linecolor": "white",
            "ticks": ""
           }
          },
          "scene": {
           "xaxis": {
            "backgroundcolor": "#E5ECF6",
            "gridcolor": "white",
            "gridwidth": 2,
            "linecolor": "white",
            "showbackground": true,
            "ticks": "",
            "zerolinecolor": "white"
           },
           "yaxis": {
            "backgroundcolor": "#E5ECF6",
            "gridcolor": "white",
            "gridwidth": 2,
            "linecolor": "white",
            "showbackground": true,
            "ticks": "",
            "zerolinecolor": "white"
           },
           "zaxis": {
            "backgroundcolor": "#E5ECF6",
            "gridcolor": "white",
            "gridwidth": 2,
            "linecolor": "white",
            "showbackground": true,
            "ticks": "",
            "zerolinecolor": "white"
           }
          },
          "shapedefaults": {
           "line": {
            "color": "#2a3f5f"
           }
          },
          "ternary": {
           "aaxis": {
            "gridcolor": "white",
            "linecolor": "white",
            "ticks": ""
           },
           "baxis": {
            "gridcolor": "white",
            "linecolor": "white",
            "ticks": ""
           },
           "bgcolor": "#E5ECF6",
           "caxis": {
            "gridcolor": "white",
            "linecolor": "white",
            "ticks": ""
           }
          },
          "title": {
           "x": 0.05
          },
          "xaxis": {
           "automargin": true,
           "gridcolor": "white",
           "linecolor": "white",
           "ticks": "",
           "title": {
            "standoff": 15
           },
           "zerolinecolor": "white",
           "zerolinewidth": 2
          },
          "yaxis": {
           "automargin": true,
           "gridcolor": "white",
           "linecolor": "white",
           "ticks": "",
           "title": {
            "standoff": 15
           },
           "zerolinecolor": "white",
           "zerolinewidth": 2
          }
         }
        },
        "title": {
         "font": {
          "family": "Arial",
          "size": 24
         },
         "text": "Emissions in Different Regions",
         "x": 0.5
        },
        "width": 800
       }
      }
     },
     "metadata": {},
     "output_type": "display_data"
    }
   ],
   "source": [
    "fig = px.pie(emission, values='Emissions', names='Region',)\n",
    "# Add title\n",
    "fig.update_layout(title='Emissions in Different Regions', title_font_size=24, title_font_family='Arial',title_x=0.5)\n",
    "\n",
    "# Add legend and adjust position\n",
    "fig.update_layout(legend=dict(title='Countries', orientation='v', yanchor='top', y=0.8, xanchor='left', x=1))\n",
    "fig.update_layout(height=600, width=800)\n",
    "# Center the title\n",
    "fig.update_layout(title_x=0.5)\n",
    "fig.show()\n"
   ]
  },
  {
   "cell_type": "code",
   "execution_count": 587,
   "metadata": {},
   "outputs": [
    {
     "data": {
      "text/html": [
       "<div>\n",
       "<style scoped>\n",
       "    .dataframe tbody tr th:only-of-type {\n",
       "        vertical-align: middle;\n",
       "    }\n",
       "\n",
       "    .dataframe tbody tr th {\n",
       "        vertical-align: top;\n",
       "    }\n",
       "\n",
       "    .dataframe thead th {\n",
       "        text-align: right;\n",
       "    }\n",
       "</style>\n",
       "<table border=\"1\" class=\"dataframe\">\n",
       "  <thead>\n",
       "    <tr style=\"text-align: right;\">\n",
       "      <th></th>\n",
       "      <th>Region</th>\n",
       "      <th>Country</th>\n",
       "      <th>Emissions</th>\n",
       "    </tr>\n",
       "  </thead>\n",
       "  <tbody>\n",
       "    <tr>\n",
       "      <th>0</th>\n",
       "      <td>Asia Pacific</td>\n",
       "      <td>China</td>\n",
       "      <td>81048.371586</td>\n",
       "    </tr>\n",
       "    <tr>\n",
       "      <th>1</th>\n",
       "      <td>North America</td>\n",
       "      <td>United States</td>\n",
       "      <td>48604.877296</td>\n",
       "    </tr>\n",
       "    <tr>\n",
       "      <th>2</th>\n",
       "      <td>Russia &amp; Caspian</td>\n",
       "      <td>Russia</td>\n",
       "      <td>42432.929804</td>\n",
       "    </tr>\n",
       "    <tr>\n",
       "      <th>3</th>\n",
       "      <td>Asia Pacific</td>\n",
       "      <td>India</td>\n",
       "      <td>34852.007386</td>\n",
       "    </tr>\n",
       "    <tr>\n",
       "      <th>4</th>\n",
       "      <td>Central and South America</td>\n",
       "      <td>Brazil</td>\n",
       "      <td>21720.838126</td>\n",
       "    </tr>\n",
       "    <tr>\n",
       "      <th>5</th>\n",
       "      <td>Asia Pacific</td>\n",
       "      <td>Indonesia</td>\n",
       "      <td>19404.469000</td>\n",
       "    </tr>\n",
       "    <tr>\n",
       "      <th>6</th>\n",
       "      <td>Middle East</td>\n",
       "      <td>Iran</td>\n",
       "      <td>13030.685366</td>\n",
       "    </tr>\n",
       "    <tr>\n",
       "      <th>7</th>\n",
       "      <td>Africa</td>\n",
       "      <td>Nigeria</td>\n",
       "      <td>9903.895667</td>\n",
       "    </tr>\n",
       "    <tr>\n",
       "      <th>8</th>\n",
       "      <td>Russia &amp; Caspian</td>\n",
       "      <td>Turkmenistan</td>\n",
       "      <td>9834.398293</td>\n",
       "    </tr>\n",
       "    <tr>\n",
       "      <th>9</th>\n",
       "      <td>Asia Pacific</td>\n",
       "      <td>Pakistan</td>\n",
       "      <td>8170.627576</td>\n",
       "    </tr>\n",
       "  </tbody>\n",
       "</table>\n",
       "</div>"
      ],
      "text/plain": [
       "                      Region        Country     Emissions\n",
       "0               Asia Pacific          China  81048.371586\n",
       "1              North America  United States  48604.877296\n",
       "2           Russia & Caspian         Russia  42432.929804\n",
       "3               Asia Pacific          India  34852.007386\n",
       "4  Central and South America         Brazil  21720.838126\n",
       "5               Asia Pacific      Indonesia  19404.469000\n",
       "6                Middle East           Iran  13030.685366\n",
       "7                     Africa        Nigeria   9903.895667\n",
       "8           Russia & Caspian   Turkmenistan   9834.398293\n",
       "9               Asia Pacific       Pakistan   8170.627576"
      ]
     },
     "execution_count": 587,
     "metadata": {},
     "output_type": "execute_result"
    }
   ],
   "source": [
    "query = \"SELECT region as Region, country as Country, SUM(emissions) as Emissions FROM methane WHERE country IS NOT 'World' AND country IS NOT 'Other' AND country IS NOT 'Other countries in Southeast Asia' AND COUNTRY IS NOT 'Other EU17 countries' AND COUNTRY IS NOT 'European Union' AND COUNTRY IS NOT 'Other countries in Europe' GROUP BY country, region ORDER BY SUM(emissions) desc LIMIT 10\"\n",
    "cursor.execute(query)\n",
    "result=pd.DataFrame(cursor.fetchall(),columns=['Region', 'Country', 'Emissions'])\n",
    "\n",
    "result"
   ]
  },
  {
   "cell_type": "code",
   "execution_count": 559,
   "metadata": {},
   "outputs": [
    {
     "data": {
      "application/vnd.plotly.v1+json": {
       "config": {
        "plotlyServerURL": "https://plot.ly"
       },
       "data": [
        {
         "alignmentgroup": "True",
         "cliponaxis": false,
         "hovertemplate": "Country=%{x}<br>Emissions=%{y}<extra></extra>",
         "legendgroup": "China",
         "marker": {
          "color": "#636efa",
          "pattern": {
           "shape": ""
          }
         },
         "name": "China",
         "offsetgroup": "China",
         "orientation": "v",
         "showlegend": true,
         "textangle": 0,
         "textfont": {
          "size": 12
         },
         "textposition": "outside",
         "texttemplate": "%{y:.2s}",
         "type": "bar",
         "x": [
          "China"
         ],
         "xaxis": "x",
         "y": [
          81048.37158584595
         ],
         "yaxis": "y"
        },
        {
         "alignmentgroup": "True",
         "cliponaxis": false,
         "hovertemplate": "Country=%{x}<br>Emissions=%{y}<extra></extra>",
         "legendgroup": "United States",
         "marker": {
          "color": "#EF553B",
          "pattern": {
           "shape": ""
          }
         },
         "name": "United States",
         "offsetgroup": "United States",
         "orientation": "v",
         "showlegend": true,
         "textangle": 0,
         "textfont": {
          "size": 12
         },
         "textposition": "outside",
         "texttemplate": "%{y:.2s}",
         "type": "bar",
         "x": [
          "United States"
         ],
         "xaxis": "x",
         "y": [
          48604.877296447754
         ],
         "yaxis": "y"
        },
        {
         "alignmentgroup": "True",
         "cliponaxis": false,
         "hovertemplate": "Country=%{x}<br>Emissions=%{y}<extra></extra>",
         "legendgroup": "Russia",
         "marker": {
          "color": "#00cc96",
          "pattern": {
           "shape": ""
          }
         },
         "name": "Russia",
         "offsetgroup": "Russia",
         "orientation": "v",
         "showlegend": true,
         "textangle": 0,
         "textfont": {
          "size": 12
         },
         "textposition": "outside",
         "texttemplate": "%{y:.2s}",
         "type": "bar",
         "x": [
          "Russia"
         ],
         "xaxis": "x",
         "y": [
          42432.92980384827
         ],
         "yaxis": "y"
        },
        {
         "alignmentgroup": "True",
         "cliponaxis": false,
         "hovertemplate": "Country=%{x}<br>Emissions=%{y}<extra></extra>",
         "legendgroup": "India",
         "marker": {
          "color": "#ab63fa",
          "pattern": {
           "shape": ""
          }
         },
         "name": "India",
         "offsetgroup": "India",
         "orientation": "v",
         "showlegend": true,
         "textangle": 0,
         "textfont": {
          "size": 12
         },
         "textposition": "outside",
         "texttemplate": "%{y:.2s}",
         "type": "bar",
         "x": [
          "India"
         ],
         "xaxis": "x",
         "y": [
          34852.00738620758
         ],
         "yaxis": "y"
        },
        {
         "alignmentgroup": "True",
         "cliponaxis": false,
         "hovertemplate": "Country=%{x}<br>Emissions=%{y}<extra></extra>",
         "legendgroup": "Brazil",
         "marker": {
          "color": "#FFA15A",
          "pattern": {
           "shape": ""
          }
         },
         "name": "Brazil",
         "offsetgroup": "Brazil",
         "orientation": "v",
         "showlegend": true,
         "textangle": 0,
         "textfont": {
          "size": 12
         },
         "textposition": "outside",
         "texttemplate": "%{y:.2s}",
         "type": "bar",
         "x": [
          "Brazil"
         ],
         "xaxis": "x",
         "y": [
          21720.838126420975
         ],
         "yaxis": "y"
        },
        {
         "alignmentgroup": "True",
         "cliponaxis": false,
         "hovertemplate": "Country=%{x}<br>Emissions=%{y}<extra></extra>",
         "legendgroup": "Indonesia",
         "marker": {
          "color": "#19d3f3",
          "pattern": {
           "shape": ""
          }
         },
         "name": "Indonesia",
         "offsetgroup": "Indonesia",
         "orientation": "v",
         "showlegend": true,
         "textangle": 0,
         "textfont": {
          "size": 12
         },
         "textposition": "outside",
         "texttemplate": "%{y:.2s}",
         "type": "bar",
         "x": [
          "Indonesia"
         ],
         "xaxis": "x",
         "y": [
          19404.46899986267
         ],
         "yaxis": "y"
        },
        {
         "alignmentgroup": "True",
         "cliponaxis": false,
         "hovertemplate": "Country=%{x}<br>Emissions=%{y}<extra></extra>",
         "legendgroup": "Iran",
         "marker": {
          "color": "#FF6692",
          "pattern": {
           "shape": ""
          }
         },
         "name": "Iran",
         "offsetgroup": "Iran",
         "orientation": "v",
         "showlegend": true,
         "textangle": 0,
         "textfont": {
          "size": 12
         },
         "textposition": "outside",
         "texttemplate": "%{y:.2s}",
         "type": "bar",
         "x": [
          "Iran"
         ],
         "xaxis": "x",
         "y": [
          13030.685366243124
         ],
         "yaxis": "y"
        },
        {
         "alignmentgroup": "True",
         "cliponaxis": false,
         "hovertemplate": "Country=%{x}<br>Emissions=%{y}<extra></extra>",
         "legendgroup": "Nigeria",
         "marker": {
          "color": "#B6E880",
          "pattern": {
           "shape": ""
          }
         },
         "name": "Nigeria",
         "offsetgroup": "Nigeria",
         "orientation": "v",
         "showlegend": true,
         "textangle": 0,
         "textfont": {
          "size": 12
         },
         "textposition": "outside",
         "texttemplate": "%{y:.2s}",
         "type": "bar",
         "x": [
          "Nigeria"
         ],
         "xaxis": "x",
         "y": [
          9903.895666992292
         ],
         "yaxis": "y"
        },
        {
         "alignmentgroup": "True",
         "cliponaxis": false,
         "hovertemplate": "Country=%{x}<br>Emissions=%{y}<extra></extra>",
         "legendgroup": "Turkmenistan",
         "marker": {
          "color": "#FF97FF",
          "pattern": {
           "shape": ""
          }
         },
         "name": "Turkmenistan",
         "offsetgroup": "Turkmenistan",
         "orientation": "v",
         "showlegend": true,
         "textangle": 0,
         "textfont": {
          "size": 12
         },
         "textposition": "outside",
         "texttemplate": "%{y:.2s}",
         "type": "bar",
         "x": [
          "Turkmenistan"
         ],
         "xaxis": "x",
         "y": [
          9834.398293197155
         ],
         "yaxis": "y"
        },
        {
         "alignmentgroup": "True",
         "cliponaxis": false,
         "hovertemplate": "Country=%{x}<br>Emissions=%{y}<extra></extra>",
         "legendgroup": "Pakistan",
         "marker": {
          "color": "#FECB52",
          "pattern": {
           "shape": ""
          }
         },
         "name": "Pakistan",
         "offsetgroup": "Pakistan",
         "orientation": "v",
         "showlegend": true,
         "textangle": 0,
         "textfont": {
          "size": 12
         },
         "textposition": "outside",
         "texttemplate": "%{y:.2s}",
         "type": "bar",
         "x": [
          "Pakistan"
         ],
         "xaxis": "x",
         "y": [
          8170.627575874329
         ],
         "yaxis": "y"
        }
       ],
       "layout": {
        "barmode": "relative",
        "height": 600,
        "legend": {
         "title": {
          "text": "Country"
         },
         "tracegroupgap": 0
        },
        "margin": {
         "t": 60
        },
        "showlegend": false,
        "template": {
         "data": {
          "bar": [
           {
            "error_x": {
             "color": "#2a3f5f"
            },
            "error_y": {
             "color": "#2a3f5f"
            },
            "marker": {
             "line": {
              "color": "#E5ECF6",
              "width": 0.5
             },
             "pattern": {
              "fillmode": "overlay",
              "size": 10,
              "solidity": 0.2
             }
            },
            "type": "bar"
           }
          ],
          "barpolar": [
           {
            "marker": {
             "line": {
              "color": "#E5ECF6",
              "width": 0.5
             },
             "pattern": {
              "fillmode": "overlay",
              "size": 10,
              "solidity": 0.2
             }
            },
            "type": "barpolar"
           }
          ],
          "carpet": [
           {
            "aaxis": {
             "endlinecolor": "#2a3f5f",
             "gridcolor": "white",
             "linecolor": "white",
             "minorgridcolor": "white",
             "startlinecolor": "#2a3f5f"
            },
            "baxis": {
             "endlinecolor": "#2a3f5f",
             "gridcolor": "white",
             "linecolor": "white",
             "minorgridcolor": "white",
             "startlinecolor": "#2a3f5f"
            },
            "type": "carpet"
           }
          ],
          "choropleth": [
           {
            "colorbar": {
             "outlinewidth": 0,
             "ticks": ""
            },
            "type": "choropleth"
           }
          ],
          "contour": [
           {
            "colorbar": {
             "outlinewidth": 0,
             "ticks": ""
            },
            "colorscale": [
             [
              0,
              "#0d0887"
             ],
             [
              0.1111111111111111,
              "#46039f"
             ],
             [
              0.2222222222222222,
              "#7201a8"
             ],
             [
              0.3333333333333333,
              "#9c179e"
             ],
             [
              0.4444444444444444,
              "#bd3786"
             ],
             [
              0.5555555555555556,
              "#d8576b"
             ],
             [
              0.6666666666666666,
              "#ed7953"
             ],
             [
              0.7777777777777778,
              "#fb9f3a"
             ],
             [
              0.8888888888888888,
              "#fdca26"
             ],
             [
              1,
              "#f0f921"
             ]
            ],
            "type": "contour"
           }
          ],
          "contourcarpet": [
           {
            "colorbar": {
             "outlinewidth": 0,
             "ticks": ""
            },
            "type": "contourcarpet"
           }
          ],
          "heatmap": [
           {
            "colorbar": {
             "outlinewidth": 0,
             "ticks": ""
            },
            "colorscale": [
             [
              0,
              "#0d0887"
             ],
             [
              0.1111111111111111,
              "#46039f"
             ],
             [
              0.2222222222222222,
              "#7201a8"
             ],
             [
              0.3333333333333333,
              "#9c179e"
             ],
             [
              0.4444444444444444,
              "#bd3786"
             ],
             [
              0.5555555555555556,
              "#d8576b"
             ],
             [
              0.6666666666666666,
              "#ed7953"
             ],
             [
              0.7777777777777778,
              "#fb9f3a"
             ],
             [
              0.8888888888888888,
              "#fdca26"
             ],
             [
              1,
              "#f0f921"
             ]
            ],
            "type": "heatmap"
           }
          ],
          "heatmapgl": [
           {
            "colorbar": {
             "outlinewidth": 0,
             "ticks": ""
            },
            "colorscale": [
             [
              0,
              "#0d0887"
             ],
             [
              0.1111111111111111,
              "#46039f"
             ],
             [
              0.2222222222222222,
              "#7201a8"
             ],
             [
              0.3333333333333333,
              "#9c179e"
             ],
             [
              0.4444444444444444,
              "#bd3786"
             ],
             [
              0.5555555555555556,
              "#d8576b"
             ],
             [
              0.6666666666666666,
              "#ed7953"
             ],
             [
              0.7777777777777778,
              "#fb9f3a"
             ],
             [
              0.8888888888888888,
              "#fdca26"
             ],
             [
              1,
              "#f0f921"
             ]
            ],
            "type": "heatmapgl"
           }
          ],
          "histogram": [
           {
            "marker": {
             "pattern": {
              "fillmode": "overlay",
              "size": 10,
              "solidity": 0.2
             }
            },
            "type": "histogram"
           }
          ],
          "histogram2d": [
           {
            "colorbar": {
             "outlinewidth": 0,
             "ticks": ""
            },
            "colorscale": [
             [
              0,
              "#0d0887"
             ],
             [
              0.1111111111111111,
              "#46039f"
             ],
             [
              0.2222222222222222,
              "#7201a8"
             ],
             [
              0.3333333333333333,
              "#9c179e"
             ],
             [
              0.4444444444444444,
              "#bd3786"
             ],
             [
              0.5555555555555556,
              "#d8576b"
             ],
             [
              0.6666666666666666,
              "#ed7953"
             ],
             [
              0.7777777777777778,
              "#fb9f3a"
             ],
             [
              0.8888888888888888,
              "#fdca26"
             ],
             [
              1,
              "#f0f921"
             ]
            ],
            "type": "histogram2d"
           }
          ],
          "histogram2dcontour": [
           {
            "colorbar": {
             "outlinewidth": 0,
             "ticks": ""
            },
            "colorscale": [
             [
              0,
              "#0d0887"
             ],
             [
              0.1111111111111111,
              "#46039f"
             ],
             [
              0.2222222222222222,
              "#7201a8"
             ],
             [
              0.3333333333333333,
              "#9c179e"
             ],
             [
              0.4444444444444444,
              "#bd3786"
             ],
             [
              0.5555555555555556,
              "#d8576b"
             ],
             [
              0.6666666666666666,
              "#ed7953"
             ],
             [
              0.7777777777777778,
              "#fb9f3a"
             ],
             [
              0.8888888888888888,
              "#fdca26"
             ],
             [
              1,
              "#f0f921"
             ]
            ],
            "type": "histogram2dcontour"
           }
          ],
          "mesh3d": [
           {
            "colorbar": {
             "outlinewidth": 0,
             "ticks": ""
            },
            "type": "mesh3d"
           }
          ],
          "parcoords": [
           {
            "line": {
             "colorbar": {
              "outlinewidth": 0,
              "ticks": ""
             }
            },
            "type": "parcoords"
           }
          ],
          "pie": [
           {
            "automargin": true,
            "type": "pie"
           }
          ],
          "scatter": [
           {
            "fillpattern": {
             "fillmode": "overlay",
             "size": 10,
             "solidity": 0.2
            },
            "type": "scatter"
           }
          ],
          "scatter3d": [
           {
            "line": {
             "colorbar": {
              "outlinewidth": 0,
              "ticks": ""
             }
            },
            "marker": {
             "colorbar": {
              "outlinewidth": 0,
              "ticks": ""
             }
            },
            "type": "scatter3d"
           }
          ],
          "scattercarpet": [
           {
            "marker": {
             "colorbar": {
              "outlinewidth": 0,
              "ticks": ""
             }
            },
            "type": "scattercarpet"
           }
          ],
          "scattergeo": [
           {
            "marker": {
             "colorbar": {
              "outlinewidth": 0,
              "ticks": ""
             }
            },
            "type": "scattergeo"
           }
          ],
          "scattergl": [
           {
            "marker": {
             "colorbar": {
              "outlinewidth": 0,
              "ticks": ""
             }
            },
            "type": "scattergl"
           }
          ],
          "scattermapbox": [
           {
            "marker": {
             "colorbar": {
              "outlinewidth": 0,
              "ticks": ""
             }
            },
            "type": "scattermapbox"
           }
          ],
          "scatterpolar": [
           {
            "marker": {
             "colorbar": {
              "outlinewidth": 0,
              "ticks": ""
             }
            },
            "type": "scatterpolar"
           }
          ],
          "scatterpolargl": [
           {
            "marker": {
             "colorbar": {
              "outlinewidth": 0,
              "ticks": ""
             }
            },
            "type": "scatterpolargl"
           }
          ],
          "scatterternary": [
           {
            "marker": {
             "colorbar": {
              "outlinewidth": 0,
              "ticks": ""
             }
            },
            "type": "scatterternary"
           }
          ],
          "surface": [
           {
            "colorbar": {
             "outlinewidth": 0,
             "ticks": ""
            },
            "colorscale": [
             [
              0,
              "#0d0887"
             ],
             [
              0.1111111111111111,
              "#46039f"
             ],
             [
              0.2222222222222222,
              "#7201a8"
             ],
             [
              0.3333333333333333,
              "#9c179e"
             ],
             [
              0.4444444444444444,
              "#bd3786"
             ],
             [
              0.5555555555555556,
              "#d8576b"
             ],
             [
              0.6666666666666666,
              "#ed7953"
             ],
             [
              0.7777777777777778,
              "#fb9f3a"
             ],
             [
              0.8888888888888888,
              "#fdca26"
             ],
             [
              1,
              "#f0f921"
             ]
            ],
            "type": "surface"
           }
          ],
          "table": [
           {
            "cells": {
             "fill": {
              "color": "#EBF0F8"
             },
             "line": {
              "color": "white"
             }
            },
            "header": {
             "fill": {
              "color": "#C8D4E3"
             },
             "line": {
              "color": "white"
             }
            },
            "type": "table"
           }
          ]
         },
         "layout": {
          "annotationdefaults": {
           "arrowcolor": "#2a3f5f",
           "arrowhead": 0,
           "arrowwidth": 1
          },
          "autotypenumbers": "strict",
          "coloraxis": {
           "colorbar": {
            "outlinewidth": 0,
            "ticks": ""
           }
          },
          "colorscale": {
           "diverging": [
            [
             0,
             "#8e0152"
            ],
            [
             0.1,
             "#c51b7d"
            ],
            [
             0.2,
             "#de77ae"
            ],
            [
             0.3,
             "#f1b6da"
            ],
            [
             0.4,
             "#fde0ef"
            ],
            [
             0.5,
             "#f7f7f7"
            ],
            [
             0.6,
             "#e6f5d0"
            ],
            [
             0.7,
             "#b8e186"
            ],
            [
             0.8,
             "#7fbc41"
            ],
            [
             0.9,
             "#4d9221"
            ],
            [
             1,
             "#276419"
            ]
           ],
           "sequential": [
            [
             0,
             "#0d0887"
            ],
            [
             0.1111111111111111,
             "#46039f"
            ],
            [
             0.2222222222222222,
             "#7201a8"
            ],
            [
             0.3333333333333333,
             "#9c179e"
            ],
            [
             0.4444444444444444,
             "#bd3786"
            ],
            [
             0.5555555555555556,
             "#d8576b"
            ],
            [
             0.6666666666666666,
             "#ed7953"
            ],
            [
             0.7777777777777778,
             "#fb9f3a"
            ],
            [
             0.8888888888888888,
             "#fdca26"
            ],
            [
             1,
             "#f0f921"
            ]
           ],
           "sequentialminus": [
            [
             0,
             "#0d0887"
            ],
            [
             0.1111111111111111,
             "#46039f"
            ],
            [
             0.2222222222222222,
             "#7201a8"
            ],
            [
             0.3333333333333333,
             "#9c179e"
            ],
            [
             0.4444444444444444,
             "#bd3786"
            ],
            [
             0.5555555555555556,
             "#d8576b"
            ],
            [
             0.6666666666666666,
             "#ed7953"
            ],
            [
             0.7777777777777778,
             "#fb9f3a"
            ],
            [
             0.8888888888888888,
             "#fdca26"
            ],
            [
             1,
             "#f0f921"
            ]
           ]
          },
          "colorway": [
           "#636efa",
           "#EF553B",
           "#00cc96",
           "#ab63fa",
           "#FFA15A",
           "#19d3f3",
           "#FF6692",
           "#B6E880",
           "#FF97FF",
           "#FECB52"
          ],
          "font": {
           "color": "#2a3f5f"
          },
          "geo": {
           "bgcolor": "white",
           "lakecolor": "white",
           "landcolor": "#E5ECF6",
           "showlakes": true,
           "showland": true,
           "subunitcolor": "white"
          },
          "hoverlabel": {
           "align": "left"
          },
          "hovermode": "closest",
          "mapbox": {
           "style": "light"
          },
          "paper_bgcolor": "white",
          "plot_bgcolor": "#E5ECF6",
          "polar": {
           "angularaxis": {
            "gridcolor": "white",
            "linecolor": "white",
            "ticks": ""
           },
           "bgcolor": "#E5ECF6",
           "radialaxis": {
            "gridcolor": "white",
            "linecolor": "white",
            "ticks": ""
           }
          },
          "scene": {
           "xaxis": {
            "backgroundcolor": "#E5ECF6",
            "gridcolor": "white",
            "gridwidth": 2,
            "linecolor": "white",
            "showbackground": true,
            "ticks": "",
            "zerolinecolor": "white"
           },
           "yaxis": {
            "backgroundcolor": "#E5ECF6",
            "gridcolor": "white",
            "gridwidth": 2,
            "linecolor": "white",
            "showbackground": true,
            "ticks": "",
            "zerolinecolor": "white"
           },
           "zaxis": {
            "backgroundcolor": "#E5ECF6",
            "gridcolor": "white",
            "gridwidth": 2,
            "linecolor": "white",
            "showbackground": true,
            "ticks": "",
            "zerolinecolor": "white"
           }
          },
          "shapedefaults": {
           "line": {
            "color": "#2a3f5f"
           }
          },
          "ternary": {
           "aaxis": {
            "gridcolor": "white",
            "linecolor": "white",
            "ticks": ""
           },
           "baxis": {
            "gridcolor": "white",
            "linecolor": "white",
            "ticks": ""
           },
           "bgcolor": "#E5ECF6",
           "caxis": {
            "gridcolor": "white",
            "linecolor": "white",
            "ticks": ""
           }
          },
          "title": {
           "x": 0.05
          },
          "xaxis": {
           "automargin": true,
           "gridcolor": "white",
           "linecolor": "white",
           "ticks": "",
           "title": {
            "standoff": 15
           },
           "zerolinecolor": "white",
           "zerolinewidth": 2
          },
          "yaxis": {
           "automargin": true,
           "gridcolor": "white",
           "linecolor": "white",
           "ticks": "",
           "title": {
            "standoff": 15
           },
           "zerolinecolor": "white",
           "zerolinewidth": 2
          }
         }
        },
        "title": {
         "font": {
          "family": "Arial",
          "size": 24
         },
         "text": "Top 10 Countries with The Most Emission",
         "x": 0.5
        },
        "width": 800,
        "xaxis": {
         "anchor": "y",
         "categoryarray": [
          "China",
          "United States",
          "Russia",
          "India",
          "Brazil",
          "Indonesia",
          "Iran",
          "Nigeria",
          "Turkmenistan",
          "Pakistan"
         ],
         "categoryorder": "array",
         "domain": [
          0,
          1
         ],
         "title": {
          "text": "Country"
         }
        },
        "yaxis": {
         "anchor": "x",
         "domain": [
          0,
          1
         ],
         "title": {
          "text": "Emissions"
         }
        }
       }
      }
     },
     "metadata": {},
     "output_type": "display_data"
    }
   ],
   "source": [
    "fig = px.bar(result, y='Emissions', x='Country', text_auto='.2s',color='Country'\n",
    "            )\n",
    "fig.update_traces(textfont_size=12, textangle=0, textposition=\"outside\", cliponaxis=False)\n",
    "fig.update_layout(title=\"Top 10 Countries with The Most Emission\" , title_font_size=24, title_font_family='Arial',title_x=0.5)\n",
    "\n",
    "fig.update_layout(height=600, width=800)\n",
    "# Center the title\n",
    "fig.update_layout(title_x=0.5)\n",
    "fig.update_layout(showlegend=False)\n",
    "fig.show()\n"
   ]
  },
  {
   "cell_type": "code",
   "execution_count": 560,
   "metadata": {},
   "outputs": [
    {
     "data": {
      "application/vnd.plotly.v1+json": {
       "config": {
        "plotlyServerURL": "https://plot.ly"
       },
       "data": [
        {
         "hoverinfo": "percent",
         "labels": [
          "China",
          "United States",
          "Russia",
          "India",
          "Brazil",
          "Indonesia",
          "Iran",
          "Nigeria",
          "Turkmenistan",
          "Pakistan"
         ],
         "textfont": {
          "size": 14
         },
         "textinfo": "percent",
         "type": "pie",
         "values": [
          81048.37158584595,
          48604.877296447754,
          42432.92980384827,
          34852.00738620758,
          21720.838126420975,
          19404.46899986267,
          13030.685366243124,
          9903.895666992292,
          9834.398293197155,
          8170.627575874329
         ]
        }
       ],
       "layout": {
        "height": 600,
        "legend": {
         "orientation": "v",
         "title": {
          "text": "Countries"
         },
         "x": 1,
         "xanchor": "left",
         "y": 0.8,
         "yanchor": "top"
        },
        "template": {
         "data": {
          "bar": [
           {
            "error_x": {
             "color": "#2a3f5f"
            },
            "error_y": {
             "color": "#2a3f5f"
            },
            "marker": {
             "line": {
              "color": "#E5ECF6",
              "width": 0.5
             },
             "pattern": {
              "fillmode": "overlay",
              "size": 10,
              "solidity": 0.2
             }
            },
            "type": "bar"
           }
          ],
          "barpolar": [
           {
            "marker": {
             "line": {
              "color": "#E5ECF6",
              "width": 0.5
             },
             "pattern": {
              "fillmode": "overlay",
              "size": 10,
              "solidity": 0.2
             }
            },
            "type": "barpolar"
           }
          ],
          "carpet": [
           {
            "aaxis": {
             "endlinecolor": "#2a3f5f",
             "gridcolor": "white",
             "linecolor": "white",
             "minorgridcolor": "white",
             "startlinecolor": "#2a3f5f"
            },
            "baxis": {
             "endlinecolor": "#2a3f5f",
             "gridcolor": "white",
             "linecolor": "white",
             "minorgridcolor": "white",
             "startlinecolor": "#2a3f5f"
            },
            "type": "carpet"
           }
          ],
          "choropleth": [
           {
            "colorbar": {
             "outlinewidth": 0,
             "ticks": ""
            },
            "type": "choropleth"
           }
          ],
          "contour": [
           {
            "colorbar": {
             "outlinewidth": 0,
             "ticks": ""
            },
            "colorscale": [
             [
              0,
              "#0d0887"
             ],
             [
              0.1111111111111111,
              "#46039f"
             ],
             [
              0.2222222222222222,
              "#7201a8"
             ],
             [
              0.3333333333333333,
              "#9c179e"
             ],
             [
              0.4444444444444444,
              "#bd3786"
             ],
             [
              0.5555555555555556,
              "#d8576b"
             ],
             [
              0.6666666666666666,
              "#ed7953"
             ],
             [
              0.7777777777777778,
              "#fb9f3a"
             ],
             [
              0.8888888888888888,
              "#fdca26"
             ],
             [
              1,
              "#f0f921"
             ]
            ],
            "type": "contour"
           }
          ],
          "contourcarpet": [
           {
            "colorbar": {
             "outlinewidth": 0,
             "ticks": ""
            },
            "type": "contourcarpet"
           }
          ],
          "heatmap": [
           {
            "colorbar": {
             "outlinewidth": 0,
             "ticks": ""
            },
            "colorscale": [
             [
              0,
              "#0d0887"
             ],
             [
              0.1111111111111111,
              "#46039f"
             ],
             [
              0.2222222222222222,
              "#7201a8"
             ],
             [
              0.3333333333333333,
              "#9c179e"
             ],
             [
              0.4444444444444444,
              "#bd3786"
             ],
             [
              0.5555555555555556,
              "#d8576b"
             ],
             [
              0.6666666666666666,
              "#ed7953"
             ],
             [
              0.7777777777777778,
              "#fb9f3a"
             ],
             [
              0.8888888888888888,
              "#fdca26"
             ],
             [
              1,
              "#f0f921"
             ]
            ],
            "type": "heatmap"
           }
          ],
          "heatmapgl": [
           {
            "colorbar": {
             "outlinewidth": 0,
             "ticks": ""
            },
            "colorscale": [
             [
              0,
              "#0d0887"
             ],
             [
              0.1111111111111111,
              "#46039f"
             ],
             [
              0.2222222222222222,
              "#7201a8"
             ],
             [
              0.3333333333333333,
              "#9c179e"
             ],
             [
              0.4444444444444444,
              "#bd3786"
             ],
             [
              0.5555555555555556,
              "#d8576b"
             ],
             [
              0.6666666666666666,
              "#ed7953"
             ],
             [
              0.7777777777777778,
              "#fb9f3a"
             ],
             [
              0.8888888888888888,
              "#fdca26"
             ],
             [
              1,
              "#f0f921"
             ]
            ],
            "type": "heatmapgl"
           }
          ],
          "histogram": [
           {
            "marker": {
             "pattern": {
              "fillmode": "overlay",
              "size": 10,
              "solidity": 0.2
             }
            },
            "type": "histogram"
           }
          ],
          "histogram2d": [
           {
            "colorbar": {
             "outlinewidth": 0,
             "ticks": ""
            },
            "colorscale": [
             [
              0,
              "#0d0887"
             ],
             [
              0.1111111111111111,
              "#46039f"
             ],
             [
              0.2222222222222222,
              "#7201a8"
             ],
             [
              0.3333333333333333,
              "#9c179e"
             ],
             [
              0.4444444444444444,
              "#bd3786"
             ],
             [
              0.5555555555555556,
              "#d8576b"
             ],
             [
              0.6666666666666666,
              "#ed7953"
             ],
             [
              0.7777777777777778,
              "#fb9f3a"
             ],
             [
              0.8888888888888888,
              "#fdca26"
             ],
             [
              1,
              "#f0f921"
             ]
            ],
            "type": "histogram2d"
           }
          ],
          "histogram2dcontour": [
           {
            "colorbar": {
             "outlinewidth": 0,
             "ticks": ""
            },
            "colorscale": [
             [
              0,
              "#0d0887"
             ],
             [
              0.1111111111111111,
              "#46039f"
             ],
             [
              0.2222222222222222,
              "#7201a8"
             ],
             [
              0.3333333333333333,
              "#9c179e"
             ],
             [
              0.4444444444444444,
              "#bd3786"
             ],
             [
              0.5555555555555556,
              "#d8576b"
             ],
             [
              0.6666666666666666,
              "#ed7953"
             ],
             [
              0.7777777777777778,
              "#fb9f3a"
             ],
             [
              0.8888888888888888,
              "#fdca26"
             ],
             [
              1,
              "#f0f921"
             ]
            ],
            "type": "histogram2dcontour"
           }
          ],
          "mesh3d": [
           {
            "colorbar": {
             "outlinewidth": 0,
             "ticks": ""
            },
            "type": "mesh3d"
           }
          ],
          "parcoords": [
           {
            "line": {
             "colorbar": {
              "outlinewidth": 0,
              "ticks": ""
             }
            },
            "type": "parcoords"
           }
          ],
          "pie": [
           {
            "automargin": true,
            "type": "pie"
           }
          ],
          "scatter": [
           {
            "fillpattern": {
             "fillmode": "overlay",
             "size": 10,
             "solidity": 0.2
            },
            "type": "scatter"
           }
          ],
          "scatter3d": [
           {
            "line": {
             "colorbar": {
              "outlinewidth": 0,
              "ticks": ""
             }
            },
            "marker": {
             "colorbar": {
              "outlinewidth": 0,
              "ticks": ""
             }
            },
            "type": "scatter3d"
           }
          ],
          "scattercarpet": [
           {
            "marker": {
             "colorbar": {
              "outlinewidth": 0,
              "ticks": ""
             }
            },
            "type": "scattercarpet"
           }
          ],
          "scattergeo": [
           {
            "marker": {
             "colorbar": {
              "outlinewidth": 0,
              "ticks": ""
             }
            },
            "type": "scattergeo"
           }
          ],
          "scattergl": [
           {
            "marker": {
             "colorbar": {
              "outlinewidth": 0,
              "ticks": ""
             }
            },
            "type": "scattergl"
           }
          ],
          "scattermapbox": [
           {
            "marker": {
             "colorbar": {
              "outlinewidth": 0,
              "ticks": ""
             }
            },
            "type": "scattermapbox"
           }
          ],
          "scatterpolar": [
           {
            "marker": {
             "colorbar": {
              "outlinewidth": 0,
              "ticks": ""
             }
            },
            "type": "scatterpolar"
           }
          ],
          "scatterpolargl": [
           {
            "marker": {
             "colorbar": {
              "outlinewidth": 0,
              "ticks": ""
             }
            },
            "type": "scatterpolargl"
           }
          ],
          "scatterternary": [
           {
            "marker": {
             "colorbar": {
              "outlinewidth": 0,
              "ticks": ""
             }
            },
            "type": "scatterternary"
           }
          ],
          "surface": [
           {
            "colorbar": {
             "outlinewidth": 0,
             "ticks": ""
            },
            "colorscale": [
             [
              0,
              "#0d0887"
             ],
             [
              0.1111111111111111,
              "#46039f"
             ],
             [
              0.2222222222222222,
              "#7201a8"
             ],
             [
              0.3333333333333333,
              "#9c179e"
             ],
             [
              0.4444444444444444,
              "#bd3786"
             ],
             [
              0.5555555555555556,
              "#d8576b"
             ],
             [
              0.6666666666666666,
              "#ed7953"
             ],
             [
              0.7777777777777778,
              "#fb9f3a"
             ],
             [
              0.8888888888888888,
              "#fdca26"
             ],
             [
              1,
              "#f0f921"
             ]
            ],
            "type": "surface"
           }
          ],
          "table": [
           {
            "cells": {
             "fill": {
              "color": "#EBF0F8"
             },
             "line": {
              "color": "white"
             }
            },
            "header": {
             "fill": {
              "color": "#C8D4E3"
             },
             "line": {
              "color": "white"
             }
            },
            "type": "table"
           }
          ]
         },
         "layout": {
          "annotationdefaults": {
           "arrowcolor": "#2a3f5f",
           "arrowhead": 0,
           "arrowwidth": 1
          },
          "autotypenumbers": "strict",
          "coloraxis": {
           "colorbar": {
            "outlinewidth": 0,
            "ticks": ""
           }
          },
          "colorscale": {
           "diverging": [
            [
             0,
             "#8e0152"
            ],
            [
             0.1,
             "#c51b7d"
            ],
            [
             0.2,
             "#de77ae"
            ],
            [
             0.3,
             "#f1b6da"
            ],
            [
             0.4,
             "#fde0ef"
            ],
            [
             0.5,
             "#f7f7f7"
            ],
            [
             0.6,
             "#e6f5d0"
            ],
            [
             0.7,
             "#b8e186"
            ],
            [
             0.8,
             "#7fbc41"
            ],
            [
             0.9,
             "#4d9221"
            ],
            [
             1,
             "#276419"
            ]
           ],
           "sequential": [
            [
             0,
             "#0d0887"
            ],
            [
             0.1111111111111111,
             "#46039f"
            ],
            [
             0.2222222222222222,
             "#7201a8"
            ],
            [
             0.3333333333333333,
             "#9c179e"
            ],
            [
             0.4444444444444444,
             "#bd3786"
            ],
            [
             0.5555555555555556,
             "#d8576b"
            ],
            [
             0.6666666666666666,
             "#ed7953"
            ],
            [
             0.7777777777777778,
             "#fb9f3a"
            ],
            [
             0.8888888888888888,
             "#fdca26"
            ],
            [
             1,
             "#f0f921"
            ]
           ],
           "sequentialminus": [
            [
             0,
             "#0d0887"
            ],
            [
             0.1111111111111111,
             "#46039f"
            ],
            [
             0.2222222222222222,
             "#7201a8"
            ],
            [
             0.3333333333333333,
             "#9c179e"
            ],
            [
             0.4444444444444444,
             "#bd3786"
            ],
            [
             0.5555555555555556,
             "#d8576b"
            ],
            [
             0.6666666666666666,
             "#ed7953"
            ],
            [
             0.7777777777777778,
             "#fb9f3a"
            ],
            [
             0.8888888888888888,
             "#fdca26"
            ],
            [
             1,
             "#f0f921"
            ]
           ]
          },
          "colorway": [
           "#636efa",
           "#EF553B",
           "#00cc96",
           "#ab63fa",
           "#FFA15A",
           "#19d3f3",
           "#FF6692",
           "#B6E880",
           "#FF97FF",
           "#FECB52"
          ],
          "font": {
           "color": "#2a3f5f"
          },
          "geo": {
           "bgcolor": "white",
           "lakecolor": "white",
           "landcolor": "#E5ECF6",
           "showlakes": true,
           "showland": true,
           "subunitcolor": "white"
          },
          "hoverlabel": {
           "align": "left"
          },
          "hovermode": "closest",
          "mapbox": {
           "style": "light"
          },
          "paper_bgcolor": "white",
          "plot_bgcolor": "#E5ECF6",
          "polar": {
           "angularaxis": {
            "gridcolor": "white",
            "linecolor": "white",
            "ticks": ""
           },
           "bgcolor": "#E5ECF6",
           "radialaxis": {
            "gridcolor": "white",
            "linecolor": "white",
            "ticks": ""
           }
          },
          "scene": {
           "xaxis": {
            "backgroundcolor": "#E5ECF6",
            "gridcolor": "white",
            "gridwidth": 2,
            "linecolor": "white",
            "showbackground": true,
            "ticks": "",
            "zerolinecolor": "white"
           },
           "yaxis": {
            "backgroundcolor": "#E5ECF6",
            "gridcolor": "white",
            "gridwidth": 2,
            "linecolor": "white",
            "showbackground": true,
            "ticks": "",
            "zerolinecolor": "white"
           },
           "zaxis": {
            "backgroundcolor": "#E5ECF6",
            "gridcolor": "white",
            "gridwidth": 2,
            "linecolor": "white",
            "showbackground": true,
            "ticks": "",
            "zerolinecolor": "white"
           }
          },
          "shapedefaults": {
           "line": {
            "color": "#2a3f5f"
           }
          },
          "ternary": {
           "aaxis": {
            "gridcolor": "white",
            "linecolor": "white",
            "ticks": ""
           },
           "baxis": {
            "gridcolor": "white",
            "linecolor": "white",
            "ticks": ""
           },
           "bgcolor": "#E5ECF6",
           "caxis": {
            "gridcolor": "white",
            "linecolor": "white",
            "ticks": ""
           }
          },
          "title": {
           "x": 0.05
          },
          "xaxis": {
           "automargin": true,
           "gridcolor": "white",
           "linecolor": "white",
           "ticks": "",
           "title": {
            "standoff": 15
           },
           "zerolinecolor": "white",
           "zerolinewidth": 2
          },
          "yaxis": {
           "automargin": true,
           "gridcolor": "white",
           "linecolor": "white",
           "ticks": "",
           "title": {
            "standoff": 15
           },
           "zerolinecolor": "white",
           "zerolinewidth": 2
          }
         }
        },
        "title": {
         "font": {
          "family": "Arial",
          "size": 24
         },
         "text": "Top 10 Countries with The Most Emission",
         "x": 0.5
        },
        "width": 800
       }
      }
     },
     "metadata": {},
     "output_type": "display_data"
    }
   ],
   "source": [
    "\n",
    "\n",
    "fig = go.Figure(data=[go.Pie(labels=result['Country'], values=result['Emissions'])])\n",
    "fig.update_traces(hoverinfo='percent', textinfo='percent', textfont_size=14, )\n",
    "\n",
    "# Add title\n",
    "fig.update_layout(title=\"Top 10 Countries with The Most Emission\", title_font_size=24, title_font_family='Arial',title_x=0.5)\n",
    "\n",
    "# Add legend and adjust position\n",
    "fig.update_layout(legend=dict(title='Countries', orientation='v', yanchor='top', y=0.8, xanchor='left', x=1))\n",
    "\n",
    "# Resize the figure\n",
    "fig.update_layout(height=600, width=800)\n",
    "\n",
    "# Show the chart\n",
    "fig.show()\n"
   ]
  },
  {
   "cell_type": "code",
   "execution_count": 561,
   "metadata": {},
   "outputs": [
    {
     "data": {
      "text/html": [
       "<div>\n",
       "<style scoped>\n",
       "    .dataframe tbody tr th:only-of-type {\n",
       "        vertical-align: middle;\n",
       "    }\n",
       "\n",
       "    .dataframe tbody tr th {\n",
       "        vertical-align: top;\n",
       "    }\n",
       "\n",
       "    .dataframe thead th {\n",
       "        text-align: right;\n",
       "    }\n",
       "</style>\n",
       "<table border=\"1\" class=\"dataframe\">\n",
       "  <thead>\n",
       "    <tr style=\"text-align: right;\">\n",
       "      <th></th>\n",
       "      <th>emissions</th>\n",
       "    </tr>\n",
       "  </thead>\n",
       "  <tbody>\n",
       "    <tr>\n",
       "      <th>count</th>\n",
       "      <td>1526.000000</td>\n",
       "    </tr>\n",
       "    <tr>\n",
       "      <th>mean</th>\n",
       "      <td>331.984226</td>\n",
       "    </tr>\n",
       "    <tr>\n",
       "      <th>std</th>\n",
       "      <td>1451.481353</td>\n",
       "    </tr>\n",
       "    <tr>\n",
       "      <th>min</th>\n",
       "      <td>0.000459</td>\n",
       "    </tr>\n",
       "    <tr>\n",
       "      <th>25%</th>\n",
       "      <td>2.588755</td>\n",
       "    </tr>\n",
       "    <tr>\n",
       "      <th>50%</th>\n",
       "      <td>22.501150</td>\n",
       "    </tr>\n",
       "    <tr>\n",
       "      <th>75%</th>\n",
       "      <td>114.979780</td>\n",
       "    </tr>\n",
       "    <tr>\n",
       "      <th>max</th>\n",
       "      <td>25372.222656</td>\n",
       "    </tr>\n",
       "  </tbody>\n",
       "</table>\n",
       "</div>"
      ],
      "text/plain": [
       "          emissions\n",
       "count   1526.000000\n",
       "mean     331.984226\n",
       "std     1451.481353\n",
       "min        0.000459\n",
       "25%        2.588755\n",
       "50%       22.501150\n",
       "75%      114.979780\n",
       "max    25372.222656"
      ]
     },
     "execution_count": 561,
     "metadata": {},
     "output_type": "execute_result"
    }
   ],
   "source": [
    "df.describe()"
   ]
  },
  {
   "cell_type": "code",
   "execution_count": 562,
   "metadata": {},
   "outputs": [
    {
     "data": {
      "text/html": [
       "<div>\n",
       "<style scoped>\n",
       "    .dataframe tbody tr th:only-of-type {\n",
       "        vertical-align: middle;\n",
       "    }\n",
       "\n",
       "    .dataframe tbody tr th {\n",
       "        vertical-align: top;\n",
       "    }\n",
       "\n",
       "    .dataframe thead th {\n",
       "        text-align: right;\n",
       "    }\n",
       "</style>\n",
       "<table border=\"1\" class=\"dataframe\">\n",
       "  <thead>\n",
       "    <tr style=\"text-align: right;\">\n",
       "      <th></th>\n",
       "      <th>Segment</th>\n",
       "      <th>Emissions</th>\n",
       "    </tr>\n",
       "  </thead>\n",
       "  <tbody>\n",
       "    <tr>\n",
       "      <th>0</th>\n",
       "      <td>Onshore oil</td>\n",
       "      <td>34332.783240</td>\n",
       "    </tr>\n",
       "    <tr>\n",
       "      <th>1</th>\n",
       "      <td>Steam coal</td>\n",
       "      <td>30047.273344</td>\n",
       "    </tr>\n",
       "    <tr>\n",
       "      <th>2</th>\n",
       "      <td>Onshore gas</td>\n",
       "      <td>18097.597573</td>\n",
       "    </tr>\n",
       "    <tr>\n",
       "      <th>3</th>\n",
       "      <td>Gas pipelines and LNG facilities</td>\n",
       "      <td>12639.023727</td>\n",
       "    </tr>\n",
       "    <tr>\n",
       "      <th>4</th>\n",
       "      <td>Coking coal</td>\n",
       "      <td>10313.157684</td>\n",
       "    </tr>\n",
       "    <tr>\n",
       "      <th>5</th>\n",
       "      <td>Bioenergy</td>\n",
       "      <td>9926.408038</td>\n",
       "    </tr>\n",
       "    <tr>\n",
       "      <th>6</th>\n",
       "      <td>Offshore oil</td>\n",
       "      <td>8349.611860</td>\n",
       "    </tr>\n",
       "    <tr>\n",
       "      <th>7</th>\n",
       "      <td>Offshore gas</td>\n",
       "      <td>4342.396777</td>\n",
       "    </tr>\n",
       "    <tr>\n",
       "      <th>8</th>\n",
       "      <td>Satellite-detected large oil and gas emissions</td>\n",
       "      <td>3106.400007</td>\n",
       "    </tr>\n",
       "    <tr>\n",
       "      <th>9</th>\n",
       "      <td>Other from oil and gas</td>\n",
       "      <td>2493.177699</td>\n",
       "    </tr>\n",
       "    <tr>\n",
       "      <th>10</th>\n",
       "      <td>Other from coal</td>\n",
       "      <td>1699.342014</td>\n",
       "    </tr>\n",
       "  </tbody>\n",
       "</table>\n",
       "</div>"
      ],
      "text/plain": [
       "                                           Segment     Emissions\n",
       "0                                      Onshore oil  34332.783240\n",
       "1                                       Steam coal  30047.273344\n",
       "2                                      Onshore gas  18097.597573\n",
       "3                 Gas pipelines and LNG facilities  12639.023727\n",
       "4                                      Coking coal  10313.157684\n",
       "5                                        Bioenergy   9926.408038\n",
       "6                                     Offshore oil   8349.611860\n",
       "7                                     Offshore gas   4342.396777\n",
       "8   Satellite-detected large oil and gas emissions   3106.400007\n",
       "9                           Other from oil and gas   2493.177699\n",
       "10                                 Other from coal   1699.342014"
      ]
     },
     "execution_count": 562,
     "metadata": {},
     "output_type": "execute_result"
    }
   ],
   "source": [
    "query = \"SELECT segment as Segment, SUM(emissions) as Emissions FROM methane WHERE region IS NOT 'World' AND segment IS NOT 'Total' GROUP BY segment ORDER BY Emissions desc\"\n",
    "cursor.execute(query)\n",
    "segment=pd.DataFrame(cursor.fetchall(),columns=['Segment', 'Emissions'])\n",
    "segment"
   ]
  },
  {
   "cell_type": "code",
   "execution_count": 563,
   "metadata": {},
   "outputs": [
    {
     "data": {
      "application/vnd.plotly.v1+json": {
       "config": {
        "plotlyServerURL": "https://plot.ly"
       },
       "data": [
        {
         "alignmentgroup": "True",
         "hovertemplate": "Segment=%{x}<br>Emissions=%{y}<extra></extra>",
         "legendgroup": "Onshore oil",
         "marker": {
          "color": "#636efa",
          "opacity": 0.8,
          "pattern": {
           "shape": ""
          }
         },
         "name": "Onshore oil",
         "offsetgroup": "Onshore oil",
         "orientation": "v",
         "showlegend": true,
         "textposition": "auto",
         "type": "bar",
         "x": [
          "Onshore oil"
         ],
         "xaxis": "x",
         "y": [
          34332.783240311546
         ],
         "yaxis": "y"
        },
        {
         "alignmentgroup": "True",
         "hovertemplate": "Segment=%{x}<br>Emissions=%{y}<extra></extra>",
         "legendgroup": "Steam coal",
         "marker": {
          "color": "#EF553B",
          "opacity": 0.8,
          "pattern": {
           "shape": ""
          }
         },
         "name": "Steam coal",
         "offsetgroup": "Steam coal",
         "orientation": "v",
         "showlegend": true,
         "textposition": "auto",
         "type": "bar",
         "x": [
          "Steam coal"
         ],
         "xaxis": "x",
         "y": [
          30047.273343540728
         ],
         "yaxis": "y"
        },
        {
         "alignmentgroup": "True",
         "hovertemplate": "Segment=%{x}<br>Emissions=%{y}<extra></extra>",
         "legendgroup": "Onshore gas",
         "marker": {
          "color": "#00cc96",
          "opacity": 0.8,
          "pattern": {
           "shape": ""
          }
         },
         "name": "Onshore gas",
         "offsetgroup": "Onshore gas",
         "orientation": "v",
         "showlegend": true,
         "textposition": "auto",
         "type": "bar",
         "x": [
          "Onshore gas"
         ],
         "xaxis": "x",
         "y": [
          18097.597572999308
         ],
         "yaxis": "y"
        },
        {
         "alignmentgroup": "True",
         "hovertemplate": "Segment=%{x}<br>Emissions=%{y}<extra></extra>",
         "legendgroup": "Gas pipelines and LNG facilities",
         "marker": {
          "color": "#ab63fa",
          "opacity": 0.8,
          "pattern": {
           "shape": ""
          }
         },
         "name": "Gas pipelines and LNG facilities",
         "offsetgroup": "Gas pipelines and LNG facilities",
         "orientation": "v",
         "showlegend": true,
         "textposition": "auto",
         "type": "bar",
         "x": [
          "Gas pipelines and LNG facilities"
         ],
         "xaxis": "x",
         "y": [
          12639.023727074265
         ],
         "yaxis": "y"
        },
        {
         "alignmentgroup": "True",
         "hovertemplate": "Segment=%{x}<br>Emissions=%{y}<extra></extra>",
         "legendgroup": "Coking coal",
         "marker": {
          "color": "#FFA15A",
          "opacity": 0.8,
          "pattern": {
           "shape": ""
          }
         },
         "name": "Coking coal",
         "offsetgroup": "Coking coal",
         "orientation": "v",
         "showlegend": true,
         "textposition": "auto",
         "type": "bar",
         "x": [
          "Coking coal"
         ],
         "xaxis": "x",
         "y": [
          10313.157683730125
         ],
         "yaxis": "y"
        },
        {
         "alignmentgroup": "True",
         "hovertemplate": "Segment=%{x}<br>Emissions=%{y}<extra></extra>",
         "legendgroup": "Bioenergy",
         "marker": {
          "color": "#19d3f3",
          "opacity": 0.8,
          "pattern": {
           "shape": ""
          }
         },
         "name": "Bioenergy",
         "offsetgroup": "Bioenergy",
         "orientation": "v",
         "showlegend": true,
         "textposition": "auto",
         "type": "bar",
         "x": [
          "Bioenergy"
         ],
         "xaxis": "x",
         "y": [
          9926.408037604764
         ],
         "yaxis": "y"
        },
        {
         "alignmentgroup": "True",
         "hovertemplate": "Segment=%{x}<br>Emissions=%{y}<extra></extra>",
         "legendgroup": "Offshore oil",
         "marker": {
          "color": "#FF6692",
          "opacity": 0.8,
          "pattern": {
           "shape": ""
          }
         },
         "name": "Offshore oil",
         "offsetgroup": "Offshore oil",
         "orientation": "v",
         "showlegend": true,
         "textposition": "auto",
         "type": "bar",
         "x": [
          "Offshore oil"
         ],
         "xaxis": "x",
         "y": [
          8349.611860015022
         ],
         "yaxis": "y"
        },
        {
         "alignmentgroup": "True",
         "hovertemplate": "Segment=%{x}<br>Emissions=%{y}<extra></extra>",
         "legendgroup": "Offshore gas",
         "marker": {
          "color": "#B6E880",
          "opacity": 0.8,
          "pattern": {
           "shape": ""
          }
         },
         "name": "Offshore gas",
         "offsetgroup": "Offshore gas",
         "orientation": "v",
         "showlegend": true,
         "textposition": "auto",
         "type": "bar",
         "x": [
          "Offshore gas"
         ],
         "xaxis": "x",
         "y": [
          4342.3967769229785
         ],
         "yaxis": "y"
        },
        {
         "alignmentgroup": "True",
         "hovertemplate": "Segment=%{x}<br>Emissions=%{y}<extra></extra>",
         "legendgroup": "Satellite-detected large oil and gas emissions",
         "marker": {
          "color": "#FF97FF",
          "opacity": 0.8,
          "pattern": {
           "shape": ""
          }
         },
         "name": "Satellite-detected large oil and gas emissions",
         "offsetgroup": "Satellite-detected large oil and gas emissions",
         "orientation": "v",
         "showlegend": true,
         "textposition": "auto",
         "type": "bar",
         "x": [
          "Satellite-detected large oil and gas emissions"
         ],
         "xaxis": "x",
         "y": [
          3106.4000066518784
         ],
         "yaxis": "y"
        },
        {
         "alignmentgroup": "True",
         "hovertemplate": "Segment=%{x}<br>Emissions=%{y}<extra></extra>",
         "legendgroup": "Other from oil and gas",
         "marker": {
          "color": "#FECB52",
          "opacity": 0.8,
          "pattern": {
           "shape": ""
          }
         },
         "name": "Other from oil and gas",
         "offsetgroup": "Other from oil and gas",
         "orientation": "v",
         "showlegend": true,
         "textposition": "auto",
         "type": "bar",
         "x": [
          "Other from oil and gas"
         ],
         "xaxis": "x",
         "y": [
          2493.177698748652
         ],
         "yaxis": "y"
        },
        {
         "alignmentgroup": "True",
         "hovertemplate": "Segment=%{x}<br>Emissions=%{y}<extra></extra>",
         "legendgroup": "Other from coal",
         "marker": {
          "color": "#636efa",
          "opacity": 0.8,
          "pattern": {
           "shape": ""
          }
         },
         "name": "Other from coal",
         "offsetgroup": "Other from coal",
         "orientation": "v",
         "showlegend": true,
         "textposition": "auto",
         "type": "bar",
         "x": [
          "Other from coal"
         ],
         "xaxis": "x",
         "y": [
          1699.342014349997
         ],
         "yaxis": "y"
        }
       ],
       "layout": {
        "barmode": "relative",
        "height": 600,
        "legend": {
         "title": {
          "text": "Segment"
         },
         "tracegroupgap": 0
        },
        "margin": {
         "t": 60
        },
        "template": {
         "data": {
          "bar": [
           {
            "error_x": {
             "color": "#2a3f5f"
            },
            "error_y": {
             "color": "#2a3f5f"
            },
            "marker": {
             "line": {
              "color": "#E5ECF6",
              "width": 0.5
             },
             "pattern": {
              "fillmode": "overlay",
              "size": 10,
              "solidity": 0.2
             }
            },
            "type": "bar"
           }
          ],
          "barpolar": [
           {
            "marker": {
             "line": {
              "color": "#E5ECF6",
              "width": 0.5
             },
             "pattern": {
              "fillmode": "overlay",
              "size": 10,
              "solidity": 0.2
             }
            },
            "type": "barpolar"
           }
          ],
          "carpet": [
           {
            "aaxis": {
             "endlinecolor": "#2a3f5f",
             "gridcolor": "white",
             "linecolor": "white",
             "minorgridcolor": "white",
             "startlinecolor": "#2a3f5f"
            },
            "baxis": {
             "endlinecolor": "#2a3f5f",
             "gridcolor": "white",
             "linecolor": "white",
             "minorgridcolor": "white",
             "startlinecolor": "#2a3f5f"
            },
            "type": "carpet"
           }
          ],
          "choropleth": [
           {
            "colorbar": {
             "outlinewidth": 0,
             "ticks": ""
            },
            "type": "choropleth"
           }
          ],
          "contour": [
           {
            "colorbar": {
             "outlinewidth": 0,
             "ticks": ""
            },
            "colorscale": [
             [
              0,
              "#0d0887"
             ],
             [
              0.1111111111111111,
              "#46039f"
             ],
             [
              0.2222222222222222,
              "#7201a8"
             ],
             [
              0.3333333333333333,
              "#9c179e"
             ],
             [
              0.4444444444444444,
              "#bd3786"
             ],
             [
              0.5555555555555556,
              "#d8576b"
             ],
             [
              0.6666666666666666,
              "#ed7953"
             ],
             [
              0.7777777777777778,
              "#fb9f3a"
             ],
             [
              0.8888888888888888,
              "#fdca26"
             ],
             [
              1,
              "#f0f921"
             ]
            ],
            "type": "contour"
           }
          ],
          "contourcarpet": [
           {
            "colorbar": {
             "outlinewidth": 0,
             "ticks": ""
            },
            "type": "contourcarpet"
           }
          ],
          "heatmap": [
           {
            "colorbar": {
             "outlinewidth": 0,
             "ticks": ""
            },
            "colorscale": [
             [
              0,
              "#0d0887"
             ],
             [
              0.1111111111111111,
              "#46039f"
             ],
             [
              0.2222222222222222,
              "#7201a8"
             ],
             [
              0.3333333333333333,
              "#9c179e"
             ],
             [
              0.4444444444444444,
              "#bd3786"
             ],
             [
              0.5555555555555556,
              "#d8576b"
             ],
             [
              0.6666666666666666,
              "#ed7953"
             ],
             [
              0.7777777777777778,
              "#fb9f3a"
             ],
             [
              0.8888888888888888,
              "#fdca26"
             ],
             [
              1,
              "#f0f921"
             ]
            ],
            "type": "heatmap"
           }
          ],
          "heatmapgl": [
           {
            "colorbar": {
             "outlinewidth": 0,
             "ticks": ""
            },
            "colorscale": [
             [
              0,
              "#0d0887"
             ],
             [
              0.1111111111111111,
              "#46039f"
             ],
             [
              0.2222222222222222,
              "#7201a8"
             ],
             [
              0.3333333333333333,
              "#9c179e"
             ],
             [
              0.4444444444444444,
              "#bd3786"
             ],
             [
              0.5555555555555556,
              "#d8576b"
             ],
             [
              0.6666666666666666,
              "#ed7953"
             ],
             [
              0.7777777777777778,
              "#fb9f3a"
             ],
             [
              0.8888888888888888,
              "#fdca26"
             ],
             [
              1,
              "#f0f921"
             ]
            ],
            "type": "heatmapgl"
           }
          ],
          "histogram": [
           {
            "marker": {
             "pattern": {
              "fillmode": "overlay",
              "size": 10,
              "solidity": 0.2
             }
            },
            "type": "histogram"
           }
          ],
          "histogram2d": [
           {
            "colorbar": {
             "outlinewidth": 0,
             "ticks": ""
            },
            "colorscale": [
             [
              0,
              "#0d0887"
             ],
             [
              0.1111111111111111,
              "#46039f"
             ],
             [
              0.2222222222222222,
              "#7201a8"
             ],
             [
              0.3333333333333333,
              "#9c179e"
             ],
             [
              0.4444444444444444,
              "#bd3786"
             ],
             [
              0.5555555555555556,
              "#d8576b"
             ],
             [
              0.6666666666666666,
              "#ed7953"
             ],
             [
              0.7777777777777778,
              "#fb9f3a"
             ],
             [
              0.8888888888888888,
              "#fdca26"
             ],
             [
              1,
              "#f0f921"
             ]
            ],
            "type": "histogram2d"
           }
          ],
          "histogram2dcontour": [
           {
            "colorbar": {
             "outlinewidth": 0,
             "ticks": ""
            },
            "colorscale": [
             [
              0,
              "#0d0887"
             ],
             [
              0.1111111111111111,
              "#46039f"
             ],
             [
              0.2222222222222222,
              "#7201a8"
             ],
             [
              0.3333333333333333,
              "#9c179e"
             ],
             [
              0.4444444444444444,
              "#bd3786"
             ],
             [
              0.5555555555555556,
              "#d8576b"
             ],
             [
              0.6666666666666666,
              "#ed7953"
             ],
             [
              0.7777777777777778,
              "#fb9f3a"
             ],
             [
              0.8888888888888888,
              "#fdca26"
             ],
             [
              1,
              "#f0f921"
             ]
            ],
            "type": "histogram2dcontour"
           }
          ],
          "mesh3d": [
           {
            "colorbar": {
             "outlinewidth": 0,
             "ticks": ""
            },
            "type": "mesh3d"
           }
          ],
          "parcoords": [
           {
            "line": {
             "colorbar": {
              "outlinewidth": 0,
              "ticks": ""
             }
            },
            "type": "parcoords"
           }
          ],
          "pie": [
           {
            "automargin": true,
            "type": "pie"
           }
          ],
          "scatter": [
           {
            "fillpattern": {
             "fillmode": "overlay",
             "size": 10,
             "solidity": 0.2
            },
            "type": "scatter"
           }
          ],
          "scatter3d": [
           {
            "line": {
             "colorbar": {
              "outlinewidth": 0,
              "ticks": ""
             }
            },
            "marker": {
             "colorbar": {
              "outlinewidth": 0,
              "ticks": ""
             }
            },
            "type": "scatter3d"
           }
          ],
          "scattercarpet": [
           {
            "marker": {
             "colorbar": {
              "outlinewidth": 0,
              "ticks": ""
             }
            },
            "type": "scattercarpet"
           }
          ],
          "scattergeo": [
           {
            "marker": {
             "colorbar": {
              "outlinewidth": 0,
              "ticks": ""
             }
            },
            "type": "scattergeo"
           }
          ],
          "scattergl": [
           {
            "marker": {
             "colorbar": {
              "outlinewidth": 0,
              "ticks": ""
             }
            },
            "type": "scattergl"
           }
          ],
          "scattermapbox": [
           {
            "marker": {
             "colorbar": {
              "outlinewidth": 0,
              "ticks": ""
             }
            },
            "type": "scattermapbox"
           }
          ],
          "scatterpolar": [
           {
            "marker": {
             "colorbar": {
              "outlinewidth": 0,
              "ticks": ""
             }
            },
            "type": "scatterpolar"
           }
          ],
          "scatterpolargl": [
           {
            "marker": {
             "colorbar": {
              "outlinewidth": 0,
              "ticks": ""
             }
            },
            "type": "scatterpolargl"
           }
          ],
          "scatterternary": [
           {
            "marker": {
             "colorbar": {
              "outlinewidth": 0,
              "ticks": ""
             }
            },
            "type": "scatterternary"
           }
          ],
          "surface": [
           {
            "colorbar": {
             "outlinewidth": 0,
             "ticks": ""
            },
            "colorscale": [
             [
              0,
              "#0d0887"
             ],
             [
              0.1111111111111111,
              "#46039f"
             ],
             [
              0.2222222222222222,
              "#7201a8"
             ],
             [
              0.3333333333333333,
              "#9c179e"
             ],
             [
              0.4444444444444444,
              "#bd3786"
             ],
             [
              0.5555555555555556,
              "#d8576b"
             ],
             [
              0.6666666666666666,
              "#ed7953"
             ],
             [
              0.7777777777777778,
              "#fb9f3a"
             ],
             [
              0.8888888888888888,
              "#fdca26"
             ],
             [
              1,
              "#f0f921"
             ]
            ],
            "type": "surface"
           }
          ],
          "table": [
           {
            "cells": {
             "fill": {
              "color": "#EBF0F8"
             },
             "line": {
              "color": "white"
             }
            },
            "header": {
             "fill": {
              "color": "#C8D4E3"
             },
             "line": {
              "color": "white"
             }
            },
            "type": "table"
           }
          ]
         },
         "layout": {
          "annotationdefaults": {
           "arrowcolor": "#2a3f5f",
           "arrowhead": 0,
           "arrowwidth": 1
          },
          "autotypenumbers": "strict",
          "coloraxis": {
           "colorbar": {
            "outlinewidth": 0,
            "ticks": ""
           }
          },
          "colorscale": {
           "diverging": [
            [
             0,
             "#8e0152"
            ],
            [
             0.1,
             "#c51b7d"
            ],
            [
             0.2,
             "#de77ae"
            ],
            [
             0.3,
             "#f1b6da"
            ],
            [
             0.4,
             "#fde0ef"
            ],
            [
             0.5,
             "#f7f7f7"
            ],
            [
             0.6,
             "#e6f5d0"
            ],
            [
             0.7,
             "#b8e186"
            ],
            [
             0.8,
             "#7fbc41"
            ],
            [
             0.9,
             "#4d9221"
            ],
            [
             1,
             "#276419"
            ]
           ],
           "sequential": [
            [
             0,
             "#0d0887"
            ],
            [
             0.1111111111111111,
             "#46039f"
            ],
            [
             0.2222222222222222,
             "#7201a8"
            ],
            [
             0.3333333333333333,
             "#9c179e"
            ],
            [
             0.4444444444444444,
             "#bd3786"
            ],
            [
             0.5555555555555556,
             "#d8576b"
            ],
            [
             0.6666666666666666,
             "#ed7953"
            ],
            [
             0.7777777777777778,
             "#fb9f3a"
            ],
            [
             0.8888888888888888,
             "#fdca26"
            ],
            [
             1,
             "#f0f921"
            ]
           ],
           "sequentialminus": [
            [
             0,
             "#0d0887"
            ],
            [
             0.1111111111111111,
             "#46039f"
            ],
            [
             0.2222222222222222,
             "#7201a8"
            ],
            [
             0.3333333333333333,
             "#9c179e"
            ],
            [
             0.4444444444444444,
             "#bd3786"
            ],
            [
             0.5555555555555556,
             "#d8576b"
            ],
            [
             0.6666666666666666,
             "#ed7953"
            ],
            [
             0.7777777777777778,
             "#fb9f3a"
            ],
            [
             0.8888888888888888,
             "#fdca26"
            ],
            [
             1,
             "#f0f921"
            ]
           ]
          },
          "colorway": [
           "#636efa",
           "#EF553B",
           "#00cc96",
           "#ab63fa",
           "#FFA15A",
           "#19d3f3",
           "#FF6692",
           "#B6E880",
           "#FF97FF",
           "#FECB52"
          ],
          "font": {
           "color": "#2a3f5f"
          },
          "geo": {
           "bgcolor": "white",
           "lakecolor": "white",
           "landcolor": "#E5ECF6",
           "showlakes": true,
           "showland": true,
           "subunitcolor": "white"
          },
          "hoverlabel": {
           "align": "left"
          },
          "hovermode": "closest",
          "mapbox": {
           "style": "light"
          },
          "paper_bgcolor": "white",
          "plot_bgcolor": "#E5ECF6",
          "polar": {
           "angularaxis": {
            "gridcolor": "white",
            "linecolor": "white",
            "ticks": ""
           },
           "bgcolor": "#E5ECF6",
           "radialaxis": {
            "gridcolor": "white",
            "linecolor": "white",
            "ticks": ""
           }
          },
          "scene": {
           "xaxis": {
            "backgroundcolor": "#E5ECF6",
            "gridcolor": "white",
            "gridwidth": 2,
            "linecolor": "white",
            "showbackground": true,
            "ticks": "",
            "zerolinecolor": "white"
           },
           "yaxis": {
            "backgroundcolor": "#E5ECF6",
            "gridcolor": "white",
            "gridwidth": 2,
            "linecolor": "white",
            "showbackground": true,
            "ticks": "",
            "zerolinecolor": "white"
           },
           "zaxis": {
            "backgroundcolor": "#E5ECF6",
            "gridcolor": "white",
            "gridwidth": 2,
            "linecolor": "white",
            "showbackground": true,
            "ticks": "",
            "zerolinecolor": "white"
           }
          },
          "shapedefaults": {
           "line": {
            "color": "#2a3f5f"
           }
          },
          "ternary": {
           "aaxis": {
            "gridcolor": "white",
            "linecolor": "white",
            "ticks": ""
           },
           "baxis": {
            "gridcolor": "white",
            "linecolor": "white",
            "ticks": ""
           },
           "bgcolor": "#E5ECF6",
           "caxis": {
            "gridcolor": "white",
            "linecolor": "white",
            "ticks": ""
           }
          },
          "title": {
           "x": 0.05
          },
          "xaxis": {
           "automargin": true,
           "gridcolor": "white",
           "linecolor": "white",
           "ticks": "",
           "title": {
            "standoff": 15
           },
           "zerolinecolor": "white",
           "zerolinewidth": 2
          },
          "yaxis": {
           "automargin": true,
           "gridcolor": "white",
           "linecolor": "white",
           "ticks": "",
           "title": {
            "standoff": 15
           },
           "zerolinecolor": "white",
           "zerolinewidth": 2
          }
         }
        },
        "title": {
         "font": {
          "size": 24
         },
         "text": "Emissions divided by segments",
         "x": 0.5
        },
        "width": 1080,
        "xaxis": {
         "anchor": "y",
         "categoryarray": [
          "Onshore oil",
          "Steam coal",
          "Onshore gas",
          "Gas pipelines and LNG facilities",
          "Coking coal",
          "Bioenergy",
          "Offshore oil",
          "Offshore gas",
          "Satellite-detected large oil and gas emissions",
          "Other from oil and gas",
          "Other from coal"
         ],
         "categoryorder": "array",
         "domain": [
          0,
          1
         ],
         "showticklabels": false,
         "tickangle": 0,
         "title": {
          "text": "Segment"
         }
        },
        "yaxis": {
         "anchor": "x",
         "domain": [
          0,
          1
         ],
         "title": {
          "text": "Emissions"
         }
        }
       }
      }
     },
     "metadata": {},
     "output_type": "display_data"
    }
   ],
   "source": [
    "fig = px.bar(segment, x='Segment', y='Emissions', color='Segment',\n",
    "              opacity=0.8)\n",
    "fig.update_layout(title='Emissions divided by segments', xaxis_title='Segment',\n",
    "                  yaxis_title='Emissions', xaxis_tickangle=0,title_font_size=24)\n",
    "fig.update_xaxes(showticklabels=False)\n",
    "\n",
    "fig.update_layout(height=600, width=1080)\n",
    "# Center the title\n",
    "fig.update_layout(title_x=0.5)\n",
    "fig.show()"
   ]
  },
  {
   "cell_type": "code",
   "execution_count": 564,
   "metadata": {},
   "outputs": [
    {
     "data": {
      "application/vnd.plotly.v1+json": {
       "config": {
        "plotlyServerURL": "https://plot.ly"
       },
       "data": [
        {
         "hoverinfo": "percent",
         "labels": [
          "Onshore oil",
          "Steam coal",
          "Onshore gas",
          "Gas pipelines and LNG facilities",
          "Coking coal",
          "Bioenergy",
          "Offshore oil",
          "Offshore gas",
          "Satellite-detected large oil and gas emissions",
          "Other from oil and gas",
          "Other from coal"
         ],
         "textfont": {
          "size": 14
         },
         "textinfo": "percent",
         "type": "pie",
         "values": [
          34332.783240311546,
          30047.273343540728,
          18097.597572999308,
          12639.023727074265,
          10313.157683730125,
          9926.408037604764,
          8349.611860015022,
          4342.3967769229785,
          3106.4000066518784,
          2493.177698748652,
          1699.342014349997
         ]
        }
       ],
       "layout": {
        "height": 600,
        "legend": {
         "orientation": "v",
         "title": {
          "text": "Countries"
         },
         "x": 1,
         "xanchor": "left",
         "y": 0.8,
         "yanchor": "top"
        },
        "template": {
         "data": {
          "bar": [
           {
            "error_x": {
             "color": "#2a3f5f"
            },
            "error_y": {
             "color": "#2a3f5f"
            },
            "marker": {
             "line": {
              "color": "#E5ECF6",
              "width": 0.5
             },
             "pattern": {
              "fillmode": "overlay",
              "size": 10,
              "solidity": 0.2
             }
            },
            "type": "bar"
           }
          ],
          "barpolar": [
           {
            "marker": {
             "line": {
              "color": "#E5ECF6",
              "width": 0.5
             },
             "pattern": {
              "fillmode": "overlay",
              "size": 10,
              "solidity": 0.2
             }
            },
            "type": "barpolar"
           }
          ],
          "carpet": [
           {
            "aaxis": {
             "endlinecolor": "#2a3f5f",
             "gridcolor": "white",
             "linecolor": "white",
             "minorgridcolor": "white",
             "startlinecolor": "#2a3f5f"
            },
            "baxis": {
             "endlinecolor": "#2a3f5f",
             "gridcolor": "white",
             "linecolor": "white",
             "minorgridcolor": "white",
             "startlinecolor": "#2a3f5f"
            },
            "type": "carpet"
           }
          ],
          "choropleth": [
           {
            "colorbar": {
             "outlinewidth": 0,
             "ticks": ""
            },
            "type": "choropleth"
           }
          ],
          "contour": [
           {
            "colorbar": {
             "outlinewidth": 0,
             "ticks": ""
            },
            "colorscale": [
             [
              0,
              "#0d0887"
             ],
             [
              0.1111111111111111,
              "#46039f"
             ],
             [
              0.2222222222222222,
              "#7201a8"
             ],
             [
              0.3333333333333333,
              "#9c179e"
             ],
             [
              0.4444444444444444,
              "#bd3786"
             ],
             [
              0.5555555555555556,
              "#d8576b"
             ],
             [
              0.6666666666666666,
              "#ed7953"
             ],
             [
              0.7777777777777778,
              "#fb9f3a"
             ],
             [
              0.8888888888888888,
              "#fdca26"
             ],
             [
              1,
              "#f0f921"
             ]
            ],
            "type": "contour"
           }
          ],
          "contourcarpet": [
           {
            "colorbar": {
             "outlinewidth": 0,
             "ticks": ""
            },
            "type": "contourcarpet"
           }
          ],
          "heatmap": [
           {
            "colorbar": {
             "outlinewidth": 0,
             "ticks": ""
            },
            "colorscale": [
             [
              0,
              "#0d0887"
             ],
             [
              0.1111111111111111,
              "#46039f"
             ],
             [
              0.2222222222222222,
              "#7201a8"
             ],
             [
              0.3333333333333333,
              "#9c179e"
             ],
             [
              0.4444444444444444,
              "#bd3786"
             ],
             [
              0.5555555555555556,
              "#d8576b"
             ],
             [
              0.6666666666666666,
              "#ed7953"
             ],
             [
              0.7777777777777778,
              "#fb9f3a"
             ],
             [
              0.8888888888888888,
              "#fdca26"
             ],
             [
              1,
              "#f0f921"
             ]
            ],
            "type": "heatmap"
           }
          ],
          "heatmapgl": [
           {
            "colorbar": {
             "outlinewidth": 0,
             "ticks": ""
            },
            "colorscale": [
             [
              0,
              "#0d0887"
             ],
             [
              0.1111111111111111,
              "#46039f"
             ],
             [
              0.2222222222222222,
              "#7201a8"
             ],
             [
              0.3333333333333333,
              "#9c179e"
             ],
             [
              0.4444444444444444,
              "#bd3786"
             ],
             [
              0.5555555555555556,
              "#d8576b"
             ],
             [
              0.6666666666666666,
              "#ed7953"
             ],
             [
              0.7777777777777778,
              "#fb9f3a"
             ],
             [
              0.8888888888888888,
              "#fdca26"
             ],
             [
              1,
              "#f0f921"
             ]
            ],
            "type": "heatmapgl"
           }
          ],
          "histogram": [
           {
            "marker": {
             "pattern": {
              "fillmode": "overlay",
              "size": 10,
              "solidity": 0.2
             }
            },
            "type": "histogram"
           }
          ],
          "histogram2d": [
           {
            "colorbar": {
             "outlinewidth": 0,
             "ticks": ""
            },
            "colorscale": [
             [
              0,
              "#0d0887"
             ],
             [
              0.1111111111111111,
              "#46039f"
             ],
             [
              0.2222222222222222,
              "#7201a8"
             ],
             [
              0.3333333333333333,
              "#9c179e"
             ],
             [
              0.4444444444444444,
              "#bd3786"
             ],
             [
              0.5555555555555556,
              "#d8576b"
             ],
             [
              0.6666666666666666,
              "#ed7953"
             ],
             [
              0.7777777777777778,
              "#fb9f3a"
             ],
             [
              0.8888888888888888,
              "#fdca26"
             ],
             [
              1,
              "#f0f921"
             ]
            ],
            "type": "histogram2d"
           }
          ],
          "histogram2dcontour": [
           {
            "colorbar": {
             "outlinewidth": 0,
             "ticks": ""
            },
            "colorscale": [
             [
              0,
              "#0d0887"
             ],
             [
              0.1111111111111111,
              "#46039f"
             ],
             [
              0.2222222222222222,
              "#7201a8"
             ],
             [
              0.3333333333333333,
              "#9c179e"
             ],
             [
              0.4444444444444444,
              "#bd3786"
             ],
             [
              0.5555555555555556,
              "#d8576b"
             ],
             [
              0.6666666666666666,
              "#ed7953"
             ],
             [
              0.7777777777777778,
              "#fb9f3a"
             ],
             [
              0.8888888888888888,
              "#fdca26"
             ],
             [
              1,
              "#f0f921"
             ]
            ],
            "type": "histogram2dcontour"
           }
          ],
          "mesh3d": [
           {
            "colorbar": {
             "outlinewidth": 0,
             "ticks": ""
            },
            "type": "mesh3d"
           }
          ],
          "parcoords": [
           {
            "line": {
             "colorbar": {
              "outlinewidth": 0,
              "ticks": ""
             }
            },
            "type": "parcoords"
           }
          ],
          "pie": [
           {
            "automargin": true,
            "type": "pie"
           }
          ],
          "scatter": [
           {
            "fillpattern": {
             "fillmode": "overlay",
             "size": 10,
             "solidity": 0.2
            },
            "type": "scatter"
           }
          ],
          "scatter3d": [
           {
            "line": {
             "colorbar": {
              "outlinewidth": 0,
              "ticks": ""
             }
            },
            "marker": {
             "colorbar": {
              "outlinewidth": 0,
              "ticks": ""
             }
            },
            "type": "scatter3d"
           }
          ],
          "scattercarpet": [
           {
            "marker": {
             "colorbar": {
              "outlinewidth": 0,
              "ticks": ""
             }
            },
            "type": "scattercarpet"
           }
          ],
          "scattergeo": [
           {
            "marker": {
             "colorbar": {
              "outlinewidth": 0,
              "ticks": ""
             }
            },
            "type": "scattergeo"
           }
          ],
          "scattergl": [
           {
            "marker": {
             "colorbar": {
              "outlinewidth": 0,
              "ticks": ""
             }
            },
            "type": "scattergl"
           }
          ],
          "scattermapbox": [
           {
            "marker": {
             "colorbar": {
              "outlinewidth": 0,
              "ticks": ""
             }
            },
            "type": "scattermapbox"
           }
          ],
          "scatterpolar": [
           {
            "marker": {
             "colorbar": {
              "outlinewidth": 0,
              "ticks": ""
             }
            },
            "type": "scatterpolar"
           }
          ],
          "scatterpolargl": [
           {
            "marker": {
             "colorbar": {
              "outlinewidth": 0,
              "ticks": ""
             }
            },
            "type": "scatterpolargl"
           }
          ],
          "scatterternary": [
           {
            "marker": {
             "colorbar": {
              "outlinewidth": 0,
              "ticks": ""
             }
            },
            "type": "scatterternary"
           }
          ],
          "surface": [
           {
            "colorbar": {
             "outlinewidth": 0,
             "ticks": ""
            },
            "colorscale": [
             [
              0,
              "#0d0887"
             ],
             [
              0.1111111111111111,
              "#46039f"
             ],
             [
              0.2222222222222222,
              "#7201a8"
             ],
             [
              0.3333333333333333,
              "#9c179e"
             ],
             [
              0.4444444444444444,
              "#bd3786"
             ],
             [
              0.5555555555555556,
              "#d8576b"
             ],
             [
              0.6666666666666666,
              "#ed7953"
             ],
             [
              0.7777777777777778,
              "#fb9f3a"
             ],
             [
              0.8888888888888888,
              "#fdca26"
             ],
             [
              1,
              "#f0f921"
             ]
            ],
            "type": "surface"
           }
          ],
          "table": [
           {
            "cells": {
             "fill": {
              "color": "#EBF0F8"
             },
             "line": {
              "color": "white"
             }
            },
            "header": {
             "fill": {
              "color": "#C8D4E3"
             },
             "line": {
              "color": "white"
             }
            },
            "type": "table"
           }
          ]
         },
         "layout": {
          "annotationdefaults": {
           "arrowcolor": "#2a3f5f",
           "arrowhead": 0,
           "arrowwidth": 1
          },
          "autotypenumbers": "strict",
          "coloraxis": {
           "colorbar": {
            "outlinewidth": 0,
            "ticks": ""
           }
          },
          "colorscale": {
           "diverging": [
            [
             0,
             "#8e0152"
            ],
            [
             0.1,
             "#c51b7d"
            ],
            [
             0.2,
             "#de77ae"
            ],
            [
             0.3,
             "#f1b6da"
            ],
            [
             0.4,
             "#fde0ef"
            ],
            [
             0.5,
             "#f7f7f7"
            ],
            [
             0.6,
             "#e6f5d0"
            ],
            [
             0.7,
             "#b8e186"
            ],
            [
             0.8,
             "#7fbc41"
            ],
            [
             0.9,
             "#4d9221"
            ],
            [
             1,
             "#276419"
            ]
           ],
           "sequential": [
            [
             0,
             "#0d0887"
            ],
            [
             0.1111111111111111,
             "#46039f"
            ],
            [
             0.2222222222222222,
             "#7201a8"
            ],
            [
             0.3333333333333333,
             "#9c179e"
            ],
            [
             0.4444444444444444,
             "#bd3786"
            ],
            [
             0.5555555555555556,
             "#d8576b"
            ],
            [
             0.6666666666666666,
             "#ed7953"
            ],
            [
             0.7777777777777778,
             "#fb9f3a"
            ],
            [
             0.8888888888888888,
             "#fdca26"
            ],
            [
             1,
             "#f0f921"
            ]
           ],
           "sequentialminus": [
            [
             0,
             "#0d0887"
            ],
            [
             0.1111111111111111,
             "#46039f"
            ],
            [
             0.2222222222222222,
             "#7201a8"
            ],
            [
             0.3333333333333333,
             "#9c179e"
            ],
            [
             0.4444444444444444,
             "#bd3786"
            ],
            [
             0.5555555555555556,
             "#d8576b"
            ],
            [
             0.6666666666666666,
             "#ed7953"
            ],
            [
             0.7777777777777778,
             "#fb9f3a"
            ],
            [
             0.8888888888888888,
             "#fdca26"
            ],
            [
             1,
             "#f0f921"
            ]
           ]
          },
          "colorway": [
           "#636efa",
           "#EF553B",
           "#00cc96",
           "#ab63fa",
           "#FFA15A",
           "#19d3f3",
           "#FF6692",
           "#B6E880",
           "#FF97FF",
           "#FECB52"
          ],
          "font": {
           "color": "#2a3f5f"
          },
          "geo": {
           "bgcolor": "white",
           "lakecolor": "white",
           "landcolor": "#E5ECF6",
           "showlakes": true,
           "showland": true,
           "subunitcolor": "white"
          },
          "hoverlabel": {
           "align": "left"
          },
          "hovermode": "closest",
          "mapbox": {
           "style": "light"
          },
          "paper_bgcolor": "white",
          "plot_bgcolor": "#E5ECF6",
          "polar": {
           "angularaxis": {
            "gridcolor": "white",
            "linecolor": "white",
            "ticks": ""
           },
           "bgcolor": "#E5ECF6",
           "radialaxis": {
            "gridcolor": "white",
            "linecolor": "white",
            "ticks": ""
           }
          },
          "scene": {
           "xaxis": {
            "backgroundcolor": "#E5ECF6",
            "gridcolor": "white",
            "gridwidth": 2,
            "linecolor": "white",
            "showbackground": true,
            "ticks": "",
            "zerolinecolor": "white"
           },
           "yaxis": {
            "backgroundcolor": "#E5ECF6",
            "gridcolor": "white",
            "gridwidth": 2,
            "linecolor": "white",
            "showbackground": true,
            "ticks": "",
            "zerolinecolor": "white"
           },
           "zaxis": {
            "backgroundcolor": "#E5ECF6",
            "gridcolor": "white",
            "gridwidth": 2,
            "linecolor": "white",
            "showbackground": true,
            "ticks": "",
            "zerolinecolor": "white"
           }
          },
          "shapedefaults": {
           "line": {
            "color": "#2a3f5f"
           }
          },
          "ternary": {
           "aaxis": {
            "gridcolor": "white",
            "linecolor": "white",
            "ticks": ""
           },
           "baxis": {
            "gridcolor": "white",
            "linecolor": "white",
            "ticks": ""
           },
           "bgcolor": "#E5ECF6",
           "caxis": {
            "gridcolor": "white",
            "linecolor": "white",
            "ticks": ""
           }
          },
          "title": {
           "x": 0.05
          },
          "xaxis": {
           "automargin": true,
           "gridcolor": "white",
           "linecolor": "white",
           "ticks": "",
           "title": {
            "standoff": 15
           },
           "zerolinecolor": "white",
           "zerolinewidth": 2
          },
          "yaxis": {
           "automargin": true,
           "gridcolor": "white",
           "linecolor": "white",
           "ticks": "",
           "title": {
            "standoff": 15
           },
           "zerolinecolor": "white",
           "zerolinewidth": 2
          }
         }
        },
        "title": {
         "font": {
          "family": "Arial",
          "size": 24
         },
         "text": "Emissions divided by segments",
         "x": 0.5
        },
        "width": 800
       }
      }
     },
     "metadata": {},
     "output_type": "display_data"
    }
   ],
   "source": [
    "\n",
    "fig = go.Figure(data=[go.Pie(labels=segment['Segment'], values=segment['Emissions'])])\n",
    "fig.update_traces(hoverinfo='percent', textinfo='percent', textfont_size=14, )\n",
    "\n",
    "# Add title\n",
    "fig.update_layout(title='Emissions divided by segments', title_font_size=24, title_font_family='Arial',title_x=0.5)\n",
    "\n",
    "# Add legend and adjust position\n",
    "fig.update_layout(legend=dict(title='Countries', orientation='v', yanchor='top', y=0.8, xanchor='left', x=1))\n",
    "\n",
    "# Resize the figure\n",
    "fig.update_layout(height=600, width=800)\n",
    "\n",
    "# Show the chart\n",
    "fig.show()"
   ]
  },
  {
   "cell_type": "code",
   "execution_count": 565,
   "metadata": {},
   "outputs": [
    {
     "data": {
      "text/html": [
       "<div>\n",
       "<style scoped>\n",
       "    .dataframe tbody tr th:only-of-type {\n",
       "        vertical-align: middle;\n",
       "    }\n",
       "\n",
       "    .dataframe tbody tr th {\n",
       "        vertical-align: top;\n",
       "    }\n",
       "\n",
       "    .dataframe thead th {\n",
       "        text-align: right;\n",
       "    }\n",
       "</style>\n",
       "<table border=\"1\" class=\"dataframe\">\n",
       "  <thead>\n",
       "    <tr style=\"text-align: right;\">\n",
       "      <th></th>\n",
       "      <th>region</th>\n",
       "      <th>country</th>\n",
       "      <th>emissions</th>\n",
       "      <th>type</th>\n",
       "      <th>segment</th>\n",
       "      <th>reason</th>\n",
       "      <th>baseYear</th>\n",
       "      <th>notes</th>\n",
       "    </tr>\n",
       "  </thead>\n",
       "  <tbody>\n",
       "    <tr>\n",
       "      <th>0</th>\n",
       "      <td>Africa</td>\n",
       "      <td>Algeria</td>\n",
       "      <td>257.611206</td>\n",
       "      <td>Agriculture</td>\n",
       "      <td>Total</td>\n",
       "      <td>All</td>\n",
       "      <td>2019-2021</td>\n",
       "      <td>Average based on United Nations Framework Conv...</td>\n",
       "    </tr>\n",
       "    <tr>\n",
       "      <th>1</th>\n",
       "      <td>Africa</td>\n",
       "      <td>Algeria</td>\n",
       "      <td>0.052000</td>\n",
       "      <td>Energy</td>\n",
       "      <td>Bioenergy</td>\n",
       "      <td>All</td>\n",
       "      <td>2022</td>\n",
       "      <td>Estimates from end-uses are for 2020 or 2021 (...</td>\n",
       "    </tr>\n",
       "    <tr>\n",
       "      <th>2</th>\n",
       "      <td>Africa</td>\n",
       "      <td>Algeria</td>\n",
       "      <td>130.798996</td>\n",
       "      <td>Energy</td>\n",
       "      <td>Gas pipelines and LNG facilities</td>\n",
       "      <td>Fugitive</td>\n",
       "      <td>2022</td>\n",
       "      <td>Not available</td>\n",
       "    </tr>\n",
       "    <tr>\n",
       "      <th>3</th>\n",
       "      <td>Africa</td>\n",
       "      <td>Algeria</td>\n",
       "      <td>69.741898</td>\n",
       "      <td>Energy</td>\n",
       "      <td>Gas pipelines and LNG facilities</td>\n",
       "      <td>Vented</td>\n",
       "      <td>2022</td>\n",
       "      <td>Not available</td>\n",
       "    </tr>\n",
       "    <tr>\n",
       "      <th>4</th>\n",
       "      <td>Africa</td>\n",
       "      <td>Algeria</td>\n",
       "      <td>213.987000</td>\n",
       "      <td>Energy</td>\n",
       "      <td>Onshore gas</td>\n",
       "      <td>Fugitive</td>\n",
       "      <td>2022</td>\n",
       "      <td>Not available</td>\n",
       "    </tr>\n",
       "    <tr>\n",
       "      <th>...</th>\n",
       "      <td>...</td>\n",
       "      <td>...</td>\n",
       "      <td>...</td>\n",
       "      <td>...</td>\n",
       "      <td>...</td>\n",
       "      <td>...</td>\n",
       "      <td>...</td>\n",
       "      <td>...</td>\n",
       "    </tr>\n",
       "    <tr>\n",
       "      <th>1521</th>\n",
       "      <td>Russia &amp; Caspian</td>\n",
       "      <td>Uzbekistan</td>\n",
       "      <td>16.973917</td>\n",
       "      <td>Energy</td>\n",
       "      <td>Other from oil and gas</td>\n",
       "      <td>All</td>\n",
       "      <td>2022</td>\n",
       "      <td>Estimates from end-uses are for 2020 or 2021 (...</td>\n",
       "    </tr>\n",
       "    <tr>\n",
       "      <th>1522</th>\n",
       "      <td>Russia &amp; Caspian</td>\n",
       "      <td>Uzbekistan</td>\n",
       "      <td>18.299999</td>\n",
       "      <td>Energy</td>\n",
       "      <td>Satellite-detected large oil and gas emissions</td>\n",
       "      <td>All</td>\n",
       "      <td>2022</td>\n",
       "      <td>Not available</td>\n",
       "    </tr>\n",
       "    <tr>\n",
       "      <th>1523</th>\n",
       "      <td>Russia &amp; Caspian</td>\n",
       "      <td>Uzbekistan</td>\n",
       "      <td>780.916138</td>\n",
       "      <td>Energy</td>\n",
       "      <td>Total</td>\n",
       "      <td>All</td>\n",
       "      <td>2022</td>\n",
       "      <td>Estimates from end-uses are for 2020 or 2021 (...</td>\n",
       "    </tr>\n",
       "    <tr>\n",
       "      <th>1524</th>\n",
       "      <td>Russia &amp; Caspian</td>\n",
       "      <td>Uzbekistan</td>\n",
       "      <td>3.845616</td>\n",
       "      <td>Other</td>\n",
       "      <td>Total</td>\n",
       "      <td>All</td>\n",
       "      <td>2019-2021</td>\n",
       "      <td>Average based on United Nations Framework Conv...</td>\n",
       "    </tr>\n",
       "    <tr>\n",
       "      <th>1525</th>\n",
       "      <td>Russia &amp; Caspian</td>\n",
       "      <td>Uzbekistan</td>\n",
       "      <td>280.418243</td>\n",
       "      <td>Waste</td>\n",
       "      <td>Total</td>\n",
       "      <td>All</td>\n",
       "      <td>2019-2021</td>\n",
       "      <td>Average based on United Nations Framework Conv...</td>\n",
       "    </tr>\n",
       "  </tbody>\n",
       "</table>\n",
       "<p>1526 rows × 8 columns</p>\n",
       "</div>"
      ],
      "text/plain": [
       "                region     country   emissions         type  \\\n",
       "0               Africa     Algeria  257.611206  Agriculture   \n",
       "1               Africa     Algeria    0.052000       Energy   \n",
       "2               Africa     Algeria  130.798996       Energy   \n",
       "3               Africa     Algeria   69.741898       Energy   \n",
       "4               Africa     Algeria  213.987000       Energy   \n",
       "...                ...         ...         ...          ...   \n",
       "1521  Russia & Caspian  Uzbekistan   16.973917       Energy   \n",
       "1522  Russia & Caspian  Uzbekistan   18.299999       Energy   \n",
       "1523  Russia & Caspian  Uzbekistan  780.916138       Energy   \n",
       "1524  Russia & Caspian  Uzbekistan    3.845616        Other   \n",
       "1525  Russia & Caspian  Uzbekistan  280.418243        Waste   \n",
       "\n",
       "                                             segment    reason   baseYear  \\\n",
       "0                                              Total       All  2019-2021   \n",
       "1                                          Bioenergy       All       2022   \n",
       "2                   Gas pipelines and LNG facilities  Fugitive       2022   \n",
       "3                   Gas pipelines and LNG facilities    Vented       2022   \n",
       "4                                        Onshore gas  Fugitive       2022   \n",
       "...                                              ...       ...        ...   \n",
       "1521                          Other from oil and gas       All       2022   \n",
       "1522  Satellite-detected large oil and gas emissions       All       2022   \n",
       "1523                                           Total       All       2022   \n",
       "1524                                           Total       All  2019-2021   \n",
       "1525                                           Total       All  2019-2021   \n",
       "\n",
       "                                                  notes  \n",
       "0     Average based on United Nations Framework Conv...  \n",
       "1     Estimates from end-uses are for 2020 or 2021 (...  \n",
       "2                                         Not available  \n",
       "3                                         Not available  \n",
       "4                                         Not available  \n",
       "...                                                 ...  \n",
       "1521  Estimates from end-uses are for 2020 or 2021 (...  \n",
       "1522                                      Not available  \n",
       "1523  Estimates from end-uses are for 2020 or 2021 (...  \n",
       "1524  Average based on United Nations Framework Conv...  \n",
       "1525  Average based on United Nations Framework Conv...  \n",
       "\n",
       "[1526 rows x 8 columns]"
      ]
     },
     "execution_count": 565,
     "metadata": {},
     "output_type": "execute_result"
    }
   ],
   "source": [
    "df"
   ]
  },
  {
   "cell_type": "code",
   "execution_count": 566,
   "metadata": {},
   "outputs": [
    {
     "data": {
      "text/html": [
       "<div>\n",
       "<style scoped>\n",
       "    .dataframe tbody tr th:only-of-type {\n",
       "        vertical-align: middle;\n",
       "    }\n",
       "\n",
       "    .dataframe tbody tr th {\n",
       "        vertical-align: top;\n",
       "    }\n",
       "\n",
       "    .dataframe thead th {\n",
       "        text-align: right;\n",
       "    }\n",
       "</style>\n",
       "<table border=\"1\" class=\"dataframe\">\n",
       "  <thead>\n",
       "    <tr style=\"text-align: right;\">\n",
       "      <th></th>\n",
       "      <th>Type</th>\n",
       "      <th>Emissions</th>\n",
       "    </tr>\n",
       "  </thead>\n",
       "  <tbody>\n",
       "    <tr>\n",
       "      <th>0</th>\n",
       "      <td>Energy</td>\n",
       "      <td>270694.345156</td>\n",
       "    </tr>\n",
       "    <tr>\n",
       "      <th>1</th>\n",
       "      <td>Agriculture</td>\n",
       "      <td>150805.103144</td>\n",
       "    </tr>\n",
       "    <tr>\n",
       "      <th>2</th>\n",
       "      <td>Waste</td>\n",
       "      <td>75079.707008</td>\n",
       "    </tr>\n",
       "    <tr>\n",
       "      <th>3</th>\n",
       "      <td>Other</td>\n",
       "      <td>10028.772862</td>\n",
       "    </tr>\n",
       "  </tbody>\n",
       "</table>\n",
       "</div>"
      ],
      "text/plain": [
       "          Type      Emissions\n",
       "0       Energy  270694.345156\n",
       "1  Agriculture  150805.103144\n",
       "2        Waste   75079.707008\n",
       "3        Other   10028.772862"
      ]
     },
     "execution_count": 566,
     "metadata": {},
     "output_type": "execute_result"
    }
   ],
   "source": [
    "query3 = \"SELECT type, SUM(emissions) as Emissions FROM methane WHERE region IS NOT 'World'  GROUP BY type ORDER BY Emissions desc\"\n",
    "cursor.execute(query3)\n",
    "types=pd.DataFrame(cursor.fetchall(),columns=['Type', 'Emissions'])\n",
    "types"
   ]
  },
  {
   "cell_type": "code",
   "execution_count": 567,
   "metadata": {},
   "outputs": [
    {
     "data": {
      "application/vnd.plotly.v1+json": {
       "config": {
        "plotlyServerURL": "https://plot.ly"
       },
       "data": [
        {
         "domain": {
          "x": [
           0,
           1
          ],
          "y": [
           0,
           1
          ]
         },
         "hoverinfo": "percent",
         "hovertemplate": "Type=%{label}<br>Emissions=%{value}<extra></extra>",
         "labels": [
          "Energy",
          "Agriculture",
          "Waste",
          "Other"
         ],
         "legendgroup": "",
         "name": "",
         "showlegend": true,
         "textfont": {
          "size": 22
         },
         "textinfo": "percent",
         "type": "pie",
         "values": [
          270694.34515646106,
          150805.10314442962,
          75079.70700836182,
          10028.772862456739
         ]
        }
       ],
       "layout": {
        "height": 600,
        "legend": {
         "orientation": "v",
         "title": {
          "text": "Sector"
         },
         "tracegroupgap": 0,
         "x": 1,
         "xanchor": "left",
         "y": 0.8,
         "yanchor": "top"
        },
        "margin": {
         "t": 60
        },
        "template": {
         "data": {
          "bar": [
           {
            "error_x": {
             "color": "#2a3f5f"
            },
            "error_y": {
             "color": "#2a3f5f"
            },
            "marker": {
             "line": {
              "color": "#E5ECF6",
              "width": 0.5
             },
             "pattern": {
              "fillmode": "overlay",
              "size": 10,
              "solidity": 0.2
             }
            },
            "type": "bar"
           }
          ],
          "barpolar": [
           {
            "marker": {
             "line": {
              "color": "#E5ECF6",
              "width": 0.5
             },
             "pattern": {
              "fillmode": "overlay",
              "size": 10,
              "solidity": 0.2
             }
            },
            "type": "barpolar"
           }
          ],
          "carpet": [
           {
            "aaxis": {
             "endlinecolor": "#2a3f5f",
             "gridcolor": "white",
             "linecolor": "white",
             "minorgridcolor": "white",
             "startlinecolor": "#2a3f5f"
            },
            "baxis": {
             "endlinecolor": "#2a3f5f",
             "gridcolor": "white",
             "linecolor": "white",
             "minorgridcolor": "white",
             "startlinecolor": "#2a3f5f"
            },
            "type": "carpet"
           }
          ],
          "choropleth": [
           {
            "colorbar": {
             "outlinewidth": 0,
             "ticks": ""
            },
            "type": "choropleth"
           }
          ],
          "contour": [
           {
            "colorbar": {
             "outlinewidth": 0,
             "ticks": ""
            },
            "colorscale": [
             [
              0,
              "#0d0887"
             ],
             [
              0.1111111111111111,
              "#46039f"
             ],
             [
              0.2222222222222222,
              "#7201a8"
             ],
             [
              0.3333333333333333,
              "#9c179e"
             ],
             [
              0.4444444444444444,
              "#bd3786"
             ],
             [
              0.5555555555555556,
              "#d8576b"
             ],
             [
              0.6666666666666666,
              "#ed7953"
             ],
             [
              0.7777777777777778,
              "#fb9f3a"
             ],
             [
              0.8888888888888888,
              "#fdca26"
             ],
             [
              1,
              "#f0f921"
             ]
            ],
            "type": "contour"
           }
          ],
          "contourcarpet": [
           {
            "colorbar": {
             "outlinewidth": 0,
             "ticks": ""
            },
            "type": "contourcarpet"
           }
          ],
          "heatmap": [
           {
            "colorbar": {
             "outlinewidth": 0,
             "ticks": ""
            },
            "colorscale": [
             [
              0,
              "#0d0887"
             ],
             [
              0.1111111111111111,
              "#46039f"
             ],
             [
              0.2222222222222222,
              "#7201a8"
             ],
             [
              0.3333333333333333,
              "#9c179e"
             ],
             [
              0.4444444444444444,
              "#bd3786"
             ],
             [
              0.5555555555555556,
              "#d8576b"
             ],
             [
              0.6666666666666666,
              "#ed7953"
             ],
             [
              0.7777777777777778,
              "#fb9f3a"
             ],
             [
              0.8888888888888888,
              "#fdca26"
             ],
             [
              1,
              "#f0f921"
             ]
            ],
            "type": "heatmap"
           }
          ],
          "heatmapgl": [
           {
            "colorbar": {
             "outlinewidth": 0,
             "ticks": ""
            },
            "colorscale": [
             [
              0,
              "#0d0887"
             ],
             [
              0.1111111111111111,
              "#46039f"
             ],
             [
              0.2222222222222222,
              "#7201a8"
             ],
             [
              0.3333333333333333,
              "#9c179e"
             ],
             [
              0.4444444444444444,
              "#bd3786"
             ],
             [
              0.5555555555555556,
              "#d8576b"
             ],
             [
              0.6666666666666666,
              "#ed7953"
             ],
             [
              0.7777777777777778,
              "#fb9f3a"
             ],
             [
              0.8888888888888888,
              "#fdca26"
             ],
             [
              1,
              "#f0f921"
             ]
            ],
            "type": "heatmapgl"
           }
          ],
          "histogram": [
           {
            "marker": {
             "pattern": {
              "fillmode": "overlay",
              "size": 10,
              "solidity": 0.2
             }
            },
            "type": "histogram"
           }
          ],
          "histogram2d": [
           {
            "colorbar": {
             "outlinewidth": 0,
             "ticks": ""
            },
            "colorscale": [
             [
              0,
              "#0d0887"
             ],
             [
              0.1111111111111111,
              "#46039f"
             ],
             [
              0.2222222222222222,
              "#7201a8"
             ],
             [
              0.3333333333333333,
              "#9c179e"
             ],
             [
              0.4444444444444444,
              "#bd3786"
             ],
             [
              0.5555555555555556,
              "#d8576b"
             ],
             [
              0.6666666666666666,
              "#ed7953"
             ],
             [
              0.7777777777777778,
              "#fb9f3a"
             ],
             [
              0.8888888888888888,
              "#fdca26"
             ],
             [
              1,
              "#f0f921"
             ]
            ],
            "type": "histogram2d"
           }
          ],
          "histogram2dcontour": [
           {
            "colorbar": {
             "outlinewidth": 0,
             "ticks": ""
            },
            "colorscale": [
             [
              0,
              "#0d0887"
             ],
             [
              0.1111111111111111,
              "#46039f"
             ],
             [
              0.2222222222222222,
              "#7201a8"
             ],
             [
              0.3333333333333333,
              "#9c179e"
             ],
             [
              0.4444444444444444,
              "#bd3786"
             ],
             [
              0.5555555555555556,
              "#d8576b"
             ],
             [
              0.6666666666666666,
              "#ed7953"
             ],
             [
              0.7777777777777778,
              "#fb9f3a"
             ],
             [
              0.8888888888888888,
              "#fdca26"
             ],
             [
              1,
              "#f0f921"
             ]
            ],
            "type": "histogram2dcontour"
           }
          ],
          "mesh3d": [
           {
            "colorbar": {
             "outlinewidth": 0,
             "ticks": ""
            },
            "type": "mesh3d"
           }
          ],
          "parcoords": [
           {
            "line": {
             "colorbar": {
              "outlinewidth": 0,
              "ticks": ""
             }
            },
            "type": "parcoords"
           }
          ],
          "pie": [
           {
            "automargin": true,
            "type": "pie"
           }
          ],
          "scatter": [
           {
            "fillpattern": {
             "fillmode": "overlay",
             "size": 10,
             "solidity": 0.2
            },
            "type": "scatter"
           }
          ],
          "scatter3d": [
           {
            "line": {
             "colorbar": {
              "outlinewidth": 0,
              "ticks": ""
             }
            },
            "marker": {
             "colorbar": {
              "outlinewidth": 0,
              "ticks": ""
             }
            },
            "type": "scatter3d"
           }
          ],
          "scattercarpet": [
           {
            "marker": {
             "colorbar": {
              "outlinewidth": 0,
              "ticks": ""
             }
            },
            "type": "scattercarpet"
           }
          ],
          "scattergeo": [
           {
            "marker": {
             "colorbar": {
              "outlinewidth": 0,
              "ticks": ""
             }
            },
            "type": "scattergeo"
           }
          ],
          "scattergl": [
           {
            "marker": {
             "colorbar": {
              "outlinewidth": 0,
              "ticks": ""
             }
            },
            "type": "scattergl"
           }
          ],
          "scattermapbox": [
           {
            "marker": {
             "colorbar": {
              "outlinewidth": 0,
              "ticks": ""
             }
            },
            "type": "scattermapbox"
           }
          ],
          "scatterpolar": [
           {
            "marker": {
             "colorbar": {
              "outlinewidth": 0,
              "ticks": ""
             }
            },
            "type": "scatterpolar"
           }
          ],
          "scatterpolargl": [
           {
            "marker": {
             "colorbar": {
              "outlinewidth": 0,
              "ticks": ""
             }
            },
            "type": "scatterpolargl"
           }
          ],
          "scatterternary": [
           {
            "marker": {
             "colorbar": {
              "outlinewidth": 0,
              "ticks": ""
             }
            },
            "type": "scatterternary"
           }
          ],
          "surface": [
           {
            "colorbar": {
             "outlinewidth": 0,
             "ticks": ""
            },
            "colorscale": [
             [
              0,
              "#0d0887"
             ],
             [
              0.1111111111111111,
              "#46039f"
             ],
             [
              0.2222222222222222,
              "#7201a8"
             ],
             [
              0.3333333333333333,
              "#9c179e"
             ],
             [
              0.4444444444444444,
              "#bd3786"
             ],
             [
              0.5555555555555556,
              "#d8576b"
             ],
             [
              0.6666666666666666,
              "#ed7953"
             ],
             [
              0.7777777777777778,
              "#fb9f3a"
             ],
             [
              0.8888888888888888,
              "#fdca26"
             ],
             [
              1,
              "#f0f921"
             ]
            ],
            "type": "surface"
           }
          ],
          "table": [
           {
            "cells": {
             "fill": {
              "color": "#EBF0F8"
             },
             "line": {
              "color": "white"
             }
            },
            "header": {
             "fill": {
              "color": "#C8D4E3"
             },
             "line": {
              "color": "white"
             }
            },
            "type": "table"
           }
          ]
         },
         "layout": {
          "annotationdefaults": {
           "arrowcolor": "#2a3f5f",
           "arrowhead": 0,
           "arrowwidth": 1
          },
          "autotypenumbers": "strict",
          "coloraxis": {
           "colorbar": {
            "outlinewidth": 0,
            "ticks": ""
           }
          },
          "colorscale": {
           "diverging": [
            [
             0,
             "#8e0152"
            ],
            [
             0.1,
             "#c51b7d"
            ],
            [
             0.2,
             "#de77ae"
            ],
            [
             0.3,
             "#f1b6da"
            ],
            [
             0.4,
             "#fde0ef"
            ],
            [
             0.5,
             "#f7f7f7"
            ],
            [
             0.6,
             "#e6f5d0"
            ],
            [
             0.7,
             "#b8e186"
            ],
            [
             0.8,
             "#7fbc41"
            ],
            [
             0.9,
             "#4d9221"
            ],
            [
             1,
             "#276419"
            ]
           ],
           "sequential": [
            [
             0,
             "#0d0887"
            ],
            [
             0.1111111111111111,
             "#46039f"
            ],
            [
             0.2222222222222222,
             "#7201a8"
            ],
            [
             0.3333333333333333,
             "#9c179e"
            ],
            [
             0.4444444444444444,
             "#bd3786"
            ],
            [
             0.5555555555555556,
             "#d8576b"
            ],
            [
             0.6666666666666666,
             "#ed7953"
            ],
            [
             0.7777777777777778,
             "#fb9f3a"
            ],
            [
             0.8888888888888888,
             "#fdca26"
            ],
            [
             1,
             "#f0f921"
            ]
           ],
           "sequentialminus": [
            [
             0,
             "#0d0887"
            ],
            [
             0.1111111111111111,
             "#46039f"
            ],
            [
             0.2222222222222222,
             "#7201a8"
            ],
            [
             0.3333333333333333,
             "#9c179e"
            ],
            [
             0.4444444444444444,
             "#bd3786"
            ],
            [
             0.5555555555555556,
             "#d8576b"
            ],
            [
             0.6666666666666666,
             "#ed7953"
            ],
            [
             0.7777777777777778,
             "#fb9f3a"
            ],
            [
             0.8888888888888888,
             "#fdca26"
            ],
            [
             1,
             "#f0f921"
            ]
           ]
          },
          "colorway": [
           "#636efa",
           "#EF553B",
           "#00cc96",
           "#ab63fa",
           "#FFA15A",
           "#19d3f3",
           "#FF6692",
           "#B6E880",
           "#FF97FF",
           "#FECB52"
          ],
          "font": {
           "color": "#2a3f5f"
          },
          "geo": {
           "bgcolor": "white",
           "lakecolor": "white",
           "landcolor": "#E5ECF6",
           "showlakes": true,
           "showland": true,
           "subunitcolor": "white"
          },
          "hoverlabel": {
           "align": "left"
          },
          "hovermode": "closest",
          "mapbox": {
           "style": "light"
          },
          "paper_bgcolor": "white",
          "plot_bgcolor": "#E5ECF6",
          "polar": {
           "angularaxis": {
            "gridcolor": "white",
            "linecolor": "white",
            "ticks": ""
           },
           "bgcolor": "#E5ECF6",
           "radialaxis": {
            "gridcolor": "white",
            "linecolor": "white",
            "ticks": ""
           }
          },
          "scene": {
           "xaxis": {
            "backgroundcolor": "#E5ECF6",
            "gridcolor": "white",
            "gridwidth": 2,
            "linecolor": "white",
            "showbackground": true,
            "ticks": "",
            "zerolinecolor": "white"
           },
           "yaxis": {
            "backgroundcolor": "#E5ECF6",
            "gridcolor": "white",
            "gridwidth": 2,
            "linecolor": "white",
            "showbackground": true,
            "ticks": "",
            "zerolinecolor": "white"
           },
           "zaxis": {
            "backgroundcolor": "#E5ECF6",
            "gridcolor": "white",
            "gridwidth": 2,
            "linecolor": "white",
            "showbackground": true,
            "ticks": "",
            "zerolinecolor": "white"
           }
          },
          "shapedefaults": {
           "line": {
            "color": "#2a3f5f"
           }
          },
          "ternary": {
           "aaxis": {
            "gridcolor": "white",
            "linecolor": "white",
            "ticks": ""
           },
           "baxis": {
            "gridcolor": "white",
            "linecolor": "white",
            "ticks": ""
           },
           "bgcolor": "#E5ECF6",
           "caxis": {
            "gridcolor": "white",
            "linecolor": "white",
            "ticks": ""
           }
          },
          "title": {
           "x": 0.05
          },
          "xaxis": {
           "automargin": true,
           "gridcolor": "white",
           "linecolor": "white",
           "ticks": "",
           "title": {
            "standoff": 15
           },
           "zerolinecolor": "white",
           "zerolinewidth": 2
          },
          "yaxis": {
           "automargin": true,
           "gridcolor": "white",
           "linecolor": "white",
           "ticks": "",
           "title": {
            "standoff": 15
           },
           "zerolinecolor": "white",
           "zerolinewidth": 2
          }
         }
        },
        "title": {
         "font": {
          "family": "Arial",
          "size": 24
         },
         "text": "Emissions Devided by Sector",
         "x": 0.5
        },
        "width": 800
       }
      }
     },
     "metadata": {},
     "output_type": "display_data"
    }
   ],
   "source": [
    "fig = px.pie(types, values='Emissions', names='Type',)\n",
    "# Add title\n",
    "fig.update_layout(title='Emissions Devided by Sector', title_font_size=24, title_font_family='Arial',title_x=0.5)\n",
    "fig.update_traces(hoverinfo='percent', textinfo='percent', textfont_size=22, )\n",
    "# Add legend and adjust position\n",
    "fig.update_layout(legend=dict(title='Sector', orientation='v', yanchor='top', y=0.8, xanchor='left', x=1))\n",
    "fig.update_layout(height=600, width=800)\n",
    "# Center the title\n",
    "fig.update_layout(title_x=0.5)\n",
    "fig.show()"
   ]
  },
  {
   "cell_type": "code",
   "execution_count": 568,
   "metadata": {},
   "outputs": [],
   "source": [
    "connection.commit()\n"
   ]
  },
  {
   "cell_type": "code",
   "execution_count": null,
   "metadata": {},
   "outputs": [],
   "source": []
  },
  {
   "cell_type": "code",
   "execution_count": 586,
   "metadata": {},
   "outputs": [
    {
     "data": {
      "application/vnd.plotly.v1+json": {
       "config": {
        "plotlyServerURL": "https://plot.ly"
       },
       "data": [
        {
         "branchvalues": "total",
         "customdata": [
          [
           718.8423636796163
          ],
          [
           904.3566076127894
          ],
          [
           176.78690389788517
          ],
          [
           381.08166847270553
          ],
          [
           4.569557500610923
          ],
          [
           181.7874777012428
          ],
          [
           1187.4720458984375
          ],
          [
           27.361416368853835
          ],
          [
           50.232312532953166
          ],
          [
           4526.467972081663
          ],
          [
           25.475299835205085
          ],
          [
           275.19590451106995
          ],
          [
           35.70140075683594
          ],
          [
           752.9033507897442
          ],
          [
           17.066499710083008
          ],
          [
           1718.5423716160499
          ],
          [
           81.68971116081119
          ],
          [
           231.85565653150752
          ],
          [
           76.43962507023836
          ],
          [
           201.579802097589
          ],
          [
           226.2271730583002
          ],
          [
           1284.6512400149138
          ],
          [
           62.285736459345
          ],
          [
           773.4954837187456
          ],
          [
           82.56495882359123
          ],
          [
           91.73191356552191
          ],
          [
           53.84774430141626
          ],
          [
           15.757270501274709
          ],
          [
           447.09696806017286
          ],
          [
           31.944286471337858
          ],
          [
           3.1931159824285853
          ],
          [
           60.36195636890841
          ],
          [
           330.8585898465231
          ],
          [
           137.40282822981877
          ],
          [
           688.4672830414737
          ],
          [
           34.09489526940812
          ],
          [
           501.9904515473799
          ],
          [
           334.3860513756222
          ],
          [
           0.02435662950716012
          ],
          [
           179.37401050774739
          ],
          [
           270.463722338821
          ],
          [
           284.7400702000724
          ],
          [
           150.17264534339554
          ],
          [
           53.382742245591096
          ],
          [
           121.6684855095799
          ],
          [
           2727.486872722982
          ],
          [
           14.53141070034098
          ],
          [
           1711.847028872216
          ],
          [
           632.5174079548602
          ],
          [
           480.98705262581854
          ],
          [
           833.2147003829315
          ],
          [
           47.85236663730301
          ],
          [
           1080.0948246364571
          ],
          [
           2980.605386366378
          ],
          [
           78.79915614955034
          ],
          [
           3162.7870205278296
          ],
          [
           41.23674942654571
          ],
          [
           661.8016943794485
          ],
          [
           2.3055107105834356
          ],
          [
           113.28146018318199
          ],
          [
           0.664649291236104
          ],
          [
           19.796921776106974
          ],
          [
           35.80628967285156
          ],
          [
           64.10408085911644
          ],
          [
           11.733201594691257
          ],
          [
           213.24915120076898
          ],
          [
           32.37948117160548
          ],
          [
           102.73497550937402
          ],
          [
           47.80389439212605
          ],
          [
           485.1084893734875
          ],
          [
           28.12497329711914
          ],
          [
           77.80590866830866
          ],
          [
           62.69444444444444
          ],
          [
           8.341111258651004
          ],
          [
           27.299999237060547
          ],
          [
           3.900000095367432
          ],
          [
           45.074554247702835
          ],
          [
           357.6000061035156
          ],
          [
           1180.5969111287511
          ],
          [
           1006.7608351805104
          ],
          [
           10845.736031273562
          ],
          [
           345.15363024598366
          ],
          [
           328.4562592991493
          ],
          [
           0.5593019723892212
          ],
          [
           1136.2769387323901
          ],
          [
           838.1268920898438
          ],
          [
           2202.2243929305628
          ],
          [
           543.1586365929181
          ],
          [
           6662.18596117644
          ],
          [
           565.0150817942601
          ],
          [
           234.68195737062558
          ],
          [
           778.1860623807323
          ],
          [
           2114.8488862812424
          ],
          [
           882.2091092573914
          ],
          [
           1969.8762743033685
          ]
         ],
         "domain": {
          "x": [
           0,
           1
          ],
          "y": [
           0,
           1
          ]
         },
         "hovertemplate": "labels=%{label}<br>emissions_sum=%{value}<br>parent=%{parent}<br>id=%{id}<br>emissions=%{color}<extra></extra>",
         "ids": [
          "Africa/Bioenergy",
          "Asia Pacific/Bioenergy",
          "Central and South America/Bioenergy",
          "Europe/Bioenergy",
          "Middle East/Bioenergy",
          "North America/Bioenergy",
          "Other/Bioenergy",
          "Russia & Caspian/Bioenergy",
          "Africa/Coking coal",
          "Asia Pacific/Coking coal",
          "Central and South America/Coking coal",
          "Europe/Coking coal",
          "Middle East/Coking coal",
          "North America/Coking coal",
          "Other/Coking coal",
          "Russia & Caspian/Coking coal",
          "Africa/Gas pipelines and LNG facilities",
          "Asia Pacific/Gas pipelines and LNG facilities",
          "Central and South America/Gas pipelines and LNG facilities",
          "Europe/Gas pipelines and LNG facilities",
          "Middle East/Gas pipelines and LNG facilities",
          "North America/Gas pipelines and LNG facilities",
          "Other/Gas pipelines and LNG facilities",
          "Russia & Caspian/Gas pipelines and LNG facilities",
          "Africa/Offshore gas",
          "Asia Pacific/Offshore gas",
          "Central and South America/Offshore gas",
          "Europe/Offshore gas",
          "Middle East/Offshore gas",
          "North America/Offshore gas",
          "Other/Offshore gas",
          "Russia & Caspian/Offshore gas",
          "Africa/Offshore oil",
          "Asia Pacific/Offshore oil",
          "Central and South America/Offshore oil",
          "Europe/Offshore oil",
          "Middle East/Offshore oil",
          "North America/Offshore oil",
          "Other/Offshore oil",
          "Russia & Caspian/Offshore oil",
          "Africa/Onshore gas",
          "Asia Pacific/Onshore gas",
          "Central and South America/Onshore gas",
          "Europe/Onshore gas",
          "Middle East/Onshore gas",
          "North America/Onshore gas",
          "Other/Onshore gas",
          "Russia & Caspian/Onshore gas",
          "Africa/Onshore oil",
          "Asia Pacific/Onshore oil",
          "Central and South America/Onshore oil",
          "Europe/Onshore oil",
          "Middle East/Onshore oil",
          "North America/Onshore oil",
          "Other/Onshore oil",
          "Russia & Caspian/Onshore oil",
          "Africa/Other from coal",
          "Asia Pacific/Other from coal",
          "Central and South America/Other from coal",
          "Europe/Other from coal",
          "Middle East/Other from coal",
          "North America/Other from coal",
          "Other/Other from coal",
          "Russia & Caspian/Other from coal",
          "Africa/Other from oil and gas",
          "Asia Pacific/Other from oil and gas",
          "Central and South America/Other from oil and gas",
          "Europe/Other from oil and gas",
          "Middle East/Other from oil and gas",
          "North America/Other from oil and gas",
          "Other/Other from oil and gas",
          "Russia & Caspian/Other from oil and gas",
          "Africa/Satellite-detected large oil and gas emissions",
          "Asia Pacific/Satellite-detected large oil and gas emissions",
          "Central and South America/Satellite-detected large oil and gas emissions",
          "Europe/Satellite-detected large oil and gas emissions",
          "Middle East/Satellite-detected large oil and gas emissions",
          "North America/Satellite-detected large oil and gas emissions",
          "Russia & Caspian/Satellite-detected large oil and gas emissions",
          "Africa/Steam coal",
          "Asia Pacific/Steam coal",
          "Central and South America/Steam coal",
          "Europe/Steam coal",
          "Middle East/Steam coal",
          "North America/Steam coal",
          "Other/Steam coal",
          "Russia & Caspian/Steam coal",
          "Africa",
          "Asia Pacific",
          "Central and South America",
          "Europe",
          "Middle East",
          "North America",
          "Other",
          "Russia & Caspian"
         ],
         "labels": [
          "Bioenergy",
          "Bioenergy",
          "Bioenergy",
          "Bioenergy",
          "Bioenergy",
          "Bioenergy",
          "Bioenergy",
          "Bioenergy",
          "Coking coal",
          "Coking coal",
          "Coking coal",
          "Coking coal",
          "Coking coal",
          "Coking coal",
          "Coking coal",
          "Coking coal",
          "Gas pipelines and LNG facilities",
          "Gas pipelines and LNG facilities",
          "Gas pipelines and LNG facilities",
          "Gas pipelines and LNG facilities",
          "Gas pipelines and LNG facilities",
          "Gas pipelines and LNG facilities",
          "Gas pipelines and LNG facilities",
          "Gas pipelines and LNG facilities",
          "Offshore gas",
          "Offshore gas",
          "Offshore gas",
          "Offshore gas",
          "Offshore gas",
          "Offshore gas",
          "Offshore gas",
          "Offshore gas",
          "Offshore oil",
          "Offshore oil",
          "Offshore oil",
          "Offshore oil",
          "Offshore oil",
          "Offshore oil",
          "Offshore oil",
          "Offshore oil",
          "Onshore gas",
          "Onshore gas",
          "Onshore gas",
          "Onshore gas",
          "Onshore gas",
          "Onshore gas",
          "Onshore gas",
          "Onshore gas",
          "Onshore oil",
          "Onshore oil",
          "Onshore oil",
          "Onshore oil",
          "Onshore oil",
          "Onshore oil",
          "Onshore oil",
          "Onshore oil",
          "Other from coal",
          "Other from coal",
          "Other from coal",
          "Other from coal",
          "Other from coal",
          "Other from coal",
          "Other from coal",
          "Other from coal",
          "Other from oil and gas",
          "Other from oil and gas",
          "Other from oil and gas",
          "Other from oil and gas",
          "Other from oil and gas",
          "Other from oil and gas",
          "Other from oil and gas",
          "Other from oil and gas",
          "Satellite-detected large oil and gas emissions",
          "Satellite-detected large oil and gas emissions",
          "Satellite-detected large oil and gas emissions",
          "Satellite-detected large oil and gas emissions",
          "Satellite-detected large oil and gas emissions",
          "Satellite-detected large oil and gas emissions",
          "Satellite-detected large oil and gas emissions",
          "Steam coal",
          "Steam coal",
          "Steam coal",
          "Steam coal",
          "Steam coal",
          "Steam coal",
          "Steam coal",
          "Steam coal",
          "Africa",
          "Asia Pacific",
          "Central and South America",
          "Europe",
          "Middle East",
          "North America",
          "Other",
          "Russia & Caspian"
         ],
         "marker": {
          "coloraxis": "coloraxis",
          "colors": [
           718.8423636796163,
           904.3566076127894,
           176.78690389788517,
           381.08166847270553,
           4.569557500610923,
           181.7874777012428,
           1187.4720458984375,
           27.361416368853835,
           50.232312532953166,
           4526.467972081663,
           25.475299835205085,
           275.19590451106995,
           35.70140075683594,
           752.9033507897442,
           17.066499710083008,
           1718.5423716160499,
           81.68971116081119,
           231.85565653150752,
           76.43962507023836,
           201.579802097589,
           226.2271730583002,
           1284.6512400149138,
           62.285736459345,
           773.4954837187456,
           82.56495882359123,
           91.73191356552191,
           53.84774430141626,
           15.757270501274709,
           447.09696806017286,
           31.944286471337858,
           3.1931159824285853,
           60.36195636890841,
           330.8585898465231,
           137.40282822981877,
           688.4672830414737,
           34.09489526940812,
           501.9904515473799,
           334.3860513756222,
           0.02435662950716012,
           179.37401050774739,
           270.463722338821,
           284.7400702000724,
           150.17264534339554,
           53.382742245591096,
           121.6684855095799,
           2727.486872722982,
           14.53141070034098,
           1711.847028872216,
           632.5174079548602,
           480.98705262581854,
           833.2147003829315,
           47.85236663730301,
           1080.0948246364571,
           2980.605386366378,
           78.79915614955034,
           3162.7870205278296,
           41.23674942654571,
           661.8016943794485,
           2.3055107105834356,
           113.28146018318199,
           0.664649291236104,
           19.796921776106974,
           35.80628967285156,
           64.10408085911644,
           11.733201594691257,
           213.24915120076898,
           32.37948117160548,
           102.73497550937402,
           47.80389439212605,
           485.1084893734875,
           28.12497329711914,
           77.80590866830866,
           62.69444444444444,
           8.341111258651004,
           27.299999237060547,
           3.900000095367432,
           45.074554247702835,
           357.6000061035156,
           1180.5969111287511,
           1006.7608351805104,
           10845.736031273562,
           345.15363024598366,
           328.4562592991493,
           0.5593019723892212,
           1136.2769387323901,
           838.1268920898438,
           2202.2243929305628,
           543.1586365929181,
           6662.18596117644,
           565.0150817942601,
           234.68195737062558,
           778.1860623807323,
           2114.8488862812424,
           882.2091092573914,
           1969.8762743033685
          ]
         },
         "name": "",
         "parents": [
          "Africa",
          "Asia Pacific",
          "Central and South America",
          "Europe",
          "Middle East",
          "North America",
          "Other",
          "Russia & Caspian",
          "Africa",
          "Asia Pacific",
          "Central and South America",
          "Europe",
          "Middle East",
          "North America",
          "Other",
          "Russia & Caspian",
          "Africa",
          "Asia Pacific",
          "Central and South America",
          "Europe",
          "Middle East",
          "North America",
          "Other",
          "Russia & Caspian",
          "Africa",
          "Asia Pacific",
          "Central and South America",
          "Europe",
          "Middle East",
          "North America",
          "Other",
          "Russia & Caspian",
          "Africa",
          "Asia Pacific",
          "Central and South America",
          "Europe",
          "Middle East",
          "North America",
          "Other",
          "Russia & Caspian",
          "Africa",
          "Asia Pacific",
          "Central and South America",
          "Europe",
          "Middle East",
          "North America",
          "Other",
          "Russia & Caspian",
          "Africa",
          "Asia Pacific",
          "Central and South America",
          "Europe",
          "Middle East",
          "North America",
          "Other",
          "Russia & Caspian",
          "Africa",
          "Asia Pacific",
          "Central and South America",
          "Europe",
          "Middle East",
          "North America",
          "Other",
          "Russia & Caspian",
          "Africa",
          "Asia Pacific",
          "Central and South America",
          "Europe",
          "Middle East",
          "North America",
          "Other",
          "Russia & Caspian",
          "Africa",
          "Asia Pacific",
          "Central and South America",
          "Europe",
          "Middle East",
          "North America",
          "Russia & Caspian",
          "Africa",
          "Asia Pacific",
          "Central and South America",
          "Europe",
          "Middle East",
          "North America",
          "Other",
          "Russia & Caspian",
          "",
          "",
          "",
          "",
          "",
          "",
          "",
          ""
         ],
         "type": "sunburst",
         "values": [
          2948.11202929914,
          3456.3639911413193,
          354.21199092268944,
          1592.1999818086624,
          9.655999910086393,
          348.9199981689453,
          1187.4720458984375,
          29.472000455483794,
          88.29019927978516,
          6671.294979095459,
          25.47529983520508,
          642.4851621389389,
          35.70140075683594,
          918.8790855407715,
          17.066499710083008,
          1913.9650573730466,
          635.7206603847444,
          2265.579352617264,
          599.9649664126337,
          1714.1594553813338,
          1360.741253376007,
          3224.3882751464844,
          114.00376892089844,
          2724.4659948349,
          486.39373986423016,
          1060.7053881287575,
          325.5057812035084,
          148.18582138512284,
          1824.2254307717085,
          111.66438076645136,
          5.620730042457579,
          380.0955047607422,
          2232.324178306386,
          776.787482346408,
          1289.8004188500345,
          146.38957866979763,
          1947.3134101629257,
          1001.8004970550537,
          0.028835613338742197,
          955.1674590110779,
          1073.1618391359225,
          1509.0012030899525,
          751.7600395083427,
          363.6694374021608,
          1150.6298131793737,
          6680.345411300659,
          25.5791072845459,
          6543.4507220983505,
          4468.8914928676095,
          1890.6945101991296,
          3453.331796333194,
          266.7061402415857,
          9633.234406337142,
          6346.88267993927,
          169.05092096328735,
          8103.991293430328,
          44.484001331496984,
          988.2669673673809,
          4.1663658688776195,
          464.6865867078303,
          1.3120796643197534,
          24.79606431722641,
          35.80628967285156,
          135.82365942001343,
          98.28119658166543,
          755.8738211393356,
          120.38978591561317,
          490.25170052051544,
          172.63882112503052,
          682.3980941772461,
          28.12497329711914,
          145.21930599212646,
          72,
          18.00000023841858,
          27.299999237060547,
          7.800000190734864,
          134.4000016450882,
          357.6000061035156,
          2489.2999992370605,
          1120.2797584533691,
          22227.517842829227,
          371.2563014328479,
          1045.9436118677258,
          0.5593019723892212,
          1201.6836290359497,
          838.1268920898438,
          3241.906005859375,
          13267.93909550435,
          41620.08553819265,
          7323.162745520007,
          6882.477476314409,
          16270.411918900907,
          20899.358121551573,
          2420.880063492863,
          26662.857002472505
         ]
        }
       ],
       "layout": {
        "coloraxis": {
         "colorbar": {
          "title": {
           "text": "emissions"
          }
         },
         "colorscale": [
          [
           0,
           "rgb(255,245,235)"
          ],
          [
           0.125,
           "rgb(254,230,206)"
          ],
          [
           0.25,
           "rgb(253,208,162)"
          ],
          [
           0.375,
           "rgb(253,174,107)"
          ],
          [
           0.5,
           "rgb(253,141,60)"
          ],
          [
           0.625,
           "rgb(241,105,19)"
          ],
          [
           0.75,
           "rgb(217,72,1)"
          ],
          [
           0.875,
           "rgb(166,54,3)"
          ],
          [
           1,
           "rgb(127,39,4)"
          ]
         ]
        },
        "height": 600,
        "legend": {
         "tracegroupgap": 0
        },
        "template": {
         "data": {
          "bar": [
           {
            "error_x": {
             "color": "#2a3f5f"
            },
            "error_y": {
             "color": "#2a3f5f"
            },
            "marker": {
             "line": {
              "color": "#E5ECF6",
              "width": 0.5
             },
             "pattern": {
              "fillmode": "overlay",
              "size": 10,
              "solidity": 0.2
             }
            },
            "type": "bar"
           }
          ],
          "barpolar": [
           {
            "marker": {
             "line": {
              "color": "#E5ECF6",
              "width": 0.5
             },
             "pattern": {
              "fillmode": "overlay",
              "size": 10,
              "solidity": 0.2
             }
            },
            "type": "barpolar"
           }
          ],
          "carpet": [
           {
            "aaxis": {
             "endlinecolor": "#2a3f5f",
             "gridcolor": "white",
             "linecolor": "white",
             "minorgridcolor": "white",
             "startlinecolor": "#2a3f5f"
            },
            "baxis": {
             "endlinecolor": "#2a3f5f",
             "gridcolor": "white",
             "linecolor": "white",
             "minorgridcolor": "white",
             "startlinecolor": "#2a3f5f"
            },
            "type": "carpet"
           }
          ],
          "choropleth": [
           {
            "colorbar": {
             "outlinewidth": 0,
             "ticks": ""
            },
            "type": "choropleth"
           }
          ],
          "contour": [
           {
            "colorbar": {
             "outlinewidth": 0,
             "ticks": ""
            },
            "colorscale": [
             [
              0,
              "#0d0887"
             ],
             [
              0.1111111111111111,
              "#46039f"
             ],
             [
              0.2222222222222222,
              "#7201a8"
             ],
             [
              0.3333333333333333,
              "#9c179e"
             ],
             [
              0.4444444444444444,
              "#bd3786"
             ],
             [
              0.5555555555555556,
              "#d8576b"
             ],
             [
              0.6666666666666666,
              "#ed7953"
             ],
             [
              0.7777777777777778,
              "#fb9f3a"
             ],
             [
              0.8888888888888888,
              "#fdca26"
             ],
             [
              1,
              "#f0f921"
             ]
            ],
            "type": "contour"
           }
          ],
          "contourcarpet": [
           {
            "colorbar": {
             "outlinewidth": 0,
             "ticks": ""
            },
            "type": "contourcarpet"
           }
          ],
          "heatmap": [
           {
            "colorbar": {
             "outlinewidth": 0,
             "ticks": ""
            },
            "colorscale": [
             [
              0,
              "#0d0887"
             ],
             [
              0.1111111111111111,
              "#46039f"
             ],
             [
              0.2222222222222222,
              "#7201a8"
             ],
             [
              0.3333333333333333,
              "#9c179e"
             ],
             [
              0.4444444444444444,
              "#bd3786"
             ],
             [
              0.5555555555555556,
              "#d8576b"
             ],
             [
              0.6666666666666666,
              "#ed7953"
             ],
             [
              0.7777777777777778,
              "#fb9f3a"
             ],
             [
              0.8888888888888888,
              "#fdca26"
             ],
             [
              1,
              "#f0f921"
             ]
            ],
            "type": "heatmap"
           }
          ],
          "heatmapgl": [
           {
            "colorbar": {
             "outlinewidth": 0,
             "ticks": ""
            },
            "colorscale": [
             [
              0,
              "#0d0887"
             ],
             [
              0.1111111111111111,
              "#46039f"
             ],
             [
              0.2222222222222222,
              "#7201a8"
             ],
             [
              0.3333333333333333,
              "#9c179e"
             ],
             [
              0.4444444444444444,
              "#bd3786"
             ],
             [
              0.5555555555555556,
              "#d8576b"
             ],
             [
              0.6666666666666666,
              "#ed7953"
             ],
             [
              0.7777777777777778,
              "#fb9f3a"
             ],
             [
              0.8888888888888888,
              "#fdca26"
             ],
             [
              1,
              "#f0f921"
             ]
            ],
            "type": "heatmapgl"
           }
          ],
          "histogram": [
           {
            "marker": {
             "pattern": {
              "fillmode": "overlay",
              "size": 10,
              "solidity": 0.2
             }
            },
            "type": "histogram"
           }
          ],
          "histogram2d": [
           {
            "colorbar": {
             "outlinewidth": 0,
             "ticks": ""
            },
            "colorscale": [
             [
              0,
              "#0d0887"
             ],
             [
              0.1111111111111111,
              "#46039f"
             ],
             [
              0.2222222222222222,
              "#7201a8"
             ],
             [
              0.3333333333333333,
              "#9c179e"
             ],
             [
              0.4444444444444444,
              "#bd3786"
             ],
             [
              0.5555555555555556,
              "#d8576b"
             ],
             [
              0.6666666666666666,
              "#ed7953"
             ],
             [
              0.7777777777777778,
              "#fb9f3a"
             ],
             [
              0.8888888888888888,
              "#fdca26"
             ],
             [
              1,
              "#f0f921"
             ]
            ],
            "type": "histogram2d"
           }
          ],
          "histogram2dcontour": [
           {
            "colorbar": {
             "outlinewidth": 0,
             "ticks": ""
            },
            "colorscale": [
             [
              0,
              "#0d0887"
             ],
             [
              0.1111111111111111,
              "#46039f"
             ],
             [
              0.2222222222222222,
              "#7201a8"
             ],
             [
              0.3333333333333333,
              "#9c179e"
             ],
             [
              0.4444444444444444,
              "#bd3786"
             ],
             [
              0.5555555555555556,
              "#d8576b"
             ],
             [
              0.6666666666666666,
              "#ed7953"
             ],
             [
              0.7777777777777778,
              "#fb9f3a"
             ],
             [
              0.8888888888888888,
              "#fdca26"
             ],
             [
              1,
              "#f0f921"
             ]
            ],
            "type": "histogram2dcontour"
           }
          ],
          "mesh3d": [
           {
            "colorbar": {
             "outlinewidth": 0,
             "ticks": ""
            },
            "type": "mesh3d"
           }
          ],
          "parcoords": [
           {
            "line": {
             "colorbar": {
              "outlinewidth": 0,
              "ticks": ""
             }
            },
            "type": "parcoords"
           }
          ],
          "pie": [
           {
            "automargin": true,
            "type": "pie"
           }
          ],
          "scatter": [
           {
            "fillpattern": {
             "fillmode": "overlay",
             "size": 10,
             "solidity": 0.2
            },
            "type": "scatter"
           }
          ],
          "scatter3d": [
           {
            "line": {
             "colorbar": {
              "outlinewidth": 0,
              "ticks": ""
             }
            },
            "marker": {
             "colorbar": {
              "outlinewidth": 0,
              "ticks": ""
             }
            },
            "type": "scatter3d"
           }
          ],
          "scattercarpet": [
           {
            "marker": {
             "colorbar": {
              "outlinewidth": 0,
              "ticks": ""
             }
            },
            "type": "scattercarpet"
           }
          ],
          "scattergeo": [
           {
            "marker": {
             "colorbar": {
              "outlinewidth": 0,
              "ticks": ""
             }
            },
            "type": "scattergeo"
           }
          ],
          "scattergl": [
           {
            "marker": {
             "colorbar": {
              "outlinewidth": 0,
              "ticks": ""
             }
            },
            "type": "scattergl"
           }
          ],
          "scattermapbox": [
           {
            "marker": {
             "colorbar": {
              "outlinewidth": 0,
              "ticks": ""
             }
            },
            "type": "scattermapbox"
           }
          ],
          "scatterpolar": [
           {
            "marker": {
             "colorbar": {
              "outlinewidth": 0,
              "ticks": ""
             }
            },
            "type": "scatterpolar"
           }
          ],
          "scatterpolargl": [
           {
            "marker": {
             "colorbar": {
              "outlinewidth": 0,
              "ticks": ""
             }
            },
            "type": "scatterpolargl"
           }
          ],
          "scatterternary": [
           {
            "marker": {
             "colorbar": {
              "outlinewidth": 0,
              "ticks": ""
             }
            },
            "type": "scatterternary"
           }
          ],
          "surface": [
           {
            "colorbar": {
             "outlinewidth": 0,
             "ticks": ""
            },
            "colorscale": [
             [
              0,
              "#0d0887"
             ],
             [
              0.1111111111111111,
              "#46039f"
             ],
             [
              0.2222222222222222,
              "#7201a8"
             ],
             [
              0.3333333333333333,
              "#9c179e"
             ],
             [
              0.4444444444444444,
              "#bd3786"
             ],
             [
              0.5555555555555556,
              "#d8576b"
             ],
             [
              0.6666666666666666,
              "#ed7953"
             ],
             [
              0.7777777777777778,
              "#fb9f3a"
             ],
             [
              0.8888888888888888,
              "#fdca26"
             ],
             [
              1,
              "#f0f921"
             ]
            ],
            "type": "surface"
           }
          ],
          "table": [
           {
            "cells": {
             "fill": {
              "color": "#EBF0F8"
             },
             "line": {
              "color": "white"
             }
            },
            "header": {
             "fill": {
              "color": "#C8D4E3"
             },
             "line": {
              "color": "white"
             }
            },
            "type": "table"
           }
          ]
         },
         "layout": {
          "annotationdefaults": {
           "arrowcolor": "#2a3f5f",
           "arrowhead": 0,
           "arrowwidth": 1
          },
          "autotypenumbers": "strict",
          "coloraxis": {
           "colorbar": {
            "outlinewidth": 0,
            "ticks": ""
           }
          },
          "colorscale": {
           "diverging": [
            [
             0,
             "#8e0152"
            ],
            [
             0.1,
             "#c51b7d"
            ],
            [
             0.2,
             "#de77ae"
            ],
            [
             0.3,
             "#f1b6da"
            ],
            [
             0.4,
             "#fde0ef"
            ],
            [
             0.5,
             "#f7f7f7"
            ],
            [
             0.6,
             "#e6f5d0"
            ],
            [
             0.7,
             "#b8e186"
            ],
            [
             0.8,
             "#7fbc41"
            ],
            [
             0.9,
             "#4d9221"
            ],
            [
             1,
             "#276419"
            ]
           ],
           "sequential": [
            [
             0,
             "#0d0887"
            ],
            [
             0.1111111111111111,
             "#46039f"
            ],
            [
             0.2222222222222222,
             "#7201a8"
            ],
            [
             0.3333333333333333,
             "#9c179e"
            ],
            [
             0.4444444444444444,
             "#bd3786"
            ],
            [
             0.5555555555555556,
             "#d8576b"
            ],
            [
             0.6666666666666666,
             "#ed7953"
            ],
            [
             0.7777777777777778,
             "#fb9f3a"
            ],
            [
             0.8888888888888888,
             "#fdca26"
            ],
            [
             1,
             "#f0f921"
            ]
           ],
           "sequentialminus": [
            [
             0,
             "#0d0887"
            ],
            [
             0.1111111111111111,
             "#46039f"
            ],
            [
             0.2222222222222222,
             "#7201a8"
            ],
            [
             0.3333333333333333,
             "#9c179e"
            ],
            [
             0.4444444444444444,
             "#bd3786"
            ],
            [
             0.5555555555555556,
             "#d8576b"
            ],
            [
             0.6666666666666666,
             "#ed7953"
            ],
            [
             0.7777777777777778,
             "#fb9f3a"
            ],
            [
             0.8888888888888888,
             "#fdca26"
            ],
            [
             1,
             "#f0f921"
            ]
           ]
          },
          "colorway": [
           "#636efa",
           "#EF553B",
           "#00cc96",
           "#ab63fa",
           "#FFA15A",
           "#19d3f3",
           "#FF6692",
           "#B6E880",
           "#FF97FF",
           "#FECB52"
          ],
          "font": {
           "color": "#2a3f5f"
          },
          "geo": {
           "bgcolor": "white",
           "lakecolor": "white",
           "landcolor": "#E5ECF6",
           "showlakes": true,
           "showland": true,
           "subunitcolor": "white"
          },
          "hoverlabel": {
           "align": "left"
          },
          "hovermode": "closest",
          "mapbox": {
           "style": "light"
          },
          "paper_bgcolor": "white",
          "plot_bgcolor": "#E5ECF6",
          "polar": {
           "angularaxis": {
            "gridcolor": "white",
            "linecolor": "white",
            "ticks": ""
           },
           "bgcolor": "#E5ECF6",
           "radialaxis": {
            "gridcolor": "white",
            "linecolor": "white",
            "ticks": ""
           }
          },
          "scene": {
           "xaxis": {
            "backgroundcolor": "#E5ECF6",
            "gridcolor": "white",
            "gridwidth": 2,
            "linecolor": "white",
            "showbackground": true,
            "ticks": "",
            "zerolinecolor": "white"
           },
           "yaxis": {
            "backgroundcolor": "#E5ECF6",
            "gridcolor": "white",
            "gridwidth": 2,
            "linecolor": "white",
            "showbackground": true,
            "ticks": "",
            "zerolinecolor": "white"
           },
           "zaxis": {
            "backgroundcolor": "#E5ECF6",
            "gridcolor": "white",
            "gridwidth": 2,
            "linecolor": "white",
            "showbackground": true,
            "ticks": "",
            "zerolinecolor": "white"
           }
          },
          "shapedefaults": {
           "line": {
            "color": "#2a3f5f"
           }
          },
          "ternary": {
           "aaxis": {
            "gridcolor": "white",
            "linecolor": "white",
            "ticks": ""
           },
           "baxis": {
            "gridcolor": "white",
            "linecolor": "white",
            "ticks": ""
           },
           "bgcolor": "#E5ECF6",
           "caxis": {
            "gridcolor": "white",
            "linecolor": "white",
            "ticks": ""
           }
          },
          "title": {
           "x": 0.05
          },
          "xaxis": {
           "automargin": true,
           "gridcolor": "white",
           "linecolor": "white",
           "ticks": "",
           "title": {
            "standoff": 15
           },
           "zerolinecolor": "white",
           "zerolinewidth": 2
          },
          "yaxis": {
           "automargin": true,
           "gridcolor": "white",
           "linecolor": "white",
           "ticks": "",
           "title": {
            "standoff": 15
           },
           "zerolinecolor": "white",
           "zerolinewidth": 2
          }
         }
        },
        "title": {
         "text": "Region-wise Segment Analysis of Energy Emissions",
         "x": 0.5
        },
        "width": 600
       }
      }
     },
     "metadata": {},
     "output_type": "display_data"
    }
   ],
   "source": [
    "import plotly.express as px\n",
    "\n",
    "# Filter out rows where region is 'World' or segment is 'Total' or type is not 'Energy'\n",
    "energy_data = df[(df['region'] != 'World') & (df['segment'] != 'Total') & (df['type'] == 'Energy')]\n",
    "\n",
    "# Create sunburst plot for Energy emissions\n",
    "fig = px.sunburst(energy_data, path=['region', 'segment'], values='emissions', color='emissions',\n",
    "                  color_continuous_scale='oranges', title='Region-wise Segment Analysis of Energy Emissions',\n",
    "                  height=600, width=600)\n",
    "fig.update_layout(title_x=0.5)\n",
    "# Show the plot\n",
    "fig.show()"
   ]
  },
  {
   "cell_type": "code",
   "execution_count": 570,
   "metadata": {},
   "outputs": [
    {
     "data": {
      "text/html": [
       "<div>\n",
       "<style scoped>\n",
       "    .dataframe tbody tr th:only-of-type {\n",
       "        vertical-align: middle;\n",
       "    }\n",
       "\n",
       "    .dataframe tbody tr th {\n",
       "        vertical-align: top;\n",
       "    }\n",
       "\n",
       "    .dataframe thead th {\n",
       "        text-align: right;\n",
       "    }\n",
       "</style>\n",
       "<table border=\"1\" class=\"dataframe\">\n",
       "  <thead>\n",
       "    <tr style=\"text-align: right;\">\n",
       "      <th></th>\n",
       "      <th>Region</th>\n",
       "      <th>Country</th>\n",
       "      <th>Emissions</th>\n",
       "    </tr>\n",
       "  </thead>\n",
       "  <tbody>\n",
       "    <tr>\n",
       "      <th>0</th>\n",
       "      <td>Asia Pacific</td>\n",
       "      <td>China</td>\n",
       "      <td>81048.371586</td>\n",
       "    </tr>\n",
       "    <tr>\n",
       "      <th>1</th>\n",
       "      <td>North America</td>\n",
       "      <td>United States</td>\n",
       "      <td>48604.877296</td>\n",
       "    </tr>\n",
       "    <tr>\n",
       "      <th>2</th>\n",
       "      <td>Russia &amp; Caspian</td>\n",
       "      <td>Russia</td>\n",
       "      <td>42432.929804</td>\n",
       "    </tr>\n",
       "    <tr>\n",
       "      <th>3</th>\n",
       "      <td>Asia Pacific</td>\n",
       "      <td>India</td>\n",
       "      <td>34852.007386</td>\n",
       "    </tr>\n",
       "    <tr>\n",
       "      <th>4</th>\n",
       "      <td>Central and South America</td>\n",
       "      <td>Brazil</td>\n",
       "      <td>21720.838126</td>\n",
       "    </tr>\n",
       "    <tr>\n",
       "      <th>...</th>\n",
       "      <td>...</td>\n",
       "      <td>...</td>\n",
       "      <td>...</td>\n",
       "    </tr>\n",
       "    <tr>\n",
       "      <th>94</th>\n",
       "      <td>Africa</td>\n",
       "      <td>Guinea-Bissau</td>\n",
       "      <td>87.772880</td>\n",
       "    </tr>\n",
       "    <tr>\n",
       "      <th>95</th>\n",
       "      <td>Europe</td>\n",
       "      <td>Slovenia</td>\n",
       "      <td>83.387466</td>\n",
       "    </tr>\n",
       "    <tr>\n",
       "      <th>96</th>\n",
       "      <td>Africa</td>\n",
       "      <td>Gambia</td>\n",
       "      <td>47.587691</td>\n",
       "    </tr>\n",
       "    <tr>\n",
       "      <th>97</th>\n",
       "      <td>Africa</td>\n",
       "      <td>Liberia</td>\n",
       "      <td>43.897755</td>\n",
       "    </tr>\n",
       "    <tr>\n",
       "      <th>98</th>\n",
       "      <td>Africa</td>\n",
       "      <td>Seychelles</td>\n",
       "      <td>2.621898</td>\n",
       "    </tr>\n",
       "  </tbody>\n",
       "</table>\n",
       "<p>99 rows × 3 columns</p>\n",
       "</div>"
      ],
      "text/plain": [
       "                       Region        Country     Emissions\n",
       "0                Asia Pacific          China  81048.371586\n",
       "1               North America  United States  48604.877296\n",
       "2            Russia & Caspian         Russia  42432.929804\n",
       "3                Asia Pacific          India  34852.007386\n",
       "4   Central and South America         Brazil  21720.838126\n",
       "..                        ...            ...           ...\n",
       "94                     Africa  Guinea-Bissau     87.772880\n",
       "95                     Europe       Slovenia     83.387466\n",
       "96                     Africa         Gambia     47.587691\n",
       "97                     Africa        Liberia     43.897755\n",
       "98                     Africa     Seychelles      2.621898\n",
       "\n",
       "[99 rows x 3 columns]"
      ]
     },
     "execution_count": 570,
     "metadata": {},
     "output_type": "execute_result"
    }
   ],
   "source": [
    "query = \"SELECT region as Region, country as Country, SUM(emissions) as Emissions FROM methane WHERE country IS NOT 'World' AND country IS NOT 'Other' AND country IS NOT 'Other countries in Southeast Asia' AND COUNTRY IS NOT 'Other EU17 countries' AND COUNTRY IS NOT 'European Union' AND COUNTRY IS NOT 'Other countries in Europe' GROUP BY country, region ORDER BY SUM(emissions) desc \"\n",
    "cursor.execute(query)\n",
    "emico=pd.DataFrame(cursor.fetchall(),columns=['Region', 'Country', 'Emissions'])\n",
    "emico"
   ]
  },
  {
   "cell_type": "code",
   "execution_count": 571,
   "metadata": {},
   "outputs": [
    {
     "data": {
      "application/vnd.plotly.v1+json": {
       "config": {
        "plotlyServerURL": "https://plot.ly"
       },
       "data": [
        {
         "coloraxis": "coloraxis",
         "geo": "geo",
         "hovertemplate": "<b>%{hovertext}</b><br><br>Country=%{location}<br>Emissions=%{z}<extra></extra>",
         "hovertext": [
          "China",
          "United States",
          "Russia",
          "India",
          "Brazil",
          "Indonesia",
          "Iran",
          "Nigeria",
          "Turkmenistan",
          "Pakistan",
          "Australia",
          "Mexico",
          "Saudi Arabia",
          "Canada",
          "Venezuela",
          "Argentina",
          "Kazakhstan",
          "Algeria",
          "Iraq",
          "South Africa",
          "Colombia",
          "Bangladesh",
          "Thailand",
          "Egypt",
          "Ethiopia",
          "United Arab Emirates",
          "Libya",
          "Vietnam",
          "Tanzania",
          "United Kingdom",
          "Uzbekistan",
          "Poland",
          "Philippines",
          "Germany",
          "France",
          "Qatar",
          "Kuwait",
          "Sudan",
          "Malaysia",
          "Italy",
          "Ukraine",
          "Oman",
          "Democratic Republic of Congo",
          "Japan",
          "Angola",
          "Kenya",
          "Korea",
          "Chad",
          "New Zealand",
          "Peru",
          "Romania",
          "Bolivia",
          "Ecuador",
          "Mongolia",
          "Paraguay",
          "South Sudan",
          "Botswana",
          "Azerbaijan",
          "Niger",
          "Cameroon",
          "Mozambique",
          "Uruguay",
          "Somalia",
          "Syria",
          "Morocco",
          "Netherlands",
          "Yemen",
          "Cote d'Ivoire",
          "Ghana",
          "Congo",
          "Bahrain",
          "Gabon",
          "Guinea",
          "Other EU7 countries",
          "Trinidad and Tobago",
          "Cuba",
          "Central African Republic",
          "Israel",
          "Senegal",
          "Denmark",
          "Tunisia",
          "Sweden",
          "Equatorial Guinea",
          "Jordan",
          "Benin",
          "Norway",
          "Namibia",
          "Guyana",
          "Eritrea",
          "Sierra Leone",
          "Togo",
          "Lebanon",
          "Brunei",
          "Estonia",
          "Guinea-Bissau",
          "Slovenia",
          "Gambia",
          "Liberia",
          "Seychelles"
         ],
         "locationmode": "country names",
         "locations": [
          "China",
          "United States",
          "Russia",
          "India",
          "Brazil",
          "Indonesia",
          "Iran",
          "Nigeria",
          "Turkmenistan",
          "Pakistan",
          "Australia",
          "Mexico",
          "Saudi Arabia",
          "Canada",
          "Venezuela",
          "Argentina",
          "Kazakhstan",
          "Algeria",
          "Iraq",
          "South Africa",
          "Colombia",
          "Bangladesh",
          "Thailand",
          "Egypt",
          "Ethiopia",
          "United Arab Emirates",
          "Libya",
          "Vietnam",
          "Tanzania",
          "United Kingdom",
          "Uzbekistan",
          "Poland",
          "Philippines",
          "Germany",
          "France",
          "Qatar",
          "Kuwait",
          "Sudan",
          "Malaysia",
          "Italy",
          "Ukraine",
          "Oman",
          "Democratic Republic of Congo",
          "Japan",
          "Angola",
          "Kenya",
          "Korea",
          "Chad",
          "New Zealand",
          "Peru",
          "Romania",
          "Bolivia",
          "Ecuador",
          "Mongolia",
          "Paraguay",
          "South Sudan",
          "Botswana",
          "Azerbaijan",
          "Niger",
          "Cameroon",
          "Mozambique",
          "Uruguay",
          "Somalia",
          "Syria",
          "Morocco",
          "Netherlands",
          "Yemen",
          "Cote d'Ivoire",
          "Ghana",
          "Congo",
          "Bahrain",
          "Gabon",
          "Guinea",
          "Other EU7 countries",
          "Trinidad and Tobago",
          "Cuba",
          "Central African Republic",
          "Israel",
          "Senegal",
          "Denmark",
          "Tunisia",
          "Sweden",
          "Equatorial Guinea",
          "Jordan",
          "Benin",
          "Norway",
          "Namibia",
          "Guyana",
          "Eritrea",
          "Sierra Leone",
          "Togo",
          "Lebanon",
          "Brunei",
          "Estonia",
          "Guinea-Bissau",
          "Slovenia",
          "Gambia",
          "Liberia",
          "Seychelles"
         ],
         "name": "",
         "type": "choropleth",
         "z": [
          81048.37158584595,
          48604.877296447754,
          42432.92980384827,
          34852.00738620758,
          21720.838126420975,
          19404.46899986267,
          13030.685366243124,
          9903.895666992292,
          9834.398293197155,
          8170.627575874329,
          7775.794053435326,
          7632.43831974268,
          7206.823956653476,
          7110.093561269343,
          6691.244875121862,
          6558.256740231067,
          6459.562581896782,
          6113.4417560170405,
          5563.947668582201,
          4115.003665229306,
          4013.169058442116,
          3958.5772157609463,
          3910.189034461975,
          3560.5542561411858,
          3431.3123641759157,
          3391.33653318882,
          3352.727439403534,
          3133.6703729629517,
          3039.6506912112236,
          2791.774137493223,
          2747.778753673658,
          2738.1853284724057,
          2649.743541162461,
          2648.582686319016,
          2622.2292388640344,
          2358.328840382397,
          2270.3073945641518,
          2105.2878506183624,
          2058.710320830345,
          1981.280753351748,
          1957.6765766143799,
          1849.8933078497648,
          1845.5796676278114,
          1823.4693804746494,
          1771.6402655243874,
          1753.6534547060728,
          1464.9454844892025,
          1410.1695554773323,
          1403.9847175329924,
          1308.6572714224458,
          1194.855257064104,
          1163.4189231912605,
          1153.4099704623222,
          1006.37896078825,
          996.0662097930908,
          974.790808737278,
          955.2955212341622,
          946.9429277777672,
          940.5237711290829,
          931.1098899766803,
          927.1245243414305,
          908.9235038124025,
          816.962818145752,
          778.770230550319,
          751.1229795811232,
          679.0205329763703,
          633.684176851064,
          621.4964995980263,
          596.8736805021763,
          595.4840613603592,
          556.2102108001709,
          529.4030640274286,
          524.3635742347687,
          509.6194860339165,
          490.9363403022289,
          472.30186242982745,
          447.1422882080078,
          409.388338714838,
          393.1829510591924,
          369.12908475100994,
          364.65852040052414,
          362.5107074081898,
          352.7635821700096,
          321.32873256504536,
          244.3032261915505,
          237.82326920237392,
          204.4387132525444,
          162.76691767573357,
          158.59836627170444,
          145.84455108642578,
          136.87236554548144,
          134.48234494775534,
          97.75032995268703,
          90.48261162638664,
          87.7728796005249,
          83.38746558991261,
          47.587690591812134,
          43.89775466918946,
          2.6218980997800827
         ]
        }
       ],
       "layout": {
        "coloraxis": {
         "colorbar": {
          "title": {
           "text": "Emissions"
          }
         },
         "colorscale": [
          [
           0,
           "rgb(255,245,235)"
          ],
          [
           0.125,
           "rgb(254,230,206)"
          ],
          [
           0.25,
           "rgb(253,208,162)"
          ],
          [
           0.375,
           "rgb(253,174,107)"
          ],
          [
           0.5,
           "rgb(253,141,60)"
          ],
          [
           0.625,
           "rgb(241,105,19)"
          ],
          [
           0.75,
           "rgb(217,72,1)"
          ],
          [
           0.875,
           "rgb(166,54,3)"
          ],
          [
           1,
           "rgb(127,39,4)"
          ]
         ]
        },
        "geo": {
         "center": {},
         "domain": {
          "x": [
           0,
           1
          ],
          "y": [
           0,
           1
          ]
         }
        },
        "height": 600,
        "legend": {
         "tracegroupgap": 0
        },
        "margin": {
         "b": 0,
         "l": 0,
         "r": 0,
         "t": 0
        },
        "template": {
         "data": {
          "bar": [
           {
            "error_x": {
             "color": "#2a3f5f"
            },
            "error_y": {
             "color": "#2a3f5f"
            },
            "marker": {
             "line": {
              "color": "#E5ECF6",
              "width": 0.5
             },
             "pattern": {
              "fillmode": "overlay",
              "size": 10,
              "solidity": 0.2
             }
            },
            "type": "bar"
           }
          ],
          "barpolar": [
           {
            "marker": {
             "line": {
              "color": "#E5ECF6",
              "width": 0.5
             },
             "pattern": {
              "fillmode": "overlay",
              "size": 10,
              "solidity": 0.2
             }
            },
            "type": "barpolar"
           }
          ],
          "carpet": [
           {
            "aaxis": {
             "endlinecolor": "#2a3f5f",
             "gridcolor": "white",
             "linecolor": "white",
             "minorgridcolor": "white",
             "startlinecolor": "#2a3f5f"
            },
            "baxis": {
             "endlinecolor": "#2a3f5f",
             "gridcolor": "white",
             "linecolor": "white",
             "minorgridcolor": "white",
             "startlinecolor": "#2a3f5f"
            },
            "type": "carpet"
           }
          ],
          "choropleth": [
           {
            "colorbar": {
             "outlinewidth": 0,
             "ticks": ""
            },
            "type": "choropleth"
           }
          ],
          "contour": [
           {
            "colorbar": {
             "outlinewidth": 0,
             "ticks": ""
            },
            "colorscale": [
             [
              0,
              "#0d0887"
             ],
             [
              0.1111111111111111,
              "#46039f"
             ],
             [
              0.2222222222222222,
              "#7201a8"
             ],
             [
              0.3333333333333333,
              "#9c179e"
             ],
             [
              0.4444444444444444,
              "#bd3786"
             ],
             [
              0.5555555555555556,
              "#d8576b"
             ],
             [
              0.6666666666666666,
              "#ed7953"
             ],
             [
              0.7777777777777778,
              "#fb9f3a"
             ],
             [
              0.8888888888888888,
              "#fdca26"
             ],
             [
              1,
              "#f0f921"
             ]
            ],
            "type": "contour"
           }
          ],
          "contourcarpet": [
           {
            "colorbar": {
             "outlinewidth": 0,
             "ticks": ""
            },
            "type": "contourcarpet"
           }
          ],
          "heatmap": [
           {
            "colorbar": {
             "outlinewidth": 0,
             "ticks": ""
            },
            "colorscale": [
             [
              0,
              "#0d0887"
             ],
             [
              0.1111111111111111,
              "#46039f"
             ],
             [
              0.2222222222222222,
              "#7201a8"
             ],
             [
              0.3333333333333333,
              "#9c179e"
             ],
             [
              0.4444444444444444,
              "#bd3786"
             ],
             [
              0.5555555555555556,
              "#d8576b"
             ],
             [
              0.6666666666666666,
              "#ed7953"
             ],
             [
              0.7777777777777778,
              "#fb9f3a"
             ],
             [
              0.8888888888888888,
              "#fdca26"
             ],
             [
              1,
              "#f0f921"
             ]
            ],
            "type": "heatmap"
           }
          ],
          "heatmapgl": [
           {
            "colorbar": {
             "outlinewidth": 0,
             "ticks": ""
            },
            "colorscale": [
             [
              0,
              "#0d0887"
             ],
             [
              0.1111111111111111,
              "#46039f"
             ],
             [
              0.2222222222222222,
              "#7201a8"
             ],
             [
              0.3333333333333333,
              "#9c179e"
             ],
             [
              0.4444444444444444,
              "#bd3786"
             ],
             [
              0.5555555555555556,
              "#d8576b"
             ],
             [
              0.6666666666666666,
              "#ed7953"
             ],
             [
              0.7777777777777778,
              "#fb9f3a"
             ],
             [
              0.8888888888888888,
              "#fdca26"
             ],
             [
              1,
              "#f0f921"
             ]
            ],
            "type": "heatmapgl"
           }
          ],
          "histogram": [
           {
            "marker": {
             "pattern": {
              "fillmode": "overlay",
              "size": 10,
              "solidity": 0.2
             }
            },
            "type": "histogram"
           }
          ],
          "histogram2d": [
           {
            "colorbar": {
             "outlinewidth": 0,
             "ticks": ""
            },
            "colorscale": [
             [
              0,
              "#0d0887"
             ],
             [
              0.1111111111111111,
              "#46039f"
             ],
             [
              0.2222222222222222,
              "#7201a8"
             ],
             [
              0.3333333333333333,
              "#9c179e"
             ],
             [
              0.4444444444444444,
              "#bd3786"
             ],
             [
              0.5555555555555556,
              "#d8576b"
             ],
             [
              0.6666666666666666,
              "#ed7953"
             ],
             [
              0.7777777777777778,
              "#fb9f3a"
             ],
             [
              0.8888888888888888,
              "#fdca26"
             ],
             [
              1,
              "#f0f921"
             ]
            ],
            "type": "histogram2d"
           }
          ],
          "histogram2dcontour": [
           {
            "colorbar": {
             "outlinewidth": 0,
             "ticks": ""
            },
            "colorscale": [
             [
              0,
              "#0d0887"
             ],
             [
              0.1111111111111111,
              "#46039f"
             ],
             [
              0.2222222222222222,
              "#7201a8"
             ],
             [
              0.3333333333333333,
              "#9c179e"
             ],
             [
              0.4444444444444444,
              "#bd3786"
             ],
             [
              0.5555555555555556,
              "#d8576b"
             ],
             [
              0.6666666666666666,
              "#ed7953"
             ],
             [
              0.7777777777777778,
              "#fb9f3a"
             ],
             [
              0.8888888888888888,
              "#fdca26"
             ],
             [
              1,
              "#f0f921"
             ]
            ],
            "type": "histogram2dcontour"
           }
          ],
          "mesh3d": [
           {
            "colorbar": {
             "outlinewidth": 0,
             "ticks": ""
            },
            "type": "mesh3d"
           }
          ],
          "parcoords": [
           {
            "line": {
             "colorbar": {
              "outlinewidth": 0,
              "ticks": ""
             }
            },
            "type": "parcoords"
           }
          ],
          "pie": [
           {
            "automargin": true,
            "type": "pie"
           }
          ],
          "scatter": [
           {
            "fillpattern": {
             "fillmode": "overlay",
             "size": 10,
             "solidity": 0.2
            },
            "type": "scatter"
           }
          ],
          "scatter3d": [
           {
            "line": {
             "colorbar": {
              "outlinewidth": 0,
              "ticks": ""
             }
            },
            "marker": {
             "colorbar": {
              "outlinewidth": 0,
              "ticks": ""
             }
            },
            "type": "scatter3d"
           }
          ],
          "scattercarpet": [
           {
            "marker": {
             "colorbar": {
              "outlinewidth": 0,
              "ticks": ""
             }
            },
            "type": "scattercarpet"
           }
          ],
          "scattergeo": [
           {
            "marker": {
             "colorbar": {
              "outlinewidth": 0,
              "ticks": ""
             }
            },
            "type": "scattergeo"
           }
          ],
          "scattergl": [
           {
            "marker": {
             "colorbar": {
              "outlinewidth": 0,
              "ticks": ""
             }
            },
            "type": "scattergl"
           }
          ],
          "scattermapbox": [
           {
            "marker": {
             "colorbar": {
              "outlinewidth": 0,
              "ticks": ""
             }
            },
            "type": "scattermapbox"
           }
          ],
          "scatterpolar": [
           {
            "marker": {
             "colorbar": {
              "outlinewidth": 0,
              "ticks": ""
             }
            },
            "type": "scatterpolar"
           }
          ],
          "scatterpolargl": [
           {
            "marker": {
             "colorbar": {
              "outlinewidth": 0,
              "ticks": ""
             }
            },
            "type": "scatterpolargl"
           }
          ],
          "scatterternary": [
           {
            "marker": {
             "colorbar": {
              "outlinewidth": 0,
              "ticks": ""
             }
            },
            "type": "scatterternary"
           }
          ],
          "surface": [
           {
            "colorbar": {
             "outlinewidth": 0,
             "ticks": ""
            },
            "colorscale": [
             [
              0,
              "#0d0887"
             ],
             [
              0.1111111111111111,
              "#46039f"
             ],
             [
              0.2222222222222222,
              "#7201a8"
             ],
             [
              0.3333333333333333,
              "#9c179e"
             ],
             [
              0.4444444444444444,
              "#bd3786"
             ],
             [
              0.5555555555555556,
              "#d8576b"
             ],
             [
              0.6666666666666666,
              "#ed7953"
             ],
             [
              0.7777777777777778,
              "#fb9f3a"
             ],
             [
              0.8888888888888888,
              "#fdca26"
             ],
             [
              1,
              "#f0f921"
             ]
            ],
            "type": "surface"
           }
          ],
          "table": [
           {
            "cells": {
             "fill": {
              "color": "#EBF0F8"
             },
             "line": {
              "color": "white"
             }
            },
            "header": {
             "fill": {
              "color": "#C8D4E3"
             },
             "line": {
              "color": "white"
             }
            },
            "type": "table"
           }
          ]
         },
         "layout": {
          "annotationdefaults": {
           "arrowcolor": "#2a3f5f",
           "arrowhead": 0,
           "arrowwidth": 1
          },
          "autotypenumbers": "strict",
          "coloraxis": {
           "colorbar": {
            "outlinewidth": 0,
            "ticks": ""
           }
          },
          "colorscale": {
           "diverging": [
            [
             0,
             "#8e0152"
            ],
            [
             0.1,
             "#c51b7d"
            ],
            [
             0.2,
             "#de77ae"
            ],
            [
             0.3,
             "#f1b6da"
            ],
            [
             0.4,
             "#fde0ef"
            ],
            [
             0.5,
             "#f7f7f7"
            ],
            [
             0.6,
             "#e6f5d0"
            ],
            [
             0.7,
             "#b8e186"
            ],
            [
             0.8,
             "#7fbc41"
            ],
            [
             0.9,
             "#4d9221"
            ],
            [
             1,
             "#276419"
            ]
           ],
           "sequential": [
            [
             0,
             "#0d0887"
            ],
            [
             0.1111111111111111,
             "#46039f"
            ],
            [
             0.2222222222222222,
             "#7201a8"
            ],
            [
             0.3333333333333333,
             "#9c179e"
            ],
            [
             0.4444444444444444,
             "#bd3786"
            ],
            [
             0.5555555555555556,
             "#d8576b"
            ],
            [
             0.6666666666666666,
             "#ed7953"
            ],
            [
             0.7777777777777778,
             "#fb9f3a"
            ],
            [
             0.8888888888888888,
             "#fdca26"
            ],
            [
             1,
             "#f0f921"
            ]
           ],
           "sequentialminus": [
            [
             0,
             "#0d0887"
            ],
            [
             0.1111111111111111,
             "#46039f"
            ],
            [
             0.2222222222222222,
             "#7201a8"
            ],
            [
             0.3333333333333333,
             "#9c179e"
            ],
            [
             0.4444444444444444,
             "#bd3786"
            ],
            [
             0.5555555555555556,
             "#d8576b"
            ],
            [
             0.6666666666666666,
             "#ed7953"
            ],
            [
             0.7777777777777778,
             "#fb9f3a"
            ],
            [
             0.8888888888888888,
             "#fdca26"
            ],
            [
             1,
             "#f0f921"
            ]
           ]
          },
          "colorway": [
           "#636efa",
           "#EF553B",
           "#00cc96",
           "#ab63fa",
           "#FFA15A",
           "#19d3f3",
           "#FF6692",
           "#B6E880",
           "#FF97FF",
           "#FECB52"
          ],
          "font": {
           "color": "#2a3f5f"
          },
          "geo": {
           "bgcolor": "white",
           "lakecolor": "white",
           "landcolor": "#E5ECF6",
           "showlakes": true,
           "showland": true,
           "subunitcolor": "white"
          },
          "hoverlabel": {
           "align": "left"
          },
          "hovermode": "closest",
          "mapbox": {
           "style": "light"
          },
          "paper_bgcolor": "white",
          "plot_bgcolor": "#E5ECF6",
          "polar": {
           "angularaxis": {
            "gridcolor": "white",
            "linecolor": "white",
            "ticks": ""
           },
           "bgcolor": "#E5ECF6",
           "radialaxis": {
            "gridcolor": "white",
            "linecolor": "white",
            "ticks": ""
           }
          },
          "scene": {
           "xaxis": {
            "backgroundcolor": "#E5ECF6",
            "gridcolor": "white",
            "gridwidth": 2,
            "linecolor": "white",
            "showbackground": true,
            "ticks": "",
            "zerolinecolor": "white"
           },
           "yaxis": {
            "backgroundcolor": "#E5ECF6",
            "gridcolor": "white",
            "gridwidth": 2,
            "linecolor": "white",
            "showbackground": true,
            "ticks": "",
            "zerolinecolor": "white"
           },
           "zaxis": {
            "backgroundcolor": "#E5ECF6",
            "gridcolor": "white",
            "gridwidth": 2,
            "linecolor": "white",
            "showbackground": true,
            "ticks": "",
            "zerolinecolor": "white"
           }
          },
          "shapedefaults": {
           "line": {
            "color": "#2a3f5f"
           }
          },
          "ternary": {
           "aaxis": {
            "gridcolor": "white",
            "linecolor": "white",
            "ticks": ""
           },
           "baxis": {
            "gridcolor": "white",
            "linecolor": "white",
            "ticks": ""
           },
           "bgcolor": "#E5ECF6",
           "caxis": {
            "gridcolor": "white",
            "linecolor": "white",
            "ticks": ""
           }
          },
          "title": {
           "x": 0.05
          },
          "xaxis": {
           "automargin": true,
           "gridcolor": "white",
           "linecolor": "white",
           "ticks": "",
           "title": {
            "standoff": 15
           },
           "zerolinecolor": "white",
           "zerolinewidth": 2
          },
          "yaxis": {
           "automargin": true,
           "gridcolor": "white",
           "linecolor": "white",
           "ticks": "",
           "title": {
            "standoff": 15
           },
           "zerolinecolor": "white",
           "zerolinewidth": 2
          }
         }
        },
        "title": {
         "text": "Emissions Map",
         "x": 0.5
        },
        "width": 1080
       }
      }
     },
     "metadata": {},
     "output_type": "display_data"
    }
   ],
   "source": [
    "\n",
    "\n",
    "# create the Choropleth Map\n",
    "fig = px.choropleth(emico, locations=\"Country\", \n",
    "                    locationmode='country names', \n",
    "                    color=\"Emissions\",\n",
    "                    hover_name=\"Country\", \n",
    "                    color_continuous_scale='oranges',\n",
    "                    )\n",
    "fig.update_layout(title=\"Emissions Map\")\n",
    "fig.update_layout(height=600, width=1080)\n",
    "# Center the title\n",
    "fig.update_layout(title_x=0.5)\n",
    "fig.update_layout(margin={\"r\":0,\"t\":0,\"l\":0,\"b\":0})\n",
    "fig.show()"
   ]
  },
  {
   "cell_type": "code",
   "execution_count": 572,
   "metadata": {},
   "outputs": [],
   "source": [
    "worldpop=pd.read_csv('world_population.csv')\n",
    "worldpop=worldpop.rename(columns={'Country/Territory': 'Country'})"
   ]
  },
  {
   "cell_type": "code",
   "execution_count": 573,
   "metadata": {},
   "outputs": [
    {
     "data": {
      "text/html": [
       "<div>\n",
       "<style scoped>\n",
       "    .dataframe tbody tr th:only-of-type {\n",
       "        vertical-align: middle;\n",
       "    }\n",
       "\n",
       "    .dataframe tbody tr th {\n",
       "        vertical-align: top;\n",
       "    }\n",
       "\n",
       "    .dataframe thead th {\n",
       "        text-align: right;\n",
       "    }\n",
       "</style>\n",
       "<table border=\"1\" class=\"dataframe\">\n",
       "  <thead>\n",
       "    <tr style=\"text-align: right;\">\n",
       "      <th></th>\n",
       "      <th>Rank</th>\n",
       "      <th>CCA3</th>\n",
       "      <th>Country</th>\n",
       "      <th>Capital</th>\n",
       "      <th>Continent</th>\n",
       "      <th>2022 Population</th>\n",
       "      <th>2020 Population</th>\n",
       "      <th>2015 Population</th>\n",
       "      <th>2010 Population</th>\n",
       "      <th>2000 Population</th>\n",
       "      <th>1990 Population</th>\n",
       "      <th>1980 Population</th>\n",
       "      <th>1970 Population</th>\n",
       "      <th>Area (km²)</th>\n",
       "      <th>Density (per km²)</th>\n",
       "      <th>Growth Rate</th>\n",
       "      <th>World Population Percentage</th>\n",
       "      <th>Region</th>\n",
       "      <th>Emissions</th>\n",
       "    </tr>\n",
       "  </thead>\n",
       "  <tbody>\n",
       "    <tr>\n",
       "      <th>0</th>\n",
       "      <td>34</td>\n",
       "      <td>DZA</td>\n",
       "      <td>Algeria</td>\n",
       "      <td>Algiers</td>\n",
       "      <td>Africa</td>\n",
       "      <td>44903225</td>\n",
       "      <td>43451666</td>\n",
       "      <td>39543154</td>\n",
       "      <td>35856344</td>\n",
       "      <td>30774621</td>\n",
       "      <td>25518074</td>\n",
       "      <td>18739378</td>\n",
       "      <td>13795915</td>\n",
       "      <td>2381741</td>\n",
       "      <td>18.8531</td>\n",
       "      <td>1.0164</td>\n",
       "      <td>0.56</td>\n",
       "      <td>Africa</td>\n",
       "      <td>6113.441756</td>\n",
       "    </tr>\n",
       "    <tr>\n",
       "      <th>1</th>\n",
       "      <td>42</td>\n",
       "      <td>AGO</td>\n",
       "      <td>Angola</td>\n",
       "      <td>Luanda</td>\n",
       "      <td>Africa</td>\n",
       "      <td>35588987</td>\n",
       "      <td>33428485</td>\n",
       "      <td>28127721</td>\n",
       "      <td>23364185</td>\n",
       "      <td>16394062</td>\n",
       "      <td>11828638</td>\n",
       "      <td>8330047</td>\n",
       "      <td>6029700</td>\n",
       "      <td>1246700</td>\n",
       "      <td>28.5466</td>\n",
       "      <td>1.0315</td>\n",
       "      <td>0.45</td>\n",
       "      <td>Africa</td>\n",
       "      <td>1771.640266</td>\n",
       "    </tr>\n",
       "    <tr>\n",
       "      <th>2</th>\n",
       "      <td>33</td>\n",
       "      <td>ARG</td>\n",
       "      <td>Argentina</td>\n",
       "      <td>Buenos Aires</td>\n",
       "      <td>South America</td>\n",
       "      <td>45510318</td>\n",
       "      <td>45036032</td>\n",
       "      <td>43257065</td>\n",
       "      <td>41100123</td>\n",
       "      <td>37070774</td>\n",
       "      <td>32637657</td>\n",
       "      <td>28024803</td>\n",
       "      <td>23842803</td>\n",
       "      <td>2780400</td>\n",
       "      <td>16.3683</td>\n",
       "      <td>1.0052</td>\n",
       "      <td>0.57</td>\n",
       "      <td>Central and South America</td>\n",
       "      <td>6558.256740</td>\n",
       "    </tr>\n",
       "    <tr>\n",
       "      <th>3</th>\n",
       "      <td>55</td>\n",
       "      <td>AUS</td>\n",
       "      <td>Australia</td>\n",
       "      <td>Canberra</td>\n",
       "      <td>Oceania</td>\n",
       "      <td>26177413</td>\n",
       "      <td>25670051</td>\n",
       "      <td>23820236</td>\n",
       "      <td>22019168</td>\n",
       "      <td>19017963</td>\n",
       "      <td>17048003</td>\n",
       "      <td>14706322</td>\n",
       "      <td>12595034</td>\n",
       "      <td>7692024</td>\n",
       "      <td>3.4032</td>\n",
       "      <td>1.0099</td>\n",
       "      <td>0.33</td>\n",
       "      <td>Asia Pacific</td>\n",
       "      <td>7775.794053</td>\n",
       "    </tr>\n",
       "    <tr>\n",
       "      <th>4</th>\n",
       "      <td>91</td>\n",
       "      <td>AZE</td>\n",
       "      <td>Azerbaijan</td>\n",
       "      <td>Baku</td>\n",
       "      <td>Asia</td>\n",
       "      <td>10358074</td>\n",
       "      <td>10284951</td>\n",
       "      <td>9863480</td>\n",
       "      <td>9237202</td>\n",
       "      <td>8190337</td>\n",
       "      <td>7427836</td>\n",
       "      <td>6383060</td>\n",
       "      <td>5425317</td>\n",
       "      <td>86600</td>\n",
       "      <td>119.6082</td>\n",
       "      <td>1.0044</td>\n",
       "      <td>0.13</td>\n",
       "      <td>Russia &amp; Caspian</td>\n",
       "      <td>946.942928</td>\n",
       "    </tr>\n",
       "    <tr>\n",
       "      <th>...</th>\n",
       "      <td>...</td>\n",
       "      <td>...</td>\n",
       "      <td>...</td>\n",
       "      <td>...</td>\n",
       "      <td>...</td>\n",
       "      <td>...</td>\n",
       "      <td>...</td>\n",
       "      <td>...</td>\n",
       "      <td>...</td>\n",
       "      <td>...</td>\n",
       "      <td>...</td>\n",
       "      <td>...</td>\n",
       "      <td>...</td>\n",
       "      <td>...</td>\n",
       "      <td>...</td>\n",
       "      <td>...</td>\n",
       "      <td>...</td>\n",
       "      <td>...</td>\n",
       "      <td>...</td>\n",
       "    </tr>\n",
       "    <tr>\n",
       "      <th>89</th>\n",
       "      <td>133</td>\n",
       "      <td>URY</td>\n",
       "      <td>Uruguay</td>\n",
       "      <td>Montevideo</td>\n",
       "      <td>South America</td>\n",
       "      <td>3422794</td>\n",
       "      <td>3429086</td>\n",
       "      <td>3402818</td>\n",
       "      <td>3352651</td>\n",
       "      <td>3292224</td>\n",
       "      <td>3117012</td>\n",
       "      <td>2953750</td>\n",
       "      <td>2790265</td>\n",
       "      <td>181034</td>\n",
       "      <td>18.9069</td>\n",
       "      <td>0.9990</td>\n",
       "      <td>0.04</td>\n",
       "      <td>Central and South America</td>\n",
       "      <td>908.923504</td>\n",
       "    </tr>\n",
       "    <tr>\n",
       "      <th>90</th>\n",
       "      <td>43</td>\n",
       "      <td>UZB</td>\n",
       "      <td>Uzbekistan</td>\n",
       "      <td>Tashkent</td>\n",
       "      <td>Asia</td>\n",
       "      <td>34627652</td>\n",
       "      <td>33526656</td>\n",
       "      <td>30949417</td>\n",
       "      <td>28614227</td>\n",
       "      <td>24925554</td>\n",
       "      <td>20579100</td>\n",
       "      <td>15947129</td>\n",
       "      <td>12011361</td>\n",
       "      <td>447400</td>\n",
       "      <td>77.3975</td>\n",
       "      <td>1.0160</td>\n",
       "      <td>0.43</td>\n",
       "      <td>Russia &amp; Caspian</td>\n",
       "      <td>2747.778754</td>\n",
       "    </tr>\n",
       "    <tr>\n",
       "      <th>91</th>\n",
       "      <td>51</td>\n",
       "      <td>VEN</td>\n",
       "      <td>Venezuela</td>\n",
       "      <td>Caracas</td>\n",
       "      <td>South America</td>\n",
       "      <td>28301696</td>\n",
       "      <td>28490453</td>\n",
       "      <td>30529716</td>\n",
       "      <td>28715022</td>\n",
       "      <td>24427729</td>\n",
       "      <td>19750579</td>\n",
       "      <td>15210443</td>\n",
       "      <td>11355475</td>\n",
       "      <td>916445</td>\n",
       "      <td>30.8820</td>\n",
       "      <td>1.0036</td>\n",
       "      <td>0.35</td>\n",
       "      <td>Central and South America</td>\n",
       "      <td>6691.244875</td>\n",
       "    </tr>\n",
       "    <tr>\n",
       "      <th>92</th>\n",
       "      <td>16</td>\n",
       "      <td>VNM</td>\n",
       "      <td>Vietnam</td>\n",
       "      <td>Hanoi</td>\n",
       "      <td>Asia</td>\n",
       "      <td>98186856</td>\n",
       "      <td>96648685</td>\n",
       "      <td>92191398</td>\n",
       "      <td>87411012</td>\n",
       "      <td>79001142</td>\n",
       "      <td>66912613</td>\n",
       "      <td>52968270</td>\n",
       "      <td>41928849</td>\n",
       "      <td>331212</td>\n",
       "      <td>296.4472</td>\n",
       "      <td>1.0074</td>\n",
       "      <td>1.23</td>\n",
       "      <td>Asia Pacific</td>\n",
       "      <td>3133.670373</td>\n",
       "    </tr>\n",
       "    <tr>\n",
       "      <th>93</th>\n",
       "      <td>46</td>\n",
       "      <td>YEM</td>\n",
       "      <td>Yemen</td>\n",
       "      <td>Sanaa</td>\n",
       "      <td>Asia</td>\n",
       "      <td>33696614</td>\n",
       "      <td>32284046</td>\n",
       "      <td>28516545</td>\n",
       "      <td>24743946</td>\n",
       "      <td>18628700</td>\n",
       "      <td>13375121</td>\n",
       "      <td>9204938</td>\n",
       "      <td>6843607</td>\n",
       "      <td>527968</td>\n",
       "      <td>63.8232</td>\n",
       "      <td>1.0217</td>\n",
       "      <td>0.42</td>\n",
       "      <td>Middle East</td>\n",
       "      <td>633.684177</td>\n",
       "    </tr>\n",
       "  </tbody>\n",
       "</table>\n",
       "<p>94 rows × 19 columns</p>\n",
       "</div>"
      ],
      "text/plain": [
       "    Rank CCA3     Country       Capital      Continent  2022 Population  \\\n",
       "0     34  DZA     Algeria       Algiers         Africa         44903225   \n",
       "1     42  AGO      Angola        Luanda         Africa         35588987   \n",
       "2     33  ARG   Argentina  Buenos Aires  South America         45510318   \n",
       "3     55  AUS   Australia      Canberra        Oceania         26177413   \n",
       "4     91  AZE  Azerbaijan          Baku           Asia         10358074   \n",
       "..   ...  ...         ...           ...            ...              ...   \n",
       "89   133  URY     Uruguay    Montevideo  South America          3422794   \n",
       "90    43  UZB  Uzbekistan      Tashkent           Asia         34627652   \n",
       "91    51  VEN   Venezuela       Caracas  South America         28301696   \n",
       "92    16  VNM     Vietnam         Hanoi           Asia         98186856   \n",
       "93    46  YEM       Yemen         Sanaa           Asia         33696614   \n",
       "\n",
       "    2020 Population  2015 Population  2010 Population  2000 Population  \\\n",
       "0          43451666         39543154         35856344         30774621   \n",
       "1          33428485         28127721         23364185         16394062   \n",
       "2          45036032         43257065         41100123         37070774   \n",
       "3          25670051         23820236         22019168         19017963   \n",
       "4          10284951          9863480          9237202          8190337   \n",
       "..              ...              ...              ...              ...   \n",
       "89          3429086          3402818          3352651          3292224   \n",
       "90         33526656         30949417         28614227         24925554   \n",
       "91         28490453         30529716         28715022         24427729   \n",
       "92         96648685         92191398         87411012         79001142   \n",
       "93         32284046         28516545         24743946         18628700   \n",
       "\n",
       "    1990 Population  1980 Population  1970 Population  Area (km²)  \\\n",
       "0          25518074         18739378         13795915     2381741   \n",
       "1          11828638          8330047          6029700     1246700   \n",
       "2          32637657         28024803         23842803     2780400   \n",
       "3          17048003         14706322         12595034     7692024   \n",
       "4           7427836          6383060          5425317       86600   \n",
       "..              ...              ...              ...         ...   \n",
       "89          3117012          2953750          2790265      181034   \n",
       "90         20579100         15947129         12011361      447400   \n",
       "91         19750579         15210443         11355475      916445   \n",
       "92         66912613         52968270         41928849      331212   \n",
       "93         13375121          9204938          6843607      527968   \n",
       "\n",
       "    Density (per km²)  Growth Rate  World Population Percentage  \\\n",
       "0             18.8531       1.0164                         0.56   \n",
       "1             28.5466       1.0315                         0.45   \n",
       "2             16.3683       1.0052                         0.57   \n",
       "3              3.4032       1.0099                         0.33   \n",
       "4            119.6082       1.0044                         0.13   \n",
       "..                ...          ...                          ...   \n",
       "89            18.9069       0.9990                         0.04   \n",
       "90            77.3975       1.0160                         0.43   \n",
       "91            30.8820       1.0036                         0.35   \n",
       "92           296.4472       1.0074                         1.23   \n",
       "93            63.8232       1.0217                         0.42   \n",
       "\n",
       "                       Region    Emissions  \n",
       "0                      Africa  6113.441756  \n",
       "1                      Africa  1771.640266  \n",
       "2   Central and South America  6558.256740  \n",
       "3                Asia Pacific  7775.794053  \n",
       "4            Russia & Caspian   946.942928  \n",
       "..                        ...          ...  \n",
       "89  Central and South America   908.923504  \n",
       "90           Russia & Caspian  2747.778754  \n",
       "91  Central and South America  6691.244875  \n",
       "92               Asia Pacific  3133.670373  \n",
       "93                Middle East   633.684177  \n",
       "\n",
       "[94 rows x 19 columns]"
      ]
     },
     "execution_count": 573,
     "metadata": {},
     "output_type": "execute_result"
    }
   ],
   "source": [
    "merged = pd.merge(worldpop, emico, on='Country')\n",
    "\n",
    "# print the merged table\n",
    "merged"
   ]
  },
  {
   "cell_type": "code",
   "execution_count": 575,
   "metadata": {},
   "outputs": [
    {
     "data": {
      "text/html": [
       "<div>\n",
       "<style scoped>\n",
       "    .dataframe tbody tr th:only-of-type {\n",
       "        vertical-align: middle;\n",
       "    }\n",
       "\n",
       "    .dataframe tbody tr th {\n",
       "        vertical-align: top;\n",
       "    }\n",
       "\n",
       "    .dataframe thead th {\n",
       "        text-align: right;\n",
       "    }\n",
       "</style>\n",
       "<table border=\"1\" class=\"dataframe\">\n",
       "  <thead>\n",
       "    <tr style=\"text-align: right;\">\n",
       "      <th></th>\n",
       "      <th>Type</th>\n",
       "      <th>Emissions</th>\n",
       "    </tr>\n",
       "  </thead>\n",
       "  <tbody>\n",
       "    <tr>\n",
       "      <th>0</th>\n",
       "      <td>Energy</td>\n",
       "      <td>270694.345156</td>\n",
       "    </tr>\n",
       "    <tr>\n",
       "      <th>1</th>\n",
       "      <td>Agriculture</td>\n",
       "      <td>150805.103144</td>\n",
       "    </tr>\n",
       "    <tr>\n",
       "      <th>2</th>\n",
       "      <td>Waste</td>\n",
       "      <td>75079.707008</td>\n",
       "    </tr>\n",
       "    <tr>\n",
       "      <th>3</th>\n",
       "      <td>Other</td>\n",
       "      <td>10028.772862</td>\n",
       "    </tr>\n",
       "  </tbody>\n",
       "</table>\n",
       "</div>"
      ],
      "text/plain": [
       "          Type      Emissions\n",
       "0       Energy  270694.345156\n",
       "1  Agriculture  150805.103144\n",
       "2        Waste   75079.707008\n",
       "3        Other   10028.772862"
      ]
     },
     "execution_count": 575,
     "metadata": {},
     "output_type": "execute_result"
    }
   ],
   "source": [
    "query4 = \"SELECT type, SUM(emissions) as Emissions FROM methane WHERE region IS NOT 'World' AND type IS NOT 'Total' GROUP BY type ORDER BY Emissions desc\"\n",
    "cursor.execute(query4)\n",
    "types=pd.DataFrame(cursor.fetchall(),columns=['Type', 'Emissions'])\n",
    "types"
   ]
  },
  {
   "cell_type": "code",
   "execution_count": 576,
   "metadata": {},
   "outputs": [
    {
     "data": {
      "application/vnd.plotly.v1+json": {
       "config": {
        "plotlyServerURL": "https://plot.ly"
       },
       "data": [
        {
         "branchvalues": "total",
         "customdata": [
          [
           257.6112060546875
          ],
          [
           400.9695739746094
          ],
          [
           3152.9326171875
          ],
          [
           2450.463134765625
          ],
          [
           195.19752502441412
          ],
          [
           0.9645923376083374
          ],
          [
           2410.234375
          ],
          [
           105.69103240966795
          ],
          [
           673.754150390625
          ],
          [
           97.25849151611328
          ],
          [
           14020.0888671875
          ],
          [
           0.8412342667579651
          ],
          [
           279.5312194824219
          ],
          [
           1072.710693359375
          ],
          [
           250.8168029785156
          ],
          [
           1223.9329833984375
          ],
          [
           18501.9140625
          ],
          [
           1795.9031982421875
          ],
          [
           23.8709659576416
          ],
          [
           185.70077514648438
          ],
          [
           267.4549255371094
          ],
          [
           555.5286865234375
          ],
          [
           240.09361267089844
          ],
          [
           359.8713684082031
          ],
          [
           684.5322265625
          ],
          [
           0.438739001750946
          ],
          [
           120.17935180664062
          ],
          [
           27.72345733642578
          ],
          [
           1910.0897216796875
          ],
          [
           8851.337890625
          ],
          [
           1564.2218017578125
          ],
          [
           5.590458393096924
          ],
          [
           29.567506790161133
          ],
          [
           1269.36865234375
          ],
          [
           169.0322265625
          ],
          [
           438.159423828125
          ],
          [
           52.83677673339844
          ],
          [
           57.39715576171875
          ],
          [
           18358.517578125
          ],
          [
           3518.344482421875
          ],
          [
           802.454345703125
          ],
          [
           168.22393798828125
          ],
          [
           39.840087890625
          ],
          [
           800.047119140625
          ],
          [
           991.6493530273438
          ],
          [
           25.815542221069336
          ],
          [
           762.0980834960938
          ],
          [
           1250.951904296875
          ],
          [
           508.4415588378906
          ],
          [
           7.323050498962402
          ],
          [
           12.067669868469238
          ],
          [
           9.208291053771973
          ],
          [
           67.41584777832031
          ],
          [
           189.0501708984375
          ],
          [
           2420.791015625
          ],
          [
           549.2429809570312
          ],
          [
           295.3795166015625
          ],
          [
           210.65399169921875
          ],
          [
           181.9879150390625
          ],
          [
           466.8436584472656
          ],
          [
           1155.9993896484375
          ],
          [
           696.4396362304688
          ],
          [
           2082.188232421875
          ],
          [
           103.60773468017578
          ],
          [
           37.05989837646485
          ],
          [
           7259.01416015625
          ],
          [
           2811.933837890625
          ],
          [
           139.63568115234375
          ],
          [
           2284.248779296875
          ],
          [
           3300.293701171875
          ],
          [
           5319.4560546875
          ],
          [
           835.0689086914062
          ],
          [
           639.6949462890625
          ],
          [
           1714.848876953125
          ],
          [
           615.5054321289062
          ],
          [
           11.3685884475708
          ],
          [
           367.9289245605469
          ],
          [
           2022.095947265625
          ],
          [
           121.0209732055664
          ],
          [
           261.5225524902344
          ],
          [
           0.078720711171627
          ],
          [
           86.26763916015625
          ],
          [
           48.42922592163086
          ],
          [
           625.7147827148438
          ],
          [
           760.32275390625
          ],
          [
           695.7181396484375
          ],
          [
           1549.11083984375
          ],
          [
           128.65838623046875
          ],
          [
           133.05282592773438
          ],
          [
           1180.221923828125
          ],
          [
           2078.933837890625
          ],
          [
           50.73590850830078
          ],
          [
           4.345527648925781
          ],
          [
           97.72246551513672
          ],
          [
           304.87176513671875
          ],
          [
           377.1493225097656
          ],
          [
           47.437843322753906
          ],
          [
           1064.6658935546875
          ],
          [
           9409.3251953125
          ],
          [
           751.9459228515625
          ],
          [
           901.6826171875
          ],
          [
           1015.0640869140624
          ],
          [
           2193.2626953125
          ],
          [
           181.29298400878906
          ],
          [
           1680.766338227189
          ],
          [
           429.99269936369205
          ],
          [
           790.3379052684998
          ],
          [
           1438.2969348760962
          ],
          [
           202.65774801468856
          ],
          [
           117.01026632828685
          ],
          [
           203.1913481592973
          ],
          [
           24.751976944696697
          ],
          [
           81.33935587982326
          ],
          [
           5.494457112453304
          ],
          [
           1153.0848560586294
          ],
          [
           25.527592402627707
          ],
          [
           138.08337555051705
          ],
          [
           1602.6755662120706
          ],
          [
           42.06335778048334
          ],
          [
           17652.64168468119
          ],
          [
           506.6637070852516
          ],
          [
           188.40415133056456
          ],
          [
           63.883317118515976
          ],
          [
           12.360000679028492
          ],
          [
           220.93318854434511
          ],
          [
           26.687906451687603
          ],
          [
           225.41730145796237
          ],
          [
           541.1403381968913
          ],
          [
           101.4816946496544
          ],
          [
           5.884472216119484
          ],
          [
           8.538935426651708
          ],
          [
           462.37066535917984
          ],
          [
           1578.3277125173531
          ],
          [
           130.57045278202858
          ],
          [
           153.50853637187834
          ],
          [
           213.13656758579864
          ],
          [
           74.98226373186678
          ],
          [
           0.0080000003799796
          ],
          [
           43.178366387109044
          ],
          [
           3426.387667855376
          ],
          [
           3988.687086664416
          ],
          [
           3305.348356795901
          ],
          [
           1802.6655180746357
          ],
          [
           26.796818162304792
          ],
          [
           176.84925362882086
          ],
          [
           176.50156468098453
          ],
          [
           32.56753223432475
          ],
          [
           1671.0866502658996
          ],
          [
           141.01313199639026
          ],
          [
           124.12631539835013
          ],
          [
           782.122955689986
          ],
          [
           3.6389758951588393
          ],
          [
           1104.215936535366
          ],
          [
           274.4978151338787
          ],
          [
           908.6112209521267
          ],
          [
           170.99499907509758
          ],
          [
           16.118152917960664
          ],
          [
           139.9884617356576
          ],
          [
           2.1331345240201927
          ],
          [
           19.91537760531624
          ],
          [
           20.49756224978708
          ],
          [
           34.947168367046714
          ],
          [
           2038.9397098322802
          ],
          [
           24.516385506413293
          ],
          [
           548.5356241360569
          ],
          [
           1651.5444673255924
          ],
          [
           363.5091050831233
          ],
          [
           36.33780903136346
          ],
          [
           261.6134018235412
          ],
          [
           328.66119985939906
          ],
          [
           580.4072347455258
          ],
          [
           15.253185368042388
          ],
          [
           77.0012014244638
          ],
          [
           82.93850754306825
          ],
          [
           554.2374107814845
          ],
          [
           700.7510636340724
          ],
          [
           162.51695429682914
          ],
          [
           10322.414637187849
          ],
          [
           1989.2301256860312
          ],
          [
           12.109826366335966
          ],
          [
           5.804972919700345
          ],
          [
           29.507999420166016
          ],
          [
           1075.5781990369221
          ],
          [
           69.94398479627829
          ],
          [
           99.80988616160921
          ],
          [
           27.39718695292785
          ],
          [
           151.00959081839244
          ],
          [
           192.42963028155427
          ],
          [
           305.3278010597213
          ],
          [
           18.764633018401074
          ],
          [
           128.2604776990892
          ],
          [
           42.9906920983358
          ],
          [
           2825.440851842663
          ],
          [
           385.47962223897395
          ],
          [
           883.7674481697095
          ],
          [
           153.89807829194606
          ],
          [
           9641.604765287997
          ],
          [
           6.632554154326
          ],
          [
           472.4073711535509
          ],
          [
           1806.461348387983
          ],
          [
           43.69644353695244
          ],
          [
           106.58046249875375
          ],
          [
           6.475720882415772
          ],
          [
           81.70992279052734
          ],
          [
           85.4056396484375
          ],
          [
           241.8041534423828
          ],
          [
           0.96043461561203
          ],
          [
           1.4815037250518799
          ],
          [
           54.36891174316406
          ],
          [
           43.24774169921875
          ],
          [
           146.38304138183594
          ],
          [
           2.236912250518799
          ],
          [
           387.7013854980469
          ],
          [
           0.2182318568229675
          ],
          [
           23.94275665283203
          ],
          [
           42.62068176269531
          ],
          [
           173.46914672851562
          ],
          [
           13.205078125
          ],
          [
           1377.8709716796875
          ],
          [
           17.213926315307617
          ],
          [
           11.996964454650879
          ],
          [
           28.767297744750977
          ],
          [
           2.341588258743286
          ],
          [
           201.8346710205078
          ],
          [
           5.735045909881592
          ],
          [
           3.937007188796997
          ],
          [
           12.003130912780762
          ],
          [
           2.3649120330810547
          ],
          [
           2.5068612098693848
          ],
          [
           2.18104100227356
          ],
          [
           177.9381866455078
          ],
          [
           290.8985595703125
          ],
          [
           39.94035720825195
          ],
          [
           5.498744964599609
          ],
          [
           3.931763887405396
          ],
          [
           67.88993072509766
          ],
          [
           26.986873626708984
          ],
          [
           17.251436233520508
          ],
          [
           26.177602767944336
          ],
          [
           1.915329933166504
          ],
          [
           571.2567138671875
          ],
          [
           1156.4476318359375
          ],
          [
           37.20094299316406
          ],
          [
           3.4219236373901367
          ],
          [
           0.6706947088241577
          ],
          [
           30.06378936767578
          ],
          [
           21.91791725158692
          ],
          [
           0.5782174468040466
          ],
          [
           17.407060623168945
          ],
          [
           34.40288162231445
          ],
          [
           28.59282493591309
          ],
          [
           0.8249784111976624
          ],
          [
           0.7648441195487976
          ],
          [
           15.316903114318848
          ],
          [
           3.0724658966064453
          ],
          [
           27.7065544128418
          ],
          [
           54.36140441894531
          ],
          [
           6.77065896987915
          ],
          [
           6.258478164672852
          ],
          [
           106.01947784423828
          ],
          [
           1.329381227493286
          ],
          [
           15.82078742980957
          ],
          [
           8.055159568786621
          ],
          [
           10.043743133544922
          ],
          [
           347.1287841796875
          ],
          [
           5.547865867614746
          ],
          [
           9.764742851257324
          ],
          [
           682.0879516601562
          ],
          [
           98.36200714111328
          ],
          [
           8.988862991333008
          ],
          [
           84.71975708007812
          ],
          [
           149.16900634765625
          ],
          [
           156.03668212890625
          ],
          [
           13.040079116821287
          ],
          [
           50.463600158691406
          ],
          [
           52.23356628417969
          ],
          [
           44.48818588256836
          ],
          [
           5.521563529968262
          ],
          [
           11.696823120117188
          ],
          [
           323.421630859375
          ],
          [
           27.830101013183597
          ],
          [
           4.177417755126953
          ],
          [
           0.0518720373511314
          ],
          [
           9.578605651855469
          ],
          [
           1.593956470489502
          ],
          [
           23.82088088989257
          ],
          [
           42.40746307373047
          ],
          [
           3.3333332538604736
          ],
          [
           36.831764221191406
          ],
          [
           10.069866180419922
          ],
          [
           1.1841530799865725
          ],
          [
           1225.0953369140625
          ],
          [
           56.79174041748047
          ],
          [
           9.78065299987793
          ],
          [
           5.858375072479248
          ],
          [
           4.220635890960693
          ],
          [
           1.4148011207580566
          ],
          [
           71.82522583007812
          ],
          [
           2.969593048095703
          ],
          [
           64.70419311523438
          ],
          [
           538.3626098632812
          ],
          [
           3.5114591121673584
          ],
          [
           3.845616340637207
          ],
          [
           10.820260047912598
          ],
          [
           34.768653869628906
          ],
          [
           0.5342848896980286
          ],
          [
           510.9656066894531
          ],
          [
           151.49404907226562
          ],
          [
           705.7312622070312
          ],
          [
           619.0491333007812
          ],
          [
           104.27503204345705
          ],
          [
           172.3936004638672
          ],
          [
           825.30224609375
          ],
          [
           42.10737228393555
          ],
          [
           87.08856201171875
          ],
          [
           843.4016723632812
          ],
          [
           3800.05712890625
          ],
          [
           9.676277160644531
          ],
          [
           194.51437377929688
          ],
          [
           897.9652709960938
          ],
          [
           22.856338500976562
          ],
          [
           70.19759368896484
          ],
          [
           10424.1416015625
          ],
          [
           643.7293090820312
          ],
          [
           30.08274269104004
          ],
          [
           220.2355194091797
          ],
          [
           160.3751678466797
          ],
          [
           566.8305053710938
          ],
          [
           40.26875686645508
          ],
          [
           235.403060913086
          ],
          [
           947.93408203125
          ],
          [
           11.922514915466309
          ],
          [
           24.038236618041992
          ],
          [
           37.32962417602539
          ],
          [
           414.8589172363281
          ],
          [
           4320.9970703125
          ],
          [
           630.8741455078125
          ],
          [
           21.208723068237305
          ],
          [
           14.088419914245604
          ],
          [
           605.1366577148438
          ],
          [
           159.3824005126953
          ],
          [
           68.93671417236328
          ],
          [
           8.758500099182129
          ],
          [
           8.31496524810791
          ],
          [
           5551.7607421875
          ],
          [
           4568.9384765625
          ],
          [
           931.3856201171876
          ],
          [
           362.19647216796875
          ],
          [
           282.4595642089844
          ],
          [
           579.596923828125
          ],
          [
           243.30145263671875
          ],
          [
           200.5210418701172
          ],
          [
           198.9350128173828
          ],
          [
           180.646713256836
          ],
          [
           527.2578125
          ],
          [
           257.99493408203125
          ],
          [
           112.2239990234375
          ],
          [
           19.37256050109864
          ],
          [
           83.35655975341797
          ],
          [
           893.9114379882812
          ],
          [
           1994.62744140625
          ],
          [
           16.66093635559082
          ],
          [
           405.1220397949219
          ],
          [
           155.7392578125
          ],
          [
           15.859238624572754
          ],
          [
           137.8373260498047
          ],
          [
           165.2618865966797
          ],
          [
           152.30502319335938
          ],
          [
           862.4360961914062
          ],
          [
           46.46012496948242
          ],
          [
           64.55561828613281
          ],
          [
           3214.4951171875
          ],
          [
           1850.4228515625
          ],
          [
           249.8030548095703
          ],
          [
           2321.68505859375
          ],
          [
           436.8053588867188
          ],
          [
           854.3361206054688
          ],
          [
           115.26103973388672
          ],
          [
           355.07745361328125
          ],
          [
           649.79248046875
          ],
          [
           347.61395263671875
          ],
          [
           64.40309143066406
          ],
          [
           244.40768432617188
          ],
          [
           3931.244384765625
          ],
          [
           955.779541015625
          ],
          [
           101.4332275390625
          ],
          [
           2.491305351257324
          ],
          [
           49.99830627441406
          ],
          [
           17.910375595092773
          ],
          [
           108.4111557006836
          ],
          [
           834.2140502929688
          ],
          [
           121.76155090332033
          ],
          [
           233.21359252929688
          ],
          [
           159.8013458251953
          ],
          [
           169.2044219970703
          ],
          [
           227.552978515625
          ],
          [
           703.9661254882812
          ],
          [
           37.90462112426758
          ],
          [
           62.29243469238281
          ],
          [
           108.2469711303711
          ],
          [
           48.02981185913086
          ],
          [
           401.859619140625
          ],
          [
           462.6634826660156
          ],
          [
           1113.1412353515625
          ],
          [
           5117.92822265625
          ],
          [
           138.26727294921875
          ],
          [
           280.4182434082031
          ],
          [
           379.9532775878906
          ],
          [
           783.7750244140625
          ],
          [
           161.4936981201172
          ],
          [
           1521.2504831440874
          ],
          [
           383.54622893692675
          ],
          [
           1907.8890281745112
          ],
          [
           1654.8413008759817
          ],
          [
           190.08170498550027
          ],
          [
           133.66698915958213
          ],
          [
           1674.6364811929373
          ],
          [
           66.0335541096498
          ],
          [
           433.0303082955949
          ],
          [
           754.5923806773249
          ],
          [
           9907.739911595203
          ],
          [
           23.689521483978034
          ],
          [
           189.40157981573236
          ],
          [
           1424.3663851487204
          ],
          [
           209.15719268593912
          ],
          [
           1068.9775264132384
          ],
          [
           16640.131791961823
          ],
          [
           1103.4880828840967
          ],
          [
           170.2564632273211
          ],
          [
           154.0619615931597
          ],
          [
           207.0255307730254
          ],
          [
           425.7944644040637
          ],
          [
           166.64996160062088
          ],
          [
           268.64987198274054
          ],
          [
           675.22584433917
          ],
          [
           97.66467758315349
          ],
          [
           95.1905739065367
          ],
          [
           26.14165498140224
          ],
          [
           1247.7702243227382
          ],
          [
           5573.678384249948
          ],
          [
           1104.76352659041
          ],
          [
           145.1090608867015
          ],
          [
           22.86683356976925
          ],
          [
           805.1893459798342
          ],
          [
           121.9840438707982
          ],
          [
           375.75753372636
          ],
          [
           40.4874854557854
          ],
          [
           45.92583975029726
          ],
          [
           11583.746191174878
          ],
          [
           3871.2383167215075
          ],
          [
           2972.203094264093
          ],
          [
           1658.371946726529
          ],
          [
           204.4191471731552
          ],
          [
           544.0895042460471
          ],
          [
           626.8546903827013
          ],
          [
           136.77673073153244
          ],
          [
           1514.0502197758299
          ],
          [
           934.768587780832
          ],
          [
           400.7403632884762
          ],
          [
           719.7786108138442
          ],
          [
           94.99194841943681
          ],
          [
           15.825325252927374
          ],
          [
           1056.9781842205698
          ],
          [
           532.2850762682656
          ],
          [
           1665.9616971925104
          ],
          [
           373.76830819923015
          ],
          [
           335.66692817284684
          ],
          [
           154.8059096162636
          ],
          [
           163.29641449835813
          ],
          [
           351.0318743652443
          ],
          [
           972.4048035054712
          ],
          [
           543.5080953373911
          ],
          [
           1886.2842357221948
          ],
          [
           62.81688329340648
          ],
          [
           518.5556107965834
          ],
          [
           4468.731333407164
          ],
          [
           1975.7206237404785
          ],
          [
           168.79448533056788
          ],
          [
           1941.9432163049082
          ],
          [
           2317.707433963007
          ],
          [
           3686.2851702758667
          ],
          [
           714.1030858615532
          ],
          [
           426.4829026488916
          ],
          [
           1277.4742185080777
          ],
          [
           533.4965884864051
          ],
          [
           678.4221859856564
          ],
          [
           241.04329633968237
          ],
          [
           9258.543163203864
          ],
          [
           1813.226190567537
          ],
          [
           200.96408988559443
          ],
          [
           2.370607008850207
          ],
          [
           68.79712548784184
          ],
          [
           33.07957221362512
          ],
          [
           496.4495781273303
          ],
          [
           957.7509887537203
          ],
          [
           522.8101573231229
          ],
          [
           1179.9091130475313
          ],
          [
           121.22057139632726
          ],
          [
           151.66707784865602
          ],
          [
           994.7983012530656
          ],
          [
           1316.4611891102563
          ],
          [
           35.27429518066708
          ],
          [
           117.33265908235799
          ],
          [
           76.58015571099173
          ],
          [
           2733.3310669291122
          ],
          [
           375.7294900335674
          ],
          [
           813.8484917723899
          ],
          [
           881.6307759529836
          ],
          [
           9019.480140254705
          ],
          [
           643.2374613959558
          ],
          [
           593.025111645889
          ],
          [
           1602.5000998297182
          ],
          [
           1733.1875327617142
          ],
          [
           141.86040069193695
          ]
         ],
         "domain": {
          "x": [
           0,
           1
          ],
          "y": [
           0,
           1
          ]
         },
         "hovertemplate": "labels=%{label}<br>emissions_sum=%{value}<br>parent=%{parent}<br>id=%{id}<br>emissions=%{color}<extra></extra>",
         "ids": [
          "Algeria/Agriculture",
          "Angola/Agriculture",
          "Argentina/Agriculture",
          "Australia/Agriculture",
          "Azerbaijan/Agriculture",
          "Bahrain/Agriculture",
          "Bangladesh/Agriculture",
          "Benin/Agriculture",
          "Bolivia/Agriculture",
          "Botswana/Agriculture",
          "Brazil/Agriculture",
          "Brunei/Agriculture",
          "Cameroon/Agriculture",
          "Canada/Agriculture",
          "Central African Republic/Agriculture",
          "Chad/Agriculture",
          "China/Agriculture",
          "Colombia/Agriculture",
          "Congo/Agriculture",
          "Cote d'Ivoire/Agriculture",
          "Cuba/Agriculture",
          "Democratic Republic of Congo/Agriculture",
          "Denmark/Agriculture",
          "Ecuador/Agriculture",
          "Egypt/Agriculture",
          "Equatorial Guinea/Agriculture",
          "Eritrea/Agriculture",
          "Estonia/Agriculture",
          "Ethiopia/Agriculture",
          "European Union/Agriculture",
          "France/Agriculture",
          "Gabon/Agriculture",
          "Gambia/Agriculture",
          "Germany/Agriculture",
          "Ghana/Agriculture",
          "Guinea/Agriculture",
          "Guinea-Bissau/Agriculture",
          "Guyana/Agriculture",
          "India/Agriculture",
          "Indonesia/Agriculture",
          "Iran/Agriculture",
          "Iraq/Agriculture",
          "Israel/Agriculture",
          "Italy/Agriculture",
          "Japan/Agriculture",
          "Jordan/Agriculture",
          "Kazakhstan/Agriculture",
          "Kenya/Agriculture",
          "Korea/Agriculture",
          "Kuwait/Agriculture",
          "Lebanon/Agriculture",
          "Liberia/Agriculture",
          "Libya/Agriculture",
          "Malaysia/Agriculture",
          "Mexico/Agriculture",
          "Mongolia/Agriculture",
          "Morocco/Agriculture",
          "Mozambique/Agriculture",
          "Namibia/Agriculture",
          "Netherlands/Agriculture",
          "New Zealand/Agriculture",
          "Niger/Agriculture",
          "Nigeria/Agriculture",
          "Norway/Agriculture",
          "Oman/Agriculture",
          "Other/Agriculture",
          "Other EU17 countries/Agriculture",
          "Other EU7 countries/Agriculture",
          "Other countries in Europe/Agriculture",
          "Other countries in Southeast Asia/Agriculture",
          "Pakistan/Agriculture",
          "Paraguay/Agriculture",
          "Peru/Agriculture",
          "Philippines/Agriculture",
          "Poland/Agriculture",
          "Qatar/Agriculture",
          "Romania/Agriculture",
          "Russia/Agriculture",
          "Saudi Arabia/Agriculture",
          "Senegal/Agriculture",
          "Seychelles/Agriculture",
          "Sierra Leone/Agriculture",
          "Slovenia/Agriculture",
          "Somalia/Agriculture",
          "South Africa/Agriculture",
          "South Sudan/Agriculture",
          "Sudan/Agriculture",
          "Sweden/Agriculture",
          "Syria/Agriculture",
          "Tanzania/Agriculture",
          "Thailand/Agriculture",
          "Togo/Agriculture",
          "Trinidad and Tobago/Agriculture",
          "Tunisia/Agriculture",
          "Turkmenistan/Agriculture",
          "Ukraine/Agriculture",
          "United Arab Emirates/Agriculture",
          "United Kingdom/Agriculture",
          "United States/Agriculture",
          "Uruguay/Agriculture",
          "Uzbekistan/Agriculture",
          "Venezuela/Agriculture",
          "Vietnam/Agriculture",
          "Yemen/Agriculture",
          "Algeria/Energy",
          "Angola/Energy",
          "Argentina/Energy",
          "Australia/Energy",
          "Azerbaijan/Energy",
          "Bahrain/Energy",
          "Bangladesh/Energy",
          "Benin/Energy",
          "Bolivia/Energy",
          "Botswana/Energy",
          "Brazil/Energy",
          "Brunei/Energy",
          "Cameroon/Energy",
          "Canada/Energy",
          "Chad/Energy",
          "China/Energy",
          "Colombia/Energy",
          "Congo/Energy",
          "Cote d'Ivoire/Energy",
          "Cuba/Energy",
          "Democratic Republic of Congo/Energy",
          "Denmark/Energy",
          "Ecuador/Energy",
          "Egypt/Energy",
          "Equatorial Guinea/Energy",
          "Eritrea/Energy",
          "Estonia/Energy",
          "Ethiopia/Energy",
          "European Union/Energy",
          "France/Energy",
          "Gabon/Energy",
          "Germany/Energy",
          "Ghana/Energy",
          "Guinea/Energy",
          "Guyana/Energy",
          "India/Energy",
          "Indonesia/Energy",
          "Iran/Energy",
          "Iraq/Energy",
          "Israel/Energy",
          "Italy/Energy",
          "Japan/Energy",
          "Jordan/Energy",
          "Kazakhstan/Energy",
          "Kenya/Energy",
          "Korea/Energy",
          "Kuwait/Energy",
          "Lebanon/Energy",
          "Libya/Energy",
          "Malaysia/Energy",
          "Mexico/Energy",
          "Mongolia/Energy",
          "Morocco/Energy",
          "Mozambique/Energy",
          "Namibia/Energy",
          "Netherlands/Energy",
          "New Zealand/Energy",
          "Niger/Energy",
          "Nigeria/Energy",
          "Norway/Energy",
          "Oman/Energy",
          "Other/Energy",
          "Other EU17 countries/Energy",
          "Other EU7 countries/Energy",
          "Other countries in Europe/Energy",
          "Other countries in Southeast Asia/Energy",
          "Pakistan/Energy",
          "Paraguay/Energy",
          "Peru/Energy",
          "Philippines/Energy",
          "Poland/Energy",
          "Qatar/Energy",
          "Romania/Energy",
          "Russia/Energy",
          "Saudi Arabia/Energy",
          "Senegal/Energy",
          "Slovenia/Energy",
          "Somalia/Energy",
          "South Africa/Energy",
          "South Sudan/Energy",
          "Sudan/Energy",
          "Sweden/Energy",
          "Syria/Energy",
          "Tanzania/Energy",
          "Thailand/Energy",
          "Togo/Energy",
          "Trinidad and Tobago/Energy",
          "Tunisia/Energy",
          "Turkmenistan/Energy",
          "Ukraine/Energy",
          "United Arab Emirates/Energy",
          "United Kingdom/Energy",
          "United States/Energy",
          "Uruguay/Energy",
          "Uzbekistan/Energy",
          "Venezuela/Energy",
          "Vietnam/Energy",
          "Yemen/Energy",
          "Algeria/Other",
          "Angola/Other",
          "Argentina/Other",
          "Australia/Other",
          "Azerbaijan/Other",
          "Bahrain/Other",
          "Bangladesh/Other",
          "Benin/Other",
          "Bolivia/Other",
          "Botswana/Other",
          "Brazil/Other",
          "Brunei/Other",
          "Cameroon/Other",
          "Canada/Other",
          "Central African Republic/Other",
          "Chad/Other",
          "China/Other",
          "Colombia/Other",
          "Congo/Other",
          "Cote d'Ivoire/Other",
          "Cuba/Other",
          "Democratic Republic of Congo/Other",
          "Denmark/Other",
          "Ecuador/Other",
          "Egypt/Other",
          "Equatorial Guinea/Other",
          "Eritrea/Other",
          "Estonia/Other",
          "Ethiopia/Other",
          "European Union/Other",
          "France/Other",
          "Gabon/Other",
          "Gambia/Other",
          "Germany/Other",
          "Ghana/Other",
          "Guinea/Other",
          "Guinea-Bissau/Other",
          "Guyana/Other",
          "India/Other",
          "Indonesia/Other",
          "Iran/Other",
          "Iraq/Other",
          "Israel/Other",
          "Italy/Other",
          "Japan/Other",
          "Jordan/Other",
          "Kazakhstan/Other",
          "Kenya/Other",
          "Korea/Other",
          "Kuwait/Other",
          "Lebanon/Other",
          "Liberia/Other",
          "Libya/Other",
          "Malaysia/Other",
          "Mexico/Other",
          "Mongolia/Other",
          "Morocco/Other",
          "Mozambique/Other",
          "Namibia/Other",
          "Netherlands/Other",
          "New Zealand/Other",
          "Niger/Other",
          "Nigeria/Other",
          "Norway/Other",
          "Oman/Other",
          "Other/Other",
          "Other EU17 countries/Other",
          "Other EU7 countries/Other",
          "Other countries in Europe/Other",
          "Other countries in Southeast Asia/Other",
          "Pakistan/Other",
          "Paraguay/Other",
          "Peru/Other",
          "Philippines/Other",
          "Poland/Other",
          "Qatar/Other",
          "Romania/Other",
          "Russia/Other",
          "Saudi Arabia/Other",
          "Senegal/Other",
          "Seychelles/Other",
          "Sierra Leone/Other",
          "Slovenia/Other",
          "Somalia/Other",
          "South Africa/Other",
          "South Sudan/Other",
          "Sudan/Other",
          "Sweden/Other",
          "Syria/Other",
          "Tanzania/Other",
          "Thailand/Other",
          "Togo/Other",
          "Trinidad and Tobago/Other",
          "Tunisia/Other",
          "Turkmenistan/Other",
          "Ukraine/Other",
          "United Arab Emirates/Other",
          "United Kingdom/Other",
          "United States/Other",
          "Uruguay/Other",
          "Uzbekistan/Other",
          "Venezuela/Other",
          "Vietnam/Other",
          "Yemen/Other",
          "Algeria/Waste",
          "Angola/Waste",
          "Argentina/Waste",
          "Australia/Waste",
          "Azerbaijan/Waste",
          "Bahrain/Waste",
          "Bangladesh/Waste",
          "Benin/Waste",
          "Bolivia/Waste",
          "Botswana/Waste",
          "Brazil/Waste",
          "Brunei/Waste",
          "Cameroon/Waste",
          "Canada/Waste",
          "Central African Republic/Waste",
          "Chad/Waste",
          "China/Waste",
          "Colombia/Waste",
          "Congo/Waste",
          "Cote d'Ivoire/Waste",
          "Cuba/Waste",
          "Democratic Republic of Congo/Waste",
          "Denmark/Waste",
          "Ecuador/Waste",
          "Egypt/Waste",
          "Equatorial Guinea/Waste",
          "Eritrea/Waste",
          "Estonia/Waste",
          "Ethiopia/Waste",
          "European Union/Waste",
          "France/Waste",
          "Gabon/Waste",
          "Gambia/Waste",
          "Germany/Waste",
          "Ghana/Waste",
          "Guinea/Waste",
          "Guinea-Bissau/Waste",
          "Guyana/Waste",
          "India/Waste",
          "Indonesia/Waste",
          "Iran/Waste",
          "Iraq/Waste",
          "Israel/Waste",
          "Italy/Waste",
          "Japan/Waste",
          "Jordan/Waste",
          "Kazakhstan/Waste",
          "Kenya/Waste",
          "Korea/Waste",
          "Kuwait/Waste",
          "Lebanon/Waste",
          "Liberia/Waste",
          "Libya/Waste",
          "Malaysia/Waste",
          "Mexico/Waste",
          "Mongolia/Waste",
          "Morocco/Waste",
          "Mozambique/Waste",
          "Namibia/Waste",
          "Netherlands/Waste",
          "New Zealand/Waste",
          "Niger/Waste",
          "Nigeria/Waste",
          "Norway/Waste",
          "Oman/Waste",
          "Other/Waste",
          "Other EU17 countries/Waste",
          "Other EU7 countries/Waste",
          "Other countries in Europe/Waste",
          "Other countries in Southeast Asia/Waste",
          "Pakistan/Waste",
          "Paraguay/Waste",
          "Peru/Waste",
          "Philippines/Waste",
          "Poland/Waste",
          "Qatar/Waste",
          "Romania/Waste",
          "Russia/Waste",
          "Saudi Arabia/Waste",
          "Senegal/Waste",
          "Seychelles/Waste",
          "Sierra Leone/Waste",
          "Slovenia/Waste",
          "Somalia/Waste",
          "South Africa/Waste",
          "South Sudan/Waste",
          "Sudan/Waste",
          "Sweden/Waste",
          "Syria/Waste",
          "Tanzania/Waste",
          "Thailand/Waste",
          "Togo/Waste",
          "Trinidad and Tobago/Waste",
          "Tunisia/Waste",
          "Turkmenistan/Waste",
          "Ukraine/Waste",
          "United Arab Emirates/Waste",
          "United Kingdom/Waste",
          "United States/Waste",
          "Uruguay/Waste",
          "Uzbekistan/Waste",
          "Venezuela/Waste",
          "Vietnam/Waste",
          "Yemen/Waste",
          "Algeria",
          "Angola",
          "Argentina",
          "Australia",
          "Azerbaijan",
          "Bahrain",
          "Bangladesh",
          "Benin",
          "Bolivia",
          "Botswana",
          "Brazil",
          "Brunei",
          "Cameroon",
          "Canada",
          "Central African Republic",
          "Chad",
          "China",
          "Colombia",
          "Congo",
          "Cote d'Ivoire",
          "Cuba",
          "Democratic Republic of Congo",
          "Denmark",
          "Ecuador",
          "Egypt",
          "Equatorial Guinea",
          "Eritrea",
          "Estonia",
          "Ethiopia",
          "European Union",
          "France",
          "Gabon",
          "Gambia",
          "Germany",
          "Ghana",
          "Guinea",
          "Guinea-Bissau",
          "Guyana",
          "India",
          "Indonesia",
          "Iran",
          "Iraq",
          "Israel",
          "Italy",
          "Japan",
          "Jordan",
          "Kazakhstan",
          "Kenya",
          "Korea",
          "Kuwait",
          "Lebanon",
          "Liberia",
          "Libya",
          "Malaysia",
          "Mexico",
          "Mongolia",
          "Morocco",
          "Mozambique",
          "Namibia",
          "Netherlands",
          "New Zealand",
          "Niger",
          "Nigeria",
          "Norway",
          "Oman",
          "Other",
          "Other EU17 countries",
          "Other EU7 countries",
          "Other countries in Europe",
          "Other countries in Southeast Asia",
          "Pakistan",
          "Paraguay",
          "Peru",
          "Philippines",
          "Poland",
          "Qatar",
          "Romania",
          "Russia",
          "Saudi Arabia",
          "Senegal",
          "Seychelles",
          "Sierra Leone",
          "Slovenia",
          "Somalia",
          "South Africa",
          "South Sudan",
          "Sudan",
          "Sweden",
          "Syria",
          "Tanzania",
          "Thailand",
          "Togo",
          "Trinidad and Tobago",
          "Tunisia",
          "Turkmenistan",
          "Ukraine",
          "United Arab Emirates",
          "United Kingdom",
          "United States",
          "Uruguay",
          "Uzbekistan",
          "Venezuela",
          "Vietnam",
          "Yemen"
         ],
         "labels": [
          "Agriculture",
          "Agriculture",
          "Agriculture",
          "Agriculture",
          "Agriculture",
          "Agriculture",
          "Agriculture",
          "Agriculture",
          "Agriculture",
          "Agriculture",
          "Agriculture",
          "Agriculture",
          "Agriculture",
          "Agriculture",
          "Agriculture",
          "Agriculture",
          "Agriculture",
          "Agriculture",
          "Agriculture",
          "Agriculture",
          "Agriculture",
          "Agriculture",
          "Agriculture",
          "Agriculture",
          "Agriculture",
          "Agriculture",
          "Agriculture",
          "Agriculture",
          "Agriculture",
          "Agriculture",
          "Agriculture",
          "Agriculture",
          "Agriculture",
          "Agriculture",
          "Agriculture",
          "Agriculture",
          "Agriculture",
          "Agriculture",
          "Agriculture",
          "Agriculture",
          "Agriculture",
          "Agriculture",
          "Agriculture",
          "Agriculture",
          "Agriculture",
          "Agriculture",
          "Agriculture",
          "Agriculture",
          "Agriculture",
          "Agriculture",
          "Agriculture",
          "Agriculture",
          "Agriculture",
          "Agriculture",
          "Agriculture",
          "Agriculture",
          "Agriculture",
          "Agriculture",
          "Agriculture",
          "Agriculture",
          "Agriculture",
          "Agriculture",
          "Agriculture",
          "Agriculture",
          "Agriculture",
          "Agriculture",
          "Agriculture",
          "Agriculture",
          "Agriculture",
          "Agriculture",
          "Agriculture",
          "Agriculture",
          "Agriculture",
          "Agriculture",
          "Agriculture",
          "Agriculture",
          "Agriculture",
          "Agriculture",
          "Agriculture",
          "Agriculture",
          "Agriculture",
          "Agriculture",
          "Agriculture",
          "Agriculture",
          "Agriculture",
          "Agriculture",
          "Agriculture",
          "Agriculture",
          "Agriculture",
          "Agriculture",
          "Agriculture",
          "Agriculture",
          "Agriculture",
          "Agriculture",
          "Agriculture",
          "Agriculture",
          "Agriculture",
          "Agriculture",
          "Agriculture",
          "Agriculture",
          "Agriculture",
          "Agriculture",
          "Agriculture",
          "Agriculture",
          "Energy",
          "Energy",
          "Energy",
          "Energy",
          "Energy",
          "Energy",
          "Energy",
          "Energy",
          "Energy",
          "Energy",
          "Energy",
          "Energy",
          "Energy",
          "Energy",
          "Energy",
          "Energy",
          "Energy",
          "Energy",
          "Energy",
          "Energy",
          "Energy",
          "Energy",
          "Energy",
          "Energy",
          "Energy",
          "Energy",
          "Energy",
          "Energy",
          "Energy",
          "Energy",
          "Energy",
          "Energy",
          "Energy",
          "Energy",
          "Energy",
          "Energy",
          "Energy",
          "Energy",
          "Energy",
          "Energy",
          "Energy",
          "Energy",
          "Energy",
          "Energy",
          "Energy",
          "Energy",
          "Energy",
          "Energy",
          "Energy",
          "Energy",
          "Energy",
          "Energy",
          "Energy",
          "Energy",
          "Energy",
          "Energy",
          "Energy",
          "Energy",
          "Energy",
          "Energy",
          "Energy",
          "Energy",
          "Energy",
          "Energy",
          "Energy",
          "Energy",
          "Energy",
          "Energy",
          "Energy",
          "Energy",
          "Energy",
          "Energy",
          "Energy",
          "Energy",
          "Energy",
          "Energy",
          "Energy",
          "Energy",
          "Energy",
          "Energy",
          "Energy",
          "Energy",
          "Energy",
          "Energy",
          "Energy",
          "Energy",
          "Energy",
          "Energy",
          "Energy",
          "Energy",
          "Energy",
          "Energy",
          "Energy",
          "Energy",
          "Energy",
          "Energy",
          "Energy",
          "Energy",
          "Other",
          "Other",
          "Other",
          "Other",
          "Other",
          "Other",
          "Other",
          "Other",
          "Other",
          "Other",
          "Other",
          "Other",
          "Other",
          "Other",
          "Other",
          "Other",
          "Other",
          "Other",
          "Other",
          "Other",
          "Other",
          "Other",
          "Other",
          "Other",
          "Other",
          "Other",
          "Other",
          "Other",
          "Other",
          "Other",
          "Other",
          "Other",
          "Other",
          "Other",
          "Other",
          "Other",
          "Other",
          "Other",
          "Other",
          "Other",
          "Other",
          "Other",
          "Other",
          "Other",
          "Other",
          "Other",
          "Other",
          "Other",
          "Other",
          "Other",
          "Other",
          "Other",
          "Other",
          "Other",
          "Other",
          "Other",
          "Other",
          "Other",
          "Other",
          "Other",
          "Other",
          "Other",
          "Other",
          "Other",
          "Other",
          "Other",
          "Other",
          "Other",
          "Other",
          "Other",
          "Other",
          "Other",
          "Other",
          "Other",
          "Other",
          "Other",
          "Other",
          "Other",
          "Other",
          "Other",
          "Other",
          "Other",
          "Other",
          "Other",
          "Other",
          "Other",
          "Other",
          "Other",
          "Other",
          "Other",
          "Other",
          "Other",
          "Other",
          "Other",
          "Other",
          "Other",
          "Other",
          "Other",
          "Other",
          "Other",
          "Other",
          "Other",
          "Other",
          "Other",
          "Waste",
          "Waste",
          "Waste",
          "Waste",
          "Waste",
          "Waste",
          "Waste",
          "Waste",
          "Waste",
          "Waste",
          "Waste",
          "Waste",
          "Waste",
          "Waste",
          "Waste",
          "Waste",
          "Waste",
          "Waste",
          "Waste",
          "Waste",
          "Waste",
          "Waste",
          "Waste",
          "Waste",
          "Waste",
          "Waste",
          "Waste",
          "Waste",
          "Waste",
          "Waste",
          "Waste",
          "Waste",
          "Waste",
          "Waste",
          "Waste",
          "Waste",
          "Waste",
          "Waste",
          "Waste",
          "Waste",
          "Waste",
          "Waste",
          "Waste",
          "Waste",
          "Waste",
          "Waste",
          "Waste",
          "Waste",
          "Waste",
          "Waste",
          "Waste",
          "Waste",
          "Waste",
          "Waste",
          "Waste",
          "Waste",
          "Waste",
          "Waste",
          "Waste",
          "Waste",
          "Waste",
          "Waste",
          "Waste",
          "Waste",
          "Waste",
          "Waste",
          "Waste",
          "Waste",
          "Waste",
          "Waste",
          "Waste",
          "Waste",
          "Waste",
          "Waste",
          "Waste",
          "Waste",
          "Waste",
          "Waste",
          "Waste",
          "Waste",
          "Waste",
          "Waste",
          "Waste",
          "Waste",
          "Waste",
          "Waste",
          "Waste",
          "Waste",
          "Waste",
          "Waste",
          "Waste",
          "Waste",
          "Waste",
          "Waste",
          "Waste",
          "Waste",
          "Waste",
          "Waste",
          "Waste",
          "Waste",
          "Waste",
          "Waste",
          "Waste",
          "Waste",
          "Algeria",
          "Angola",
          "Argentina",
          "Australia",
          "Azerbaijan",
          "Bahrain",
          "Bangladesh",
          "Benin",
          "Bolivia",
          "Botswana",
          "Brazil",
          "Brunei",
          "Cameroon",
          "Canada",
          "Central African Republic",
          "Chad",
          "China",
          "Colombia",
          "Congo",
          "Cote d'Ivoire",
          "Cuba",
          "Democratic Republic of Congo",
          "Denmark",
          "Ecuador",
          "Egypt",
          "Equatorial Guinea",
          "Eritrea",
          "Estonia",
          "Ethiopia",
          "European Union",
          "France",
          "Gabon",
          "Gambia",
          "Germany",
          "Ghana",
          "Guinea",
          "Guinea-Bissau",
          "Guyana",
          "India",
          "Indonesia",
          "Iran",
          "Iraq",
          "Israel",
          "Italy",
          "Japan",
          "Jordan",
          "Kazakhstan",
          "Kenya",
          "Korea",
          "Kuwait",
          "Lebanon",
          "Liberia",
          "Libya",
          "Malaysia",
          "Mexico",
          "Mongolia",
          "Morocco",
          "Mozambique",
          "Namibia",
          "Netherlands",
          "New Zealand",
          "Niger",
          "Nigeria",
          "Norway",
          "Oman",
          "Other",
          "Other EU17 countries",
          "Other EU7 countries",
          "Other countries in Europe",
          "Other countries in Southeast Asia",
          "Pakistan",
          "Paraguay",
          "Peru",
          "Philippines",
          "Poland",
          "Qatar",
          "Romania",
          "Russia",
          "Saudi Arabia",
          "Senegal",
          "Seychelles",
          "Sierra Leone",
          "Slovenia",
          "Somalia",
          "South Africa",
          "South Sudan",
          "Sudan",
          "Sweden",
          "Syria",
          "Tanzania",
          "Thailand",
          "Togo",
          "Trinidad and Tobago",
          "Tunisia",
          "Turkmenistan",
          "Ukraine",
          "United Arab Emirates",
          "United Kingdom",
          "United States",
          "Uruguay",
          "Uzbekistan",
          "Venezuela",
          "Vietnam",
          "Yemen"
         ],
         "marker": {
          "coloraxis": "coloraxis",
          "colors": [
           257.6112060546875,
           400.9695739746094,
           3152.9326171875,
           2450.463134765625,
           195.19752502441412,
           0.9645923376083374,
           2410.234375,
           105.69103240966795,
           673.754150390625,
           97.25849151611328,
           14020.0888671875,
           0.8412342667579651,
           279.5312194824219,
           1072.710693359375,
           250.8168029785156,
           1223.9329833984375,
           18501.9140625,
           1795.9031982421875,
           23.8709659576416,
           185.70077514648438,
           267.4549255371094,
           555.5286865234375,
           240.09361267089844,
           359.8713684082031,
           684.5322265625,
           0.438739001750946,
           120.17935180664062,
           27.72345733642578,
           1910.0897216796875,
           8851.337890625,
           1564.2218017578125,
           5.590458393096924,
           29.567506790161133,
           1269.36865234375,
           169.0322265625,
           438.159423828125,
           52.83677673339844,
           57.39715576171875,
           18358.517578125,
           3518.344482421875,
           802.454345703125,
           168.22393798828125,
           39.840087890625,
           800.047119140625,
           991.6493530273438,
           25.815542221069336,
           762.0980834960938,
           1250.951904296875,
           508.4415588378906,
           7.323050498962402,
           12.067669868469238,
           9.208291053771973,
           67.41584777832031,
           189.0501708984375,
           2420.791015625,
           549.2429809570312,
           295.3795166015625,
           210.65399169921875,
           181.9879150390625,
           466.8436584472656,
           1155.9993896484375,
           696.4396362304688,
           2082.188232421875,
           103.60773468017578,
           37.05989837646485,
           7259.01416015625,
           2811.933837890625,
           139.63568115234375,
           2284.248779296875,
           3300.293701171875,
           5319.4560546875,
           835.0689086914062,
           639.6949462890625,
           1714.848876953125,
           615.5054321289062,
           11.3685884475708,
           367.9289245605469,
           2022.095947265625,
           121.0209732055664,
           261.5225524902344,
           0.078720711171627,
           86.26763916015625,
           48.42922592163086,
           625.7147827148438,
           760.32275390625,
           695.7181396484375,
           1549.11083984375,
           128.65838623046875,
           133.05282592773438,
           1180.221923828125,
           2078.933837890625,
           50.73590850830078,
           4.345527648925781,
           97.72246551513672,
           304.87176513671875,
           377.1493225097656,
           47.437843322753906,
           1064.6658935546875,
           9409.3251953125,
           751.9459228515625,
           901.6826171875,
           1015.0640869140624,
           2193.2626953125,
           181.29298400878906,
           1680.766338227189,
           429.99269936369205,
           790.3379052684998,
           1438.2969348760962,
           202.65774801468856,
           117.01026632828685,
           203.1913481592973,
           24.751976944696697,
           81.33935587982326,
           5.494457112453304,
           1153.0848560586294,
           25.527592402627707,
           138.08337555051705,
           1602.6755662120706,
           42.06335778048334,
           17652.64168468119,
           506.6637070852516,
           188.40415133056456,
           63.883317118515976,
           12.360000679028492,
           220.93318854434511,
           26.687906451687603,
           225.41730145796237,
           541.1403381968913,
           101.4816946496544,
           5.884472216119484,
           8.538935426651708,
           462.37066535917984,
           1578.3277125173531,
           130.57045278202858,
           153.50853637187834,
           213.13656758579864,
           74.98226373186678,
           0.0080000003799796,
           43.178366387109044,
           3426.387667855376,
           3988.687086664416,
           3305.348356795901,
           1802.6655180746357,
           26.796818162304792,
           176.84925362882086,
           176.50156468098453,
           32.56753223432475,
           1671.0866502658996,
           141.01313199639026,
           124.12631539835013,
           782.122955689986,
           3.6389758951588393,
           1104.215936535366,
           274.4978151338787,
           908.6112209521267,
           170.99499907509758,
           16.118152917960664,
           139.9884617356576,
           2.1331345240201927,
           19.91537760531624,
           20.49756224978708,
           34.947168367046714,
           2038.9397098322802,
           24.516385506413293,
           548.5356241360569,
           1651.5444673255924,
           363.5091050831233,
           36.33780903136346,
           261.6134018235412,
           328.66119985939906,
           580.4072347455258,
           15.253185368042388,
           77.0012014244638,
           82.93850754306825,
           554.2374107814845,
           700.7510636340724,
           162.51695429682914,
           10322.414637187849,
           1989.2301256860312,
           12.109826366335966,
           5.804972919700345,
           29.507999420166016,
           1075.5781990369221,
           69.94398479627829,
           99.80988616160921,
           27.39718695292785,
           151.00959081839244,
           192.42963028155427,
           305.3278010597213,
           18.764633018401074,
           128.2604776990892,
           42.9906920983358,
           2825.440851842663,
           385.47962223897395,
           883.7674481697095,
           153.89807829194606,
           9641.604765287997,
           6.632554154326,
           472.4073711535509,
           1806.461348387983,
           43.69644353695244,
           106.58046249875375,
           6.475720882415772,
           81.70992279052734,
           85.4056396484375,
           241.8041534423828,
           0.96043461561203,
           1.4815037250518799,
           54.36891174316406,
           43.24774169921875,
           146.38304138183594,
           2.236912250518799,
           387.7013854980469,
           0.2182318568229675,
           23.94275665283203,
           42.62068176269531,
           173.46914672851562,
           13.205078125,
           1377.8709716796875,
           17.213926315307617,
           11.996964454650879,
           28.767297744750977,
           2.341588258743286,
           201.8346710205078,
           5.735045909881592,
           3.937007188796997,
           12.003130912780762,
           2.3649120330810547,
           2.5068612098693848,
           2.18104100227356,
           177.9381866455078,
           290.8985595703125,
           39.94035720825195,
           5.498744964599609,
           3.931763887405396,
           67.88993072509766,
           26.986873626708984,
           17.251436233520508,
           26.177602767944336,
           1.915329933166504,
           571.2567138671875,
           1156.4476318359375,
           37.20094299316406,
           3.4219236373901367,
           0.6706947088241577,
           30.06378936767578,
           21.91791725158692,
           0.5782174468040466,
           17.407060623168945,
           34.40288162231445,
           28.59282493591309,
           0.8249784111976624,
           0.7648441195487976,
           15.316903114318848,
           3.0724658966064453,
           27.7065544128418,
           54.36140441894531,
           6.77065896987915,
           6.258478164672852,
           106.01947784423828,
           1.329381227493286,
           15.82078742980957,
           8.055159568786621,
           10.043743133544922,
           347.1287841796875,
           5.547865867614746,
           9.764742851257324,
           682.0879516601562,
           98.36200714111328,
           8.988862991333008,
           84.71975708007812,
           149.16900634765625,
           156.03668212890625,
           13.040079116821287,
           50.463600158691406,
           52.23356628417969,
           44.48818588256836,
           5.521563529968262,
           11.696823120117188,
           323.421630859375,
           27.830101013183597,
           4.177417755126953,
           0.0518720373511314,
           9.578605651855469,
           1.593956470489502,
           23.82088088989257,
           42.40746307373047,
           3.3333332538604736,
           36.831764221191406,
           10.069866180419922,
           1.1841530799865725,
           1225.0953369140625,
           56.79174041748047,
           9.78065299987793,
           5.858375072479248,
           4.220635890960693,
           1.4148011207580566,
           71.82522583007812,
           2.969593048095703,
           64.70419311523438,
           538.3626098632812,
           3.5114591121673584,
           3.845616340637207,
           10.820260047912598,
           34.768653869628906,
           0.5342848896980286,
           510.9656066894531,
           151.49404907226562,
           705.7312622070312,
           619.0491333007812,
           104.27503204345705,
           172.3936004638672,
           825.30224609375,
           42.10737228393555,
           87.08856201171875,
           843.4016723632812,
           3800.05712890625,
           9.676277160644531,
           194.51437377929688,
           897.9652709960938,
           22.856338500976562,
           70.19759368896484,
           10424.1416015625,
           643.7293090820312,
           30.08274269104004,
           220.2355194091797,
           160.3751678466797,
           566.8305053710938,
           40.26875686645508,
           235.403060913086,
           947.93408203125,
           11.922514915466309,
           24.038236618041992,
           37.32962417602539,
           414.8589172363281,
           4320.9970703125,
           630.8741455078125,
           21.208723068237305,
           14.088419914245604,
           605.1366577148438,
           159.3824005126953,
           68.93671417236328,
           8.758500099182129,
           8.31496524810791,
           5551.7607421875,
           4568.9384765625,
           931.3856201171876,
           362.19647216796875,
           282.4595642089844,
           579.596923828125,
           243.30145263671875,
           200.5210418701172,
           198.9350128173828,
           180.646713256836,
           527.2578125,
           257.99493408203125,
           112.2239990234375,
           19.37256050109864,
           83.35655975341797,
           893.9114379882812,
           1994.62744140625,
           16.66093635559082,
           405.1220397949219,
           155.7392578125,
           15.859238624572754,
           137.8373260498047,
           165.2618865966797,
           152.30502319335938,
           862.4360961914062,
           46.46012496948242,
           64.55561828613281,
           3214.4951171875,
           1850.4228515625,
           249.8030548095703,
           2321.68505859375,
           436.8053588867188,
           854.3361206054688,
           115.26103973388672,
           355.07745361328125,
           649.79248046875,
           347.61395263671875,
           64.40309143066406,
           244.40768432617188,
           3931.244384765625,
           955.779541015625,
           101.4332275390625,
           2.491305351257324,
           49.99830627441406,
           17.910375595092773,
           108.4111557006836,
           834.2140502929688,
           121.76155090332033,
           233.21359252929688,
           159.8013458251953,
           169.2044219970703,
           227.552978515625,
           703.9661254882812,
           37.90462112426758,
           62.29243469238281,
           108.2469711303711,
           48.02981185913086,
           401.859619140625,
           462.6634826660156,
           1113.1412353515625,
           5117.92822265625,
           138.26727294921875,
           280.4182434082031,
           379.9532775878906,
           783.7750244140625,
           161.4936981201172,
           1521.2504831440874,
           383.54622893692675,
           1907.8890281745112,
           1654.8413008759817,
           190.08170498550027,
           133.66698915958213,
           1674.6364811929373,
           66.0335541096498,
           433.0303082955949,
           754.5923806773249,
           9907.739911595203,
           23.689521483978034,
           189.40157981573236,
           1424.3663851487204,
           209.15719268593912,
           1068.9775264132384,
           16640.131791961823,
           1103.4880828840967,
           170.2564632273211,
           154.0619615931597,
           207.0255307730254,
           425.7944644040637,
           166.64996160062088,
           268.64987198274054,
           675.22584433917,
           97.66467758315349,
           95.1905739065367,
           26.14165498140224,
           1247.7702243227382,
           5573.678384249948,
           1104.76352659041,
           145.1090608867015,
           22.86683356976925,
           805.1893459798342,
           121.9840438707982,
           375.75753372636,
           40.4874854557854,
           45.92583975029726,
           11583.746191174878,
           3871.2383167215075,
           2972.203094264093,
           1658.371946726529,
           204.4191471731552,
           544.0895042460471,
           626.8546903827013,
           136.77673073153244,
           1514.0502197758299,
           934.768587780832,
           400.7403632884762,
           719.7786108138442,
           94.99194841943681,
           15.825325252927374,
           1056.9781842205698,
           532.2850762682656,
           1665.9616971925104,
           373.76830819923015,
           335.66692817284684,
           154.8059096162636,
           163.29641449835813,
           351.0318743652443,
           972.4048035054712,
           543.5080953373911,
           1886.2842357221948,
           62.81688329340648,
           518.5556107965834,
           4468.731333407164,
           1975.7206237404785,
           168.79448533056788,
           1941.9432163049082,
           2317.707433963007,
           3686.2851702758667,
           714.1030858615532,
           426.4829026488916,
           1277.4742185080777,
           533.4965884864051,
           678.4221859856564,
           241.04329633968237,
           9258.543163203864,
           1813.226190567537,
           200.96408988559443,
           2.370607008850207,
           68.79712548784184,
           33.07957221362512,
           496.4495781273303,
           957.7509887537203,
           522.8101573231229,
           1179.9091130475313,
           121.22057139632726,
           151.66707784865602,
           994.7983012530656,
           1316.4611891102563,
           35.27429518066708,
           117.33265908235799,
           76.58015571099173,
           2733.3310669291122,
           375.7294900335674,
           813.8484917723899,
           881.6307759529836,
           9019.480140254705,
           643.2374613959558,
           593.025111645889,
           1602.5000998297182,
           1733.1875327617142,
           141.86040069193695
          ]
         },
         "name": "",
         "parents": [
          "Algeria",
          "Angola",
          "Argentina",
          "Australia",
          "Azerbaijan",
          "Bahrain",
          "Bangladesh",
          "Benin",
          "Bolivia",
          "Botswana",
          "Brazil",
          "Brunei",
          "Cameroon",
          "Canada",
          "Central African Republic",
          "Chad",
          "China",
          "Colombia",
          "Congo",
          "Cote d'Ivoire",
          "Cuba",
          "Democratic Republic of Congo",
          "Denmark",
          "Ecuador",
          "Egypt",
          "Equatorial Guinea",
          "Eritrea",
          "Estonia",
          "Ethiopia",
          "European Union",
          "France",
          "Gabon",
          "Gambia",
          "Germany",
          "Ghana",
          "Guinea",
          "Guinea-Bissau",
          "Guyana",
          "India",
          "Indonesia",
          "Iran",
          "Iraq",
          "Israel",
          "Italy",
          "Japan",
          "Jordan",
          "Kazakhstan",
          "Kenya",
          "Korea",
          "Kuwait",
          "Lebanon",
          "Liberia",
          "Libya",
          "Malaysia",
          "Mexico",
          "Mongolia",
          "Morocco",
          "Mozambique",
          "Namibia",
          "Netherlands",
          "New Zealand",
          "Niger",
          "Nigeria",
          "Norway",
          "Oman",
          "Other",
          "Other EU17 countries",
          "Other EU7 countries",
          "Other countries in Europe",
          "Other countries in Southeast Asia",
          "Pakistan",
          "Paraguay",
          "Peru",
          "Philippines",
          "Poland",
          "Qatar",
          "Romania",
          "Russia",
          "Saudi Arabia",
          "Senegal",
          "Seychelles",
          "Sierra Leone",
          "Slovenia",
          "Somalia",
          "South Africa",
          "South Sudan",
          "Sudan",
          "Sweden",
          "Syria",
          "Tanzania",
          "Thailand",
          "Togo",
          "Trinidad and Tobago",
          "Tunisia",
          "Turkmenistan",
          "Ukraine",
          "United Arab Emirates",
          "United Kingdom",
          "United States",
          "Uruguay",
          "Uzbekistan",
          "Venezuela",
          "Vietnam",
          "Yemen",
          "Algeria",
          "Angola",
          "Argentina",
          "Australia",
          "Azerbaijan",
          "Bahrain",
          "Bangladesh",
          "Benin",
          "Bolivia",
          "Botswana",
          "Brazil",
          "Brunei",
          "Cameroon",
          "Canada",
          "Chad",
          "China",
          "Colombia",
          "Congo",
          "Cote d'Ivoire",
          "Cuba",
          "Democratic Republic of Congo",
          "Denmark",
          "Ecuador",
          "Egypt",
          "Equatorial Guinea",
          "Eritrea",
          "Estonia",
          "Ethiopia",
          "European Union",
          "France",
          "Gabon",
          "Germany",
          "Ghana",
          "Guinea",
          "Guyana",
          "India",
          "Indonesia",
          "Iran",
          "Iraq",
          "Israel",
          "Italy",
          "Japan",
          "Jordan",
          "Kazakhstan",
          "Kenya",
          "Korea",
          "Kuwait",
          "Lebanon",
          "Libya",
          "Malaysia",
          "Mexico",
          "Mongolia",
          "Morocco",
          "Mozambique",
          "Namibia",
          "Netherlands",
          "New Zealand",
          "Niger",
          "Nigeria",
          "Norway",
          "Oman",
          "Other",
          "Other EU17 countries",
          "Other EU7 countries",
          "Other countries in Europe",
          "Other countries in Southeast Asia",
          "Pakistan",
          "Paraguay",
          "Peru",
          "Philippines",
          "Poland",
          "Qatar",
          "Romania",
          "Russia",
          "Saudi Arabia",
          "Senegal",
          "Slovenia",
          "Somalia",
          "South Africa",
          "South Sudan",
          "Sudan",
          "Sweden",
          "Syria",
          "Tanzania",
          "Thailand",
          "Togo",
          "Trinidad and Tobago",
          "Tunisia",
          "Turkmenistan",
          "Ukraine",
          "United Arab Emirates",
          "United Kingdom",
          "United States",
          "Uruguay",
          "Uzbekistan",
          "Venezuela",
          "Vietnam",
          "Yemen",
          "Algeria",
          "Angola",
          "Argentina",
          "Australia",
          "Azerbaijan",
          "Bahrain",
          "Bangladesh",
          "Benin",
          "Bolivia",
          "Botswana",
          "Brazil",
          "Brunei",
          "Cameroon",
          "Canada",
          "Central African Republic",
          "Chad",
          "China",
          "Colombia",
          "Congo",
          "Cote d'Ivoire",
          "Cuba",
          "Democratic Republic of Congo",
          "Denmark",
          "Ecuador",
          "Egypt",
          "Equatorial Guinea",
          "Eritrea",
          "Estonia",
          "Ethiopia",
          "European Union",
          "France",
          "Gabon",
          "Gambia",
          "Germany",
          "Ghana",
          "Guinea",
          "Guinea-Bissau",
          "Guyana",
          "India",
          "Indonesia",
          "Iran",
          "Iraq",
          "Israel",
          "Italy",
          "Japan",
          "Jordan",
          "Kazakhstan",
          "Kenya",
          "Korea",
          "Kuwait",
          "Lebanon",
          "Liberia",
          "Libya",
          "Malaysia",
          "Mexico",
          "Mongolia",
          "Morocco",
          "Mozambique",
          "Namibia",
          "Netherlands",
          "New Zealand",
          "Niger",
          "Nigeria",
          "Norway",
          "Oman",
          "Other",
          "Other EU17 countries",
          "Other EU7 countries",
          "Other countries in Europe",
          "Other countries in Southeast Asia",
          "Pakistan",
          "Paraguay",
          "Peru",
          "Philippines",
          "Poland",
          "Qatar",
          "Romania",
          "Russia",
          "Saudi Arabia",
          "Senegal",
          "Seychelles",
          "Sierra Leone",
          "Slovenia",
          "Somalia",
          "South Africa",
          "South Sudan",
          "Sudan",
          "Sweden",
          "Syria",
          "Tanzania",
          "Thailand",
          "Togo",
          "Trinidad and Tobago",
          "Tunisia",
          "Turkmenistan",
          "Ukraine",
          "United Arab Emirates",
          "United Kingdom",
          "United States",
          "Uruguay",
          "Uzbekistan",
          "Venezuela",
          "Vietnam",
          "Yemen",
          "Algeria",
          "Angola",
          "Argentina",
          "Australia",
          "Azerbaijan",
          "Bahrain",
          "Bangladesh",
          "Benin",
          "Bolivia",
          "Botswana",
          "Brazil",
          "Brunei",
          "Cameroon",
          "Canada",
          "Central African Republic",
          "Chad",
          "China",
          "Colombia",
          "Congo",
          "Cote d'Ivoire",
          "Cuba",
          "Democratic Republic of Congo",
          "Denmark",
          "Ecuador",
          "Egypt",
          "Equatorial Guinea",
          "Eritrea",
          "Estonia",
          "Ethiopia",
          "European Union",
          "France",
          "Gabon",
          "Gambia",
          "Germany",
          "Ghana",
          "Guinea",
          "Guinea-Bissau",
          "Guyana",
          "India",
          "Indonesia",
          "Iran",
          "Iraq",
          "Israel",
          "Italy",
          "Japan",
          "Jordan",
          "Kazakhstan",
          "Kenya",
          "Korea",
          "Kuwait",
          "Lebanon",
          "Liberia",
          "Libya",
          "Malaysia",
          "Mexico",
          "Mongolia",
          "Morocco",
          "Mozambique",
          "Namibia",
          "Netherlands",
          "New Zealand",
          "Niger",
          "Nigeria",
          "Norway",
          "Oman",
          "Other",
          "Other EU17 countries",
          "Other EU7 countries",
          "Other countries in Europe",
          "Other countries in Southeast Asia",
          "Pakistan",
          "Paraguay",
          "Peru",
          "Philippines",
          "Poland",
          "Qatar",
          "Romania",
          "Russia",
          "Saudi Arabia",
          "Senegal",
          "Seychelles",
          "Sierra Leone",
          "Slovenia",
          "Somalia",
          "South Africa",
          "South Sudan",
          "Sudan",
          "Sweden",
          "Syria",
          "Tanzania",
          "Thailand",
          "Togo",
          "Trinidad and Tobago",
          "Tunisia",
          "Turkmenistan",
          "Ukraine",
          "United Arab Emirates",
          "United Kingdom",
          "United States",
          "Uruguay",
          "Uzbekistan",
          "Venezuela",
          "Vietnam",
          "Yemen",
          "",
          "",
          "",
          "",
          "",
          "",
          "",
          "",
          "",
          "",
          "",
          "",
          "",
          "",
          "",
          "",
          "",
          "",
          "",
          "",
          "",
          "",
          "",
          "",
          "",
          "",
          "",
          "",
          "",
          "",
          "",
          "",
          "",
          "",
          "",
          "",
          "",
          "",
          "",
          "",
          "",
          "",
          "",
          "",
          "",
          "",
          "",
          "",
          "",
          "",
          "",
          "",
          "",
          "",
          "",
          "",
          "",
          "",
          "",
          "",
          "",
          "",
          "",
          "",
          "",
          "",
          "",
          "",
          "",
          "",
          "",
          "",
          "",
          "",
          "",
          "",
          "",
          "",
          "",
          "",
          "",
          "",
          "",
          "",
          "",
          "",
          "",
          "",
          "",
          "",
          "",
          "",
          "",
          "",
          "",
          "",
          "",
          "",
          "",
          "",
          "",
          "",
          "",
          ""
         ],
         "type": "sunburst",
         "values": [
          257.6112060546875,
          400.9695739746094,
          3152.9326171875,
          2450.463134765625,
          195.1975250244141,
          0.9645923376083374,
          2410.234375,
          105.69103240966795,
          673.754150390625,
          97.25849151611328,
          14020.0888671875,
          0.8412342667579651,
          279.5312194824219,
          1072.710693359375,
          250.8168029785156,
          1223.9329833984375,
          18501.9140625,
          1795.9031982421875,
          23.8709659576416,
          185.7007751464844,
          267.4549255371094,
          555.5286865234375,
          240.09361267089844,
          359.8713684082031,
          684.5322265625,
          0.438739001750946,
          120.17935180664062,
          27.72345733642578,
          1910.0897216796875,
          8851.337890625,
          1564.2218017578125,
          5.590458393096924,
          29.567506790161133,
          1269.36865234375,
          169.0322265625,
          438.159423828125,
          52.83677673339844,
          57.39715576171875,
          18358.517578125,
          3518.344482421875,
          802.454345703125,
          168.22393798828125,
          39.840087890625,
          800.047119140625,
          991.6493530273438,
          25.815542221069336,
          762.0980834960938,
          1250.951904296875,
          508.4415588378906,
          7.323050498962402,
          12.067669868469238,
          9.208291053771973,
          67.41584777832031,
          189.0501708984375,
          2420.791015625,
          549.2429809570312,
          295.3795166015625,
          210.65399169921875,
          181.9879150390625,
          466.8436584472656,
          1155.9993896484375,
          696.4396362304688,
          2082.188232421875,
          103.60773468017578,
          37.05989837646485,
          7259.01416015625,
          2811.933837890625,
          139.63568115234375,
          2284.248779296875,
          3300.293701171875,
          5319.4560546875,
          835.0689086914062,
          639.6949462890625,
          1714.848876953125,
          615.5054321289062,
          11.3685884475708,
          367.9289245605469,
          2022.095947265625,
          121.0209732055664,
          261.5225524902344,
          0.078720711171627,
          86.26763916015625,
          48.42922592163086,
          625.7147827148438,
          760.32275390625,
          695.7181396484375,
          1549.11083984375,
          128.65838623046875,
          133.05282592773438,
          1180.221923828125,
          2078.933837890625,
          50.73590850830078,
          4.345527648925781,
          97.72246551513672,
          304.87176513671875,
          377.1493225097656,
          47.43784332275391,
          1064.6658935546875,
          9409.3251953125,
          751.9459228515625,
          901.6826171875,
          1015.0640869140624,
          2193.2626953125,
          181.29298400878903,
          5338.389222390484,
          1137.466719686985,
          2614.187221188098,
          4464.477631926537,
          646.5099360942841,
          381.3705142736435,
          668.6716829240322,
          53.25707979872823,
          256.19316940708086,
          12.398445104248822,
          3512.990744829178,
          87.01458666846156,
          433.12154006212955,
          5096.796915151179,
          102.83390026492998,
          50744.44495010376,
          1556.3226248025894,
          529.5333882570267,
          186.79290729761124,
          42.1301807872951,
          521.3858047127724,
          83.03166930377483,
          554.1985339522362,
          1916.084816634655,
          338.0374162197113,
          11.873916637152433,
          23.24848911166191,
          928.4255386143923,
          5521.939940929413,
          387.19293439015746,
          497.1051376014948,
          706.1874455353245,
          241.472179800272,
          0.0160000007599592,
          95.1394667327404,
          10370.472352027893,
          10160.738409042358,
          11259.644457429647,
          5030.105334788561,
          86.4179919064045,
          571.5729210153222,
          566.600657559,
          94.41393102705479,
          5481.122424960136,
          287.6519555300474,
          400.6532882153988,
          2004.1644315719604,
          9.4258319362998,
          3198.882565975189,
          948.0421575307846,
          3162.6584582924843,
          433.70438450574875,
          44.36294501996599,
          454.7117969854734,
          5.262178361415863,
          58.518761049490415,
          74.66828171908855,
          81.73536857170984,
          6612.142554199323,
          82.20754368510097,
          1738.5130483359098,
          4841.759946305363,
          1200.1288836039603,
          111.1918870806694,
          896.3767068143934,
          1054.6544389724731,
          1840.7987184524536,
          32.69618225097656,
          263.4212713614106,
          232.86861745640635,
          1730.5777578242123,
          2277.035596974194,
          570.8218250572681,
          36156.16784095764,
          6102.193341419101,
          26.04975327476859,
          15.453907602699474,
          59.01599884033203,
          2478.0593979563564,
          153.9777849316597,
          286.13165402412415,
          63.98110917210579,
          475.3288295455277,
          406.7804519534111,
          1070.4973306655884,
          38.451182913035154,
          418.4400028884411,
          154.46844786405563,
          9480.081915080547,
          1106.8424091339111,
          2878.2656141519547,
          549.2628154717386,
          33539.26126861572,
          15.198848899453878,
          1561.8322767373174,
          5285.407250571996,
          121.86399936676025,
          290.3632098324597,
          6.475720882415772,
          81.70992279052734,
          85.4056396484375,
          241.8041534423828,
          0.96043461561203,
          1.48150372505188,
          54.36891174316406,
          43.24774169921875,
          146.38304138183594,
          2.236912250518799,
          387.7013854980469,
          0.2182318568229675,
          23.94275665283203,
          42.62068176269531,
          173.46914672851562,
          13.205078125,
          1377.8709716796875,
          17.213926315307617,
          11.99696445465088,
          28.767297744750977,
          2.341588258743286,
          201.8346710205078,
          5.735045909881592,
          3.937007188796997,
          12.003130912780762,
          2.3649120330810547,
          2.5068612098693848,
          2.18104100227356,
          177.9381866455078,
          290.8985595703125,
          39.94035720825195,
          5.498744964599609,
          3.931763887405396,
          67.88993072509766,
          26.986873626708984,
          17.251436233520508,
          26.177602767944336,
          1.915329933166504,
          571.2567138671875,
          1156.4476318359375,
          37.20094299316406,
          3.4219236373901367,
          0.6706947088241577,
          30.06378936767578,
          21.91791725158692,
          0.5782174468040466,
          17.407060623168945,
          34.40288162231445,
          28.59282493591309,
          0.8249784111976624,
          0.7648441195487976,
          15.316903114318848,
          3.0724658966064453,
          27.7065544128418,
          54.36140441894531,
          6.77065896987915,
          6.258478164672852,
          106.01947784423828,
          1.329381227493286,
          15.82078742980957,
          8.055159568786621,
          10.043743133544922,
          347.1287841796875,
          5.547865867614746,
          9.764742851257324,
          682.0879516601562,
          98.36200714111328,
          8.988862991333008,
          84.71975708007812,
          149.16900634765625,
          156.03668212890625,
          13.040079116821287,
          50.463600158691406,
          52.23356628417969,
          44.48818588256836,
          5.521563529968262,
          11.696823120117188,
          323.421630859375,
          27.8301010131836,
          4.177417755126953,
          0.0518720373511314,
          9.578605651855469,
          1.593956470489502,
          23.82088088989257,
          42.40746307373047,
          3.3333332538604736,
          36.831764221191406,
          10.069866180419922,
          1.1841530799865725,
          1225.0953369140625,
          56.79174041748047,
          9.78065299987793,
          5.858375072479248,
          4.220635890960693,
          1.4148011207580566,
          71.82522583007812,
          2.969593048095703,
          64.70419311523438,
          538.3626098632812,
          3.5114591121673584,
          3.845616340637207,
          10.820260047912598,
          34.768653869628906,
          0.5342848896980286,
          510.9656066894531,
          151.49404907226562,
          705.7312622070312,
          619.0491333007812,
          104.27503204345705,
          172.3936004638672,
          825.30224609375,
          42.10737228393555,
          87.08856201171875,
          843.4016723632812,
          3800.05712890625,
          9.676277160644531,
          194.51437377929688,
          897.9652709960938,
          22.85633850097656,
          70.19759368896484,
          10424.1416015625,
          643.7293090820312,
          30.08274269104004,
          220.2355194091797,
          160.3751678466797,
          566.8305053710938,
          40.26875686645508,
          235.403060913086,
          947.93408203125,
          11.922514915466309,
          24.038236618041992,
          37.32962417602539,
          414.8589172363281,
          4320.9970703125,
          630.8741455078125,
          21.208723068237305,
          14.088419914245604,
          605.1366577148438,
          159.3824005126953,
          68.93671417236328,
          8.758500099182129,
          8.31496524810791,
          5551.7607421875,
          4568.9384765625,
          931.3856201171876,
          362.1964721679688,
          282.4595642089844,
          579.596923828125,
          243.30145263671875,
          200.5210418701172,
          198.9350128173828,
          180.646713256836,
          527.2578125,
          257.99493408203125,
          112.2239990234375,
          19.37256050109864,
          83.35655975341797,
          893.9114379882812,
          1994.62744140625,
          16.66093635559082,
          405.1220397949219,
          155.7392578125,
          15.859238624572754,
          137.8373260498047,
          165.2618865966797,
          152.30502319335938,
          862.4360961914062,
          46.46012496948242,
          64.55561828613281,
          3214.4951171875,
          1850.4228515625,
          249.8030548095703,
          2321.68505859375,
          436.8053588867188,
          854.3361206054688,
          115.26103973388672,
          355.07745361328125,
          649.79248046875,
          347.61395263671875,
          64.40309143066406,
          244.40768432617188,
          3931.244384765625,
          955.779541015625,
          101.4332275390625,
          2.491305351257324,
          49.99830627441406,
          17.910375595092773,
          108.4111557006836,
          834.2140502929688,
          121.76155090332033,
          233.21359252929688,
          159.8013458251953,
          169.2044219970703,
          227.552978515625,
          703.9661254882812,
          37.90462112426758,
          62.29243469238281,
          108.2469711303711,
          48.02981185913086,
          401.859619140625,
          462.6634826660156,
          1113.1412353515625,
          5117.92822265625,
          138.26727294921875,
          280.4182434082031,
          379.9532775878906,
          783.7750244140625,
          161.4936981201172,
          6113.4417560170405,
          1771.6402655243874,
          6558.256740231067,
          7775.794053435326,
          946.9429277777672,
          556.2102108001709,
          3958.5772157609463,
          244.3032261915505,
          1163.4189231912605,
          955.2955212341622,
          21720.838126420975,
          97.75032995268703,
          931.1098899766803,
          7110.093561269343,
          447.14228820800776,
          1410.1695554773323,
          81048.37158584595,
          4013.169058442116,
          595.4840613603592,
          621.4964995980263,
          472.30186242982745,
          1845.5796676278114,
          369.12908475100994,
          1153.4099704623222,
          3560.5542561411858,
          352.7635821700096,
          158.59836627170444,
          90.48261162638664,
          3431.3123641759157,
          18985.173461437225,
          2622.2292388640344,
          529.4030640274286,
          47.587690591812134,
          2648.582686319016,
          596.8736805021763,
          524.3635742347687,
          87.7728796005249,
          162.76691767573357,
          34852.00738620758,
          19404.46899986267,
          13030.685366243124,
          5563.947668582201,
          409.388338714838,
          1981.280753351748,
          1823.4693804746494,
          321.32873256504536,
          6459.562581896782,
          1753.6534547060728,
          1464.9454844892025,
          2270.3073945641518,
          134.48234494775534,
          43.89775466918946,
          3352.727439403534,
          2058.710320830345,
          7632.43831974268,
          1006.37896078825,
          751.1229795811232,
          927.1245243414305,
          204.4387132525444,
          679.0205329763703,
          1403.9847175329924,
          940.5237711290829,
          9903.895666992292,
          237.82326920237392,
          1849.8933078497648,
          15997.35717530927,
          5960.847580198199,
          509.6194860339165,
          5587.0303017850965,
          4940.922505378723,
          8170.627575874329,
          996.0662097930908,
          1308.6572714224458,
          2649.743541162461,
          2738.1853284724057,
          2358.328840382397,
          1194.855257064104,
          42432.92980384827,
          7206.823956653476,
          393.1829510591924,
          2.6218980997800827,
          145.84455108642578,
          83.38746558991261,
          816.962818145752,
          4115.003665229306,
          974.790808737278,
          2105.2878506183624,
          362.5107074081898,
          778.770230550319,
          3039.6506912112236,
          3910.189034461975,
          136.87236554548144,
          490.9363403022289,
          364.65852040052414,
          9834.398293197155,
          1957.6765766143799,
          3391.33653318882,
          2791.774137493223,
          48604.877296447754,
          908.9235038124025,
          2747.778753673658,
          6691.244875121862,
          3133.6703729629517,
          633.684176851064
         ]
        }
       ],
       "layout": {
        "coloraxis": {
         "colorbar": {
          "title": {
           "text": "emissions"
          }
         },
         "colorscale": [
          [
           0,
           "#0d0887"
          ],
          [
           0.1111111111111111,
           "#46039f"
          ],
          [
           0.2222222222222222,
           "#7201a8"
          ],
          [
           0.3333333333333333,
           "#9c179e"
          ],
          [
           0.4444444444444444,
           "#bd3786"
          ],
          [
           0.5555555555555556,
           "#d8576b"
          ],
          [
           0.6666666666666666,
           "#ed7953"
          ],
          [
           0.7777777777777778,
           "#fb9f3a"
          ],
          [
           0.8888888888888888,
           "#fdca26"
          ],
          [
           1,
           "#f0f921"
          ]
         ]
        },
        "height": 600,
        "legend": {
         "tracegroupgap": 0
        },
        "margin": {
         "t": 60
        },
        "template": {
         "data": {
          "bar": [
           {
            "error_x": {
             "color": "#2a3f5f"
            },
            "error_y": {
             "color": "#2a3f5f"
            },
            "marker": {
             "line": {
              "color": "#E5ECF6",
              "width": 0.5
             },
             "pattern": {
              "fillmode": "overlay",
              "size": 10,
              "solidity": 0.2
             }
            },
            "type": "bar"
           }
          ],
          "barpolar": [
           {
            "marker": {
             "line": {
              "color": "#E5ECF6",
              "width": 0.5
             },
             "pattern": {
              "fillmode": "overlay",
              "size": 10,
              "solidity": 0.2
             }
            },
            "type": "barpolar"
           }
          ],
          "carpet": [
           {
            "aaxis": {
             "endlinecolor": "#2a3f5f",
             "gridcolor": "white",
             "linecolor": "white",
             "minorgridcolor": "white",
             "startlinecolor": "#2a3f5f"
            },
            "baxis": {
             "endlinecolor": "#2a3f5f",
             "gridcolor": "white",
             "linecolor": "white",
             "minorgridcolor": "white",
             "startlinecolor": "#2a3f5f"
            },
            "type": "carpet"
           }
          ],
          "choropleth": [
           {
            "colorbar": {
             "outlinewidth": 0,
             "ticks": ""
            },
            "type": "choropleth"
           }
          ],
          "contour": [
           {
            "colorbar": {
             "outlinewidth": 0,
             "ticks": ""
            },
            "colorscale": [
             [
              0,
              "#0d0887"
             ],
             [
              0.1111111111111111,
              "#46039f"
             ],
             [
              0.2222222222222222,
              "#7201a8"
             ],
             [
              0.3333333333333333,
              "#9c179e"
             ],
             [
              0.4444444444444444,
              "#bd3786"
             ],
             [
              0.5555555555555556,
              "#d8576b"
             ],
             [
              0.6666666666666666,
              "#ed7953"
             ],
             [
              0.7777777777777778,
              "#fb9f3a"
             ],
             [
              0.8888888888888888,
              "#fdca26"
             ],
             [
              1,
              "#f0f921"
             ]
            ],
            "type": "contour"
           }
          ],
          "contourcarpet": [
           {
            "colorbar": {
             "outlinewidth": 0,
             "ticks": ""
            },
            "type": "contourcarpet"
           }
          ],
          "heatmap": [
           {
            "colorbar": {
             "outlinewidth": 0,
             "ticks": ""
            },
            "colorscale": [
             [
              0,
              "#0d0887"
             ],
             [
              0.1111111111111111,
              "#46039f"
             ],
             [
              0.2222222222222222,
              "#7201a8"
             ],
             [
              0.3333333333333333,
              "#9c179e"
             ],
             [
              0.4444444444444444,
              "#bd3786"
             ],
             [
              0.5555555555555556,
              "#d8576b"
             ],
             [
              0.6666666666666666,
              "#ed7953"
             ],
             [
              0.7777777777777778,
              "#fb9f3a"
             ],
             [
              0.8888888888888888,
              "#fdca26"
             ],
             [
              1,
              "#f0f921"
             ]
            ],
            "type": "heatmap"
           }
          ],
          "heatmapgl": [
           {
            "colorbar": {
             "outlinewidth": 0,
             "ticks": ""
            },
            "colorscale": [
             [
              0,
              "#0d0887"
             ],
             [
              0.1111111111111111,
              "#46039f"
             ],
             [
              0.2222222222222222,
              "#7201a8"
             ],
             [
              0.3333333333333333,
              "#9c179e"
             ],
             [
              0.4444444444444444,
              "#bd3786"
             ],
             [
              0.5555555555555556,
              "#d8576b"
             ],
             [
              0.6666666666666666,
              "#ed7953"
             ],
             [
              0.7777777777777778,
              "#fb9f3a"
             ],
             [
              0.8888888888888888,
              "#fdca26"
             ],
             [
              1,
              "#f0f921"
             ]
            ],
            "type": "heatmapgl"
           }
          ],
          "histogram": [
           {
            "marker": {
             "pattern": {
              "fillmode": "overlay",
              "size": 10,
              "solidity": 0.2
             }
            },
            "type": "histogram"
           }
          ],
          "histogram2d": [
           {
            "colorbar": {
             "outlinewidth": 0,
             "ticks": ""
            },
            "colorscale": [
             [
              0,
              "#0d0887"
             ],
             [
              0.1111111111111111,
              "#46039f"
             ],
             [
              0.2222222222222222,
              "#7201a8"
             ],
             [
              0.3333333333333333,
              "#9c179e"
             ],
             [
              0.4444444444444444,
              "#bd3786"
             ],
             [
              0.5555555555555556,
              "#d8576b"
             ],
             [
              0.6666666666666666,
              "#ed7953"
             ],
             [
              0.7777777777777778,
              "#fb9f3a"
             ],
             [
              0.8888888888888888,
              "#fdca26"
             ],
             [
              1,
              "#f0f921"
             ]
            ],
            "type": "histogram2d"
           }
          ],
          "histogram2dcontour": [
           {
            "colorbar": {
             "outlinewidth": 0,
             "ticks": ""
            },
            "colorscale": [
             [
              0,
              "#0d0887"
             ],
             [
              0.1111111111111111,
              "#46039f"
             ],
             [
              0.2222222222222222,
              "#7201a8"
             ],
             [
              0.3333333333333333,
              "#9c179e"
             ],
             [
              0.4444444444444444,
              "#bd3786"
             ],
             [
              0.5555555555555556,
              "#d8576b"
             ],
             [
              0.6666666666666666,
              "#ed7953"
             ],
             [
              0.7777777777777778,
              "#fb9f3a"
             ],
             [
              0.8888888888888888,
              "#fdca26"
             ],
             [
              1,
              "#f0f921"
             ]
            ],
            "type": "histogram2dcontour"
           }
          ],
          "mesh3d": [
           {
            "colorbar": {
             "outlinewidth": 0,
             "ticks": ""
            },
            "type": "mesh3d"
           }
          ],
          "parcoords": [
           {
            "line": {
             "colorbar": {
              "outlinewidth": 0,
              "ticks": ""
             }
            },
            "type": "parcoords"
           }
          ],
          "pie": [
           {
            "automargin": true,
            "type": "pie"
           }
          ],
          "scatter": [
           {
            "fillpattern": {
             "fillmode": "overlay",
             "size": 10,
             "solidity": 0.2
            },
            "type": "scatter"
           }
          ],
          "scatter3d": [
           {
            "line": {
             "colorbar": {
              "outlinewidth": 0,
              "ticks": ""
             }
            },
            "marker": {
             "colorbar": {
              "outlinewidth": 0,
              "ticks": ""
             }
            },
            "type": "scatter3d"
           }
          ],
          "scattercarpet": [
           {
            "marker": {
             "colorbar": {
              "outlinewidth": 0,
              "ticks": ""
             }
            },
            "type": "scattercarpet"
           }
          ],
          "scattergeo": [
           {
            "marker": {
             "colorbar": {
              "outlinewidth": 0,
              "ticks": ""
             }
            },
            "type": "scattergeo"
           }
          ],
          "scattergl": [
           {
            "marker": {
             "colorbar": {
              "outlinewidth": 0,
              "ticks": ""
             }
            },
            "type": "scattergl"
           }
          ],
          "scattermapbox": [
           {
            "marker": {
             "colorbar": {
              "outlinewidth": 0,
              "ticks": ""
             }
            },
            "type": "scattermapbox"
           }
          ],
          "scatterpolar": [
           {
            "marker": {
             "colorbar": {
              "outlinewidth": 0,
              "ticks": ""
             }
            },
            "type": "scatterpolar"
           }
          ],
          "scatterpolargl": [
           {
            "marker": {
             "colorbar": {
              "outlinewidth": 0,
              "ticks": ""
             }
            },
            "type": "scatterpolargl"
           }
          ],
          "scatterternary": [
           {
            "marker": {
             "colorbar": {
              "outlinewidth": 0,
              "ticks": ""
             }
            },
            "type": "scatterternary"
           }
          ],
          "surface": [
           {
            "colorbar": {
             "outlinewidth": 0,
             "ticks": ""
            },
            "colorscale": [
             [
              0,
              "#0d0887"
             ],
             [
              0.1111111111111111,
              "#46039f"
             ],
             [
              0.2222222222222222,
              "#7201a8"
             ],
             [
              0.3333333333333333,
              "#9c179e"
             ],
             [
              0.4444444444444444,
              "#bd3786"
             ],
             [
              0.5555555555555556,
              "#d8576b"
             ],
             [
              0.6666666666666666,
              "#ed7953"
             ],
             [
              0.7777777777777778,
              "#fb9f3a"
             ],
             [
              0.8888888888888888,
              "#fdca26"
             ],
             [
              1,
              "#f0f921"
             ]
            ],
            "type": "surface"
           }
          ],
          "table": [
           {
            "cells": {
             "fill": {
              "color": "#EBF0F8"
             },
             "line": {
              "color": "white"
             }
            },
            "header": {
             "fill": {
              "color": "#C8D4E3"
             },
             "line": {
              "color": "white"
             }
            },
            "type": "table"
           }
          ]
         },
         "layout": {
          "annotationdefaults": {
           "arrowcolor": "#2a3f5f",
           "arrowhead": 0,
           "arrowwidth": 1
          },
          "autotypenumbers": "strict",
          "coloraxis": {
           "colorbar": {
            "outlinewidth": 0,
            "ticks": ""
           }
          },
          "colorscale": {
           "diverging": [
            [
             0,
             "#8e0152"
            ],
            [
             0.1,
             "#c51b7d"
            ],
            [
             0.2,
             "#de77ae"
            ],
            [
             0.3,
             "#f1b6da"
            ],
            [
             0.4,
             "#fde0ef"
            ],
            [
             0.5,
             "#f7f7f7"
            ],
            [
             0.6,
             "#e6f5d0"
            ],
            [
             0.7,
             "#b8e186"
            ],
            [
             0.8,
             "#7fbc41"
            ],
            [
             0.9,
             "#4d9221"
            ],
            [
             1,
             "#276419"
            ]
           ],
           "sequential": [
            [
             0,
             "#0d0887"
            ],
            [
             0.1111111111111111,
             "#46039f"
            ],
            [
             0.2222222222222222,
             "#7201a8"
            ],
            [
             0.3333333333333333,
             "#9c179e"
            ],
            [
             0.4444444444444444,
             "#bd3786"
            ],
            [
             0.5555555555555556,
             "#d8576b"
            ],
            [
             0.6666666666666666,
             "#ed7953"
            ],
            [
             0.7777777777777778,
             "#fb9f3a"
            ],
            [
             0.8888888888888888,
             "#fdca26"
            ],
            [
             1,
             "#f0f921"
            ]
           ],
           "sequentialminus": [
            [
             0,
             "#0d0887"
            ],
            [
             0.1111111111111111,
             "#46039f"
            ],
            [
             0.2222222222222222,
             "#7201a8"
            ],
            [
             0.3333333333333333,
             "#9c179e"
            ],
            [
             0.4444444444444444,
             "#bd3786"
            ],
            [
             0.5555555555555556,
             "#d8576b"
            ],
            [
             0.6666666666666666,
             "#ed7953"
            ],
            [
             0.7777777777777778,
             "#fb9f3a"
            ],
            [
             0.8888888888888888,
             "#fdca26"
            ],
            [
             1,
             "#f0f921"
            ]
           ]
          },
          "colorway": [
           "#636efa",
           "#EF553B",
           "#00cc96",
           "#ab63fa",
           "#FFA15A",
           "#19d3f3",
           "#FF6692",
           "#B6E880",
           "#FF97FF",
           "#FECB52"
          ],
          "font": {
           "color": "#2a3f5f"
          },
          "geo": {
           "bgcolor": "white",
           "lakecolor": "white",
           "landcolor": "#E5ECF6",
           "showlakes": true,
           "showland": true,
           "subunitcolor": "white"
          },
          "hoverlabel": {
           "align": "left"
          },
          "hovermode": "closest",
          "mapbox": {
           "style": "light"
          },
          "paper_bgcolor": "white",
          "plot_bgcolor": "#E5ECF6",
          "polar": {
           "angularaxis": {
            "gridcolor": "white",
            "linecolor": "white",
            "ticks": ""
           },
           "bgcolor": "#E5ECF6",
           "radialaxis": {
            "gridcolor": "white",
            "linecolor": "white",
            "ticks": ""
           }
          },
          "scene": {
           "xaxis": {
            "backgroundcolor": "#E5ECF6",
            "gridcolor": "white",
            "gridwidth": 2,
            "linecolor": "white",
            "showbackground": true,
            "ticks": "",
            "zerolinecolor": "white"
           },
           "yaxis": {
            "backgroundcolor": "#E5ECF6",
            "gridcolor": "white",
            "gridwidth": 2,
            "linecolor": "white",
            "showbackground": true,
            "ticks": "",
            "zerolinecolor": "white"
           },
           "zaxis": {
            "backgroundcolor": "#E5ECF6",
            "gridcolor": "white",
            "gridwidth": 2,
            "linecolor": "white",
            "showbackground": true,
            "ticks": "",
            "zerolinecolor": "white"
           }
          },
          "shapedefaults": {
           "line": {
            "color": "#2a3f5f"
           }
          },
          "ternary": {
           "aaxis": {
            "gridcolor": "white",
            "linecolor": "white",
            "ticks": ""
           },
           "baxis": {
            "gridcolor": "white",
            "linecolor": "white",
            "ticks": ""
           },
           "bgcolor": "#E5ECF6",
           "caxis": {
            "gridcolor": "white",
            "linecolor": "white",
            "ticks": ""
           }
          },
          "title": {
           "x": 0.05
          },
          "xaxis": {
           "automargin": true,
           "gridcolor": "white",
           "linecolor": "white",
           "ticks": "",
           "title": {
            "standoff": 15
           },
           "zerolinecolor": "white",
           "zerolinewidth": 2
          },
          "yaxis": {
           "automargin": true,
           "gridcolor": "white",
           "linecolor": "white",
           "ticks": "",
           "title": {
            "standoff": 15
           },
           "zerolinecolor": "white",
           "zerolinewidth": 2
          }
         }
        },
        "title": {
         "text": "Emissions in Each Country Divided by Sector Hierarchy",
         "x": 0.5
        },
        "width": 800
       }
      }
     },
     "metadata": {},
     "output_type": "display_data"
    }
   ],
   "source": [
    "fig = px.sunburst(df, \n",
    "                  path=[\"country\", \"type\",], \n",
    "                  values=\"emissions\",\n",
    "                  color=\"emissions\"\n",
    "                  \n",
    "                  )\n",
    "\n",
    "# Set the title\n",
    "fig.update_layout(title=\"Emissions in Each Country Divided by Sector Hierarchy\")\n",
    "\n",
    "fig.update_layout(height=600, width=800)\n",
    "# Center the title\n",
    "fig.update_layout(title_x=0.5)\n",
    "# Show the chart\n",
    "fig.show()"
   ]
  },
  {
   "cell_type": "code",
   "execution_count": 577,
   "metadata": {},
   "outputs": [
    {
     "data": {
      "application/vnd.plotly.v1+json": {
       "config": {
        "plotlyServerURL": "https://plot.ly"
       },
       "data": [
        {
         "hovertemplate": "2022 Population=%{x}<br>Emissions=%{y}<br>Country=%{text}<extra></extra>",
         "legendgroup": "",
         "marker": {
          "color": "#636efa",
          "symbol": "circle"
         },
         "mode": "markers+text",
         "name": "",
         "orientation": "v",
         "showlegend": false,
         "text": [
          "Algeria",
          "Angola",
          "Argentina",
          "Australia",
          "Azerbaijan",
          "Bahrain",
          "Bangladesh",
          "Benin",
          "Bolivia",
          "Botswana",
          "Brazil",
          "Brunei",
          "Cameroon",
          "Canada",
          "Central African Republic",
          "Chad",
          "China",
          "Colombia",
          "Cuba",
          "Denmark",
          "Ecuador",
          "Egypt",
          "Equatorial Guinea",
          "Eritrea",
          "Estonia",
          "Ethiopia",
          "France",
          "Gabon",
          "Gambia",
          "Germany",
          "Ghana",
          "Guinea",
          "Guinea-Bissau",
          "Guyana",
          "India",
          "Indonesia",
          "Iran",
          "Iraq",
          "Israel",
          "Italy",
          "Japan",
          "Jordan",
          "Kazakhstan",
          "Kenya",
          "Kuwait",
          "Lebanon",
          "Liberia",
          "Libya",
          "Malaysia",
          "Mexico",
          "Mongolia",
          "Morocco",
          "Mozambique",
          "Namibia",
          "Netherlands",
          "New Zealand",
          "Niger",
          "Nigeria",
          "Norway",
          "Oman",
          "Pakistan",
          "Paraguay",
          "Peru",
          "Philippines",
          "Poland",
          "Qatar",
          "Romania",
          "Russia",
          "Saudi Arabia",
          "Senegal",
          "Seychelles",
          "Sierra Leone",
          "Slovenia",
          "Somalia",
          "South Africa",
          "South Sudan",
          "Sudan",
          "Sweden",
          "Syria",
          "Tanzania",
          "Thailand",
          "Togo",
          "Trinidad and Tobago",
          "Tunisia",
          "Turkmenistan",
          "Ukraine",
          "United Arab Emirates",
          "United Kingdom",
          "United States",
          "Uruguay",
          "Uzbekistan",
          "Venezuela",
          "Vietnam",
          "Yemen"
         ],
         "textposition": "top center",
         "type": "scatter",
         "x": [
          44903225,
          35588987,
          45510318,
          26177413,
          10358074,
          1472233,
          171186372,
          13352864,
          12224110,
          2630296,
          215313498,
          449002,
          27914536,
          38454327,
          5579144,
          17723315,
          1425887337,
          51874024,
          11212191,
          5882261,
          18001000,
          110990103,
          1674908,
          3684032,
          1326062,
          123379924,
          64626628,
          2388992,
          2705992,
          83369843,
          33475870,
          13859341,
          2105566,
          808726,
          1417173173,
          275501339,
          88550570,
          44496122,
          9038309,
          59037474,
          123951692,
          11285869,
          19397998,
          54027487,
          4268873,
          5489739,
          5302681,
          6812341,
          33938221,
          127504125,
          3398366,
          37457971,
          32969517,
          2567012,
          17564014,
          5185288,
          26207977,
          218541212,
          5434319,
          4576298,
          235824862,
          6780744,
          34049588,
          115559009,
          39857145,
          2695122,
          19659267,
          144713314,
          36408820,
          17316449,
          107118,
          8605718,
          2119844,
          17597511,
          59893885,
          10913164,
          46874204,
          10549347,
          22125249,
          65497748,
          71697030,
          8848699,
          1531044,
          12356117,
          6430770,
          39701739,
          9441129,
          67508936,
          338289857,
          3422794,
          34627652,
          28301696,
          98186856,
          33696614
         ],
         "xaxis": "x",
         "y": [
          6113.4417560170405,
          1771.6402655243874,
          6558.256740231067,
          7775.794053435326,
          946.9429277777672,
          556.2102108001709,
          3958.5772157609463,
          244.3032261915505,
          1163.4189231912605,
          955.2955212341622,
          21720.838126420975,
          97.75032995268703,
          931.1098899766803,
          7110.093561269343,
          447.1422882080078,
          1410.1695554773323,
          81048.37158584595,
          4013.169058442116,
          472.30186242982745,
          369.12908475100994,
          1153.4099704623222,
          3560.5542561411858,
          352.7635821700096,
          158.59836627170444,
          90.48261162638664,
          3431.3123641759157,
          2622.2292388640344,
          529.4030640274286,
          47.587690591812134,
          2648.582686319016,
          596.8736805021763,
          524.3635742347687,
          87.7728796005249,
          162.76691767573357,
          34852.00738620758,
          19404.46899986267,
          13030.685366243124,
          5563.947668582201,
          409.388338714838,
          1981.280753351748,
          1823.4693804746494,
          321.32873256504536,
          6459.562581896782,
          1753.6534547060728,
          2270.3073945641518,
          134.48234494775534,
          43.89775466918946,
          3352.727439403534,
          2058.710320830345,
          7632.43831974268,
          1006.37896078825,
          751.1229795811232,
          927.1245243414305,
          204.4387132525444,
          679.0205329763703,
          1403.9847175329924,
          940.5237711290829,
          9903.895666992292,
          237.82326920237392,
          1849.8933078497648,
          8170.627575874329,
          996.0662097930908,
          1308.6572714224458,
          2649.743541162461,
          2738.1853284724057,
          2358.328840382397,
          1194.855257064104,
          42432.92980384827,
          7206.823956653476,
          393.1829510591924,
          2.6218980997800827,
          145.84455108642578,
          83.38746558991261,
          816.962818145752,
          4115.003665229306,
          974.790808737278,
          2105.2878506183624,
          362.5107074081898,
          778.770230550319,
          3039.6506912112236,
          3910.189034461975,
          136.87236554548144,
          490.9363403022289,
          364.65852040052414,
          9834.398293197155,
          1957.6765766143799,
          3391.33653318882,
          2791.774137493223,
          48604.877296447754,
          908.9235038124025,
          2747.778753673658,
          6691.244875121862,
          3133.6703729629517,
          633.684176851064
         ],
         "yaxis": "y"
        },
        {
         "hovertemplate": "<b>OLS trendline</b><br>Emissions = 4.35232e-05 * 2022 Population + 1585.65<br>R<sup>2</sup>=0.659349<br><br>2022 Population=%{x}<br>Emissions=%{y} <b>(trend)</b><extra></extra>",
         "legendgroup": "",
         "marker": {
          "color": "#636efa",
          "symbol": "circle"
         },
         "mode": "lines",
         "name": "",
         "showlegend": false,
         "textposition": "top center",
         "type": "scatter",
         "x": [
          107118,
          449002,
          808726,
          1326062,
          1472233,
          1531044,
          1674908,
          2105566,
          2119844,
          2388992,
          2567012,
          2630296,
          2695122,
          2705992,
          3398366,
          3422794,
          3684032,
          4268873,
          4576298,
          5185288,
          5302681,
          5434319,
          5489739,
          5579144,
          5882261,
          6430770,
          6780744,
          6812341,
          8605718,
          8848699,
          9038309,
          9441129,
          10358074,
          10549347,
          10913164,
          11212191,
          11285869,
          12224110,
          12356117,
          13352864,
          13859341,
          17316449,
          17564014,
          17597511,
          17723315,
          18001000,
          19397998,
          19659267,
          22125249,
          26177413,
          26207977,
          27914536,
          28301696,
          32969517,
          33475870,
          33696614,
          33938221,
          34049588,
          34627652,
          35588987,
          36408820,
          37457971,
          38454327,
          39701739,
          39857145,
          44496122,
          44903225,
          45510318,
          46874204,
          51874024,
          54027487,
          59037474,
          59893885,
          64626628,
          65497748,
          67508936,
          71697030,
          83369843,
          88550570,
          98186856,
          110990103,
          115559009,
          123379924,
          123951692,
          127504125,
          144713314,
          171186372,
          215313498,
          218541212,
          235824862,
          275501339,
          338289857,
          1417173173,
          1425887337
         ],
         "xaxis": "x",
         "y": [
          1590.3139551031838,
          1605.193844414607,
          1620.8501878020202,
          1643.3663114486794,
          1649.7281426561651,
          1652.2877861910897,
          1658.549209351865,
          1677.2928281555496,
          1677.914252555605,
          1689.6284376253682,
          1697.3764395652647,
          1700.1307624209237,
          1702.9521980672316,
          1703.4252953657747,
          1733.5596347385074,
          1734.6228197255189,
          1745.99273619993,
          1771.4468941739274,
          1784.8270171734366,
          1811.3322171587054,
          1816.4415374133412,
          1822.1708458020846,
          1824.582902130076,
          1828.4740947681867,
          1841.6667197767003,
          1865.5395924654467,
          1880.7715845501189,
          1882.1467874334742,
          1960.2003121776922,
          1970.7756253973191,
          1979.0280613473458,
          1996.5600810160859,
          2036.468471302449,
          2044.7932863515996,
          2060.627770239743,
          2073.642385317158,
          2076.8490884231446,
          2117.684349001115,
          2123.4297174545472,
          2166.8113469882283,
          2188.85485209166,
          2339.319291426744,
          2350.0941150434746,
          2351.5520120268516,
          2357.027406005319,
          2369.113148723441,
          2429.9149867979913,
          2441.286252491929,
          2548.6137062597627,
          2724.9768931644844,
          2726.3071365713545,
          2800.5820632231225,
          2817.4325094148444,
          3020.591065549489,
          3042.629173774814,
          3052.236661361717,
          3062.7521736900653,
          3067.599223078002,
          3092.758424254186,
          3134.598809856311,
          3170.280574120951,
          3215.942993979643,
          3259.3076059380037,
          3313.598981041083,
          3320.362749097883,
          3522.2659217477817,
          3539.9843513272544,
          3566.406987782133,
          3625.7676853093635,
          3843.3759038192675,
          3937.101527353114,
          4155.152246344553,
          4192.426002604235,
          4398.410172613399,
          4436.324111776878,
          4523.857470531492,
          4706.136767444585,
          5214.175065209153,
          5439.656937167776,
          5859.059041545918,
          6416.297456291303,
          6615.150914055625,
          6955.542244196987,
          6980.4274232396265,
          7135.040712619203,
          7884.039868646867,
          9036.232345553906,
          10956.786540869349,
          11097.26701684638,
          11849.50695465388,
          13576.354616513541,
          16309.112504768926,
          63265.57821249792,
          63644.846606928746
         ],
         "yaxis": "y"
        }
       ],
       "layout": {
        "font": {
         "size": 12
        },
        "height": 600,
        "legend": {
         "tracegroupgap": 0
        },
        "margin": {
         "t": 60
        },
        "template": {
         "data": {
          "bar": [
           {
            "error_x": {
             "color": "#2a3f5f"
            },
            "error_y": {
             "color": "#2a3f5f"
            },
            "marker": {
             "line": {
              "color": "#E5ECF6",
              "width": 0.5
             },
             "pattern": {
              "fillmode": "overlay",
              "size": 10,
              "solidity": 0.2
             }
            },
            "type": "bar"
           }
          ],
          "barpolar": [
           {
            "marker": {
             "line": {
              "color": "#E5ECF6",
              "width": 0.5
             },
             "pattern": {
              "fillmode": "overlay",
              "size": 10,
              "solidity": 0.2
             }
            },
            "type": "barpolar"
           }
          ],
          "carpet": [
           {
            "aaxis": {
             "endlinecolor": "#2a3f5f",
             "gridcolor": "white",
             "linecolor": "white",
             "minorgridcolor": "white",
             "startlinecolor": "#2a3f5f"
            },
            "baxis": {
             "endlinecolor": "#2a3f5f",
             "gridcolor": "white",
             "linecolor": "white",
             "minorgridcolor": "white",
             "startlinecolor": "#2a3f5f"
            },
            "type": "carpet"
           }
          ],
          "choropleth": [
           {
            "colorbar": {
             "outlinewidth": 0,
             "ticks": ""
            },
            "type": "choropleth"
           }
          ],
          "contour": [
           {
            "colorbar": {
             "outlinewidth": 0,
             "ticks": ""
            },
            "colorscale": [
             [
              0,
              "#0d0887"
             ],
             [
              0.1111111111111111,
              "#46039f"
             ],
             [
              0.2222222222222222,
              "#7201a8"
             ],
             [
              0.3333333333333333,
              "#9c179e"
             ],
             [
              0.4444444444444444,
              "#bd3786"
             ],
             [
              0.5555555555555556,
              "#d8576b"
             ],
             [
              0.6666666666666666,
              "#ed7953"
             ],
             [
              0.7777777777777778,
              "#fb9f3a"
             ],
             [
              0.8888888888888888,
              "#fdca26"
             ],
             [
              1,
              "#f0f921"
             ]
            ],
            "type": "contour"
           }
          ],
          "contourcarpet": [
           {
            "colorbar": {
             "outlinewidth": 0,
             "ticks": ""
            },
            "type": "contourcarpet"
           }
          ],
          "heatmap": [
           {
            "colorbar": {
             "outlinewidth": 0,
             "ticks": ""
            },
            "colorscale": [
             [
              0,
              "#0d0887"
             ],
             [
              0.1111111111111111,
              "#46039f"
             ],
             [
              0.2222222222222222,
              "#7201a8"
             ],
             [
              0.3333333333333333,
              "#9c179e"
             ],
             [
              0.4444444444444444,
              "#bd3786"
             ],
             [
              0.5555555555555556,
              "#d8576b"
             ],
             [
              0.6666666666666666,
              "#ed7953"
             ],
             [
              0.7777777777777778,
              "#fb9f3a"
             ],
             [
              0.8888888888888888,
              "#fdca26"
             ],
             [
              1,
              "#f0f921"
             ]
            ],
            "type": "heatmap"
           }
          ],
          "heatmapgl": [
           {
            "colorbar": {
             "outlinewidth": 0,
             "ticks": ""
            },
            "colorscale": [
             [
              0,
              "#0d0887"
             ],
             [
              0.1111111111111111,
              "#46039f"
             ],
             [
              0.2222222222222222,
              "#7201a8"
             ],
             [
              0.3333333333333333,
              "#9c179e"
             ],
             [
              0.4444444444444444,
              "#bd3786"
             ],
             [
              0.5555555555555556,
              "#d8576b"
             ],
             [
              0.6666666666666666,
              "#ed7953"
             ],
             [
              0.7777777777777778,
              "#fb9f3a"
             ],
             [
              0.8888888888888888,
              "#fdca26"
             ],
             [
              1,
              "#f0f921"
             ]
            ],
            "type": "heatmapgl"
           }
          ],
          "histogram": [
           {
            "marker": {
             "pattern": {
              "fillmode": "overlay",
              "size": 10,
              "solidity": 0.2
             }
            },
            "type": "histogram"
           }
          ],
          "histogram2d": [
           {
            "colorbar": {
             "outlinewidth": 0,
             "ticks": ""
            },
            "colorscale": [
             [
              0,
              "#0d0887"
             ],
             [
              0.1111111111111111,
              "#46039f"
             ],
             [
              0.2222222222222222,
              "#7201a8"
             ],
             [
              0.3333333333333333,
              "#9c179e"
             ],
             [
              0.4444444444444444,
              "#bd3786"
             ],
             [
              0.5555555555555556,
              "#d8576b"
             ],
             [
              0.6666666666666666,
              "#ed7953"
             ],
             [
              0.7777777777777778,
              "#fb9f3a"
             ],
             [
              0.8888888888888888,
              "#fdca26"
             ],
             [
              1,
              "#f0f921"
             ]
            ],
            "type": "histogram2d"
           }
          ],
          "histogram2dcontour": [
           {
            "colorbar": {
             "outlinewidth": 0,
             "ticks": ""
            },
            "colorscale": [
             [
              0,
              "#0d0887"
             ],
             [
              0.1111111111111111,
              "#46039f"
             ],
             [
              0.2222222222222222,
              "#7201a8"
             ],
             [
              0.3333333333333333,
              "#9c179e"
             ],
             [
              0.4444444444444444,
              "#bd3786"
             ],
             [
              0.5555555555555556,
              "#d8576b"
             ],
             [
              0.6666666666666666,
              "#ed7953"
             ],
             [
              0.7777777777777778,
              "#fb9f3a"
             ],
             [
              0.8888888888888888,
              "#fdca26"
             ],
             [
              1,
              "#f0f921"
             ]
            ],
            "type": "histogram2dcontour"
           }
          ],
          "mesh3d": [
           {
            "colorbar": {
             "outlinewidth": 0,
             "ticks": ""
            },
            "type": "mesh3d"
           }
          ],
          "parcoords": [
           {
            "line": {
             "colorbar": {
              "outlinewidth": 0,
              "ticks": ""
             }
            },
            "type": "parcoords"
           }
          ],
          "pie": [
           {
            "automargin": true,
            "type": "pie"
           }
          ],
          "scatter": [
           {
            "fillpattern": {
             "fillmode": "overlay",
             "size": 10,
             "solidity": 0.2
            },
            "type": "scatter"
           }
          ],
          "scatter3d": [
           {
            "line": {
             "colorbar": {
              "outlinewidth": 0,
              "ticks": ""
             }
            },
            "marker": {
             "colorbar": {
              "outlinewidth": 0,
              "ticks": ""
             }
            },
            "type": "scatter3d"
           }
          ],
          "scattercarpet": [
           {
            "marker": {
             "colorbar": {
              "outlinewidth": 0,
              "ticks": ""
             }
            },
            "type": "scattercarpet"
           }
          ],
          "scattergeo": [
           {
            "marker": {
             "colorbar": {
              "outlinewidth": 0,
              "ticks": ""
             }
            },
            "type": "scattergeo"
           }
          ],
          "scattergl": [
           {
            "marker": {
             "colorbar": {
              "outlinewidth": 0,
              "ticks": ""
             }
            },
            "type": "scattergl"
           }
          ],
          "scattermapbox": [
           {
            "marker": {
             "colorbar": {
              "outlinewidth": 0,
              "ticks": ""
             }
            },
            "type": "scattermapbox"
           }
          ],
          "scatterpolar": [
           {
            "marker": {
             "colorbar": {
              "outlinewidth": 0,
              "ticks": ""
             }
            },
            "type": "scatterpolar"
           }
          ],
          "scatterpolargl": [
           {
            "marker": {
             "colorbar": {
              "outlinewidth": 0,
              "ticks": ""
             }
            },
            "type": "scatterpolargl"
           }
          ],
          "scatterternary": [
           {
            "marker": {
             "colorbar": {
              "outlinewidth": 0,
              "ticks": ""
             }
            },
            "type": "scatterternary"
           }
          ],
          "surface": [
           {
            "colorbar": {
             "outlinewidth": 0,
             "ticks": ""
            },
            "colorscale": [
             [
              0,
              "#0d0887"
             ],
             [
              0.1111111111111111,
              "#46039f"
             ],
             [
              0.2222222222222222,
              "#7201a8"
             ],
             [
              0.3333333333333333,
              "#9c179e"
             ],
             [
              0.4444444444444444,
              "#bd3786"
             ],
             [
              0.5555555555555556,
              "#d8576b"
             ],
             [
              0.6666666666666666,
              "#ed7953"
             ],
             [
              0.7777777777777778,
              "#fb9f3a"
             ],
             [
              0.8888888888888888,
              "#fdca26"
             ],
             [
              1,
              "#f0f921"
             ]
            ],
            "type": "surface"
           }
          ],
          "table": [
           {
            "cells": {
             "fill": {
              "color": "#EBF0F8"
             },
             "line": {
              "color": "white"
             }
            },
            "header": {
             "fill": {
              "color": "#C8D4E3"
             },
             "line": {
              "color": "white"
             }
            },
            "type": "table"
           }
          ]
         },
         "layout": {
          "annotationdefaults": {
           "arrowcolor": "#2a3f5f",
           "arrowhead": 0,
           "arrowwidth": 1
          },
          "autotypenumbers": "strict",
          "coloraxis": {
           "colorbar": {
            "outlinewidth": 0,
            "ticks": ""
           }
          },
          "colorscale": {
           "diverging": [
            [
             0,
             "#8e0152"
            ],
            [
             0.1,
             "#c51b7d"
            ],
            [
             0.2,
             "#de77ae"
            ],
            [
             0.3,
             "#f1b6da"
            ],
            [
             0.4,
             "#fde0ef"
            ],
            [
             0.5,
             "#f7f7f7"
            ],
            [
             0.6,
             "#e6f5d0"
            ],
            [
             0.7,
             "#b8e186"
            ],
            [
             0.8,
             "#7fbc41"
            ],
            [
             0.9,
             "#4d9221"
            ],
            [
             1,
             "#276419"
            ]
           ],
           "sequential": [
            [
             0,
             "#0d0887"
            ],
            [
             0.1111111111111111,
             "#46039f"
            ],
            [
             0.2222222222222222,
             "#7201a8"
            ],
            [
             0.3333333333333333,
             "#9c179e"
            ],
            [
             0.4444444444444444,
             "#bd3786"
            ],
            [
             0.5555555555555556,
             "#d8576b"
            ],
            [
             0.6666666666666666,
             "#ed7953"
            ],
            [
             0.7777777777777778,
             "#fb9f3a"
            ],
            [
             0.8888888888888888,
             "#fdca26"
            ],
            [
             1,
             "#f0f921"
            ]
           ],
           "sequentialminus": [
            [
             0,
             "#0d0887"
            ],
            [
             0.1111111111111111,
             "#46039f"
            ],
            [
             0.2222222222222222,
             "#7201a8"
            ],
            [
             0.3333333333333333,
             "#9c179e"
            ],
            [
             0.4444444444444444,
             "#bd3786"
            ],
            [
             0.5555555555555556,
             "#d8576b"
            ],
            [
             0.6666666666666666,
             "#ed7953"
            ],
            [
             0.7777777777777778,
             "#fb9f3a"
            ],
            [
             0.8888888888888888,
             "#fdca26"
            ],
            [
             1,
             "#f0f921"
            ]
           ]
          },
          "colorway": [
           "#636efa",
           "#EF553B",
           "#00cc96",
           "#ab63fa",
           "#FFA15A",
           "#19d3f3",
           "#FF6692",
           "#B6E880",
           "#FF97FF",
           "#FECB52"
          ],
          "font": {
           "color": "#2a3f5f"
          },
          "geo": {
           "bgcolor": "white",
           "lakecolor": "white",
           "landcolor": "#E5ECF6",
           "showlakes": true,
           "showland": true,
           "subunitcolor": "white"
          },
          "hoverlabel": {
           "align": "left"
          },
          "hovermode": "closest",
          "mapbox": {
           "style": "light"
          },
          "paper_bgcolor": "white",
          "plot_bgcolor": "#E5ECF6",
          "polar": {
           "angularaxis": {
            "gridcolor": "white",
            "linecolor": "white",
            "ticks": ""
           },
           "bgcolor": "#E5ECF6",
           "radialaxis": {
            "gridcolor": "white",
            "linecolor": "white",
            "ticks": ""
           }
          },
          "scene": {
           "xaxis": {
            "backgroundcolor": "#E5ECF6",
            "gridcolor": "white",
            "gridwidth": 2,
            "linecolor": "white",
            "showbackground": true,
            "ticks": "",
            "zerolinecolor": "white"
           },
           "yaxis": {
            "backgroundcolor": "#E5ECF6",
            "gridcolor": "white",
            "gridwidth": 2,
            "linecolor": "white",
            "showbackground": true,
            "ticks": "",
            "zerolinecolor": "white"
           },
           "zaxis": {
            "backgroundcolor": "#E5ECF6",
            "gridcolor": "white",
            "gridwidth": 2,
            "linecolor": "white",
            "showbackground": true,
            "ticks": "",
            "zerolinecolor": "white"
           }
          },
          "shapedefaults": {
           "line": {
            "color": "#2a3f5f"
           }
          },
          "ternary": {
           "aaxis": {
            "gridcolor": "white",
            "linecolor": "white",
            "ticks": ""
           },
           "baxis": {
            "gridcolor": "white",
            "linecolor": "white",
            "ticks": ""
           },
           "bgcolor": "#E5ECF6",
           "caxis": {
            "gridcolor": "white",
            "linecolor": "white",
            "ticks": ""
           }
          },
          "title": {
           "x": 0.05
          },
          "xaxis": {
           "automargin": true,
           "gridcolor": "white",
           "linecolor": "white",
           "ticks": "",
           "title": {
            "standoff": 15
           },
           "zerolinecolor": "white",
           "zerolinewidth": 2
          },
          "yaxis": {
           "automargin": true,
           "gridcolor": "white",
           "linecolor": "white",
           "ticks": "",
           "title": {
            "standoff": 15
           },
           "zerolinecolor": "white",
           "zerolinewidth": 2
          }
         }
        },
        "title": {
         "text": "The Correlation Between Emissions and 2022 Population",
         "x": 0.5
        },
        "width": 1080,
        "xaxis": {
         "anchor": "y",
         "domain": [
          0,
          1
         ],
         "title": {
          "text": "2022 Population"
         }
        },
        "yaxis": {
         "anchor": "x",
         "domain": [
          0,
          1
         ],
         "title": {
          "text": "Emissions"
         }
        }
       }
      }
     },
     "metadata": {},
     "output_type": "display_data"
    }
   ],
   "source": [
    "# Create a scatter plot\n",
    "fig = px.scatter(merged, x=\"2022 Population\", y=\"Emissions\", trendline=\"ols\", text=\"Country\")\n",
    "\n",
    "# Update the layout to adjust font size and add title\n",
    "fig.update_layout(title=\"The Correlation Between Emissions and 2022 Population\",\n",
    "                  title_x=0.5, \n",
    "                  xaxis_title=\"2022 Population\", \n",
    "                  yaxis_title=\"Emissions\", \n",
    "                  font=dict(size=12))\n",
    "\n",
    "# Add annotations for the text labels\n",
    "fig.update_traces(textposition=\"top center\")\n",
    "fig.update_layout(height=600, width=1080)\n",
    "# Center the title\n",
    "fig.update_layout(title_x=0.5)\n",
    "fig.show()"
   ]
  },
  {
   "cell_type": "code",
   "execution_count": 582,
   "metadata": {},
   "outputs": [
    {
     "data": {
      "text/html": [
       "<div>\n",
       "<style scoped>\n",
       "    .dataframe tbody tr th:only-of-type {\n",
       "        vertical-align: middle;\n",
       "    }\n",
       "\n",
       "    .dataframe tbody tr th {\n",
       "        vertical-align: top;\n",
       "    }\n",
       "\n",
       "    .dataframe thead th {\n",
       "        text-align: right;\n",
       "    }\n",
       "</style>\n",
       "<table border=\"1\" class=\"dataframe\">\n",
       "  <thead>\n",
       "    <tr style=\"text-align: right;\">\n",
       "      <th></th>\n",
       "      <th>region</th>\n",
       "      <th>country</th>\n",
       "      <th>emissions</th>\n",
       "      <th>type</th>\n",
       "      <th>segment</th>\n",
       "      <th>reason</th>\n",
       "      <th>baseYear</th>\n",
       "      <th>notes</th>\n",
       "    </tr>\n",
       "  </thead>\n",
       "  <tbody>\n",
       "    <tr>\n",
       "      <th>0</th>\n",
       "      <td>Africa</td>\n",
       "      <td>Algeria</td>\n",
       "      <td>257.611206</td>\n",
       "      <td>Agriculture</td>\n",
       "      <td>Total</td>\n",
       "      <td>All</td>\n",
       "      <td>2019-2021</td>\n",
       "      <td>Average based on United Nations Framework Conv...</td>\n",
       "    </tr>\n",
       "    <tr>\n",
       "      <th>1</th>\n",
       "      <td>Africa</td>\n",
       "      <td>Algeria</td>\n",
       "      <td>0.052000</td>\n",
       "      <td>Energy</td>\n",
       "      <td>Bioenergy</td>\n",
       "      <td>All</td>\n",
       "      <td>2022</td>\n",
       "      <td>Estimates from end-uses are for 2020 or 2021 (...</td>\n",
       "    </tr>\n",
       "    <tr>\n",
       "      <th>2</th>\n",
       "      <td>Africa</td>\n",
       "      <td>Algeria</td>\n",
       "      <td>130.798996</td>\n",
       "      <td>Energy</td>\n",
       "      <td>Gas pipelines and LNG facilities</td>\n",
       "      <td>Fugitive</td>\n",
       "      <td>2022</td>\n",
       "      <td>Not available</td>\n",
       "    </tr>\n",
       "    <tr>\n",
       "      <th>3</th>\n",
       "      <td>Africa</td>\n",
       "      <td>Algeria</td>\n",
       "      <td>69.741898</td>\n",
       "      <td>Energy</td>\n",
       "      <td>Gas pipelines and LNG facilities</td>\n",
       "      <td>Vented</td>\n",
       "      <td>2022</td>\n",
       "      <td>Not available</td>\n",
       "    </tr>\n",
       "    <tr>\n",
       "      <th>4</th>\n",
       "      <td>Africa</td>\n",
       "      <td>Algeria</td>\n",
       "      <td>213.987000</td>\n",
       "      <td>Energy</td>\n",
       "      <td>Onshore gas</td>\n",
       "      <td>Fugitive</td>\n",
       "      <td>2022</td>\n",
       "      <td>Not available</td>\n",
       "    </tr>\n",
       "    <tr>\n",
       "      <th>...</th>\n",
       "      <td>...</td>\n",
       "      <td>...</td>\n",
       "      <td>...</td>\n",
       "      <td>...</td>\n",
       "      <td>...</td>\n",
       "      <td>...</td>\n",
       "      <td>...</td>\n",
       "      <td>...</td>\n",
       "    </tr>\n",
       "    <tr>\n",
       "      <th>1521</th>\n",
       "      <td>Russia &amp; Caspian</td>\n",
       "      <td>Uzbekistan</td>\n",
       "      <td>16.973917</td>\n",
       "      <td>Energy</td>\n",
       "      <td>Other from oil and gas</td>\n",
       "      <td>All</td>\n",
       "      <td>2022</td>\n",
       "      <td>Estimates from end-uses are for 2020 or 2021 (...</td>\n",
       "    </tr>\n",
       "    <tr>\n",
       "      <th>1522</th>\n",
       "      <td>Russia &amp; Caspian</td>\n",
       "      <td>Uzbekistan</td>\n",
       "      <td>18.299999</td>\n",
       "      <td>Energy</td>\n",
       "      <td>Satellite-detected large oil and gas emissions</td>\n",
       "      <td>All</td>\n",
       "      <td>2022</td>\n",
       "      <td>Not available</td>\n",
       "    </tr>\n",
       "    <tr>\n",
       "      <th>1523</th>\n",
       "      <td>Russia &amp; Caspian</td>\n",
       "      <td>Uzbekistan</td>\n",
       "      <td>780.916138</td>\n",
       "      <td>Energy</td>\n",
       "      <td>Total</td>\n",
       "      <td>All</td>\n",
       "      <td>2022</td>\n",
       "      <td>Estimates from end-uses are for 2020 or 2021 (...</td>\n",
       "    </tr>\n",
       "    <tr>\n",
       "      <th>1524</th>\n",
       "      <td>Russia &amp; Caspian</td>\n",
       "      <td>Uzbekistan</td>\n",
       "      <td>3.845616</td>\n",
       "      <td>Other</td>\n",
       "      <td>Total</td>\n",
       "      <td>All</td>\n",
       "      <td>2019-2021</td>\n",
       "      <td>Average based on United Nations Framework Conv...</td>\n",
       "    </tr>\n",
       "    <tr>\n",
       "      <th>1525</th>\n",
       "      <td>Russia &amp; Caspian</td>\n",
       "      <td>Uzbekistan</td>\n",
       "      <td>280.418243</td>\n",
       "      <td>Waste</td>\n",
       "      <td>Total</td>\n",
       "      <td>All</td>\n",
       "      <td>2019-2021</td>\n",
       "      <td>Average based on United Nations Framework Conv...</td>\n",
       "    </tr>\n",
       "  </tbody>\n",
       "</table>\n",
       "<p>1526 rows × 8 columns</p>\n",
       "</div>"
      ],
      "text/plain": [
       "                region     country   emissions         type  \\\n",
       "0               Africa     Algeria  257.611206  Agriculture   \n",
       "1               Africa     Algeria    0.052000       Energy   \n",
       "2               Africa     Algeria  130.798996       Energy   \n",
       "3               Africa     Algeria   69.741898       Energy   \n",
       "4               Africa     Algeria  213.987000       Energy   \n",
       "...                ...         ...         ...          ...   \n",
       "1521  Russia & Caspian  Uzbekistan   16.973917       Energy   \n",
       "1522  Russia & Caspian  Uzbekistan   18.299999       Energy   \n",
       "1523  Russia & Caspian  Uzbekistan  780.916138       Energy   \n",
       "1524  Russia & Caspian  Uzbekistan    3.845616        Other   \n",
       "1525  Russia & Caspian  Uzbekistan  280.418243        Waste   \n",
       "\n",
       "                                             segment    reason   baseYear  \\\n",
       "0                                              Total       All  2019-2021   \n",
       "1                                          Bioenergy       All       2022   \n",
       "2                   Gas pipelines and LNG facilities  Fugitive       2022   \n",
       "3                   Gas pipelines and LNG facilities    Vented       2022   \n",
       "4                                        Onshore gas  Fugitive       2022   \n",
       "...                                              ...       ...        ...   \n",
       "1521                          Other from oil and gas       All       2022   \n",
       "1522  Satellite-detected large oil and gas emissions       All       2022   \n",
       "1523                                           Total       All       2022   \n",
       "1524                                           Total       All  2019-2021   \n",
       "1525                                           Total       All  2019-2021   \n",
       "\n",
       "                                                  notes  \n",
       "0     Average based on United Nations Framework Conv...  \n",
       "1     Estimates from end-uses are for 2020 or 2021 (...  \n",
       "2                                         Not available  \n",
       "3                                         Not available  \n",
       "4                                         Not available  \n",
       "...                                                 ...  \n",
       "1521  Estimates from end-uses are for 2020 or 2021 (...  \n",
       "1522                                      Not available  \n",
       "1523  Estimates from end-uses are for 2020 or 2021 (...  \n",
       "1524  Average based on United Nations Framework Conv...  \n",
       "1525  Average based on United Nations Framework Conv...  \n",
       "\n",
       "[1526 rows x 8 columns]"
      ]
     },
     "execution_count": 582,
     "metadata": {},
     "output_type": "execute_result"
    }
   ],
   "source": [
    "df"
   ]
  },
  {
   "cell_type": "code",
   "execution_count": 583,
   "metadata": {},
   "outputs": [
    {
     "data": {
      "application/vnd.plotly.v1+json": {
       "config": {
        "plotlyServerURL": "https://plot.ly"
       },
       "data": [
        {
         "coloraxis": "coloraxis",
         "hovertemplate": "Sector: %{x}<br>Region: %{y}<br>color: %{z}<extra></extra>",
         "name": "0",
         "texttemplate": "%{z}",
         "type": "heatmap",
         "x": [
          "Agriculture",
          "Energy",
          "Other",
          "Waste"
         ],
         "xaxis": "x",
         "y": [
          "Africa",
          "Asia Pacific",
          "Central and South America",
          "Europe",
          "Middle East",
          "North America",
          "Other",
          "Russia & Caspian"
         ],
         "yaxis": "y",
         "z": [
          [
           16892.979230247438,
           26535.87804948422,
           2744.415802501142,
           8023.879530906677
          ],
          [
           63241.49348646402,
           83240.17148713674,
           3944.0093786120415,
           27273.937112808228
          ],
          [
           23573.521675109863,
           14646.325497671496,
           728.5916917324066,
           6691.550934791565
          ],
          [
           21201.239498138428,
           13764.954998687608,
           855.1969496011734,
           13387.60537147522
          ],
          [
           1548.082251906395,
           32540.824141286314,
           92.07684874534607,
           3914.8155212402344
          ],
          [
           12902.826904296875,
           41798.716642059386,
           635.3446960449219,
           8010.520935058594
          ],
          [
           7259.01416015625,
           4841.759946305363,
           682.0879516601562,
           3214.4951171875
          ],
          [
           4185.945938110352,
           53325.71439382993,
           347.04954355955124,
           4562.902484893799
          ]
         ]
        }
       ],
       "layout": {
        "coloraxis": {
         "colorscale": [
          [
           0,
           "rgb(255,255,204)"
          ],
          [
           0.125,
           "rgb(255,237,160)"
          ],
          [
           0.25,
           "rgb(254,217,118)"
          ],
          [
           0.375,
           "rgb(254,178,76)"
          ],
          [
           0.5,
           "rgb(253,141,60)"
          ],
          [
           0.625,
           "rgb(252,78,42)"
          ],
          [
           0.75,
           "rgb(227,26,28)"
          ],
          [
           0.875,
           "rgb(189,0,38)"
          ],
          [
           1,
           "rgb(128,0,38)"
          ]
         ]
        },
        "height": 800,
        "margin": {
         "t": 60
        },
        "template": {
         "data": {
          "bar": [
           {
            "error_x": {
             "color": "#2a3f5f"
            },
            "error_y": {
             "color": "#2a3f5f"
            },
            "marker": {
             "line": {
              "color": "#E5ECF6",
              "width": 0.5
             },
             "pattern": {
              "fillmode": "overlay",
              "size": 10,
              "solidity": 0.2
             }
            },
            "type": "bar"
           }
          ],
          "barpolar": [
           {
            "marker": {
             "line": {
              "color": "#E5ECF6",
              "width": 0.5
             },
             "pattern": {
              "fillmode": "overlay",
              "size": 10,
              "solidity": 0.2
             }
            },
            "type": "barpolar"
           }
          ],
          "carpet": [
           {
            "aaxis": {
             "endlinecolor": "#2a3f5f",
             "gridcolor": "white",
             "linecolor": "white",
             "minorgridcolor": "white",
             "startlinecolor": "#2a3f5f"
            },
            "baxis": {
             "endlinecolor": "#2a3f5f",
             "gridcolor": "white",
             "linecolor": "white",
             "minorgridcolor": "white",
             "startlinecolor": "#2a3f5f"
            },
            "type": "carpet"
           }
          ],
          "choropleth": [
           {
            "colorbar": {
             "outlinewidth": 0,
             "ticks": ""
            },
            "type": "choropleth"
           }
          ],
          "contour": [
           {
            "colorbar": {
             "outlinewidth": 0,
             "ticks": ""
            },
            "colorscale": [
             [
              0,
              "#0d0887"
             ],
             [
              0.1111111111111111,
              "#46039f"
             ],
             [
              0.2222222222222222,
              "#7201a8"
             ],
             [
              0.3333333333333333,
              "#9c179e"
             ],
             [
              0.4444444444444444,
              "#bd3786"
             ],
             [
              0.5555555555555556,
              "#d8576b"
             ],
             [
              0.6666666666666666,
              "#ed7953"
             ],
             [
              0.7777777777777778,
              "#fb9f3a"
             ],
             [
              0.8888888888888888,
              "#fdca26"
             ],
             [
              1,
              "#f0f921"
             ]
            ],
            "type": "contour"
           }
          ],
          "contourcarpet": [
           {
            "colorbar": {
             "outlinewidth": 0,
             "ticks": ""
            },
            "type": "contourcarpet"
           }
          ],
          "heatmap": [
           {
            "colorbar": {
             "outlinewidth": 0,
             "ticks": ""
            },
            "colorscale": [
             [
              0,
              "#0d0887"
             ],
             [
              0.1111111111111111,
              "#46039f"
             ],
             [
              0.2222222222222222,
              "#7201a8"
             ],
             [
              0.3333333333333333,
              "#9c179e"
             ],
             [
              0.4444444444444444,
              "#bd3786"
             ],
             [
              0.5555555555555556,
              "#d8576b"
             ],
             [
              0.6666666666666666,
              "#ed7953"
             ],
             [
              0.7777777777777778,
              "#fb9f3a"
             ],
             [
              0.8888888888888888,
              "#fdca26"
             ],
             [
              1,
              "#f0f921"
             ]
            ],
            "type": "heatmap"
           }
          ],
          "heatmapgl": [
           {
            "colorbar": {
             "outlinewidth": 0,
             "ticks": ""
            },
            "colorscale": [
             [
              0,
              "#0d0887"
             ],
             [
              0.1111111111111111,
              "#46039f"
             ],
             [
              0.2222222222222222,
              "#7201a8"
             ],
             [
              0.3333333333333333,
              "#9c179e"
             ],
             [
              0.4444444444444444,
              "#bd3786"
             ],
             [
              0.5555555555555556,
              "#d8576b"
             ],
             [
              0.6666666666666666,
              "#ed7953"
             ],
             [
              0.7777777777777778,
              "#fb9f3a"
             ],
             [
              0.8888888888888888,
              "#fdca26"
             ],
             [
              1,
              "#f0f921"
             ]
            ],
            "type": "heatmapgl"
           }
          ],
          "histogram": [
           {
            "marker": {
             "pattern": {
              "fillmode": "overlay",
              "size": 10,
              "solidity": 0.2
             }
            },
            "type": "histogram"
           }
          ],
          "histogram2d": [
           {
            "colorbar": {
             "outlinewidth": 0,
             "ticks": ""
            },
            "colorscale": [
             [
              0,
              "#0d0887"
             ],
             [
              0.1111111111111111,
              "#46039f"
             ],
             [
              0.2222222222222222,
              "#7201a8"
             ],
             [
              0.3333333333333333,
              "#9c179e"
             ],
             [
              0.4444444444444444,
              "#bd3786"
             ],
             [
              0.5555555555555556,
              "#d8576b"
             ],
             [
              0.6666666666666666,
              "#ed7953"
             ],
             [
              0.7777777777777778,
              "#fb9f3a"
             ],
             [
              0.8888888888888888,
              "#fdca26"
             ],
             [
              1,
              "#f0f921"
             ]
            ],
            "type": "histogram2d"
           }
          ],
          "histogram2dcontour": [
           {
            "colorbar": {
             "outlinewidth": 0,
             "ticks": ""
            },
            "colorscale": [
             [
              0,
              "#0d0887"
             ],
             [
              0.1111111111111111,
              "#46039f"
             ],
             [
              0.2222222222222222,
              "#7201a8"
             ],
             [
              0.3333333333333333,
              "#9c179e"
             ],
             [
              0.4444444444444444,
              "#bd3786"
             ],
             [
              0.5555555555555556,
              "#d8576b"
             ],
             [
              0.6666666666666666,
              "#ed7953"
             ],
             [
              0.7777777777777778,
              "#fb9f3a"
             ],
             [
              0.8888888888888888,
              "#fdca26"
             ],
             [
              1,
              "#f0f921"
             ]
            ],
            "type": "histogram2dcontour"
           }
          ],
          "mesh3d": [
           {
            "colorbar": {
             "outlinewidth": 0,
             "ticks": ""
            },
            "type": "mesh3d"
           }
          ],
          "parcoords": [
           {
            "line": {
             "colorbar": {
              "outlinewidth": 0,
              "ticks": ""
             }
            },
            "type": "parcoords"
           }
          ],
          "pie": [
           {
            "automargin": true,
            "type": "pie"
           }
          ],
          "scatter": [
           {
            "fillpattern": {
             "fillmode": "overlay",
             "size": 10,
             "solidity": 0.2
            },
            "type": "scatter"
           }
          ],
          "scatter3d": [
           {
            "line": {
             "colorbar": {
              "outlinewidth": 0,
              "ticks": ""
             }
            },
            "marker": {
             "colorbar": {
              "outlinewidth": 0,
              "ticks": ""
             }
            },
            "type": "scatter3d"
           }
          ],
          "scattercarpet": [
           {
            "marker": {
             "colorbar": {
              "outlinewidth": 0,
              "ticks": ""
             }
            },
            "type": "scattercarpet"
           }
          ],
          "scattergeo": [
           {
            "marker": {
             "colorbar": {
              "outlinewidth": 0,
              "ticks": ""
             }
            },
            "type": "scattergeo"
           }
          ],
          "scattergl": [
           {
            "marker": {
             "colorbar": {
              "outlinewidth": 0,
              "ticks": ""
             }
            },
            "type": "scattergl"
           }
          ],
          "scattermapbox": [
           {
            "marker": {
             "colorbar": {
              "outlinewidth": 0,
              "ticks": ""
             }
            },
            "type": "scattermapbox"
           }
          ],
          "scatterpolar": [
           {
            "marker": {
             "colorbar": {
              "outlinewidth": 0,
              "ticks": ""
             }
            },
            "type": "scatterpolar"
           }
          ],
          "scatterpolargl": [
           {
            "marker": {
             "colorbar": {
              "outlinewidth": 0,
              "ticks": ""
             }
            },
            "type": "scatterpolargl"
           }
          ],
          "scatterternary": [
           {
            "marker": {
             "colorbar": {
              "outlinewidth": 0,
              "ticks": ""
             }
            },
            "type": "scatterternary"
           }
          ],
          "surface": [
           {
            "colorbar": {
             "outlinewidth": 0,
             "ticks": ""
            },
            "colorscale": [
             [
              0,
              "#0d0887"
             ],
             [
              0.1111111111111111,
              "#46039f"
             ],
             [
              0.2222222222222222,
              "#7201a8"
             ],
             [
              0.3333333333333333,
              "#9c179e"
             ],
             [
              0.4444444444444444,
              "#bd3786"
             ],
             [
              0.5555555555555556,
              "#d8576b"
             ],
             [
              0.6666666666666666,
              "#ed7953"
             ],
             [
              0.7777777777777778,
              "#fb9f3a"
             ],
             [
              0.8888888888888888,
              "#fdca26"
             ],
             [
              1,
              "#f0f921"
             ]
            ],
            "type": "surface"
           }
          ],
          "table": [
           {
            "cells": {
             "fill": {
              "color": "#EBF0F8"
             },
             "line": {
              "color": "white"
             }
            },
            "header": {
             "fill": {
              "color": "#C8D4E3"
             },
             "line": {
              "color": "white"
             }
            },
            "type": "table"
           }
          ]
         },
         "layout": {
          "annotationdefaults": {
           "arrowcolor": "#2a3f5f",
           "arrowhead": 0,
           "arrowwidth": 1
          },
          "autotypenumbers": "strict",
          "coloraxis": {
           "colorbar": {
            "outlinewidth": 0,
            "ticks": ""
           }
          },
          "colorscale": {
           "diverging": [
            [
             0,
             "#8e0152"
            ],
            [
             0.1,
             "#c51b7d"
            ],
            [
             0.2,
             "#de77ae"
            ],
            [
             0.3,
             "#f1b6da"
            ],
            [
             0.4,
             "#fde0ef"
            ],
            [
             0.5,
             "#f7f7f7"
            ],
            [
             0.6,
             "#e6f5d0"
            ],
            [
             0.7,
             "#b8e186"
            ],
            [
             0.8,
             "#7fbc41"
            ],
            [
             0.9,
             "#4d9221"
            ],
            [
             1,
             "#276419"
            ]
           ],
           "sequential": [
            [
             0,
             "#0d0887"
            ],
            [
             0.1111111111111111,
             "#46039f"
            ],
            [
             0.2222222222222222,
             "#7201a8"
            ],
            [
             0.3333333333333333,
             "#9c179e"
            ],
            [
             0.4444444444444444,
             "#bd3786"
            ],
            [
             0.5555555555555556,
             "#d8576b"
            ],
            [
             0.6666666666666666,
             "#ed7953"
            ],
            [
             0.7777777777777778,
             "#fb9f3a"
            ],
            [
             0.8888888888888888,
             "#fdca26"
            ],
            [
             1,
             "#f0f921"
            ]
           ],
           "sequentialminus": [
            [
             0,
             "#0d0887"
            ],
            [
             0.1111111111111111,
             "#46039f"
            ],
            [
             0.2222222222222222,
             "#7201a8"
            ],
            [
             0.3333333333333333,
             "#9c179e"
            ],
            [
             0.4444444444444444,
             "#bd3786"
            ],
            [
             0.5555555555555556,
             "#d8576b"
            ],
            [
             0.6666666666666666,
             "#ed7953"
            ],
            [
             0.7777777777777778,
             "#fb9f3a"
            ],
            [
             0.8888888888888888,
             "#fdca26"
            ],
            [
             1,
             "#f0f921"
            ]
           ]
          },
          "colorway": [
           "#636efa",
           "#EF553B",
           "#00cc96",
           "#ab63fa",
           "#FFA15A",
           "#19d3f3",
           "#FF6692",
           "#B6E880",
           "#FF97FF",
           "#FECB52"
          ],
          "font": {
           "color": "#2a3f5f"
          },
          "geo": {
           "bgcolor": "white",
           "lakecolor": "white",
           "landcolor": "#E5ECF6",
           "showlakes": true,
           "showland": true,
           "subunitcolor": "white"
          },
          "hoverlabel": {
           "align": "left"
          },
          "hovermode": "closest",
          "mapbox": {
           "style": "light"
          },
          "paper_bgcolor": "white",
          "plot_bgcolor": "#E5ECF6",
          "polar": {
           "angularaxis": {
            "gridcolor": "white",
            "linecolor": "white",
            "ticks": ""
           },
           "bgcolor": "#E5ECF6",
           "radialaxis": {
            "gridcolor": "white",
            "linecolor": "white",
            "ticks": ""
           }
          },
          "scene": {
           "xaxis": {
            "backgroundcolor": "#E5ECF6",
            "gridcolor": "white",
            "gridwidth": 2,
            "linecolor": "white",
            "showbackground": true,
            "ticks": "",
            "zerolinecolor": "white"
           },
           "yaxis": {
            "backgroundcolor": "#E5ECF6",
            "gridcolor": "white",
            "gridwidth": 2,
            "linecolor": "white",
            "showbackground": true,
            "ticks": "",
            "zerolinecolor": "white"
           },
           "zaxis": {
            "backgroundcolor": "#E5ECF6",
            "gridcolor": "white",
            "gridwidth": 2,
            "linecolor": "white",
            "showbackground": true,
            "ticks": "",
            "zerolinecolor": "white"
           }
          },
          "shapedefaults": {
           "line": {
            "color": "#2a3f5f"
           }
          },
          "ternary": {
           "aaxis": {
            "gridcolor": "white",
            "linecolor": "white",
            "ticks": ""
           },
           "baxis": {
            "gridcolor": "white",
            "linecolor": "white",
            "ticks": ""
           },
           "bgcolor": "#E5ECF6",
           "caxis": {
            "gridcolor": "white",
            "linecolor": "white",
            "ticks": ""
           }
          },
          "title": {
           "x": 0.05
          },
          "xaxis": {
           "automargin": true,
           "gridcolor": "white",
           "linecolor": "white",
           "ticks": "",
           "title": {
            "standoff": 15
           },
           "zerolinecolor": "white",
           "zerolinewidth": 2
          },
          "yaxis": {
           "automargin": true,
           "gridcolor": "white",
           "linecolor": "white",
           "ticks": "",
           "title": {
            "standoff": 15
           },
           "zerolinecolor": "white",
           "zerolinewidth": 2
          }
         }
        },
        "title": {
         "text": "Heatmap of Emissions by Sector and Region",
         "x": 0.5
        },
        "width": 600,
        "xaxis": {
         "anchor": "y",
         "constrain": "domain",
         "domain": [
          0,
          1
         ],
         "nticks": 4,
         "scaleanchor": "y",
         "title": {
          "text": "Sector"
         }
        },
        "yaxis": {
         "anchor": "x",
         "autorange": "reversed",
         "constrain": "domain",
         "domain": [
          0,
          1
         ],
         "nticks": 8,
         "title": {
          "text": "Region"
         }
        }
       }
      }
     },
     "metadata": {},
     "output_type": "display_data"
    }
   ],
   "source": [
    "region_pivot = df.pivot_table(values='emissions', index='region', columns='type', aggfunc='sum')\n",
    "fig = px.imshow(region_pivot, x=region_pivot.columns, y=region_pivot.index, \n",
    "                labels=dict(x=\"Sector\", y=\"Region\", z=\"Emissions\"),\n",
    "                color_continuous_scale='YlOrRd',\n",
    "                text_auto=True)\n",
    "fig.update_layout(title=\"Heatmap of Emissions by Sector and Region\",\n",
    "                  xaxis_nticks=len(region_pivot.columns),\n",
    "                  yaxis_nticks=len(region_pivot.index))\n",
    "\n",
    "fig.update_layout(height=800, width=600)\n",
    "# Center the title\n",
    "fig.update_layout(title_x=0.5)\n",
    "\n",
    "fig.show()"
   ]
  },
  {
   "cell_type": "code",
   "execution_count": 584,
   "metadata": {},
   "outputs": [
    {
     "data": {
      "application/vnd.plotly.v1+json": {
       "config": {
        "plotlyServerURL": "https://plot.ly"
       },
       "data": [
        {
         "branchvalues": "total",
         "customdata": [
          [
           257.6112060546875
          ],
          [
           400.9695739746094
          ],
          [
           3152.9326171875
          ],
          [
           2450.463134765625
          ],
          [
           195.19752502441412
          ],
          [
           0.9645923376083374
          ],
          [
           2410.234375
          ],
          [
           105.69103240966795
          ],
          [
           673.754150390625
          ],
          [
           97.25849151611328
          ],
          [
           14020.0888671875
          ],
          [
           0.8412342667579651
          ],
          [
           279.5312194824219
          ],
          [
           1072.710693359375
          ],
          [
           250.8168029785156
          ],
          [
           1223.9329833984375
          ],
          [
           18501.9140625
          ],
          [
           1795.9031982421875
          ],
          [
           23.8709659576416
          ],
          [
           185.70077514648438
          ],
          [
           267.4549255371094
          ],
          [
           555.5286865234375
          ],
          [
           240.09361267089844
          ],
          [
           359.8713684082031
          ],
          [
           684.5322265625
          ],
          [
           0.438739001750946
          ],
          [
           120.17935180664062
          ],
          [
           27.72345733642578
          ],
          [
           1910.0897216796875
          ],
          [
           8851.337890625
          ],
          [
           1564.2218017578125
          ],
          [
           5.590458393096924
          ],
          [
           29.567506790161133
          ],
          [
           1269.36865234375
          ],
          [
           169.0322265625
          ],
          [
           438.159423828125
          ],
          [
           52.83677673339844
          ],
          [
           57.39715576171875
          ],
          [
           18358.517578125
          ],
          [
           3518.344482421875
          ],
          [
           802.454345703125
          ],
          [
           168.22393798828125
          ],
          [
           39.840087890625
          ],
          [
           800.047119140625
          ],
          [
           991.6493530273438
          ],
          [
           25.815542221069336
          ],
          [
           762.0980834960938
          ],
          [
           1250.951904296875
          ],
          [
           508.4415588378906
          ],
          [
           7.323050498962402
          ],
          [
           12.067669868469238
          ],
          [
           9.208291053771973
          ],
          [
           67.41584777832031
          ],
          [
           189.0501708984375
          ],
          [
           2420.791015625
          ],
          [
           549.2429809570312
          ],
          [
           295.3795166015625
          ],
          [
           210.65399169921875
          ],
          [
           181.9879150390625
          ],
          [
           466.8436584472656
          ],
          [
           1155.9993896484375
          ],
          [
           696.4396362304688
          ],
          [
           2082.188232421875
          ],
          [
           103.60773468017578
          ],
          [
           37.05989837646485
          ],
          [
           7259.01416015625
          ],
          [
           2811.933837890625
          ],
          [
           139.63568115234375
          ],
          [
           2284.248779296875
          ],
          [
           3300.293701171875
          ],
          [
           5319.4560546875
          ],
          [
           835.0689086914062
          ],
          [
           639.6949462890625
          ],
          [
           1714.848876953125
          ],
          [
           615.5054321289062
          ],
          [
           11.3685884475708
          ],
          [
           367.9289245605469
          ],
          [
           2022.095947265625
          ],
          [
           121.0209732055664
          ],
          [
           261.5225524902344
          ],
          [
           0.078720711171627
          ],
          [
           86.26763916015625
          ],
          [
           48.42922592163086
          ],
          [
           625.7147827148438
          ],
          [
           760.32275390625
          ],
          [
           695.7181396484375
          ],
          [
           1549.11083984375
          ],
          [
           128.65838623046875
          ],
          [
           133.05282592773438
          ],
          [
           1180.221923828125
          ],
          [
           2078.933837890625
          ],
          [
           50.73590850830078
          ],
          [
           4.345527648925781
          ],
          [
           97.72246551513672
          ],
          [
           304.87176513671875
          ],
          [
           377.1493225097656
          ],
          [
           47.437843322753906
          ],
          [
           1064.6658935546875
          ],
          [
           9409.3251953125
          ],
          [
           751.9459228515625
          ],
          [
           901.6826171875
          ],
          [
           1015.0640869140624
          ],
          [
           2193.2626953125
          ],
          [
           181.29298400878906
          ],
          [
           1680.766338227189
          ],
          [
           429.99269936369205
          ],
          [
           790.3379052684998
          ],
          [
           1438.2969348760962
          ],
          [
           202.65774801468856
          ],
          [
           117.01026632828685
          ],
          [
           203.1913481592973
          ],
          [
           24.751976944696697
          ],
          [
           81.33935587982326
          ],
          [
           5.494457112453304
          ],
          [
           1153.0848560586294
          ],
          [
           25.527592402627707
          ],
          [
           138.08337555051705
          ],
          [
           1602.6755662120706
          ],
          [
           42.06335778048334
          ],
          [
           17652.64168468119
          ],
          [
           506.6637070852516
          ],
          [
           188.40415133056456
          ],
          [
           63.883317118515976
          ],
          [
           12.360000679028492
          ],
          [
           220.93318854434511
          ],
          [
           26.687906451687603
          ],
          [
           225.41730145796237
          ],
          [
           541.1403381968913
          ],
          [
           101.4816946496544
          ],
          [
           5.884472216119484
          ],
          [
           8.538935426651708
          ],
          [
           462.37066535917984
          ],
          [
           1578.3277125173531
          ],
          [
           130.57045278202858
          ],
          [
           153.50853637187834
          ],
          [
           213.13656758579864
          ],
          [
           74.98226373186678
          ],
          [
           0.0080000003799796
          ],
          [
           43.178366387109044
          ],
          [
           3426.387667855376
          ],
          [
           3988.687086664416
          ],
          [
           3305.348356795901
          ],
          [
           1802.6655180746357
          ],
          [
           26.796818162304792
          ],
          [
           176.84925362882086
          ],
          [
           176.50156468098453
          ],
          [
           32.56753223432475
          ],
          [
           1671.0866502658996
          ],
          [
           141.01313199639026
          ],
          [
           124.12631539835013
          ],
          [
           782.122955689986
          ],
          [
           3.6389758951588393
          ],
          [
           1104.215936535366
          ],
          [
           274.4978151338787
          ],
          [
           908.6112209521267
          ],
          [
           170.99499907509758
          ],
          [
           16.118152917960664
          ],
          [
           139.9884617356576
          ],
          [
           2.1331345240201927
          ],
          [
           19.91537760531624
          ],
          [
           20.49756224978708
          ],
          [
           34.947168367046714
          ],
          [
           2038.9397098322802
          ],
          [
           24.516385506413293
          ],
          [
           548.5356241360569
          ],
          [
           1651.5444673255924
          ],
          [
           363.5091050831233
          ],
          [
           36.33780903136346
          ],
          [
           261.6134018235412
          ],
          [
           328.66119985939906
          ],
          [
           580.4072347455258
          ],
          [
           15.253185368042388
          ],
          [
           77.0012014244638
          ],
          [
           82.93850754306825
          ],
          [
           554.2374107814845
          ],
          [
           700.7510636340724
          ],
          [
           162.51695429682914
          ],
          [
           10322.414637187849
          ],
          [
           1989.2301256860312
          ],
          [
           12.109826366335966
          ],
          [
           5.804972919700345
          ],
          [
           29.507999420166016
          ],
          [
           1075.5781990369221
          ],
          [
           69.94398479627829
          ],
          [
           99.80988616160921
          ],
          [
           27.39718695292785
          ],
          [
           151.00959081839244
          ],
          [
           192.42963028155427
          ],
          [
           305.3278010597213
          ],
          [
           18.764633018401074
          ],
          [
           128.2604776990892
          ],
          [
           42.9906920983358
          ],
          [
           2825.440851842663
          ],
          [
           385.47962223897395
          ],
          [
           883.7674481697095
          ],
          [
           153.89807829194606
          ],
          [
           9641.604765287997
          ],
          [
           6.632554154326
          ],
          [
           472.4073711535509
          ],
          [
           1806.461348387983
          ],
          [
           43.69644353695244
          ],
          [
           106.58046249875375
          ],
          [
           6.475720882415772
          ],
          [
           81.70992279052734
          ],
          [
           85.4056396484375
          ],
          [
           241.8041534423828
          ],
          [
           0.96043461561203
          ],
          [
           1.4815037250518799
          ],
          [
           54.36891174316406
          ],
          [
           43.24774169921875
          ],
          [
           146.38304138183594
          ],
          [
           2.236912250518799
          ],
          [
           387.7013854980469
          ],
          [
           0.2182318568229675
          ],
          [
           23.94275665283203
          ],
          [
           42.62068176269531
          ],
          [
           173.46914672851562
          ],
          [
           13.205078125
          ],
          [
           1377.8709716796875
          ],
          [
           17.213926315307617
          ],
          [
           11.996964454650879
          ],
          [
           28.767297744750977
          ],
          [
           2.341588258743286
          ],
          [
           201.8346710205078
          ],
          [
           5.735045909881592
          ],
          [
           3.937007188796997
          ],
          [
           12.003130912780762
          ],
          [
           2.3649120330810547
          ],
          [
           2.5068612098693848
          ],
          [
           2.18104100227356
          ],
          [
           177.9381866455078
          ],
          [
           290.8985595703125
          ],
          [
           39.94035720825195
          ],
          [
           5.498744964599609
          ],
          [
           3.931763887405396
          ],
          [
           67.88993072509766
          ],
          [
           26.986873626708984
          ],
          [
           17.251436233520508
          ],
          [
           26.177602767944336
          ],
          [
           1.915329933166504
          ],
          [
           571.2567138671875
          ],
          [
           1156.4476318359375
          ],
          [
           37.20094299316406
          ],
          [
           3.4219236373901367
          ],
          [
           0.6706947088241577
          ],
          [
           30.06378936767578
          ],
          [
           21.91791725158692
          ],
          [
           0.5782174468040466
          ],
          [
           17.407060623168945
          ],
          [
           34.40288162231445
          ],
          [
           28.59282493591309
          ],
          [
           0.8249784111976624
          ],
          [
           0.7648441195487976
          ],
          [
           15.316903114318848
          ],
          [
           3.0724658966064453
          ],
          [
           27.7065544128418
          ],
          [
           54.36140441894531
          ],
          [
           6.77065896987915
          ],
          [
           6.258478164672852
          ],
          [
           106.01947784423828
          ],
          [
           1.329381227493286
          ],
          [
           15.82078742980957
          ],
          [
           8.055159568786621
          ],
          [
           10.043743133544922
          ],
          [
           347.1287841796875
          ],
          [
           5.547865867614746
          ],
          [
           9.764742851257324
          ],
          [
           682.0879516601562
          ],
          [
           98.36200714111328
          ],
          [
           8.988862991333008
          ],
          [
           84.71975708007812
          ],
          [
           149.16900634765625
          ],
          [
           156.03668212890625
          ],
          [
           13.040079116821287
          ],
          [
           50.463600158691406
          ],
          [
           52.23356628417969
          ],
          [
           44.48818588256836
          ],
          [
           5.521563529968262
          ],
          [
           11.696823120117188
          ],
          [
           323.421630859375
          ],
          [
           27.830101013183597
          ],
          [
           4.177417755126953
          ],
          [
           0.0518720373511314
          ],
          [
           9.578605651855469
          ],
          [
           1.593956470489502
          ],
          [
           23.82088088989257
          ],
          [
           42.40746307373047
          ],
          [
           3.3333332538604736
          ],
          [
           36.831764221191406
          ],
          [
           10.069866180419922
          ],
          [
           1.1841530799865725
          ],
          [
           1225.0953369140625
          ],
          [
           56.79174041748047
          ],
          [
           9.78065299987793
          ],
          [
           5.858375072479248
          ],
          [
           4.220635890960693
          ],
          [
           1.4148011207580566
          ],
          [
           71.82522583007812
          ],
          [
           2.969593048095703
          ],
          [
           64.70419311523438
          ],
          [
           538.3626098632812
          ],
          [
           3.5114591121673584
          ],
          [
           3.845616340637207
          ],
          [
           10.820260047912598
          ],
          [
           34.768653869628906
          ],
          [
           0.5342848896980286
          ],
          [
           510.9656066894531
          ],
          [
           151.49404907226562
          ],
          [
           705.7312622070312
          ],
          [
           619.0491333007812
          ],
          [
           104.27503204345705
          ],
          [
           172.3936004638672
          ],
          [
           825.30224609375
          ],
          [
           42.10737228393555
          ],
          [
           87.08856201171875
          ],
          [
           843.4016723632812
          ],
          [
           3800.05712890625
          ],
          [
           9.676277160644531
          ],
          [
           194.51437377929688
          ],
          [
           897.9652709960938
          ],
          [
           22.856338500976562
          ],
          [
           70.19759368896484
          ],
          [
           10424.1416015625
          ],
          [
           643.7293090820312
          ],
          [
           30.08274269104004
          ],
          [
           220.2355194091797
          ],
          [
           160.3751678466797
          ],
          [
           566.8305053710938
          ],
          [
           40.26875686645508
          ],
          [
           235.403060913086
          ],
          [
           947.93408203125
          ],
          [
           11.922514915466309
          ],
          [
           24.038236618041992
          ],
          [
           37.32962417602539
          ],
          [
           414.8589172363281
          ],
          [
           4320.9970703125
          ],
          [
           630.8741455078125
          ],
          [
           21.208723068237305
          ],
          [
           14.088419914245604
          ],
          [
           605.1366577148438
          ],
          [
           159.3824005126953
          ],
          [
           68.93671417236328
          ],
          [
           8.758500099182129
          ],
          [
           8.31496524810791
          ],
          [
           5551.7607421875
          ],
          [
           4568.9384765625
          ],
          [
           931.3856201171876
          ],
          [
           362.19647216796875
          ],
          [
           282.4595642089844
          ],
          [
           579.596923828125
          ],
          [
           243.30145263671875
          ],
          [
           200.5210418701172
          ],
          [
           198.9350128173828
          ],
          [
           180.646713256836
          ],
          [
           527.2578125
          ],
          [
           257.99493408203125
          ],
          [
           112.2239990234375
          ],
          [
           19.37256050109864
          ],
          [
           83.35655975341797
          ],
          [
           893.9114379882812
          ],
          [
           1994.62744140625
          ],
          [
           16.66093635559082
          ],
          [
           405.1220397949219
          ],
          [
           155.7392578125
          ],
          [
           15.859238624572754
          ],
          [
           137.8373260498047
          ],
          [
           165.2618865966797
          ],
          [
           152.30502319335938
          ],
          [
           862.4360961914062
          ],
          [
           46.46012496948242
          ],
          [
           64.55561828613281
          ],
          [
           3214.4951171875
          ],
          [
           1850.4228515625
          ],
          [
           249.8030548095703
          ],
          [
           2321.68505859375
          ],
          [
           436.8053588867188
          ],
          [
           854.3361206054688
          ],
          [
           115.26103973388672
          ],
          [
           355.07745361328125
          ],
          [
           649.79248046875
          ],
          [
           347.61395263671875
          ],
          [
           64.40309143066406
          ],
          [
           244.40768432617188
          ],
          [
           3931.244384765625
          ],
          [
           955.779541015625
          ],
          [
           101.4332275390625
          ],
          [
           2.491305351257324
          ],
          [
           49.99830627441406
          ],
          [
           17.910375595092773
          ],
          [
           108.4111557006836
          ],
          [
           834.2140502929688
          ],
          [
           121.76155090332033
          ],
          [
           233.21359252929688
          ],
          [
           159.8013458251953
          ],
          [
           169.2044219970703
          ],
          [
           227.552978515625
          ],
          [
           703.9661254882812
          ],
          [
           37.90462112426758
          ],
          [
           62.29243469238281
          ],
          [
           108.2469711303711
          ],
          [
           48.02981185913086
          ],
          [
           401.859619140625
          ],
          [
           462.6634826660156
          ],
          [
           1113.1412353515625
          ],
          [
           5117.92822265625
          ],
          [
           138.26727294921875
          ],
          [
           280.4182434082031
          ],
          [
           379.9532775878906
          ],
          [
           783.7750244140625
          ],
          [
           161.4936981201172
          ],
          [
           1521.2504831440874
          ],
          [
           383.54622893692675
          ],
          [
           1907.8890281745112
          ],
          [
           1654.8413008759817
          ],
          [
           190.08170498550027
          ],
          [
           133.66698915958213
          ],
          [
           1674.6364811929373
          ],
          [
           66.0335541096498
          ],
          [
           433.0303082955949
          ],
          [
           754.5923806773249
          ],
          [
           9907.739911595203
          ],
          [
           23.689521483978034
          ],
          [
           189.40157981573236
          ],
          [
           1424.3663851487204
          ],
          [
           209.15719268593912
          ],
          [
           1068.9775264132384
          ],
          [
           16640.131791961823
          ],
          [
           1103.4880828840967
          ],
          [
           170.2564632273211
          ],
          [
           154.0619615931597
          ],
          [
           207.0255307730254
          ],
          [
           425.7944644040637
          ],
          [
           166.64996160062088
          ],
          [
           268.64987198274054
          ],
          [
           675.22584433917
          ],
          [
           97.66467758315349
          ],
          [
           95.1905739065367
          ],
          [
           26.14165498140224
          ],
          [
           1247.7702243227382
          ],
          [
           5573.678384249948
          ],
          [
           1104.76352659041
          ],
          [
           145.1090608867015
          ],
          [
           22.86683356976925
          ],
          [
           805.1893459798342
          ],
          [
           121.9840438707982
          ],
          [
           375.75753372636
          ],
          [
           40.4874854557854
          ],
          [
           45.92583975029726
          ],
          [
           11583.746191174878
          ],
          [
           3871.2383167215075
          ],
          [
           2972.203094264093
          ],
          [
           1658.371946726529
          ],
          [
           204.4191471731552
          ],
          [
           544.0895042460471
          ],
          [
           626.8546903827013
          ],
          [
           136.77673073153244
          ],
          [
           1514.0502197758299
          ],
          [
           934.768587780832
          ],
          [
           400.7403632884762
          ],
          [
           719.7786108138442
          ],
          [
           94.99194841943681
          ],
          [
           15.825325252927374
          ],
          [
           1056.9781842205698
          ],
          [
           532.2850762682656
          ],
          [
           1665.9616971925104
          ],
          [
           373.76830819923015
          ],
          [
           335.66692817284684
          ],
          [
           154.8059096162636
          ],
          [
           163.29641449835813
          ],
          [
           351.0318743652443
          ],
          [
           972.4048035054712
          ],
          [
           543.5080953373911
          ],
          [
           1886.2842357221948
          ],
          [
           62.81688329340648
          ],
          [
           518.5556107965834
          ],
          [
           4468.731333407164
          ],
          [
           1975.7206237404785
          ],
          [
           168.79448533056788
          ],
          [
           1941.9432163049082
          ],
          [
           2317.707433963007
          ],
          [
           3686.2851702758667
          ],
          [
           714.1030858615532
          ],
          [
           426.4829026488916
          ],
          [
           1277.4742185080777
          ],
          [
           533.4965884864051
          ],
          [
           678.4221859856564
          ],
          [
           241.04329633968237
          ],
          [
           9258.543163203864
          ],
          [
           1813.226190567537
          ],
          [
           200.96408988559443
          ],
          [
           2.370607008850207
          ],
          [
           68.79712548784184
          ],
          [
           33.07957221362512
          ],
          [
           496.4495781273303
          ],
          [
           957.7509887537203
          ],
          [
           522.8101573231229
          ],
          [
           1179.9091130475313
          ],
          [
           121.22057139632726
          ],
          [
           151.66707784865602
          ],
          [
           994.7983012530656
          ],
          [
           1316.4611891102563
          ],
          [
           35.27429518066708
          ],
          [
           117.33265908235799
          ],
          [
           76.58015571099173
          ],
          [
           2733.3310669291122
          ],
          [
           375.7294900335674
          ],
          [
           813.8484917723899
          ],
          [
           881.6307759529836
          ],
          [
           9019.480140254705
          ],
          [
           643.2374613959558
          ],
          [
           593.025111645889
          ],
          [
           1602.5000998297182
          ],
          [
           1733.1875327617142
          ],
          [
           141.86040069193695
          ]
         ],
         "domain": {
          "x": [
           0,
           1
          ],
          "y": [
           0,
           1
          ]
         },
         "hovertemplate": "labels=%{label}<br>emissions_sum=%{value}<br>parent=%{parent}<br>id=%{id}<br>emissions=%{color}<extra></extra>",
         "ids": [
          "Algeria/Agriculture",
          "Angola/Agriculture",
          "Argentina/Agriculture",
          "Australia/Agriculture",
          "Azerbaijan/Agriculture",
          "Bahrain/Agriculture",
          "Bangladesh/Agriculture",
          "Benin/Agriculture",
          "Bolivia/Agriculture",
          "Botswana/Agriculture",
          "Brazil/Agriculture",
          "Brunei/Agriculture",
          "Cameroon/Agriculture",
          "Canada/Agriculture",
          "Central African Republic/Agriculture",
          "Chad/Agriculture",
          "China/Agriculture",
          "Colombia/Agriculture",
          "Congo/Agriculture",
          "Cote d'Ivoire/Agriculture",
          "Cuba/Agriculture",
          "Democratic Republic of Congo/Agriculture",
          "Denmark/Agriculture",
          "Ecuador/Agriculture",
          "Egypt/Agriculture",
          "Equatorial Guinea/Agriculture",
          "Eritrea/Agriculture",
          "Estonia/Agriculture",
          "Ethiopia/Agriculture",
          "European Union/Agriculture",
          "France/Agriculture",
          "Gabon/Agriculture",
          "Gambia/Agriculture",
          "Germany/Agriculture",
          "Ghana/Agriculture",
          "Guinea/Agriculture",
          "Guinea-Bissau/Agriculture",
          "Guyana/Agriculture",
          "India/Agriculture",
          "Indonesia/Agriculture",
          "Iran/Agriculture",
          "Iraq/Agriculture",
          "Israel/Agriculture",
          "Italy/Agriculture",
          "Japan/Agriculture",
          "Jordan/Agriculture",
          "Kazakhstan/Agriculture",
          "Kenya/Agriculture",
          "Korea/Agriculture",
          "Kuwait/Agriculture",
          "Lebanon/Agriculture",
          "Liberia/Agriculture",
          "Libya/Agriculture",
          "Malaysia/Agriculture",
          "Mexico/Agriculture",
          "Mongolia/Agriculture",
          "Morocco/Agriculture",
          "Mozambique/Agriculture",
          "Namibia/Agriculture",
          "Netherlands/Agriculture",
          "New Zealand/Agriculture",
          "Niger/Agriculture",
          "Nigeria/Agriculture",
          "Norway/Agriculture",
          "Oman/Agriculture",
          "Other/Agriculture",
          "Other EU17 countries/Agriculture",
          "Other EU7 countries/Agriculture",
          "Other countries in Europe/Agriculture",
          "Other countries in Southeast Asia/Agriculture",
          "Pakistan/Agriculture",
          "Paraguay/Agriculture",
          "Peru/Agriculture",
          "Philippines/Agriculture",
          "Poland/Agriculture",
          "Qatar/Agriculture",
          "Romania/Agriculture",
          "Russia/Agriculture",
          "Saudi Arabia/Agriculture",
          "Senegal/Agriculture",
          "Seychelles/Agriculture",
          "Sierra Leone/Agriculture",
          "Slovenia/Agriculture",
          "Somalia/Agriculture",
          "South Africa/Agriculture",
          "South Sudan/Agriculture",
          "Sudan/Agriculture",
          "Sweden/Agriculture",
          "Syria/Agriculture",
          "Tanzania/Agriculture",
          "Thailand/Agriculture",
          "Togo/Agriculture",
          "Trinidad and Tobago/Agriculture",
          "Tunisia/Agriculture",
          "Turkmenistan/Agriculture",
          "Ukraine/Agriculture",
          "United Arab Emirates/Agriculture",
          "United Kingdom/Agriculture",
          "United States/Agriculture",
          "Uruguay/Agriculture",
          "Uzbekistan/Agriculture",
          "Venezuela/Agriculture",
          "Vietnam/Agriculture",
          "Yemen/Agriculture",
          "Algeria/Energy",
          "Angola/Energy",
          "Argentina/Energy",
          "Australia/Energy",
          "Azerbaijan/Energy",
          "Bahrain/Energy",
          "Bangladesh/Energy",
          "Benin/Energy",
          "Bolivia/Energy",
          "Botswana/Energy",
          "Brazil/Energy",
          "Brunei/Energy",
          "Cameroon/Energy",
          "Canada/Energy",
          "Chad/Energy",
          "China/Energy",
          "Colombia/Energy",
          "Congo/Energy",
          "Cote d'Ivoire/Energy",
          "Cuba/Energy",
          "Democratic Republic of Congo/Energy",
          "Denmark/Energy",
          "Ecuador/Energy",
          "Egypt/Energy",
          "Equatorial Guinea/Energy",
          "Eritrea/Energy",
          "Estonia/Energy",
          "Ethiopia/Energy",
          "European Union/Energy",
          "France/Energy",
          "Gabon/Energy",
          "Germany/Energy",
          "Ghana/Energy",
          "Guinea/Energy",
          "Guyana/Energy",
          "India/Energy",
          "Indonesia/Energy",
          "Iran/Energy",
          "Iraq/Energy",
          "Israel/Energy",
          "Italy/Energy",
          "Japan/Energy",
          "Jordan/Energy",
          "Kazakhstan/Energy",
          "Kenya/Energy",
          "Korea/Energy",
          "Kuwait/Energy",
          "Lebanon/Energy",
          "Libya/Energy",
          "Malaysia/Energy",
          "Mexico/Energy",
          "Mongolia/Energy",
          "Morocco/Energy",
          "Mozambique/Energy",
          "Namibia/Energy",
          "Netherlands/Energy",
          "New Zealand/Energy",
          "Niger/Energy",
          "Nigeria/Energy",
          "Norway/Energy",
          "Oman/Energy",
          "Other/Energy",
          "Other EU17 countries/Energy",
          "Other EU7 countries/Energy",
          "Other countries in Europe/Energy",
          "Other countries in Southeast Asia/Energy",
          "Pakistan/Energy",
          "Paraguay/Energy",
          "Peru/Energy",
          "Philippines/Energy",
          "Poland/Energy",
          "Qatar/Energy",
          "Romania/Energy",
          "Russia/Energy",
          "Saudi Arabia/Energy",
          "Senegal/Energy",
          "Slovenia/Energy",
          "Somalia/Energy",
          "South Africa/Energy",
          "South Sudan/Energy",
          "Sudan/Energy",
          "Sweden/Energy",
          "Syria/Energy",
          "Tanzania/Energy",
          "Thailand/Energy",
          "Togo/Energy",
          "Trinidad and Tobago/Energy",
          "Tunisia/Energy",
          "Turkmenistan/Energy",
          "Ukraine/Energy",
          "United Arab Emirates/Energy",
          "United Kingdom/Energy",
          "United States/Energy",
          "Uruguay/Energy",
          "Uzbekistan/Energy",
          "Venezuela/Energy",
          "Vietnam/Energy",
          "Yemen/Energy",
          "Algeria/Other",
          "Angola/Other",
          "Argentina/Other",
          "Australia/Other",
          "Azerbaijan/Other",
          "Bahrain/Other",
          "Bangladesh/Other",
          "Benin/Other",
          "Bolivia/Other",
          "Botswana/Other",
          "Brazil/Other",
          "Brunei/Other",
          "Cameroon/Other",
          "Canada/Other",
          "Central African Republic/Other",
          "Chad/Other",
          "China/Other",
          "Colombia/Other",
          "Congo/Other",
          "Cote d'Ivoire/Other",
          "Cuba/Other",
          "Democratic Republic of Congo/Other",
          "Denmark/Other",
          "Ecuador/Other",
          "Egypt/Other",
          "Equatorial Guinea/Other",
          "Eritrea/Other",
          "Estonia/Other",
          "Ethiopia/Other",
          "European Union/Other",
          "France/Other",
          "Gabon/Other",
          "Gambia/Other",
          "Germany/Other",
          "Ghana/Other",
          "Guinea/Other",
          "Guinea-Bissau/Other",
          "Guyana/Other",
          "India/Other",
          "Indonesia/Other",
          "Iran/Other",
          "Iraq/Other",
          "Israel/Other",
          "Italy/Other",
          "Japan/Other",
          "Jordan/Other",
          "Kazakhstan/Other",
          "Kenya/Other",
          "Korea/Other",
          "Kuwait/Other",
          "Lebanon/Other",
          "Liberia/Other",
          "Libya/Other",
          "Malaysia/Other",
          "Mexico/Other",
          "Mongolia/Other",
          "Morocco/Other",
          "Mozambique/Other",
          "Namibia/Other",
          "Netherlands/Other",
          "New Zealand/Other",
          "Niger/Other",
          "Nigeria/Other",
          "Norway/Other",
          "Oman/Other",
          "Other/Other",
          "Other EU17 countries/Other",
          "Other EU7 countries/Other",
          "Other countries in Europe/Other",
          "Other countries in Southeast Asia/Other",
          "Pakistan/Other",
          "Paraguay/Other",
          "Peru/Other",
          "Philippines/Other",
          "Poland/Other",
          "Qatar/Other",
          "Romania/Other",
          "Russia/Other",
          "Saudi Arabia/Other",
          "Senegal/Other",
          "Seychelles/Other",
          "Sierra Leone/Other",
          "Slovenia/Other",
          "Somalia/Other",
          "South Africa/Other",
          "South Sudan/Other",
          "Sudan/Other",
          "Sweden/Other",
          "Syria/Other",
          "Tanzania/Other",
          "Thailand/Other",
          "Togo/Other",
          "Trinidad and Tobago/Other",
          "Tunisia/Other",
          "Turkmenistan/Other",
          "Ukraine/Other",
          "United Arab Emirates/Other",
          "United Kingdom/Other",
          "United States/Other",
          "Uruguay/Other",
          "Uzbekistan/Other",
          "Venezuela/Other",
          "Vietnam/Other",
          "Yemen/Other",
          "Algeria/Waste",
          "Angola/Waste",
          "Argentina/Waste",
          "Australia/Waste",
          "Azerbaijan/Waste",
          "Bahrain/Waste",
          "Bangladesh/Waste",
          "Benin/Waste",
          "Bolivia/Waste",
          "Botswana/Waste",
          "Brazil/Waste",
          "Brunei/Waste",
          "Cameroon/Waste",
          "Canada/Waste",
          "Central African Republic/Waste",
          "Chad/Waste",
          "China/Waste",
          "Colombia/Waste",
          "Congo/Waste",
          "Cote d'Ivoire/Waste",
          "Cuba/Waste",
          "Democratic Republic of Congo/Waste",
          "Denmark/Waste",
          "Ecuador/Waste",
          "Egypt/Waste",
          "Equatorial Guinea/Waste",
          "Eritrea/Waste",
          "Estonia/Waste",
          "Ethiopia/Waste",
          "European Union/Waste",
          "France/Waste",
          "Gabon/Waste",
          "Gambia/Waste",
          "Germany/Waste",
          "Ghana/Waste",
          "Guinea/Waste",
          "Guinea-Bissau/Waste",
          "Guyana/Waste",
          "India/Waste",
          "Indonesia/Waste",
          "Iran/Waste",
          "Iraq/Waste",
          "Israel/Waste",
          "Italy/Waste",
          "Japan/Waste",
          "Jordan/Waste",
          "Kazakhstan/Waste",
          "Kenya/Waste",
          "Korea/Waste",
          "Kuwait/Waste",
          "Lebanon/Waste",
          "Liberia/Waste",
          "Libya/Waste",
          "Malaysia/Waste",
          "Mexico/Waste",
          "Mongolia/Waste",
          "Morocco/Waste",
          "Mozambique/Waste",
          "Namibia/Waste",
          "Netherlands/Waste",
          "New Zealand/Waste",
          "Niger/Waste",
          "Nigeria/Waste",
          "Norway/Waste",
          "Oman/Waste",
          "Other/Waste",
          "Other EU17 countries/Waste",
          "Other EU7 countries/Waste",
          "Other countries in Europe/Waste",
          "Other countries in Southeast Asia/Waste",
          "Pakistan/Waste",
          "Paraguay/Waste",
          "Peru/Waste",
          "Philippines/Waste",
          "Poland/Waste",
          "Qatar/Waste",
          "Romania/Waste",
          "Russia/Waste",
          "Saudi Arabia/Waste",
          "Senegal/Waste",
          "Seychelles/Waste",
          "Sierra Leone/Waste",
          "Slovenia/Waste",
          "Somalia/Waste",
          "South Africa/Waste",
          "South Sudan/Waste",
          "Sudan/Waste",
          "Sweden/Waste",
          "Syria/Waste",
          "Tanzania/Waste",
          "Thailand/Waste",
          "Togo/Waste",
          "Trinidad and Tobago/Waste",
          "Tunisia/Waste",
          "Turkmenistan/Waste",
          "Ukraine/Waste",
          "United Arab Emirates/Waste",
          "United Kingdom/Waste",
          "United States/Waste",
          "Uruguay/Waste",
          "Uzbekistan/Waste",
          "Venezuela/Waste",
          "Vietnam/Waste",
          "Yemen/Waste",
          "Algeria",
          "Angola",
          "Argentina",
          "Australia",
          "Azerbaijan",
          "Bahrain",
          "Bangladesh",
          "Benin",
          "Bolivia",
          "Botswana",
          "Brazil",
          "Brunei",
          "Cameroon",
          "Canada",
          "Central African Republic",
          "Chad",
          "China",
          "Colombia",
          "Congo",
          "Cote d'Ivoire",
          "Cuba",
          "Democratic Republic of Congo",
          "Denmark",
          "Ecuador",
          "Egypt",
          "Equatorial Guinea",
          "Eritrea",
          "Estonia",
          "Ethiopia",
          "European Union",
          "France",
          "Gabon",
          "Gambia",
          "Germany",
          "Ghana",
          "Guinea",
          "Guinea-Bissau",
          "Guyana",
          "India",
          "Indonesia",
          "Iran",
          "Iraq",
          "Israel",
          "Italy",
          "Japan",
          "Jordan",
          "Kazakhstan",
          "Kenya",
          "Korea",
          "Kuwait",
          "Lebanon",
          "Liberia",
          "Libya",
          "Malaysia",
          "Mexico",
          "Mongolia",
          "Morocco",
          "Mozambique",
          "Namibia",
          "Netherlands",
          "New Zealand",
          "Niger",
          "Nigeria",
          "Norway",
          "Oman",
          "Other",
          "Other EU17 countries",
          "Other EU7 countries",
          "Other countries in Europe",
          "Other countries in Southeast Asia",
          "Pakistan",
          "Paraguay",
          "Peru",
          "Philippines",
          "Poland",
          "Qatar",
          "Romania",
          "Russia",
          "Saudi Arabia",
          "Senegal",
          "Seychelles",
          "Sierra Leone",
          "Slovenia",
          "Somalia",
          "South Africa",
          "South Sudan",
          "Sudan",
          "Sweden",
          "Syria",
          "Tanzania",
          "Thailand",
          "Togo",
          "Trinidad and Tobago",
          "Tunisia",
          "Turkmenistan",
          "Ukraine",
          "United Arab Emirates",
          "United Kingdom",
          "United States",
          "Uruguay",
          "Uzbekistan",
          "Venezuela",
          "Vietnam",
          "Yemen"
         ],
         "labels": [
          "Agriculture",
          "Agriculture",
          "Agriculture",
          "Agriculture",
          "Agriculture",
          "Agriculture",
          "Agriculture",
          "Agriculture",
          "Agriculture",
          "Agriculture",
          "Agriculture",
          "Agriculture",
          "Agriculture",
          "Agriculture",
          "Agriculture",
          "Agriculture",
          "Agriculture",
          "Agriculture",
          "Agriculture",
          "Agriculture",
          "Agriculture",
          "Agriculture",
          "Agriculture",
          "Agriculture",
          "Agriculture",
          "Agriculture",
          "Agriculture",
          "Agriculture",
          "Agriculture",
          "Agriculture",
          "Agriculture",
          "Agriculture",
          "Agriculture",
          "Agriculture",
          "Agriculture",
          "Agriculture",
          "Agriculture",
          "Agriculture",
          "Agriculture",
          "Agriculture",
          "Agriculture",
          "Agriculture",
          "Agriculture",
          "Agriculture",
          "Agriculture",
          "Agriculture",
          "Agriculture",
          "Agriculture",
          "Agriculture",
          "Agriculture",
          "Agriculture",
          "Agriculture",
          "Agriculture",
          "Agriculture",
          "Agriculture",
          "Agriculture",
          "Agriculture",
          "Agriculture",
          "Agriculture",
          "Agriculture",
          "Agriculture",
          "Agriculture",
          "Agriculture",
          "Agriculture",
          "Agriculture",
          "Agriculture",
          "Agriculture",
          "Agriculture",
          "Agriculture",
          "Agriculture",
          "Agriculture",
          "Agriculture",
          "Agriculture",
          "Agriculture",
          "Agriculture",
          "Agriculture",
          "Agriculture",
          "Agriculture",
          "Agriculture",
          "Agriculture",
          "Agriculture",
          "Agriculture",
          "Agriculture",
          "Agriculture",
          "Agriculture",
          "Agriculture",
          "Agriculture",
          "Agriculture",
          "Agriculture",
          "Agriculture",
          "Agriculture",
          "Agriculture",
          "Agriculture",
          "Agriculture",
          "Agriculture",
          "Agriculture",
          "Agriculture",
          "Agriculture",
          "Agriculture",
          "Agriculture",
          "Agriculture",
          "Agriculture",
          "Agriculture",
          "Agriculture",
          "Energy",
          "Energy",
          "Energy",
          "Energy",
          "Energy",
          "Energy",
          "Energy",
          "Energy",
          "Energy",
          "Energy",
          "Energy",
          "Energy",
          "Energy",
          "Energy",
          "Energy",
          "Energy",
          "Energy",
          "Energy",
          "Energy",
          "Energy",
          "Energy",
          "Energy",
          "Energy",
          "Energy",
          "Energy",
          "Energy",
          "Energy",
          "Energy",
          "Energy",
          "Energy",
          "Energy",
          "Energy",
          "Energy",
          "Energy",
          "Energy",
          "Energy",
          "Energy",
          "Energy",
          "Energy",
          "Energy",
          "Energy",
          "Energy",
          "Energy",
          "Energy",
          "Energy",
          "Energy",
          "Energy",
          "Energy",
          "Energy",
          "Energy",
          "Energy",
          "Energy",
          "Energy",
          "Energy",
          "Energy",
          "Energy",
          "Energy",
          "Energy",
          "Energy",
          "Energy",
          "Energy",
          "Energy",
          "Energy",
          "Energy",
          "Energy",
          "Energy",
          "Energy",
          "Energy",
          "Energy",
          "Energy",
          "Energy",
          "Energy",
          "Energy",
          "Energy",
          "Energy",
          "Energy",
          "Energy",
          "Energy",
          "Energy",
          "Energy",
          "Energy",
          "Energy",
          "Energy",
          "Energy",
          "Energy",
          "Energy",
          "Energy",
          "Energy",
          "Energy",
          "Energy",
          "Energy",
          "Energy",
          "Energy",
          "Energy",
          "Energy",
          "Energy",
          "Energy",
          "Energy",
          "Other",
          "Other",
          "Other",
          "Other",
          "Other",
          "Other",
          "Other",
          "Other",
          "Other",
          "Other",
          "Other",
          "Other",
          "Other",
          "Other",
          "Other",
          "Other",
          "Other",
          "Other",
          "Other",
          "Other",
          "Other",
          "Other",
          "Other",
          "Other",
          "Other",
          "Other",
          "Other",
          "Other",
          "Other",
          "Other",
          "Other",
          "Other",
          "Other",
          "Other",
          "Other",
          "Other",
          "Other",
          "Other",
          "Other",
          "Other",
          "Other",
          "Other",
          "Other",
          "Other",
          "Other",
          "Other",
          "Other",
          "Other",
          "Other",
          "Other",
          "Other",
          "Other",
          "Other",
          "Other",
          "Other",
          "Other",
          "Other",
          "Other",
          "Other",
          "Other",
          "Other",
          "Other",
          "Other",
          "Other",
          "Other",
          "Other",
          "Other",
          "Other",
          "Other",
          "Other",
          "Other",
          "Other",
          "Other",
          "Other",
          "Other",
          "Other",
          "Other",
          "Other",
          "Other",
          "Other",
          "Other",
          "Other",
          "Other",
          "Other",
          "Other",
          "Other",
          "Other",
          "Other",
          "Other",
          "Other",
          "Other",
          "Other",
          "Other",
          "Other",
          "Other",
          "Other",
          "Other",
          "Other",
          "Other",
          "Other",
          "Other",
          "Other",
          "Other",
          "Other",
          "Waste",
          "Waste",
          "Waste",
          "Waste",
          "Waste",
          "Waste",
          "Waste",
          "Waste",
          "Waste",
          "Waste",
          "Waste",
          "Waste",
          "Waste",
          "Waste",
          "Waste",
          "Waste",
          "Waste",
          "Waste",
          "Waste",
          "Waste",
          "Waste",
          "Waste",
          "Waste",
          "Waste",
          "Waste",
          "Waste",
          "Waste",
          "Waste",
          "Waste",
          "Waste",
          "Waste",
          "Waste",
          "Waste",
          "Waste",
          "Waste",
          "Waste",
          "Waste",
          "Waste",
          "Waste",
          "Waste",
          "Waste",
          "Waste",
          "Waste",
          "Waste",
          "Waste",
          "Waste",
          "Waste",
          "Waste",
          "Waste",
          "Waste",
          "Waste",
          "Waste",
          "Waste",
          "Waste",
          "Waste",
          "Waste",
          "Waste",
          "Waste",
          "Waste",
          "Waste",
          "Waste",
          "Waste",
          "Waste",
          "Waste",
          "Waste",
          "Waste",
          "Waste",
          "Waste",
          "Waste",
          "Waste",
          "Waste",
          "Waste",
          "Waste",
          "Waste",
          "Waste",
          "Waste",
          "Waste",
          "Waste",
          "Waste",
          "Waste",
          "Waste",
          "Waste",
          "Waste",
          "Waste",
          "Waste",
          "Waste",
          "Waste",
          "Waste",
          "Waste",
          "Waste",
          "Waste",
          "Waste",
          "Waste",
          "Waste",
          "Waste",
          "Waste",
          "Waste",
          "Waste",
          "Waste",
          "Waste",
          "Waste",
          "Waste",
          "Waste",
          "Waste",
          "Algeria",
          "Angola",
          "Argentina",
          "Australia",
          "Azerbaijan",
          "Bahrain",
          "Bangladesh",
          "Benin",
          "Bolivia",
          "Botswana",
          "Brazil",
          "Brunei",
          "Cameroon",
          "Canada",
          "Central African Republic",
          "Chad",
          "China",
          "Colombia",
          "Congo",
          "Cote d'Ivoire",
          "Cuba",
          "Democratic Republic of Congo",
          "Denmark",
          "Ecuador",
          "Egypt",
          "Equatorial Guinea",
          "Eritrea",
          "Estonia",
          "Ethiopia",
          "European Union",
          "France",
          "Gabon",
          "Gambia",
          "Germany",
          "Ghana",
          "Guinea",
          "Guinea-Bissau",
          "Guyana",
          "India",
          "Indonesia",
          "Iran",
          "Iraq",
          "Israel",
          "Italy",
          "Japan",
          "Jordan",
          "Kazakhstan",
          "Kenya",
          "Korea",
          "Kuwait",
          "Lebanon",
          "Liberia",
          "Libya",
          "Malaysia",
          "Mexico",
          "Mongolia",
          "Morocco",
          "Mozambique",
          "Namibia",
          "Netherlands",
          "New Zealand",
          "Niger",
          "Nigeria",
          "Norway",
          "Oman",
          "Other",
          "Other EU17 countries",
          "Other EU7 countries",
          "Other countries in Europe",
          "Other countries in Southeast Asia",
          "Pakistan",
          "Paraguay",
          "Peru",
          "Philippines",
          "Poland",
          "Qatar",
          "Romania",
          "Russia",
          "Saudi Arabia",
          "Senegal",
          "Seychelles",
          "Sierra Leone",
          "Slovenia",
          "Somalia",
          "South Africa",
          "South Sudan",
          "Sudan",
          "Sweden",
          "Syria",
          "Tanzania",
          "Thailand",
          "Togo",
          "Trinidad and Tobago",
          "Tunisia",
          "Turkmenistan",
          "Ukraine",
          "United Arab Emirates",
          "United Kingdom",
          "United States",
          "Uruguay",
          "Uzbekistan",
          "Venezuela",
          "Vietnam",
          "Yemen"
         ],
         "marker": {
          "coloraxis": "coloraxis",
          "colors": [
           257.6112060546875,
           400.9695739746094,
           3152.9326171875,
           2450.463134765625,
           195.19752502441412,
           0.9645923376083374,
           2410.234375,
           105.69103240966795,
           673.754150390625,
           97.25849151611328,
           14020.0888671875,
           0.8412342667579651,
           279.5312194824219,
           1072.710693359375,
           250.8168029785156,
           1223.9329833984375,
           18501.9140625,
           1795.9031982421875,
           23.8709659576416,
           185.70077514648438,
           267.4549255371094,
           555.5286865234375,
           240.09361267089844,
           359.8713684082031,
           684.5322265625,
           0.438739001750946,
           120.17935180664062,
           27.72345733642578,
           1910.0897216796875,
           8851.337890625,
           1564.2218017578125,
           5.590458393096924,
           29.567506790161133,
           1269.36865234375,
           169.0322265625,
           438.159423828125,
           52.83677673339844,
           57.39715576171875,
           18358.517578125,
           3518.344482421875,
           802.454345703125,
           168.22393798828125,
           39.840087890625,
           800.047119140625,
           991.6493530273438,
           25.815542221069336,
           762.0980834960938,
           1250.951904296875,
           508.4415588378906,
           7.323050498962402,
           12.067669868469238,
           9.208291053771973,
           67.41584777832031,
           189.0501708984375,
           2420.791015625,
           549.2429809570312,
           295.3795166015625,
           210.65399169921875,
           181.9879150390625,
           466.8436584472656,
           1155.9993896484375,
           696.4396362304688,
           2082.188232421875,
           103.60773468017578,
           37.05989837646485,
           7259.01416015625,
           2811.933837890625,
           139.63568115234375,
           2284.248779296875,
           3300.293701171875,
           5319.4560546875,
           835.0689086914062,
           639.6949462890625,
           1714.848876953125,
           615.5054321289062,
           11.3685884475708,
           367.9289245605469,
           2022.095947265625,
           121.0209732055664,
           261.5225524902344,
           0.078720711171627,
           86.26763916015625,
           48.42922592163086,
           625.7147827148438,
           760.32275390625,
           695.7181396484375,
           1549.11083984375,
           128.65838623046875,
           133.05282592773438,
           1180.221923828125,
           2078.933837890625,
           50.73590850830078,
           4.345527648925781,
           97.72246551513672,
           304.87176513671875,
           377.1493225097656,
           47.437843322753906,
           1064.6658935546875,
           9409.3251953125,
           751.9459228515625,
           901.6826171875,
           1015.0640869140624,
           2193.2626953125,
           181.29298400878906,
           1680.766338227189,
           429.99269936369205,
           790.3379052684998,
           1438.2969348760962,
           202.65774801468856,
           117.01026632828685,
           203.1913481592973,
           24.751976944696697,
           81.33935587982326,
           5.494457112453304,
           1153.0848560586294,
           25.527592402627707,
           138.08337555051705,
           1602.6755662120706,
           42.06335778048334,
           17652.64168468119,
           506.6637070852516,
           188.40415133056456,
           63.883317118515976,
           12.360000679028492,
           220.93318854434511,
           26.687906451687603,
           225.41730145796237,
           541.1403381968913,
           101.4816946496544,
           5.884472216119484,
           8.538935426651708,
           462.37066535917984,
           1578.3277125173531,
           130.57045278202858,
           153.50853637187834,
           213.13656758579864,
           74.98226373186678,
           0.0080000003799796,
           43.178366387109044,
           3426.387667855376,
           3988.687086664416,
           3305.348356795901,
           1802.6655180746357,
           26.796818162304792,
           176.84925362882086,
           176.50156468098453,
           32.56753223432475,
           1671.0866502658996,
           141.01313199639026,
           124.12631539835013,
           782.122955689986,
           3.6389758951588393,
           1104.215936535366,
           274.4978151338787,
           908.6112209521267,
           170.99499907509758,
           16.118152917960664,
           139.9884617356576,
           2.1331345240201927,
           19.91537760531624,
           20.49756224978708,
           34.947168367046714,
           2038.9397098322802,
           24.516385506413293,
           548.5356241360569,
           1651.5444673255924,
           363.5091050831233,
           36.33780903136346,
           261.6134018235412,
           328.66119985939906,
           580.4072347455258,
           15.253185368042388,
           77.0012014244638,
           82.93850754306825,
           554.2374107814845,
           700.7510636340724,
           162.51695429682914,
           10322.414637187849,
           1989.2301256860312,
           12.109826366335966,
           5.804972919700345,
           29.507999420166016,
           1075.5781990369221,
           69.94398479627829,
           99.80988616160921,
           27.39718695292785,
           151.00959081839244,
           192.42963028155427,
           305.3278010597213,
           18.764633018401074,
           128.2604776990892,
           42.9906920983358,
           2825.440851842663,
           385.47962223897395,
           883.7674481697095,
           153.89807829194606,
           9641.604765287997,
           6.632554154326,
           472.4073711535509,
           1806.461348387983,
           43.69644353695244,
           106.58046249875375,
           6.475720882415772,
           81.70992279052734,
           85.4056396484375,
           241.8041534423828,
           0.96043461561203,
           1.4815037250518799,
           54.36891174316406,
           43.24774169921875,
           146.38304138183594,
           2.236912250518799,
           387.7013854980469,
           0.2182318568229675,
           23.94275665283203,
           42.62068176269531,
           173.46914672851562,
           13.205078125,
           1377.8709716796875,
           17.213926315307617,
           11.996964454650879,
           28.767297744750977,
           2.341588258743286,
           201.8346710205078,
           5.735045909881592,
           3.937007188796997,
           12.003130912780762,
           2.3649120330810547,
           2.5068612098693848,
           2.18104100227356,
           177.9381866455078,
           290.8985595703125,
           39.94035720825195,
           5.498744964599609,
           3.931763887405396,
           67.88993072509766,
           26.986873626708984,
           17.251436233520508,
           26.177602767944336,
           1.915329933166504,
           571.2567138671875,
           1156.4476318359375,
           37.20094299316406,
           3.4219236373901367,
           0.6706947088241577,
           30.06378936767578,
           21.91791725158692,
           0.5782174468040466,
           17.407060623168945,
           34.40288162231445,
           28.59282493591309,
           0.8249784111976624,
           0.7648441195487976,
           15.316903114318848,
           3.0724658966064453,
           27.7065544128418,
           54.36140441894531,
           6.77065896987915,
           6.258478164672852,
           106.01947784423828,
           1.329381227493286,
           15.82078742980957,
           8.055159568786621,
           10.043743133544922,
           347.1287841796875,
           5.547865867614746,
           9.764742851257324,
           682.0879516601562,
           98.36200714111328,
           8.988862991333008,
           84.71975708007812,
           149.16900634765625,
           156.03668212890625,
           13.040079116821287,
           50.463600158691406,
           52.23356628417969,
           44.48818588256836,
           5.521563529968262,
           11.696823120117188,
           323.421630859375,
           27.830101013183597,
           4.177417755126953,
           0.0518720373511314,
           9.578605651855469,
           1.593956470489502,
           23.82088088989257,
           42.40746307373047,
           3.3333332538604736,
           36.831764221191406,
           10.069866180419922,
           1.1841530799865725,
           1225.0953369140625,
           56.79174041748047,
           9.78065299987793,
           5.858375072479248,
           4.220635890960693,
           1.4148011207580566,
           71.82522583007812,
           2.969593048095703,
           64.70419311523438,
           538.3626098632812,
           3.5114591121673584,
           3.845616340637207,
           10.820260047912598,
           34.768653869628906,
           0.5342848896980286,
           510.9656066894531,
           151.49404907226562,
           705.7312622070312,
           619.0491333007812,
           104.27503204345705,
           172.3936004638672,
           825.30224609375,
           42.10737228393555,
           87.08856201171875,
           843.4016723632812,
           3800.05712890625,
           9.676277160644531,
           194.51437377929688,
           897.9652709960938,
           22.856338500976562,
           70.19759368896484,
           10424.1416015625,
           643.7293090820312,
           30.08274269104004,
           220.2355194091797,
           160.3751678466797,
           566.8305053710938,
           40.26875686645508,
           235.403060913086,
           947.93408203125,
           11.922514915466309,
           24.038236618041992,
           37.32962417602539,
           414.8589172363281,
           4320.9970703125,
           630.8741455078125,
           21.208723068237305,
           14.088419914245604,
           605.1366577148438,
           159.3824005126953,
           68.93671417236328,
           8.758500099182129,
           8.31496524810791,
           5551.7607421875,
           4568.9384765625,
           931.3856201171876,
           362.19647216796875,
           282.4595642089844,
           579.596923828125,
           243.30145263671875,
           200.5210418701172,
           198.9350128173828,
           180.646713256836,
           527.2578125,
           257.99493408203125,
           112.2239990234375,
           19.37256050109864,
           83.35655975341797,
           893.9114379882812,
           1994.62744140625,
           16.66093635559082,
           405.1220397949219,
           155.7392578125,
           15.859238624572754,
           137.8373260498047,
           165.2618865966797,
           152.30502319335938,
           862.4360961914062,
           46.46012496948242,
           64.55561828613281,
           3214.4951171875,
           1850.4228515625,
           249.8030548095703,
           2321.68505859375,
           436.8053588867188,
           854.3361206054688,
           115.26103973388672,
           355.07745361328125,
           649.79248046875,
           347.61395263671875,
           64.40309143066406,
           244.40768432617188,
           3931.244384765625,
           955.779541015625,
           101.4332275390625,
           2.491305351257324,
           49.99830627441406,
           17.910375595092773,
           108.4111557006836,
           834.2140502929688,
           121.76155090332033,
           233.21359252929688,
           159.8013458251953,
           169.2044219970703,
           227.552978515625,
           703.9661254882812,
           37.90462112426758,
           62.29243469238281,
           108.2469711303711,
           48.02981185913086,
           401.859619140625,
           462.6634826660156,
           1113.1412353515625,
           5117.92822265625,
           138.26727294921875,
           280.4182434082031,
           379.9532775878906,
           783.7750244140625,
           161.4936981201172,
           1521.2504831440874,
           383.54622893692675,
           1907.8890281745112,
           1654.8413008759817,
           190.08170498550027,
           133.66698915958213,
           1674.6364811929373,
           66.0335541096498,
           433.0303082955949,
           754.5923806773249,
           9907.739911595203,
           23.689521483978034,
           189.40157981573236,
           1424.3663851487204,
           209.15719268593912,
           1068.9775264132384,
           16640.131791961823,
           1103.4880828840967,
           170.2564632273211,
           154.0619615931597,
           207.0255307730254,
           425.7944644040637,
           166.64996160062088,
           268.64987198274054,
           675.22584433917,
           97.66467758315349,
           95.1905739065367,
           26.14165498140224,
           1247.7702243227382,
           5573.678384249948,
           1104.76352659041,
           145.1090608867015,
           22.86683356976925,
           805.1893459798342,
           121.9840438707982,
           375.75753372636,
           40.4874854557854,
           45.92583975029726,
           11583.746191174878,
           3871.2383167215075,
           2972.203094264093,
           1658.371946726529,
           204.4191471731552,
           544.0895042460471,
           626.8546903827013,
           136.77673073153244,
           1514.0502197758299,
           934.768587780832,
           400.7403632884762,
           719.7786108138442,
           94.99194841943681,
           15.825325252927374,
           1056.9781842205698,
           532.2850762682656,
           1665.9616971925104,
           373.76830819923015,
           335.66692817284684,
           154.8059096162636,
           163.29641449835813,
           351.0318743652443,
           972.4048035054712,
           543.5080953373911,
           1886.2842357221948,
           62.81688329340648,
           518.5556107965834,
           4468.731333407164,
           1975.7206237404785,
           168.79448533056788,
           1941.9432163049082,
           2317.707433963007,
           3686.2851702758667,
           714.1030858615532,
           426.4829026488916,
           1277.4742185080777,
           533.4965884864051,
           678.4221859856564,
           241.04329633968237,
           9258.543163203864,
           1813.226190567537,
           200.96408988559443,
           2.370607008850207,
           68.79712548784184,
           33.07957221362512,
           496.4495781273303,
           957.7509887537203,
           522.8101573231229,
           1179.9091130475313,
           121.22057139632726,
           151.66707784865602,
           994.7983012530656,
           1316.4611891102563,
           35.27429518066708,
           117.33265908235799,
           76.58015571099173,
           2733.3310669291122,
           375.7294900335674,
           813.8484917723899,
           881.6307759529836,
           9019.480140254705,
           643.2374613959558,
           593.025111645889,
           1602.5000998297182,
           1733.1875327617142,
           141.86040069193695
          ]
         },
         "name": "",
         "parents": [
          "Algeria",
          "Angola",
          "Argentina",
          "Australia",
          "Azerbaijan",
          "Bahrain",
          "Bangladesh",
          "Benin",
          "Bolivia",
          "Botswana",
          "Brazil",
          "Brunei",
          "Cameroon",
          "Canada",
          "Central African Republic",
          "Chad",
          "China",
          "Colombia",
          "Congo",
          "Cote d'Ivoire",
          "Cuba",
          "Democratic Republic of Congo",
          "Denmark",
          "Ecuador",
          "Egypt",
          "Equatorial Guinea",
          "Eritrea",
          "Estonia",
          "Ethiopia",
          "European Union",
          "France",
          "Gabon",
          "Gambia",
          "Germany",
          "Ghana",
          "Guinea",
          "Guinea-Bissau",
          "Guyana",
          "India",
          "Indonesia",
          "Iran",
          "Iraq",
          "Israel",
          "Italy",
          "Japan",
          "Jordan",
          "Kazakhstan",
          "Kenya",
          "Korea",
          "Kuwait",
          "Lebanon",
          "Liberia",
          "Libya",
          "Malaysia",
          "Mexico",
          "Mongolia",
          "Morocco",
          "Mozambique",
          "Namibia",
          "Netherlands",
          "New Zealand",
          "Niger",
          "Nigeria",
          "Norway",
          "Oman",
          "Other",
          "Other EU17 countries",
          "Other EU7 countries",
          "Other countries in Europe",
          "Other countries in Southeast Asia",
          "Pakistan",
          "Paraguay",
          "Peru",
          "Philippines",
          "Poland",
          "Qatar",
          "Romania",
          "Russia",
          "Saudi Arabia",
          "Senegal",
          "Seychelles",
          "Sierra Leone",
          "Slovenia",
          "Somalia",
          "South Africa",
          "South Sudan",
          "Sudan",
          "Sweden",
          "Syria",
          "Tanzania",
          "Thailand",
          "Togo",
          "Trinidad and Tobago",
          "Tunisia",
          "Turkmenistan",
          "Ukraine",
          "United Arab Emirates",
          "United Kingdom",
          "United States",
          "Uruguay",
          "Uzbekistan",
          "Venezuela",
          "Vietnam",
          "Yemen",
          "Algeria",
          "Angola",
          "Argentina",
          "Australia",
          "Azerbaijan",
          "Bahrain",
          "Bangladesh",
          "Benin",
          "Bolivia",
          "Botswana",
          "Brazil",
          "Brunei",
          "Cameroon",
          "Canada",
          "Chad",
          "China",
          "Colombia",
          "Congo",
          "Cote d'Ivoire",
          "Cuba",
          "Democratic Republic of Congo",
          "Denmark",
          "Ecuador",
          "Egypt",
          "Equatorial Guinea",
          "Eritrea",
          "Estonia",
          "Ethiopia",
          "European Union",
          "France",
          "Gabon",
          "Germany",
          "Ghana",
          "Guinea",
          "Guyana",
          "India",
          "Indonesia",
          "Iran",
          "Iraq",
          "Israel",
          "Italy",
          "Japan",
          "Jordan",
          "Kazakhstan",
          "Kenya",
          "Korea",
          "Kuwait",
          "Lebanon",
          "Libya",
          "Malaysia",
          "Mexico",
          "Mongolia",
          "Morocco",
          "Mozambique",
          "Namibia",
          "Netherlands",
          "New Zealand",
          "Niger",
          "Nigeria",
          "Norway",
          "Oman",
          "Other",
          "Other EU17 countries",
          "Other EU7 countries",
          "Other countries in Europe",
          "Other countries in Southeast Asia",
          "Pakistan",
          "Paraguay",
          "Peru",
          "Philippines",
          "Poland",
          "Qatar",
          "Romania",
          "Russia",
          "Saudi Arabia",
          "Senegal",
          "Slovenia",
          "Somalia",
          "South Africa",
          "South Sudan",
          "Sudan",
          "Sweden",
          "Syria",
          "Tanzania",
          "Thailand",
          "Togo",
          "Trinidad and Tobago",
          "Tunisia",
          "Turkmenistan",
          "Ukraine",
          "United Arab Emirates",
          "United Kingdom",
          "United States",
          "Uruguay",
          "Uzbekistan",
          "Venezuela",
          "Vietnam",
          "Yemen",
          "Algeria",
          "Angola",
          "Argentina",
          "Australia",
          "Azerbaijan",
          "Bahrain",
          "Bangladesh",
          "Benin",
          "Bolivia",
          "Botswana",
          "Brazil",
          "Brunei",
          "Cameroon",
          "Canada",
          "Central African Republic",
          "Chad",
          "China",
          "Colombia",
          "Congo",
          "Cote d'Ivoire",
          "Cuba",
          "Democratic Republic of Congo",
          "Denmark",
          "Ecuador",
          "Egypt",
          "Equatorial Guinea",
          "Eritrea",
          "Estonia",
          "Ethiopia",
          "European Union",
          "France",
          "Gabon",
          "Gambia",
          "Germany",
          "Ghana",
          "Guinea",
          "Guinea-Bissau",
          "Guyana",
          "India",
          "Indonesia",
          "Iran",
          "Iraq",
          "Israel",
          "Italy",
          "Japan",
          "Jordan",
          "Kazakhstan",
          "Kenya",
          "Korea",
          "Kuwait",
          "Lebanon",
          "Liberia",
          "Libya",
          "Malaysia",
          "Mexico",
          "Mongolia",
          "Morocco",
          "Mozambique",
          "Namibia",
          "Netherlands",
          "New Zealand",
          "Niger",
          "Nigeria",
          "Norway",
          "Oman",
          "Other",
          "Other EU17 countries",
          "Other EU7 countries",
          "Other countries in Europe",
          "Other countries in Southeast Asia",
          "Pakistan",
          "Paraguay",
          "Peru",
          "Philippines",
          "Poland",
          "Qatar",
          "Romania",
          "Russia",
          "Saudi Arabia",
          "Senegal",
          "Seychelles",
          "Sierra Leone",
          "Slovenia",
          "Somalia",
          "South Africa",
          "South Sudan",
          "Sudan",
          "Sweden",
          "Syria",
          "Tanzania",
          "Thailand",
          "Togo",
          "Trinidad and Tobago",
          "Tunisia",
          "Turkmenistan",
          "Ukraine",
          "United Arab Emirates",
          "United Kingdom",
          "United States",
          "Uruguay",
          "Uzbekistan",
          "Venezuela",
          "Vietnam",
          "Yemen",
          "Algeria",
          "Angola",
          "Argentina",
          "Australia",
          "Azerbaijan",
          "Bahrain",
          "Bangladesh",
          "Benin",
          "Bolivia",
          "Botswana",
          "Brazil",
          "Brunei",
          "Cameroon",
          "Canada",
          "Central African Republic",
          "Chad",
          "China",
          "Colombia",
          "Congo",
          "Cote d'Ivoire",
          "Cuba",
          "Democratic Republic of Congo",
          "Denmark",
          "Ecuador",
          "Egypt",
          "Equatorial Guinea",
          "Eritrea",
          "Estonia",
          "Ethiopia",
          "European Union",
          "France",
          "Gabon",
          "Gambia",
          "Germany",
          "Ghana",
          "Guinea",
          "Guinea-Bissau",
          "Guyana",
          "India",
          "Indonesia",
          "Iran",
          "Iraq",
          "Israel",
          "Italy",
          "Japan",
          "Jordan",
          "Kazakhstan",
          "Kenya",
          "Korea",
          "Kuwait",
          "Lebanon",
          "Liberia",
          "Libya",
          "Malaysia",
          "Mexico",
          "Mongolia",
          "Morocco",
          "Mozambique",
          "Namibia",
          "Netherlands",
          "New Zealand",
          "Niger",
          "Nigeria",
          "Norway",
          "Oman",
          "Other",
          "Other EU17 countries",
          "Other EU7 countries",
          "Other countries in Europe",
          "Other countries in Southeast Asia",
          "Pakistan",
          "Paraguay",
          "Peru",
          "Philippines",
          "Poland",
          "Qatar",
          "Romania",
          "Russia",
          "Saudi Arabia",
          "Senegal",
          "Seychelles",
          "Sierra Leone",
          "Slovenia",
          "Somalia",
          "South Africa",
          "South Sudan",
          "Sudan",
          "Sweden",
          "Syria",
          "Tanzania",
          "Thailand",
          "Togo",
          "Trinidad and Tobago",
          "Tunisia",
          "Turkmenistan",
          "Ukraine",
          "United Arab Emirates",
          "United Kingdom",
          "United States",
          "Uruguay",
          "Uzbekistan",
          "Venezuela",
          "Vietnam",
          "Yemen",
          "",
          "",
          "",
          "",
          "",
          "",
          "",
          "",
          "",
          "",
          "",
          "",
          "",
          "",
          "",
          "",
          "",
          "",
          "",
          "",
          "",
          "",
          "",
          "",
          "",
          "",
          "",
          "",
          "",
          "",
          "",
          "",
          "",
          "",
          "",
          "",
          "",
          "",
          "",
          "",
          "",
          "",
          "",
          "",
          "",
          "",
          "",
          "",
          "",
          "",
          "",
          "",
          "",
          "",
          "",
          "",
          "",
          "",
          "",
          "",
          "",
          "",
          "",
          "",
          "",
          "",
          "",
          "",
          "",
          "",
          "",
          "",
          "",
          "",
          "",
          "",
          "",
          "",
          "",
          "",
          "",
          "",
          "",
          "",
          "",
          "",
          "",
          "",
          "",
          "",
          "",
          "",
          "",
          "",
          "",
          "",
          "",
          "",
          "",
          "",
          "",
          "",
          "",
          ""
         ],
         "type": "treemap",
         "values": [
          257.6112060546875,
          400.9695739746094,
          3152.9326171875,
          2450.463134765625,
          195.1975250244141,
          0.9645923376083374,
          2410.234375,
          105.69103240966795,
          673.754150390625,
          97.25849151611328,
          14020.0888671875,
          0.8412342667579651,
          279.5312194824219,
          1072.710693359375,
          250.8168029785156,
          1223.9329833984375,
          18501.9140625,
          1795.9031982421875,
          23.8709659576416,
          185.7007751464844,
          267.4549255371094,
          555.5286865234375,
          240.09361267089844,
          359.8713684082031,
          684.5322265625,
          0.438739001750946,
          120.17935180664062,
          27.72345733642578,
          1910.0897216796875,
          8851.337890625,
          1564.2218017578125,
          5.590458393096924,
          29.567506790161133,
          1269.36865234375,
          169.0322265625,
          438.159423828125,
          52.83677673339844,
          57.39715576171875,
          18358.517578125,
          3518.344482421875,
          802.454345703125,
          168.22393798828125,
          39.840087890625,
          800.047119140625,
          991.6493530273438,
          25.815542221069336,
          762.0980834960938,
          1250.951904296875,
          508.4415588378906,
          7.323050498962402,
          12.067669868469238,
          9.208291053771973,
          67.41584777832031,
          189.0501708984375,
          2420.791015625,
          549.2429809570312,
          295.3795166015625,
          210.65399169921875,
          181.9879150390625,
          466.8436584472656,
          1155.9993896484375,
          696.4396362304688,
          2082.188232421875,
          103.60773468017578,
          37.05989837646485,
          7259.01416015625,
          2811.933837890625,
          139.63568115234375,
          2284.248779296875,
          3300.293701171875,
          5319.4560546875,
          835.0689086914062,
          639.6949462890625,
          1714.848876953125,
          615.5054321289062,
          11.3685884475708,
          367.9289245605469,
          2022.095947265625,
          121.0209732055664,
          261.5225524902344,
          0.078720711171627,
          86.26763916015625,
          48.42922592163086,
          625.7147827148438,
          760.32275390625,
          695.7181396484375,
          1549.11083984375,
          128.65838623046875,
          133.05282592773438,
          1180.221923828125,
          2078.933837890625,
          50.73590850830078,
          4.345527648925781,
          97.72246551513672,
          304.87176513671875,
          377.1493225097656,
          47.43784332275391,
          1064.6658935546875,
          9409.3251953125,
          751.9459228515625,
          901.6826171875,
          1015.0640869140624,
          2193.2626953125,
          181.29298400878903,
          5338.389222390484,
          1137.466719686985,
          2614.187221188098,
          4464.477631926537,
          646.5099360942841,
          381.3705142736435,
          668.6716829240322,
          53.25707979872823,
          256.19316940708086,
          12.398445104248822,
          3512.990744829178,
          87.01458666846156,
          433.12154006212955,
          5096.796915151179,
          102.83390026492998,
          50744.44495010376,
          1556.3226248025894,
          529.5333882570267,
          186.79290729761124,
          42.1301807872951,
          521.3858047127724,
          83.03166930377483,
          554.1985339522362,
          1916.084816634655,
          338.0374162197113,
          11.873916637152433,
          23.24848911166191,
          928.4255386143923,
          5521.939940929413,
          387.19293439015746,
          497.1051376014948,
          706.1874455353245,
          241.472179800272,
          0.0160000007599592,
          95.1394667327404,
          10370.472352027893,
          10160.738409042358,
          11259.644457429647,
          5030.105334788561,
          86.4179919064045,
          571.5729210153222,
          566.600657559,
          94.41393102705479,
          5481.122424960136,
          287.6519555300474,
          400.6532882153988,
          2004.1644315719604,
          9.4258319362998,
          3198.882565975189,
          948.0421575307846,
          3162.6584582924843,
          433.70438450574875,
          44.36294501996599,
          454.7117969854734,
          5.262178361415863,
          58.518761049490415,
          74.66828171908855,
          81.73536857170984,
          6612.142554199323,
          82.20754368510097,
          1738.5130483359098,
          4841.759946305363,
          1200.1288836039603,
          111.1918870806694,
          896.3767068143934,
          1054.6544389724731,
          1840.7987184524536,
          32.69618225097656,
          263.4212713614106,
          232.86861745640635,
          1730.5777578242123,
          2277.035596974194,
          570.8218250572681,
          36156.16784095764,
          6102.193341419101,
          26.04975327476859,
          15.453907602699474,
          59.01599884033203,
          2478.0593979563564,
          153.9777849316597,
          286.13165402412415,
          63.98110917210579,
          475.3288295455277,
          406.7804519534111,
          1070.4973306655884,
          38.451182913035154,
          418.4400028884411,
          154.46844786405563,
          9480.081915080547,
          1106.8424091339111,
          2878.2656141519547,
          549.2628154717386,
          33539.26126861572,
          15.198848899453878,
          1561.8322767373174,
          5285.407250571996,
          121.86399936676025,
          290.3632098324597,
          6.475720882415772,
          81.70992279052734,
          85.4056396484375,
          241.8041534423828,
          0.96043461561203,
          1.48150372505188,
          54.36891174316406,
          43.24774169921875,
          146.38304138183594,
          2.236912250518799,
          387.7013854980469,
          0.2182318568229675,
          23.94275665283203,
          42.62068176269531,
          173.46914672851562,
          13.205078125,
          1377.8709716796875,
          17.213926315307617,
          11.99696445465088,
          28.767297744750977,
          2.341588258743286,
          201.8346710205078,
          5.735045909881592,
          3.937007188796997,
          12.003130912780762,
          2.3649120330810547,
          2.5068612098693848,
          2.18104100227356,
          177.9381866455078,
          290.8985595703125,
          39.94035720825195,
          5.498744964599609,
          3.931763887405396,
          67.88993072509766,
          26.986873626708984,
          17.251436233520508,
          26.177602767944336,
          1.915329933166504,
          571.2567138671875,
          1156.4476318359375,
          37.20094299316406,
          3.4219236373901367,
          0.6706947088241577,
          30.06378936767578,
          21.91791725158692,
          0.5782174468040466,
          17.407060623168945,
          34.40288162231445,
          28.59282493591309,
          0.8249784111976624,
          0.7648441195487976,
          15.316903114318848,
          3.0724658966064453,
          27.7065544128418,
          54.36140441894531,
          6.77065896987915,
          6.258478164672852,
          106.01947784423828,
          1.329381227493286,
          15.82078742980957,
          8.055159568786621,
          10.043743133544922,
          347.1287841796875,
          5.547865867614746,
          9.764742851257324,
          682.0879516601562,
          98.36200714111328,
          8.988862991333008,
          84.71975708007812,
          149.16900634765625,
          156.03668212890625,
          13.040079116821287,
          50.463600158691406,
          52.23356628417969,
          44.48818588256836,
          5.521563529968262,
          11.696823120117188,
          323.421630859375,
          27.8301010131836,
          4.177417755126953,
          0.0518720373511314,
          9.578605651855469,
          1.593956470489502,
          23.82088088989257,
          42.40746307373047,
          3.3333332538604736,
          36.831764221191406,
          10.069866180419922,
          1.1841530799865725,
          1225.0953369140625,
          56.79174041748047,
          9.78065299987793,
          5.858375072479248,
          4.220635890960693,
          1.4148011207580566,
          71.82522583007812,
          2.969593048095703,
          64.70419311523438,
          538.3626098632812,
          3.5114591121673584,
          3.845616340637207,
          10.820260047912598,
          34.768653869628906,
          0.5342848896980286,
          510.9656066894531,
          151.49404907226562,
          705.7312622070312,
          619.0491333007812,
          104.27503204345705,
          172.3936004638672,
          825.30224609375,
          42.10737228393555,
          87.08856201171875,
          843.4016723632812,
          3800.05712890625,
          9.676277160644531,
          194.51437377929688,
          897.9652709960938,
          22.85633850097656,
          70.19759368896484,
          10424.1416015625,
          643.7293090820312,
          30.08274269104004,
          220.2355194091797,
          160.3751678466797,
          566.8305053710938,
          40.26875686645508,
          235.403060913086,
          947.93408203125,
          11.922514915466309,
          24.038236618041992,
          37.32962417602539,
          414.8589172363281,
          4320.9970703125,
          630.8741455078125,
          21.208723068237305,
          14.088419914245604,
          605.1366577148438,
          159.3824005126953,
          68.93671417236328,
          8.758500099182129,
          8.31496524810791,
          5551.7607421875,
          4568.9384765625,
          931.3856201171876,
          362.1964721679688,
          282.4595642089844,
          579.596923828125,
          243.30145263671875,
          200.5210418701172,
          198.9350128173828,
          180.646713256836,
          527.2578125,
          257.99493408203125,
          112.2239990234375,
          19.37256050109864,
          83.35655975341797,
          893.9114379882812,
          1994.62744140625,
          16.66093635559082,
          405.1220397949219,
          155.7392578125,
          15.859238624572754,
          137.8373260498047,
          165.2618865966797,
          152.30502319335938,
          862.4360961914062,
          46.46012496948242,
          64.55561828613281,
          3214.4951171875,
          1850.4228515625,
          249.8030548095703,
          2321.68505859375,
          436.8053588867188,
          854.3361206054688,
          115.26103973388672,
          355.07745361328125,
          649.79248046875,
          347.61395263671875,
          64.40309143066406,
          244.40768432617188,
          3931.244384765625,
          955.779541015625,
          101.4332275390625,
          2.491305351257324,
          49.99830627441406,
          17.910375595092773,
          108.4111557006836,
          834.2140502929688,
          121.76155090332033,
          233.21359252929688,
          159.8013458251953,
          169.2044219970703,
          227.552978515625,
          703.9661254882812,
          37.90462112426758,
          62.29243469238281,
          108.2469711303711,
          48.02981185913086,
          401.859619140625,
          462.6634826660156,
          1113.1412353515625,
          5117.92822265625,
          138.26727294921875,
          280.4182434082031,
          379.9532775878906,
          783.7750244140625,
          161.4936981201172,
          6113.4417560170405,
          1771.6402655243874,
          6558.256740231067,
          7775.794053435326,
          946.9429277777672,
          556.2102108001709,
          3958.5772157609463,
          244.3032261915505,
          1163.4189231912605,
          955.2955212341622,
          21720.838126420975,
          97.75032995268703,
          931.1098899766803,
          7110.093561269343,
          447.14228820800776,
          1410.1695554773323,
          81048.37158584595,
          4013.169058442116,
          595.4840613603592,
          621.4964995980263,
          472.30186242982745,
          1845.5796676278114,
          369.12908475100994,
          1153.4099704623222,
          3560.5542561411858,
          352.7635821700096,
          158.59836627170444,
          90.48261162638664,
          3431.3123641759157,
          18985.173461437225,
          2622.2292388640344,
          529.4030640274286,
          47.587690591812134,
          2648.582686319016,
          596.8736805021763,
          524.3635742347687,
          87.7728796005249,
          162.76691767573357,
          34852.00738620758,
          19404.46899986267,
          13030.685366243124,
          5563.947668582201,
          409.388338714838,
          1981.280753351748,
          1823.4693804746494,
          321.32873256504536,
          6459.562581896782,
          1753.6534547060728,
          1464.9454844892025,
          2270.3073945641518,
          134.48234494775534,
          43.89775466918946,
          3352.727439403534,
          2058.710320830345,
          7632.43831974268,
          1006.37896078825,
          751.1229795811232,
          927.1245243414305,
          204.4387132525444,
          679.0205329763703,
          1403.9847175329924,
          940.5237711290829,
          9903.895666992292,
          237.82326920237392,
          1849.8933078497648,
          15997.35717530927,
          5960.847580198199,
          509.6194860339165,
          5587.0303017850965,
          4940.922505378723,
          8170.627575874329,
          996.0662097930908,
          1308.6572714224458,
          2649.743541162461,
          2738.1853284724057,
          2358.328840382397,
          1194.855257064104,
          42432.92980384827,
          7206.823956653476,
          393.1829510591924,
          2.6218980997800827,
          145.84455108642578,
          83.38746558991261,
          816.962818145752,
          4115.003665229306,
          974.790808737278,
          2105.2878506183624,
          362.5107074081898,
          778.770230550319,
          3039.6506912112236,
          3910.189034461975,
          136.87236554548144,
          490.9363403022289,
          364.65852040052414,
          9834.398293197155,
          1957.6765766143799,
          3391.33653318882,
          2791.774137493223,
          48604.877296447754,
          908.9235038124025,
          2747.778753673658,
          6691.244875121862,
          3133.6703729629517,
          633.684176851064
         ]
        }
       ],
       "layout": {
        "coloraxis": {
         "colorbar": {
          "title": {
           "text": "emissions"
          }
         },
         "colorscale": [
          [
           0,
           "rgb(255,255,204)"
          ],
          [
           0.125,
           "rgb(255,237,160)"
          ],
          [
           0.25,
           "rgb(254,217,118)"
          ],
          [
           0.375,
           "rgb(254,178,76)"
          ],
          [
           0.5,
           "rgb(253,141,60)"
          ],
          [
           0.625,
           "rgb(252,78,42)"
          ],
          [
           0.75,
           "rgb(227,26,28)"
          ],
          [
           0.875,
           "rgb(189,0,38)"
          ],
          [
           1,
           "rgb(128,0,38)"
          ]
         ]
        },
        "font": {
         "size": 16
        },
        "legend": {
         "tracegroupgap": 0
        },
        "margin": {
         "b": 10,
         "l": 10,
         "r": 10,
         "t": 60
        },
        "template": {
         "data": {
          "bar": [
           {
            "error_x": {
             "color": "#2a3f5f"
            },
            "error_y": {
             "color": "#2a3f5f"
            },
            "marker": {
             "line": {
              "color": "#E5ECF6",
              "width": 0.5
             },
             "pattern": {
              "fillmode": "overlay",
              "size": 10,
              "solidity": 0.2
             }
            },
            "type": "bar"
           }
          ],
          "barpolar": [
           {
            "marker": {
             "line": {
              "color": "#E5ECF6",
              "width": 0.5
             },
             "pattern": {
              "fillmode": "overlay",
              "size": 10,
              "solidity": 0.2
             }
            },
            "type": "barpolar"
           }
          ],
          "carpet": [
           {
            "aaxis": {
             "endlinecolor": "#2a3f5f",
             "gridcolor": "white",
             "linecolor": "white",
             "minorgridcolor": "white",
             "startlinecolor": "#2a3f5f"
            },
            "baxis": {
             "endlinecolor": "#2a3f5f",
             "gridcolor": "white",
             "linecolor": "white",
             "minorgridcolor": "white",
             "startlinecolor": "#2a3f5f"
            },
            "type": "carpet"
           }
          ],
          "choropleth": [
           {
            "colorbar": {
             "outlinewidth": 0,
             "ticks": ""
            },
            "type": "choropleth"
           }
          ],
          "contour": [
           {
            "colorbar": {
             "outlinewidth": 0,
             "ticks": ""
            },
            "colorscale": [
             [
              0,
              "#0d0887"
             ],
             [
              0.1111111111111111,
              "#46039f"
             ],
             [
              0.2222222222222222,
              "#7201a8"
             ],
             [
              0.3333333333333333,
              "#9c179e"
             ],
             [
              0.4444444444444444,
              "#bd3786"
             ],
             [
              0.5555555555555556,
              "#d8576b"
             ],
             [
              0.6666666666666666,
              "#ed7953"
             ],
             [
              0.7777777777777778,
              "#fb9f3a"
             ],
             [
              0.8888888888888888,
              "#fdca26"
             ],
             [
              1,
              "#f0f921"
             ]
            ],
            "type": "contour"
           }
          ],
          "contourcarpet": [
           {
            "colorbar": {
             "outlinewidth": 0,
             "ticks": ""
            },
            "type": "contourcarpet"
           }
          ],
          "heatmap": [
           {
            "colorbar": {
             "outlinewidth": 0,
             "ticks": ""
            },
            "colorscale": [
             [
              0,
              "#0d0887"
             ],
             [
              0.1111111111111111,
              "#46039f"
             ],
             [
              0.2222222222222222,
              "#7201a8"
             ],
             [
              0.3333333333333333,
              "#9c179e"
             ],
             [
              0.4444444444444444,
              "#bd3786"
             ],
             [
              0.5555555555555556,
              "#d8576b"
             ],
             [
              0.6666666666666666,
              "#ed7953"
             ],
             [
              0.7777777777777778,
              "#fb9f3a"
             ],
             [
              0.8888888888888888,
              "#fdca26"
             ],
             [
              1,
              "#f0f921"
             ]
            ],
            "type": "heatmap"
           }
          ],
          "heatmapgl": [
           {
            "colorbar": {
             "outlinewidth": 0,
             "ticks": ""
            },
            "colorscale": [
             [
              0,
              "#0d0887"
             ],
             [
              0.1111111111111111,
              "#46039f"
             ],
             [
              0.2222222222222222,
              "#7201a8"
             ],
             [
              0.3333333333333333,
              "#9c179e"
             ],
             [
              0.4444444444444444,
              "#bd3786"
             ],
             [
              0.5555555555555556,
              "#d8576b"
             ],
             [
              0.6666666666666666,
              "#ed7953"
             ],
             [
              0.7777777777777778,
              "#fb9f3a"
             ],
             [
              0.8888888888888888,
              "#fdca26"
             ],
             [
              1,
              "#f0f921"
             ]
            ],
            "type": "heatmapgl"
           }
          ],
          "histogram": [
           {
            "marker": {
             "pattern": {
              "fillmode": "overlay",
              "size": 10,
              "solidity": 0.2
             }
            },
            "type": "histogram"
           }
          ],
          "histogram2d": [
           {
            "colorbar": {
             "outlinewidth": 0,
             "ticks": ""
            },
            "colorscale": [
             [
              0,
              "#0d0887"
             ],
             [
              0.1111111111111111,
              "#46039f"
             ],
             [
              0.2222222222222222,
              "#7201a8"
             ],
             [
              0.3333333333333333,
              "#9c179e"
             ],
             [
              0.4444444444444444,
              "#bd3786"
             ],
             [
              0.5555555555555556,
              "#d8576b"
             ],
             [
              0.6666666666666666,
              "#ed7953"
             ],
             [
              0.7777777777777778,
              "#fb9f3a"
             ],
             [
              0.8888888888888888,
              "#fdca26"
             ],
             [
              1,
              "#f0f921"
             ]
            ],
            "type": "histogram2d"
           }
          ],
          "histogram2dcontour": [
           {
            "colorbar": {
             "outlinewidth": 0,
             "ticks": ""
            },
            "colorscale": [
             [
              0,
              "#0d0887"
             ],
             [
              0.1111111111111111,
              "#46039f"
             ],
             [
              0.2222222222222222,
              "#7201a8"
             ],
             [
              0.3333333333333333,
              "#9c179e"
             ],
             [
              0.4444444444444444,
              "#bd3786"
             ],
             [
              0.5555555555555556,
              "#d8576b"
             ],
             [
              0.6666666666666666,
              "#ed7953"
             ],
             [
              0.7777777777777778,
              "#fb9f3a"
             ],
             [
              0.8888888888888888,
              "#fdca26"
             ],
             [
              1,
              "#f0f921"
             ]
            ],
            "type": "histogram2dcontour"
           }
          ],
          "mesh3d": [
           {
            "colorbar": {
             "outlinewidth": 0,
             "ticks": ""
            },
            "type": "mesh3d"
           }
          ],
          "parcoords": [
           {
            "line": {
             "colorbar": {
              "outlinewidth": 0,
              "ticks": ""
             }
            },
            "type": "parcoords"
           }
          ],
          "pie": [
           {
            "automargin": true,
            "type": "pie"
           }
          ],
          "scatter": [
           {
            "fillpattern": {
             "fillmode": "overlay",
             "size": 10,
             "solidity": 0.2
            },
            "type": "scatter"
           }
          ],
          "scatter3d": [
           {
            "line": {
             "colorbar": {
              "outlinewidth": 0,
              "ticks": ""
             }
            },
            "marker": {
             "colorbar": {
              "outlinewidth": 0,
              "ticks": ""
             }
            },
            "type": "scatter3d"
           }
          ],
          "scattercarpet": [
           {
            "marker": {
             "colorbar": {
              "outlinewidth": 0,
              "ticks": ""
             }
            },
            "type": "scattercarpet"
           }
          ],
          "scattergeo": [
           {
            "marker": {
             "colorbar": {
              "outlinewidth": 0,
              "ticks": ""
             }
            },
            "type": "scattergeo"
           }
          ],
          "scattergl": [
           {
            "marker": {
             "colorbar": {
              "outlinewidth": 0,
              "ticks": ""
             }
            },
            "type": "scattergl"
           }
          ],
          "scattermapbox": [
           {
            "marker": {
             "colorbar": {
              "outlinewidth": 0,
              "ticks": ""
             }
            },
            "type": "scattermapbox"
           }
          ],
          "scatterpolar": [
           {
            "marker": {
             "colorbar": {
              "outlinewidth": 0,
              "ticks": ""
             }
            },
            "type": "scatterpolar"
           }
          ],
          "scatterpolargl": [
           {
            "marker": {
             "colorbar": {
              "outlinewidth": 0,
              "ticks": ""
             }
            },
            "type": "scatterpolargl"
           }
          ],
          "scatterternary": [
           {
            "marker": {
             "colorbar": {
              "outlinewidth": 0,
              "ticks": ""
             }
            },
            "type": "scatterternary"
           }
          ],
          "surface": [
           {
            "colorbar": {
             "outlinewidth": 0,
             "ticks": ""
            },
            "colorscale": [
             [
              0,
              "#0d0887"
             ],
             [
              0.1111111111111111,
              "#46039f"
             ],
             [
              0.2222222222222222,
              "#7201a8"
             ],
             [
              0.3333333333333333,
              "#9c179e"
             ],
             [
              0.4444444444444444,
              "#bd3786"
             ],
             [
              0.5555555555555556,
              "#d8576b"
             ],
             [
              0.6666666666666666,
              "#ed7953"
             ],
             [
              0.7777777777777778,
              "#fb9f3a"
             ],
             [
              0.8888888888888888,
              "#fdca26"
             ],
             [
              1,
              "#f0f921"
             ]
            ],
            "type": "surface"
           }
          ],
          "table": [
           {
            "cells": {
             "fill": {
              "color": "#EBF0F8"
             },
             "line": {
              "color": "white"
             }
            },
            "header": {
             "fill": {
              "color": "#C8D4E3"
             },
             "line": {
              "color": "white"
             }
            },
            "type": "table"
           }
          ]
         },
         "layout": {
          "annotationdefaults": {
           "arrowcolor": "#2a3f5f",
           "arrowhead": 0,
           "arrowwidth": 1
          },
          "autotypenumbers": "strict",
          "coloraxis": {
           "colorbar": {
            "outlinewidth": 0,
            "ticks": ""
           }
          },
          "colorscale": {
           "diverging": [
            [
             0,
             "#8e0152"
            ],
            [
             0.1,
             "#c51b7d"
            ],
            [
             0.2,
             "#de77ae"
            ],
            [
             0.3,
             "#f1b6da"
            ],
            [
             0.4,
             "#fde0ef"
            ],
            [
             0.5,
             "#f7f7f7"
            ],
            [
             0.6,
             "#e6f5d0"
            ],
            [
             0.7,
             "#b8e186"
            ],
            [
             0.8,
             "#7fbc41"
            ],
            [
             0.9,
             "#4d9221"
            ],
            [
             1,
             "#276419"
            ]
           ],
           "sequential": [
            [
             0,
             "#0d0887"
            ],
            [
             0.1111111111111111,
             "#46039f"
            ],
            [
             0.2222222222222222,
             "#7201a8"
            ],
            [
             0.3333333333333333,
             "#9c179e"
            ],
            [
             0.4444444444444444,
             "#bd3786"
            ],
            [
             0.5555555555555556,
             "#d8576b"
            ],
            [
             0.6666666666666666,
             "#ed7953"
            ],
            [
             0.7777777777777778,
             "#fb9f3a"
            ],
            [
             0.8888888888888888,
             "#fdca26"
            ],
            [
             1,
             "#f0f921"
            ]
           ],
           "sequentialminus": [
            [
             0,
             "#0d0887"
            ],
            [
             0.1111111111111111,
             "#46039f"
            ],
            [
             0.2222222222222222,
             "#7201a8"
            ],
            [
             0.3333333333333333,
             "#9c179e"
            ],
            [
             0.4444444444444444,
             "#bd3786"
            ],
            [
             0.5555555555555556,
             "#d8576b"
            ],
            [
             0.6666666666666666,
             "#ed7953"
            ],
            [
             0.7777777777777778,
             "#fb9f3a"
            ],
            [
             0.8888888888888888,
             "#fdca26"
            ],
            [
             1,
             "#f0f921"
            ]
           ]
          },
          "colorway": [
           "#636efa",
           "#EF553B",
           "#00cc96",
           "#ab63fa",
           "#FFA15A",
           "#19d3f3",
           "#FF6692",
           "#B6E880",
           "#FF97FF",
           "#FECB52"
          ],
          "font": {
           "color": "#2a3f5f"
          },
          "geo": {
           "bgcolor": "white",
           "lakecolor": "white",
           "landcolor": "#E5ECF6",
           "showlakes": true,
           "showland": true,
           "subunitcolor": "white"
          },
          "hoverlabel": {
           "align": "left"
          },
          "hovermode": "closest",
          "mapbox": {
           "style": "light"
          },
          "paper_bgcolor": "white",
          "plot_bgcolor": "#E5ECF6",
          "polar": {
           "angularaxis": {
            "gridcolor": "white",
            "linecolor": "white",
            "ticks": ""
           },
           "bgcolor": "#E5ECF6",
           "radialaxis": {
            "gridcolor": "white",
            "linecolor": "white",
            "ticks": ""
           }
          },
          "scene": {
           "xaxis": {
            "backgroundcolor": "#E5ECF6",
            "gridcolor": "white",
            "gridwidth": 2,
            "linecolor": "white",
            "showbackground": true,
            "ticks": "",
            "zerolinecolor": "white"
           },
           "yaxis": {
            "backgroundcolor": "#E5ECF6",
            "gridcolor": "white",
            "gridwidth": 2,
            "linecolor": "white",
            "showbackground": true,
            "ticks": "",
            "zerolinecolor": "white"
           },
           "zaxis": {
            "backgroundcolor": "#E5ECF6",
            "gridcolor": "white",
            "gridwidth": 2,
            "linecolor": "white",
            "showbackground": true,
            "ticks": "",
            "zerolinecolor": "white"
           }
          },
          "shapedefaults": {
           "line": {
            "color": "#2a3f5f"
           }
          },
          "ternary": {
           "aaxis": {
            "gridcolor": "white",
            "linecolor": "white",
            "ticks": ""
           },
           "baxis": {
            "gridcolor": "white",
            "linecolor": "white",
            "ticks": ""
           },
           "bgcolor": "#E5ECF6",
           "caxis": {
            "gridcolor": "white",
            "linecolor": "white",
            "ticks": ""
           }
          },
          "title": {
           "x": 0.05
          },
          "xaxis": {
           "automargin": true,
           "gridcolor": "white",
           "linecolor": "white",
           "ticks": "",
           "title": {
            "standoff": 15
           },
           "zerolinecolor": "white",
           "zerolinewidth": 2
          },
          "yaxis": {
           "automargin": true,
           "gridcolor": "white",
           "linecolor": "white",
           "ticks": "",
           "title": {
            "standoff": 15
           },
           "zerolinecolor": "white",
           "zerolinewidth": 2
          }
         }
        },
        "title": {
         "text": "Proportion of Emissions by Country and Sector",
         "x": 0.5
        }
       }
      }
     },
     "metadata": {},
     "output_type": "display_data"
    }
   ],
   "source": [
    "# create a treemap chart\n",
    "fig = px.treemap(df, \n",
    "                 path=['country', 'type'], \n",
    "                 values='emissions',\n",
    "                 color='emissions',\n",
    "                 color_continuous_scale='YlOrRd')\n",
    "\n",
    "# customize the layout\n",
    "fig.update_layout(\n",
    "    title='Proportion of Emissions by Country and Sector',\n",
    "    font=dict(size=16),\n",
    "    margin=dict(l=10, r=10, t=60, b=10)\n",
    ")\n",
    "fig.update_layout(title_x=0.5)\n",
    "# show the chart\n",
    "fig.show()"
   ]
  },
  {
   "cell_type": "code",
   "execution_count": null,
   "metadata": {},
   "outputs": [],
   "source": []
  }
 ],
 "metadata": {
  "kernelspec": {
   "display_name": "Python 3",
   "language": "python",
   "name": "python3"
  },
  "language_info": {
   "codemirror_mode": {
    "name": "ipython",
    "version": 3
   },
   "file_extension": ".py",
   "mimetype": "text/x-python",
   "name": "python",
   "nbconvert_exporter": "python",
   "pygments_lexer": "ipython3",
   "version": "3.11.1"
  },
  "orig_nbformat": 4
 },
 "nbformat": 4,
 "nbformat_minor": 2
}
